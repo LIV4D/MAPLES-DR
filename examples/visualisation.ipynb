{
 "cells": [
  {
   "cell_type": "markdown",
   "metadata": {},
   "source": [
    "MAPLES-DR Visualisation Example\n",
    "==============================="
   ]
  },
  {
   "cell_type": "markdown",
   "metadata": {},
   "source": [
    "#### imports"
   ]
  },
  {
   "cell_type": "code",
   "execution_count": 1,
   "metadata": {},
   "outputs": [
    {
     "data": {
      "text/html": [
       "<pre style=\"white-space:pre;overflow-x:auto;line-height:normal;font-family:Menlo,'DejaVu Sans Mono',consolas,'Courier New',monospace\"><span style=\"font-weight: bold\">Thanks for using MAPLES-DR!</span>\n",
       "  When using this dataset in academic works,\n",
       "  please cite: <a href=\"https://arxiv.org/abs/2402.04258\" target=\"_blank\"><span style=\"color: #008080; text-decoration-color: #008080; text-decoration: underline\">https://arxiv.org/abs/2402.04258</span></a>\n",
       "</pre>\n"
      ],
      "text/plain": [
       "\u001b[1mThanks for using MAPLES-DR!\u001b[0m\n",
       "  When using this dataset in academic works,\n",
       "  please cite: \u001b]8;id=201733;https://arxiv.org/abs/2402.04258\u001b\\\u001b[4;36mhttps://arxiv.org/abs/2402.04258\u001b[0m\u001b]8;;\u001b\\\n"
      ]
     },
     "metadata": {},
     "output_type": "display_data"
    },
    {
     "data": {
      "application/vnd.jupyter.widget-view+json": {
       "model_id": "17c9b12b87de4d5c8b50040fda1c11c6",
       "version_major": 2,
       "version_minor": 0
      },
      "text/plain": [
       "HTML(value='<style>\\n    .cell-output-ipywidget-background {\\n    background-color: transparent !important;\\n …"
      ]
     },
     "metadata": {},
     "output_type": "display_data"
    }
   ],
   "source": [
    "import maples_dr\n",
    "import numpy as np\n",
    "from ipywidgets import GridspecLayout\n",
    "from jppype import imshow, sync_views, vscode_theme\n",
    "\n",
    "vscode_theme()"
   ]
  },
  {
   "cell_type": "markdown",
   "metadata": {},
   "source": [
    "## Configure Maples-DR"
   ]
  },
  {
   "cell_type": "markdown",
   "metadata": {},
   "source": [
    "Configure local path, resolution and image format."
   ]
  },
  {
   "cell_type": "code",
   "execution_count": 2,
   "metadata": {},
   "outputs": [],
   "source": [
    "maples_dr.configure(\n",
    "    maples_dr_path=\"/home/gaby/PATH/TO/MAPLES-DR/AdditionalData\",\n",
    "    maples_dr_diagnosis_path=\"/home/gaby/PATH/TO/MAPLES-DR/diagnosis.xls\",\n",
    "    messidor_path=\"/home/gaby/PATH/TO/MESSIDOR/\",\n",
    "    image_format=\"bgr\",\n",
    ")"
   ]
  },
  {
   "cell_type": "markdown",
   "metadata": {},
   "source": [
    "## Load dataset"
   ]
  },
  {
   "cell_type": "markdown",
   "metadata": {},
   "source": [
    "Load the train set in memory."
   ]
  },
  {
   "cell_type": "code",
   "execution_count": 3,
   "metadata": {},
   "outputs": [],
   "source": [
    "dataset = maples_dr.load_train_set()"
   ]
  },
  {
   "cell_type": "markdown",
   "metadata": {},
   "source": [
    "Read the first image and its corresponding labels."
   ]
  },
  {
   "cell_type": "code",
   "execution_count": 4,
   "metadata": {},
   "outputs": [],
   "source": [
    "sample = dataset[\"20051020_55346_0100_PP\"]"
   ]
  },
  {
   "cell_type": "markdown",
   "metadata": {},
   "source": [
    "Display the anatomical biomarkers."
   ]
  },
  {
   "cell_type": "code",
   "execution_count": 5,
   "metadata": {},
   "outputs": [
    {
     "data": {
      "application/vnd.jupyter.widget-view+json": {
       "model_id": "b283fb22fdc0483e8642d7d99ea48df2",
       "version_major": 2,
       "version_minor": 0
      },
      "text/plain": [
       "GridspecLayout(children=(View2D(layout=Layout(grid_area='widget001'), linkedTransformGroup='5fb9361f2d0e419f97…"
      ]
     },
     "execution_count": 5,
     "metadata": {},
     "output_type": "execute_result"
    }
   ],
   "source": [
    "g = GridspecLayout(1, 2)\n",
    "\n",
    "v1 = imshow(sample[\"fundus\"])\n",
    "v1.add_label(\n",
    "    \"/home/gaby/These/Data/Fundus/MESSIDOR1500/MAPLES-DR/AdditionalData/annotations-v2/Vessels/20051020_55346_0100_PP.png\",\n",
    "    blend_mode=\"color\",\n",
    ")\n",
    "g[0, 0] = v1\n",
    "\n",
    "v2 = imshow(sample[\"fundus\"])\n",
    "v2.add_label(sample[\"vessels\"], blend_mode=\"color\")\n",
    "g[0, 1] = v2\n",
    "\n",
    "sync_views(v1, v2)\n",
    "\n",
    "g"
   ]
  }
 ],
 "metadata": {
  "kernelspec": {
   "display_name": "Python 3 (ipykernel)",
   "language": "python",
   "name": "python3"
  },
  "language_info": {
   "codemirror_mode": {
    "name": "ipython",
    "version": 3
   },
   "file_extension": ".py",
   "mimetype": "text/x-python",
   "name": "python",
   "nbconvert_exporter": "python",
   "pygments_lexer": "ipython3",
   "version": "3.10.11"
  }
 },
 "nbformat": 4,
 "nbformat_minor": 4
}
