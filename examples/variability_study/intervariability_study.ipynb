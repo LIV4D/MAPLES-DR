{
 "cells": [
  {
   "cell_type": "markdown",
   "metadata": {},
   "source": [
    "MAPLES-DR Intervariability Study\n",
    "================================"
   ]
  },
  {
   "cell_type": "code",
   "execution_count": 1,
   "metadata": {},
   "outputs": [
    {
     "data": {
      "text/html": [
       "<pre style=\"white-space:pre;overflow-x:auto;line-height:normal;font-family:Menlo,'DejaVu Sans Mono',consolas,'Courier New',monospace\"><span style=\"font-weight: bold\">Thanks for using MAPLES-DR!</span>\n",
       "  When using this dataset in academic works,\n",
       "  please cite: <a href=\"https://arxiv.org/abs/2402.04258\" target=\"_blank\"><span style=\"color: #008080; text-decoration-color: #008080; text-decoration: underline\">https://arxiv.org/abs/2402.04258</span></a>\n",
       "</pre>\n"
      ],
      "text/plain": [
       "\u001b[1mThanks for using MAPLES-DR!\u001b[0m\n",
       "  When using this dataset in academic works,\n",
       "  please cite: \u001b]8;id=671465;https://arxiv.org/abs/2402.04258\u001b\\\u001b[4;36mhttps://arxiv.org/abs/2402.04258\u001b[0m\u001b]8;;\u001b\\\n"
      ]
     },
     "metadata": {},
     "output_type": "display_data"
    },
    {
     "data": {
      "application/vnd.jupyter.widget-view+json": {
       "model_id": "b3ba2669019c4b12a30d28541a340290",
       "version_major": 2,
       "version_minor": 0
      },
      "text/plain": [
       "HTML(value=\"<style>\\n        .cell-output-ipywidget-background {\\n                background: transparent !imp…"
      ]
     },
     "metadata": {},
     "output_type": "display_data"
    }
   ],
   "source": [
    "%load_ext autoreload\n",
    "%autoreload 2\n",
    "\n",
    "# Import maples-dr\n",
    "import maples_dr\n",
    "import numpy as np\n",
    "import pandas as pd\n",
    "\n",
    "# Import visualization tools\n",
    "from ipywidgets import HTML, Dropdown, GridBox, Layout\n",
    "from jppype import imshow, sync_views, vscode_theme\n",
    "from maples_dr.dataset import BiomarkerField as Bio\n",
    "from maples_dr.dataset import FundusField as Fundus\n",
    "from maples_dr.quick_api import GLOBAL_LOADER\n",
    "from sklearn.metrics import cohen_kappa_score\n",
    "from coloraide import Color\n",
    "\n",
    "# Import utilities\n",
    "from variability_study_utils import (\n",
    "    centroid,\n",
    "    load_new_annotations,\n",
    "    multi_annotator_regions_diff,\n",
    "    regions_f1,\n",
    ")\n",
    "\n",
    "vscode_theme()"
   ]
  },
  {
   "cell_type": "code",
   "execution_count": 2,
   "metadata": {},
   "outputs": [],
   "source": [
    "maples_dr.configure(\n",
    "    maples_dr_path=\"../PATH/TO/MAPLES-DR/AdditionalData.zip\",\n",
    "    messidor_path=\"../PATH/TO/MESSIDOR/\",\n",
    "    image_format=\"bgr\",\n",
    "    preprocessing=\"clahe\",\n",
    ")\n",
    "maples_dataset = GLOBAL_LOADER.load_dataset(\"all_with_duplicates\")"
   ]
  },
  {
   "cell_type": "markdown",
   "metadata": {},
   "source": [
    "# Variability study on the duplicated images"
   ]
  },
  {
   "cell_type": "code",
   "execution_count": 3,
   "metadata": {},
   "outputs": [],
   "source": [
    "duplicates = list(GLOBAL_LOADER.dataset_record[\"duplicates\"].items())"
   ]
  },
  {
   "cell_type": "markdown",
   "metadata": {},
   "source": [
    "#### Qualitative study"
   ]
  },
  {
   "cell_type": "code",
   "execution_count": 4,
   "metadata": {},
   "outputs": [],
   "source": [
    "ID = 0\n",
    "sample1, sample2 = [maples_dataset[_] for _ in duplicates[ID]]"
   ]
  },
  {
   "cell_type": "code",
   "execution_count": 5,
   "metadata": {},
   "outputs": [
    {
     "data": {
      "application/vnd.jupyter.widget-view+json": {
       "model_id": "78c092861e014126b62eabb87e507785",
       "version_major": 2,
       "version_minor": 0
      },
      "text/plain": [
       "GridBox(children=(Dropdown(description='Biomarker:', index=4, layout=Layout(width='auto'), options=('opticCup'…"
      ]
     },
     "execution_count": 5,
     "metadata": {},
     "output_type": "execute_result"
    }
   ],
   "source": [
    "selectors = [\n",
    "    Dropdown(\n",
    "        options=[field.value for field in Bio],\n",
    "        description=\"Biomarker:\",\n",
    "        layout=Layout(width=\"auto\"),\n",
    "        value=(\"brightLesions\", \"redLesions\", \"vessels\")[i],\n",
    "    )\n",
    "    for i in range(3)\n",
    "]\n",
    "views = [imshow(sample1[\"fundus\"]) for i in range(3)]\n",
    "for i in range(1, 3):\n",
    "    views[i]._left_ruler = False\n",
    "\n",
    "for i in range(3):\n",
    "\n",
    "    def set_label(biomarker, i=i):\n",
    "        if isinstance(biomarker, dict):\n",
    "            biomarker = biomarker[\"new\"]\n",
    "        views[i].add_label(\n",
    "            sample1[biomarker] + 2 * sample2[biomarker],\n",
    "            colormap={1: \"#a56fb9\", 2: \"#7aa8ba\", 3: \"white\"},\n",
    "            name=\"biomarker\",\n",
    "        )\n",
    "\n",
    "    selectors[i].observe(set_label, \"value\")\n",
    "\n",
    "    set_label(selectors[i].value)\n",
    "\n",
    "\n",
    "sync_views(*views)\n",
    "\n",
    "GridBox(\n",
    "    selectors + views,\n",
    "    layout=Layout(grid_template_columns=\"repeat(3, 1fr)\", grid_template_rows=\"auto 600px\"),\n",
    ")"
   ]
  },
  {
   "cell_type": "code",
   "execution_count": 6,
   "metadata": {},
   "outputs": [
    {
     "data": {
      "application/vnd.jupyter.widget-view+json": {
       "model_id": "c7f4243ba4884e06a0af986eefdc76c9",
       "version_major": 2,
       "version_minor": 0
      },
      "text/plain": [
       "GridBox(children=(Dropdown(description='Biomarker:', index=3, layout=Layout(width='auto'), options=('opticCup'…"
      ]
     },
     "execution_count": 6,
     "metadata": {},
     "output_type": "execute_result"
    }
   ],
   "source": [
    "selector = Dropdown(\n",
    "    options=[field.value for field in Bio],\n",
    "    description=\"Biomarker:\",\n",
    "    layout=Layout(width=\"auto\"),\n",
    "    value=(\"brightLesions\", \"redLesions\", \"vessels\")[i],\n",
    ")\n",
    "\n",
    "duplicates_samples = [[maples_dataset[_[0]], maples_dataset[_[1]]] for _ in duplicates]\n",
    "(s1a, s1b), (s2a, s2b) = duplicates_samples\n",
    "view1 = imshow(s1a[\"fundus\"])\n",
    "view2 = imshow(s1a[\"fundus\"])\n",
    "view2._left_ruler = False\n",
    "\n",
    "\n",
    "def set_label(biomarker):\n",
    "    if isinstance(biomarker, dict):\n",
    "        biomarker = biomarker[\"new\"]\n",
    "    view1.add_label(\n",
    "        s1a[biomarker] + 2 * s1b[biomarker],\n",
    "        colormap={1: \"#a56fb9\", 2: \"#7aa8ba\", 3: \"white\"},\n",
    "        name=\"biomarker\",\n",
    "    )\n",
    "    view2.add_label(\n",
    "        s1a.read_biomarker(biomarker, pre_annotation=True) + 2 * s1b.read_biomarker(biomarker, pre_annotation=True),\n",
    "        colormap={1: \"#a56fb9\", 2: \"#7aa8ba\", 3: \"white\"},\n",
    "        name=\"biomarker\",\n",
    "    )\n",
    "\n",
    "\n",
    "selector.observe(set_label, \"value\")\n",
    "\n",
    "set_label(selectors[i].value)\n",
    "\n",
    "sync_views(view1, view2)\n",
    "\n",
    "GridBox(\n",
    "    [selector, HTML(), view1, view2],\n",
    "    layout=Layout(grid_template_columns=\"repeat(2, 1fr)\", grid_template_rows=\"auto 600px\"),\n",
    ")"
   ]
  },
  {
   "cell_type": "code",
   "execution_count": 7,
   "metadata": {},
   "outputs": [
    {
     "data": {
      "application/vnd.jupyter.widget-view+json": {
       "model_id": "6f01e2a56a6e4d8d96e249c25027b067",
       "version_major": 2,
       "version_minor": 0
      },
      "text/plain": [
       "GridBox(children=(Dropdown(description='Biomarker:', index=3, layout=Layout(width='auto'), options=('opticCup'…"
      ]
     },
     "execution_count": 7,
     "metadata": {},
     "output_type": "execute_result"
    }
   ],
   "source": [
    "selector = Dropdown(\n",
    "    options=[field.value for field in Bio],\n",
    "    description=\"Biomarker:\",\n",
    "    layout=Layout(width=\"auto\"),\n",
    "    value=(\"brightLesions\", \"redLesions\", \"vessels\")[i],\n",
    ")\n",
    "\n",
    "duplicates_samples = [[maples_dataset[_[0]], maples_dataset[_[1]]] for _ in duplicates]\n",
    "(s1a, s1b), (s2a, s2b) = duplicates_samples\n",
    "view1b = imshow(s2a[\"fundus\"])\n",
    "view2b = imshow(s2a[\"fundus\"])\n",
    "view2b._left_ruler = False\n",
    "\n",
    "\n",
    "def set_label(biomarker):\n",
    "    if isinstance(biomarker, dict):\n",
    "        biomarker = biomarker[\"new\"]\n",
    "    view1b.add_label(\n",
    "        s2a[biomarker] + 2 * s2b[biomarker],\n",
    "        colormap={1: \"#a56fb9\", 2: \"#7aa8ba\", 3: \"white\"},\n",
    "        name=\"biomarker\",\n",
    "    )\n",
    "    view2b.add_label(\n",
    "        s2a.read_biomarker(biomarker, pre_annotation=True) + 2 * s2b.read_biomarker(biomarker, pre_annotation=True),\n",
    "        colormap={1: \"#a56fb9\", 2: \"#7aa8ba\", 3: \"white\"},\n",
    "        name=\"biomarker\",\n",
    "    )\n",
    "\n",
    "\n",
    "selector.observe(set_label, \"value\")\n",
    "\n",
    "set_label(selectors[i].value)\n",
    "\n",
    "sync_views(view1b, view2b)\n",
    "\n",
    "GridBox(\n",
    "    [selector, HTML(), view1b, view2b],\n",
    "    layout=Layout(grid_template_columns=\"repeat(2, 1fr)\", grid_template_rows=\"auto 600px\"),\n",
    ")"
   ]
  },
  {
   "cell_type": "markdown",
   "metadata": {},
   "source": [
    "### Quantitative"
   ]
  },
  {
   "cell_type": "code",
   "execution_count": 8,
   "metadata": {},
   "outputs": [
    {
     "data": {
      "text/html": [
       "<div>\n",
       "<style scoped>\n",
       "    .dataframe tbody tr th:only-of-type {\n",
       "        vertical-align: middle;\n",
       "    }\n",
       "\n",
       "    .dataframe tbody tr th {\n",
       "        vertical-align: top;\n",
       "    }\n",
       "\n",
       "    .dataframe thead th {\n",
       "        text-align: right;\n",
       "    }\n",
       "</style>\n",
       "<table border=\"1\" class=\"dataframe\">\n",
       "  <thead>\n",
       "    <tr style=\"text-align: right;\">\n",
       "      <th></th>\n",
       "      <th>vessels</th>\n",
       "      <th>opticCup</th>\n",
       "      <th>opticDisc</th>\n",
       "      <th>macula</th>\n",
       "      <th>redLesions</th>\n",
       "      <th>brightLesions</th>\n",
       "    </tr>\n",
       "  </thead>\n",
       "  <tbody>\n",
       "    <tr>\n",
       "      <th>kappa</th>\n",
       "      <td>0.795</td>\n",
       "      <td>0.847</td>\n",
       "      <td>0.958</td>\n",
       "      <td>0.045</td>\n",
       "      <td>0.48</td>\n",
       "      <td>0.176</td>\n",
       "    </tr>\n",
       "    <tr>\n",
       "      <th>accuracy</th>\n",
       "      <td>0.961</td>\n",
       "      <td>0.999</td>\n",
       "      <td>0.999</td>\n",
       "      <td>0.999</td>\n",
       "      <td>0.999</td>\n",
       "      <td>0.998</td>\n",
       "    </tr>\n",
       "    <tr>\n",
       "      <th>dice</th>\n",
       "      <td>0.817</td>\n",
       "      <td>0.848</td>\n",
       "      <td>0.958</td>\n",
       "      <td>0.045</td>\n",
       "      <td>0.48</td>\n",
       "      <td>0.177</td>\n",
       "    </tr>\n",
       "    <tr>\n",
       "      <th>distance</th>\n",
       "      <td></td>\n",
       "      <td>5.581</td>\n",
       "      <td>2.365</td>\n",
       "      <td>24.316</td>\n",
       "      <td></td>\n",
       "      <td></td>\n",
       "    </tr>\n",
       "    <tr>\n",
       "      <th>mean detection f1</th>\n",
       "      <td></td>\n",
       "      <td></td>\n",
       "      <td></td>\n",
       "      <td></td>\n",
       "      <td>0.616</td>\n",
       "      <td>0.083</td>\n",
       "    </tr>\n",
       "  </tbody>\n",
       "</table>\n",
       "</div>"
      ],
      "text/plain": [
       "                  vessels opticCup opticDisc  macula redLesions brightLesions\n",
       "kappa               0.795    0.847     0.958   0.045       0.48         0.176\n",
       "accuracy            0.961    0.999     0.999   0.999      0.999         0.998\n",
       "dice                0.817    0.848     0.958   0.045       0.48         0.177\n",
       "distance                     5.581     2.365  24.316                         \n",
       "mean detection f1                                         0.616         0.083"
      ]
     },
     "execution_count": 8,
     "metadata": {},
     "output_type": "execute_result"
    }
   ],
   "source": [
    "biomarkers = [\n",
    "    field.value\n",
    "    for field in (\n",
    "        Bio.VESSELS,\n",
    "        Bio.OPTIC_CUP,\n",
    "        Bio.OPTIC_DISC,\n",
    "        Bio.MACULA,\n",
    "        Bio.RED_LESIONS,\n",
    "        Bio.BRIGHT_LESIONS,\n",
    "    )\n",
    "]\n",
    "\n",
    "data = {}\n",
    "for bio in biomarkers:\n",
    "    bio1 = np.array([s1a[bio], s2a[bio]], dtype=bool)\n",
    "    bio2 = np.array([s1b[bio], s2b[bio]], dtype=bool)\n",
    "    kappa = cohen_kappa_score(bio1.flatten(), bio2.flatten(), labels=[0, 1])\n",
    "    accuracy = np.mean(bio1 == bio2)\n",
    "    dice = 2 * np.sum(bio1 * bio2) / (np.sum(bio1) + np.sum(bio2))\n",
    "    data[bio] = {\"kappa\": kappa, \"accuracy\": accuracy, \"dice\": dice}\n",
    "\n",
    "for bio in [Bio.MACULA, Bio.OPTIC_CUP, Bio.OPTIC_DISC]:\n",
    "    d = np.mean([centroid(sa[bio]).distance(centroid(sb[bio])) for sa, sb in duplicates_samples])\n",
    "    data[bio.value][\"distance\"] = d\n",
    "\n",
    "for bio in [Bio.RED_LESIONS, Bio.BRIGHT_LESIONS]:\n",
    "    data[bio.value][\"mean detection f1\"] = np.nanmean([regions_f1(sa[bio], sb[bio]) for sa, sb in duplicates_samples])\n",
    "\n",
    "\n",
    "pd.DataFrame(data).round(3).fillna(\"\")"
   ]
  },
  {
   "cell_type": "markdown",
   "metadata": {},
   "source": [
    "# Variability Study on reannotated Images"
   ]
  },
  {
   "cell_type": "markdown",
   "metadata": {},
   "source": [
    "### Load datasets"
   ]
  },
  {
   "cell_type": "code",
   "execution_count": 5,
   "metadata": {},
   "outputs": [
    {
     "name": "stdout",
     "output_type": "stream",
     "text": [
      "Missing microaneurysms for retinologist 2.\n",
      "Missing hemorrhages for retinologist 2.\n",
      "Missing redUncertains for retinologist 2.\n",
      "Missing exudates for retinologist 2.\n",
      "Missing cottonWoolSpots for retinologist 2.\n",
      "Missing drusens for retinologist 2.\n",
      "Missing brightUncertains for retinologist 2.\n"
     ]
    }
   ],
   "source": [
    "new_annotations = load_new_annotations()\n",
    "published_dataset = GLOBAL_LOADER.load_dataset()"
   ]
  },
  {
   "cell_type": "markdown",
   "metadata": {},
   "source": [
    "### Visualize the data"
   ]
  },
  {
   "cell_type": "code",
   "execution_count": 5,
   "metadata": {},
   "outputs": [],
   "source": [
    "images = new_annotations[0].keys()\n",
    "current_img = [images[0], 0]"
   ]
  },
  {
   "cell_type": "code",
   "execution_count": 6,
   "metadata": {},
   "outputs": [
    {
     "ename": "SyntaxError",
     "evalue": "invalid syntax (1230954790.py, line 55)",
     "output_type": "error",
     "traceback": [
      "\u001b[0;36m  Cell \u001b[0;32mIn [6], line 55\u001b[0;36m\u001b[0m\n\u001b[0;31m    v.\u001b[0m\n\u001b[0m      ^\u001b[0m\n\u001b[0;31mSyntaxError\u001b[0m\u001b[0;31m:\u001b[0m invalid syntax\n"
     ]
    }
   ],
   "source": [
    "img_selector = Dropdown(\n",
    "    options=images,\n",
    "    description=\"Biomarker:\",\n",
    "    layout=Layout(width=\"auto\"),\n",
    "    value=current_img[0],\n",
    ")\n",
    "\n",
    "retinologist_selector = Dropdown(\n",
    "    options=[i + 1 for i in range(len(new_annotations))],\n",
    "    description=\"Retinologist:\",\n",
    "    layout=Layout(width=\"auto\"),\n",
    "    value=current_img[1] + 1,\n",
    ")\n",
    "\n",
    "s = published_dataset[images[0]]\n",
    "\n",
    "view1 = imshow(s[\"fundus\"])\n",
    "view2 = imshow(s[\"fundus\"])\n",
    "view2._left_ruler = False\n",
    "view3 = imshow(s[\"fundus\"])\n",
    "view3._top_ruler = False\n",
    "view4 = imshow(s[\"fundus\"])\n",
    "view4._top_ruler = False\n",
    "view4._left_ruler = False\n",
    "\n",
    "cmap = {\n",
    "    # --- Pre-annotations Edited---\n",
    "    2: \"#d41616\",  # Not in published, removed from pre-annotation\n",
    "    3: \"#860e0e\",  # In published, removed from pre-annotation\n",
    "    4: \"#154f00\",  # Not in published nor pre-annotation, added by ret\n",
    "    5: \"#248600\",  # Published not in pre-annotation, added by ret\n",
    "    # --- Pre-annotations not edited ---\n",
    "    1: \"#a8394988\",  # In published, not in refined\n",
    "    6: \"#999bc9\",  # Not in published\n",
    "    7: \"#cccccc\",  # In published and refined\n",
    "}\n",
    "\n",
    "\n",
    "def setup_views():\n",
    "    img, ret = current_img\n",
    "\n",
    "    s_published = published_dataset[img]\n",
    "    s_refined = new_annotations[ret][img]\n",
    "\n",
    "    for v, l in zip(\n",
    "        [view1, view2, view3, view4],\n",
    "        [Bio.MICROANEURYSMS, Bio.HEMORRHAGES, Bio.EXUDATES, Bio.COTTON_WOOL_SPOTS],\n",
    "        strict=True,\n",
    "    ):\n",
    "        diff = (\n",
    "            s_published[l]\n",
    "            + 2 * s_refined.read_biomarker(l, pre_annotation=True)\n",
    "            + 4 * s_refined.read_biomarker(l, pre_annotation=False)\n",
    "        )\n",
    "        v.\n",
    "        v[\"background\"] = s_published[\"fundus\"]\n",
    "        v.add_label(\n",
    "            diff,\n",
    "            name=\"diff\",\n",
    "            colormap=cmap,\n",
    "        )\n",
    "\n",
    "\n",
    "def set_img(img):\n",
    "    if isinstance(img, dict):\n",
    "        img = img[\"new\"]\n",
    "    current_img[0] = img\n",
    "    setup_views()\n",
    "\n",
    "\n",
    "def set_ret(ret):\n",
    "    if isinstance(ret, dict):\n",
    "        ret = ret[\"new\"]\n",
    "    current_img[1] = ret - 1\n",
    "    setup_views()\n",
    "\n",
    "\n",
    "img_selector.observe(set_img, \"value\")\n",
    "retinologist_selector.observe(set_ret, \"value\")\n",
    "\n",
    "setup_views()\n",
    "sync_views(view1, view2, view3, view4)\n",
    "\n",
    "legend1 = HTML(\n",
    "    f\"\"\"\n",
    "<h3 style=\"color: var(--jppype-foreground-color);\"> Pre-annotations edition </h3>\n",
    "<p style=\"color: var(--jppype-foreground-color); font-size: 14px; text-align: center;\">\n",
    "    Removed by retinologist:\n",
    "    <span style=\"display: inline-block\"><span style=\"background-color: {cmap[2]}; width: 14px; height: 14px; \n",
    "    border-radius: 7px; display: inline-block; margin-left: 20px\"> </span> Not published; </span>\n",
    "    <span style=\"display: inline-block\"><span style=\"background-color: {cmap[3]}; width: 14px; height: 14px; \n",
    "    border-radius: 7px; display: inline-block; margin-left: 20px\"> </span> in published </span>\n",
    "</p>\n",
    "<p style=\"color: var(--jppype-foreground-color); font-size: 14px; text-align: center;\">    \n",
    "    Added by retinologist:\n",
    "    <span style=\"display: inline-block\"><span style=\"background-color: {cmap[4]}; width: 14px; height: 14px;\n",
    "     border-radius: 7px; display: inline-block; margin-left: 20px\"> </span> Not in published; </span>\n",
    "    <span style=\"display: inline-block\"><span style=\"background-color: {cmap[5]}; width: 14px; height: 14px; \n",
    "    border-radius: 7px; display: inline-block; margin-left: 20px\"> </span> In published. </span>\n",
    "</p>\n",
    "\"\"\"\n",
    ")\n",
    "legend2 = HTML(\n",
    "    f\"\"\"\n",
    "<h3 style=\"color: var(--jppype-foreground-color);\"> Pre-annotations kept </h3>\n",
    "<p  style=\"color: var(--jppype-foreground-color); font-size: 14px; text-align: center;\">\n",
    "    <span style=\"display: inline-block\"><span style=\"background-color: {cmap[1]}; width: 14px; height: 14px; border-radius: 7px; display: inline-block; margin-left: 20px\"> </span> Only in published; </span>\n",
    "\n",
    "    <span style=\"display: inline-block\"><span style=\"background-color: {cmap[6]}; width: 14px; height: 14px; border-radius: 7px; display: inline-block; margin-left: 20px\"> </span> Absent in published; </span>\n",
    "\n",
    "    <span style=\"display: inline-block\"><span style=\"background-color: {cmap[7]}; width: 14px; height: 14px; border-radius: 7px; display: inline-block; margin-left: 20px\"> </span> In all 3. </span>\n",
    "</p>\n",
    "\"\"\"\n",
    ")\n",
    "\n",
    "GridBox(\n",
    "    [img_selector, retinologist_selector, legend1, legend2, view1, view2, view3, view4],\n",
    "    layout=Layout(\n",
    "        grid_template_columns=\"repeat(2, 1fr)\",\n",
    "        grid_template_rows=\"auto auto 415px 400px\",\n",
    "    ),\n",
    ")"
   ]
  },
  {
   "cell_type": "markdown",
   "metadata": {},
   "source": [
    "## Qualitative analysis"
   ]
  },
  {
   "cell_type": "code",
   "execution_count": 6,
   "metadata": {},
   "outputs": [
    {
     "name": "stdout",
     "output_type": "stream",
     "text": [
      "Missing microaneurysms for retinologist 2.\n",
      "Missing hemorrhages for retinologist 2.\n",
      "Missing redUncertains for retinologist 2.\n",
      "Missing exudates for retinologist 2.\n",
      "Missing cottonWoolSpots for retinologist 2.\n",
      "Missing drusens for retinologist 2.\n",
      "Missing brightUncertains for retinologist 2.\n"
     ]
    }
   ],
   "source": [
    "images = new_annotations[0].keys()\n",
    "current_img2 = [images[0], Bio.RED_LESIONS.value]"
   ]
  },
  {
   "cell_type": "code",
   "execution_count": 7,
   "metadata": {},
   "outputs": [
    {
     "data": {
      "application/vnd.jupyter.widget-view+json": {
       "model_id": "a01ebec48a1045bab8e7b5141e135be5",
       "version_major": 2,
       "version_minor": 0
      },
      "text/plain": [
       "GridBox(children=(Dropdown(description='Biomarker:', layout=Layout(width='auto'), options=('20060522_46266_010…"
      ]
     },
     "execution_count": 7,
     "metadata": {},
     "output_type": "execute_result"
    }
   ],
   "source": [
    "img_selector2 = Dropdown(\n",
    "    options=images,\n",
    "    description=\"Biomarker:\",\n",
    "    layout=Layout(width=\"auto\"),\n",
    "    value=current_img2[0],\n",
    ")\n",
    "\n",
    "biomarker_selector = Dropdown(\n",
    "    options=[\n",
    "        _.value\n",
    "        for _ in [\n",
    "            Bio.MICROANEURYSMS,\n",
    "            Bio.HEMORRHAGES,\n",
    "            Bio.EXUDATES,\n",
    "            Bio.COTTON_WOOL_SPOTS,\n",
    "            Bio.RED_LESIONS,\n",
    "            Bio.BRIGHT_LESIONS,\n",
    "        ]\n",
    "    ],\n",
    "    description=\"Biomarker:\",\n",
    "    layout=Layout(width=\"auto\"),\n",
    "    value=current_img2[1],\n",
    ")\n",
    "\n",
    "s = published_dataset[images[0]]\n",
    "\n",
    "view6 = imshow(s[\"fundus\"])\n",
    "view7 = imshow(s[\"fundus\"])\n",
    "view7._left_ruler = False\n",
    "view8 = imshow(s[\"fundus\"])\n",
    "view8._left_ruler = False\n",
    "\n",
    "cmap = {\n",
    "    # --- Pre-annotations Edited---\n",
    "    1: \"red\",  # Removed\n",
    "    2: \"green\",  # Added\n",
    "    # --- Pre-annotations not edited ---\n",
    "    3: \"white\",\n",
    "}\n",
    "\n",
    "\n",
    "def setup_views2():\n",
    "    img, bio = current_img2\n",
    "\n",
    "    for s, v in zip([_[img] for _ in new_annotations], [view6, view7, view8]):\n",
    "        v[\"background\"] = s[\"fundus\"]\n",
    "        diff = s.read_biomarker(bio, pre_annotation=True) + 2 * s.read_biomarker(bio, pre_annotation=False)\n",
    "        v.add_label(\n",
    "            diff,\n",
    "            name=\"diff\",\n",
    "            colormap=cmap,\n",
    "        )\n",
    "\n",
    "\n",
    "def set_img2(img):\n",
    "    if isinstance(img, dict):\n",
    "        img = img[\"new\"]\n",
    "    current_img2[0] = img\n",
    "    setup_views2()\n",
    "\n",
    "\n",
    "def set_bio2(bio):\n",
    "    if isinstance(bio, dict):\n",
    "        bio = bio[\"new\"]\n",
    "    current_img2[1] = bio\n",
    "    setup_views2()\n",
    "\n",
    "\n",
    "img_selector2.observe(set_img2, \"value\")\n",
    "biomarker_selector.observe(set_bio2, \"value\")\n",
    "\n",
    "setup_views2()\n",
    "sync_views(view6, view7, view8)\n",
    "\n",
    "legend1 = HTML(\n",
    "    f\"\"\"\n",
    "<p style=\"color: var(--jppype-foreground-color); font-size: 14px; text-align: center;\">\n",
    "    <span style=\"display: inline-block\"><span style=\"background-color: {cmap[2]}; width: 14px; height: 14px; \n",
    "    border-radius: 7px; display: inline-block; margin-left: 20px\"> </span> Added </span>\n",
    "    <span style=\"display: inline-block\"><span style=\"background-color: {cmap[1]}; width: 14px; height: 14px; \n",
    "    border-radius: 7px; display: inline-block; margin-left: 20px\"> </span> Removed </span>\n",
    "</p>\n",
    "<h3 style=\"color: var(--jppype-foreground-color);\"> Daniel </h3>\n",
    "\"\"\"\n",
    ")\n",
    "legend2 = HTML('<h3 style=\"color: var(--jppype-foreground-color);\"> Fares </h3>')\n",
    "legend3 = HTML('<h3 style=\"color: var(--jppype-foreground-color);\"> Marie Carole </h3>')\n",
    "\n",
    "GridBox(\n",
    "    [img_selector2, biomarker_selector, HTML(), legend1, legend2, legend3, view6, view7, view8],\n",
    "    layout=Layout(\n",
    "        grid_template_columns=\"repeat(3, 1fr)\",\n",
    "        grid_template_rows=\"auto auto 500px\",\n",
    "    ),\n",
    ")"
   ]
  },
  {
   "cell_type": "markdown",
   "metadata": {},
   "source": [
    "## Quantitative analysis"
   ]
  },
  {
   "cell_type": "code",
   "execution_count": 4,
   "metadata": {},
   "outputs": [
    {
     "ename": "ValueError",
     "evalue": "too many values to unpack (expected 2)",
     "output_type": "error",
     "traceback": [
      "\u001b[0;31m---------------------------------------------------------------------------\u001b[0m",
      "\u001b[0;31mValueError\u001b[0m                                Traceback (most recent call last)",
      "\u001b[1;32m/home/gaby/These/src/Fundus/MAPLES-DR/examples/variability_study/intervariability_study.ipynb Cell 23\u001b[0m line \u001b[0;36m2\n\u001b[1;32m     <a href='vscode-notebook-cell://ssh-remote%2Bm3202-09.demdgi.polymtl.ca/home/gaby/These/src/Fundus/MAPLES-DR/examples/variability_study/intervariability_study.ipynb#X31sdnNjb2RlLXJlbW90ZQ%3D%3D?line=17'>18</a>\u001b[0m all_dice \u001b[39m=\u001b[39m []\n\u001b[1;32m     <a href='vscode-notebook-cell://ssh-remote%2Bm3202-09.demdgi.polymtl.ca/home/gaby/These/src/Fundus/MAPLES-DR/examples/variability_study/intervariability_study.ipynb#X31sdnNjb2RlLXJlbW90ZQ%3D%3D?line=18'>19</a>\u001b[0m all_f1_detection \u001b[39m=\u001b[39m []\n\u001b[0;32m---> <a href='vscode-notebook-cell://ssh-remote%2Bm3202-09.demdgi.polymtl.ca/home/gaby/These/src/Fundus/MAPLES-DR/examples/variability_study/intervariability_study.ipynb#X31sdnNjb2RlLXJlbW90ZQ%3D%3D?line=20'>21</a>\u001b[0m \u001b[39mfor\u001b[39;00m s1, s2 \u001b[39min\u001b[39;00m \u001b[39mzip\u001b[39m(\u001b[39m*\u001b[39mnew_annotations):\n\u001b[1;32m     <a href='vscode-notebook-cell://ssh-remote%2Bm3202-09.demdgi.polymtl.ca/home/gaby/These/src/Fundus/MAPLES-DR/examples/variability_study/intervariability_study.ipynb#X31sdnNjb2RlLXJlbW90ZQ%3D%3D?line=21'>22</a>\u001b[0m     bio1 \u001b[39m=\u001b[39m s1[bio]\n\u001b[1;32m     <a href='vscode-notebook-cell://ssh-remote%2Bm3202-09.demdgi.polymtl.ca/home/gaby/These/src/Fundus/MAPLES-DR/examples/variability_study/intervariability_study.ipynb#X31sdnNjb2RlLXJlbW90ZQ%3D%3D?line=22'>23</a>\u001b[0m     bio2 \u001b[39m=\u001b[39m s2[bio]\n",
      "\u001b[0;31mValueError\u001b[0m: too many values to unpack (expected 2)"
     ]
    }
   ],
   "source": [
    "biomarkers = [\n",
    "    field.value\n",
    "    for field in (\n",
    "        Bio.MICROANEURYSMS,\n",
    "        Bio.HEMORRHAGES,\n",
    "        Bio.EXUDATES,\n",
    "        Bio.COTTON_WOOL_SPOTS,\n",
    "        Bio.RED_LESIONS,\n",
    "        Bio.BRIGHT_LESIONS,\n",
    "    )\n",
    "]\n",
    "\n",
    "data = {}\n",
    "data_per_image = {}\n",
    "for bio in biomarkers:\n",
    "    all_kappa = []\n",
    "    all_accuracy = []\n",
    "    all_dice = []\n",
    "    all_f1_detection = []\n",
    "\n",
    "    for s1, s2, s3 in zip(*new_annotations):\n",
    "        bio1 = s1[bio]\n",
    "        bio2 = s2[bio]\n",
    "        bio3 = s3[bio]\n",
    "\n",
    "        kappa = cohen_kappa_score(bio1.flatten(), bio2.flatten(), labels=[0, 1])\n",
    "        all_kappa.append(kappa)\n",
    "\n",
    "        accuracy = np.mean(bio1 == bio2)\n",
    "        all_accuracy.append(accuracy)\n",
    "\n",
    "        dice = 2 * np.sum(bio1 * bio2) / (np.sum(bio1) + np.sum(bio2))\n",
    "        all_dice.append(dice)\n",
    "\n",
    "        f1_det = regions_f1(bio1, bio2)\n",
    "        all_f1_detection.append(f1_det)\n",
    "        d = data_per_image.get(s1.name, {})\n",
    "        d[str(bio)] = {\n",
    "            \"kappa\": kappa,\n",
    "            \"accuracy\": accuracy,\n",
    "            \"dice\": dice,\n",
    "            \"f1_det\": f1_det,\n",
    "        }\n",
    "        data_per_image[s1.name] = d\n",
    "    data[bio] = {\n",
    "        \"kappa\": f\"{np.nanmean(all_kappa):.3f} ± {np.nanstd(all_kappa):.3f}\",\n",
    "        \"accuracy\": f\"{np.nanmean(all_accuracy):.3f} ± {np.nanstd(all_accuracy):.3f}\",\n",
    "        \"dice\": f\"{np.nanmean(all_dice):.3f} ± {np.nanstd(all_dice):.3f}\",\n",
    "        \"F1 Detection\": f\"{np.nanmean(all_f1_detection):.3f} ± {np.nanstd(all_f1_detection):.3f}\",\n",
    "    }"
   ]
  },
  {
   "cell_type": "code",
   "execution_count": 33,
   "metadata": {},
   "outputs": [
    {
     "data": {
      "text/html": [
       "<div>\n",
       "<style scoped>\n",
       "    .dataframe tbody tr th:only-of-type {\n",
       "        vertical-align: middle;\n",
       "    }\n",
       "\n",
       "    .dataframe tbody tr th {\n",
       "        vertical-align: top;\n",
       "    }\n",
       "\n",
       "    .dataframe thead th {\n",
       "        text-align: right;\n",
       "    }\n",
       "</style>\n",
       "<table border=\"1\" class=\"dataframe\">\n",
       "  <thead>\n",
       "    <tr style=\"text-align: right;\">\n",
       "      <th></th>\n",
       "      <th>microaneurysms</th>\n",
       "      <th>hemorrhages</th>\n",
       "      <th>exudates</th>\n",
       "      <th>cottonWoolSpots</th>\n",
       "      <th>redLesions</th>\n",
       "      <th>brightLesions</th>\n",
       "    </tr>\n",
       "  </thead>\n",
       "  <tbody>\n",
       "    <tr>\n",
       "      <th>kappa</th>\n",
       "      <td>0.946 ± 0.083</td>\n",
       "      <td>0.731 ± 0.392</td>\n",
       "      <td>0.590 ± 0.371</td>\n",
       "      <td>0.006 ± 0.010</td>\n",
       "      <td>0.951 ± 0.068</td>\n",
       "      <td>0.518 ± 0.357</td>\n",
       "    </tr>\n",
       "    <tr>\n",
       "      <th>accuracy</th>\n",
       "      <td>1.000 ± 0.000</td>\n",
       "      <td>1.000 ± 0.000</td>\n",
       "      <td>1.000 ± 0.000</td>\n",
       "      <td>1.000 ± 0.001</td>\n",
       "      <td>1.000 ± 0.000</td>\n",
       "      <td>1.000 ± 0.001</td>\n",
       "    </tr>\n",
       "    <tr>\n",
       "      <th>dice</th>\n",
       "      <td>0.946 ± 0.083</td>\n",
       "      <td>0.731 ± 0.392</td>\n",
       "      <td>0.590 ± 0.371</td>\n",
       "      <td>0.006 ± 0.010</td>\n",
       "      <td>0.951 ± 0.068</td>\n",
       "      <td>0.518 ± 0.357</td>\n",
       "    </tr>\n",
       "    <tr>\n",
       "      <th>F1 Detection</th>\n",
       "      <td>0.955 ± 0.060</td>\n",
       "      <td>0.942 ± 0.106</td>\n",
       "      <td>0.791 ± 0.214</td>\n",
       "      <td>0.286 ± 0.000</td>\n",
       "      <td>0.966 ± 0.054</td>\n",
       "      <td>0.800 ± 0.219</td>\n",
       "    </tr>\n",
       "  </tbody>\n",
       "</table>\n",
       "</div>"
      ],
      "text/plain": [
       "             microaneurysms    hemorrhages       exudates cottonWoolSpots  \\\n",
       "kappa         0.946 ± 0.083  0.731 ± 0.392  0.590 ± 0.371   0.006 ± 0.010   \n",
       "accuracy      1.000 ± 0.000  1.000 ± 0.000  1.000 ± 0.000   1.000 ± 0.001   \n",
       "dice          0.946 ± 0.083  0.731 ± 0.392  0.590 ± 0.371   0.006 ± 0.010   \n",
       "F1 Detection  0.955 ± 0.060  0.942 ± 0.106  0.791 ± 0.214   0.286 ± 0.000   \n",
       "\n",
       "                 redLesions  brightLesions  \n",
       "kappa         0.951 ± 0.068  0.518 ± 0.357  \n",
       "accuracy      1.000 ± 0.000  1.000 ± 0.001  \n",
       "dice          0.951 ± 0.068  0.518 ± 0.357  \n",
       "F1 Detection  0.966 ± 0.054  0.800 ± 0.219  "
      ]
     },
     "execution_count": 33,
     "metadata": {},
     "output_type": "execute_result"
    }
   ],
   "source": [
    "pd.DataFrame(data).round(3).fillna(\"\")"
   ]
  },
  {
   "cell_type": "code",
   "execution_count": 34,
   "metadata": {},
   "outputs": [
    {
     "data": {
      "text/html": [
       "<div>\n",
       "<style scoped>\n",
       "    .dataframe tbody tr th:only-of-type {\n",
       "        vertical-align: middle;\n",
       "    }\n",
       "\n",
       "    .dataframe tbody tr th {\n",
       "        vertical-align: top;\n",
       "    }\n",
       "\n",
       "    .dataframe thead th {\n",
       "        text-align: right;\n",
       "    }\n",
       "</style>\n",
       "<table border=\"1\" class=\"dataframe\">\n",
       "  <thead>\n",
       "    <tr style=\"text-align: right;\">\n",
       "      <th></th>\n",
       "      <th>20060522_46266_0100_PP</th>\n",
       "      <th>20060412_52668_0200_PP</th>\n",
       "      <th>20060523_49010_0100_PP</th>\n",
       "      <th>20060411_58221_0200_PP</th>\n",
       "      <th>20051020_62461_0100_PP</th>\n",
       "      <th>20051202_51677_0400_PP</th>\n",
       "      <th>20051116_44816_0400_PP</th>\n",
       "      <th>20060412_59400_0200_PP</th>\n",
       "      <th>20060412_61000_0200_PP</th>\n",
       "      <th>20060412_60895_0200_PP</th>\n",
       "      <th>20051202_51488_0400_PP</th>\n",
       "      <th>20060412_59037_0200_PP</th>\n",
       "      <th>20060410_43675_0200_PP</th>\n",
       "      <th>20060410_40146_0200_PP</th>\n",
       "      <th>20060412_52978_0200_PP</th>\n",
       "      <th>20051021_40074_0100_PP</th>\n",
       "    </tr>\n",
       "  </thead>\n",
       "  <tbody>\n",
       "    <tr>\n",
       "      <th>kappa</th>\n",
       "      <td></td>\n",
       "      <td>0.004</td>\n",
       "      <td>1.0</td>\n",
       "      <td>0.946</td>\n",
       "      <td></td>\n",
       "      <td>1.0</td>\n",
       "      <td></td>\n",
       "      <td></td>\n",
       "      <td></td>\n",
       "      <td>0.993</td>\n",
       "      <td>0.998</td>\n",
       "      <td>0.502</td>\n",
       "      <td>0.0</td>\n",
       "      <td>0.884</td>\n",
       "      <td></td>\n",
       "      <td>0.985</td>\n",
       "    </tr>\n",
       "    <tr>\n",
       "      <th>accuracy</th>\n",
       "      <td>1.0</td>\n",
       "      <td>1.000</td>\n",
       "      <td>1.0</td>\n",
       "      <td>1.000</td>\n",
       "      <td>1.0</td>\n",
       "      <td>1.0</td>\n",
       "      <td>1.0</td>\n",
       "      <td>1.0</td>\n",
       "      <td>1.0</td>\n",
       "      <td>1.000</td>\n",
       "      <td>1.000</td>\n",
       "      <td>1.000</td>\n",
       "      <td>1.0</td>\n",
       "      <td>1.000</td>\n",
       "      <td>1.0</td>\n",
       "      <td>1.000</td>\n",
       "    </tr>\n",
       "    <tr>\n",
       "      <th>dice</th>\n",
       "      <td></td>\n",
       "      <td>0.004</td>\n",
       "      <td>1.0</td>\n",
       "      <td>0.946</td>\n",
       "      <td></td>\n",
       "      <td>1.0</td>\n",
       "      <td></td>\n",
       "      <td></td>\n",
       "      <td></td>\n",
       "      <td>0.993</td>\n",
       "      <td>0.998</td>\n",
       "      <td>0.502</td>\n",
       "      <td>0.0</td>\n",
       "      <td>0.884</td>\n",
       "      <td></td>\n",
       "      <td>0.985</td>\n",
       "    </tr>\n",
       "    <tr>\n",
       "      <th>f1_det</th>\n",
       "      <td></td>\n",
       "      <td>0.667</td>\n",
       "      <td>1.0</td>\n",
       "      <td>0.933</td>\n",
       "      <td></td>\n",
       "      <td>1.0</td>\n",
       "      <td></td>\n",
       "      <td></td>\n",
       "      <td></td>\n",
       "      <td>1.000</td>\n",
       "      <td>0.875</td>\n",
       "      <td>1.000</td>\n",
       "      <td></td>\n",
       "      <td>1.000</td>\n",
       "      <td></td>\n",
       "      <td>1.000</td>\n",
       "    </tr>\n",
       "  </tbody>\n",
       "</table>\n",
       "</div>"
      ],
      "text/plain": [
       "         20060522_46266_0100_PP  20060412_52668_0200_PP  \\\n",
       "kappa                                             0.004   \n",
       "accuracy                    1.0                   1.000   \n",
       "dice                                              0.004   \n",
       "f1_det                                            0.667   \n",
       "\n",
       "          20060523_49010_0100_PP  20060411_58221_0200_PP  \\\n",
       "kappa                        1.0                   0.946   \n",
       "accuracy                     1.0                   1.000   \n",
       "dice                         1.0                   0.946   \n",
       "f1_det                       1.0                   0.933   \n",
       "\n",
       "         20051020_62461_0100_PP  20051202_51677_0400_PP  \\\n",
       "kappa                                               1.0   \n",
       "accuracy                    1.0                     1.0   \n",
       "dice                                                1.0   \n",
       "f1_det                                              1.0   \n",
       "\n",
       "         20051116_44816_0400_PP 20060412_59400_0200_PP 20060412_61000_0200_PP  \\\n",
       "kappa                                                                           \n",
       "accuracy                    1.0                    1.0                    1.0   \n",
       "dice                                                                            \n",
       "f1_det                                                                          \n",
       "\n",
       "          20060412_60895_0200_PP  20051202_51488_0400_PP  \\\n",
       "kappa                      0.993                   0.998   \n",
       "accuracy                   1.000                   1.000   \n",
       "dice                       0.993                   0.998   \n",
       "f1_det                     1.000                   0.875   \n",
       "\n",
       "          20060412_59037_0200_PP 20060410_43675_0200_PP  \\\n",
       "kappa                      0.502                    0.0   \n",
       "accuracy                   1.000                    1.0   \n",
       "dice                       0.502                    0.0   \n",
       "f1_det                     1.000                          \n",
       "\n",
       "          20060410_40146_0200_PP 20060412_52978_0200_PP  \\\n",
       "kappa                      0.884                          \n",
       "accuracy                   1.000                    1.0   \n",
       "dice                       0.884                          \n",
       "f1_det                     1.000                          \n",
       "\n",
       "          20051021_40074_0100_PP  \n",
       "kappa                      0.985  \n",
       "accuracy                   1.000  \n",
       "dice                       0.985  \n",
       "f1_det                     1.000  "
      ]
     },
     "execution_count": 34,
     "metadata": {},
     "output_type": "execute_result"
    }
   ],
   "source": [
    "pd.DataFrame({img: data_per_image[img][\"hemorrhages\"] for img in data_per_image}).round(3).fillna(\"\")"
   ]
  },
  {
   "cell_type": "code",
   "execution_count": 20,
   "metadata": {},
   "outputs": [
    {
     "data": {
      "application/vnd.jupyter.widget-view+json": {
       "model_id": "aae6a8d26fb44d55b7f33d1a58c7426d",
       "version_major": 2,
       "version_minor": 0
      },
      "text/plain": [
       "View2D()"
      ]
     },
     "execution_count": 20,
     "metadata": {},
     "output_type": "execute_result"
    }
   ],
   "source": [
    "def multi_diff(sample_ID, bio):\n",
    "    samples = [_[sample_ID] for _ in new_annotations]\n",
    "    s1 = samples[0]\n",
    "    labels, diffs = multi_annotator_regions_diff(\n",
    "        s1.read_biomarker(bio, pre_annotation=True), *[sample[bio] for sample in samples], change_max_iou=0.25\n",
    "    )\n",
    "    v = imshow(s1[\"fundus\"])\n",
    "\n",
    "    def diff_to_color(diff):\n",
    "        if \"A\" in diff:\n",
    "            return (\n",
    "                Color.interpolate([\"yellow\", \"green\"])(sum(_ == \"A\" for _ in diff) / len(diff))\n",
    "                .convert(\"srgb\")\n",
    "                .to_string(hex=True)\n",
    "            )\n",
    "        return (\n",
    "            Color.average(\n",
    "                [\n",
    "                    Color.interpolate([\"white\", \"blue\"], space=\"hsv\")((sum(_ == \"C\" for _ in diff) / len(diff)) ** 0.2),\n",
    "                    Color.interpolate(\n",
    "                        [\"white\", \"red\"],\n",
    "                    )((sum(_ == \"R\" for _ in diff) / len(diff)) ** 0.2),\n",
    "                ],\n",
    "                space=\"hsv\",\n",
    "            )\n",
    "            .convert(\"srgb\")\n",
    "            .to_string(hex=True)\n",
    "        )\n",
    "\n",
    "    v.add_label(\n",
    "        labels,\n",
    "        name=\"diff\",\n",
    "        colormap={int(k): diff_to_color(v) for k, v in diffs.items()},\n",
    "    )\n",
    "    return diffs, v\n",
    "\n",
    "\n",
    "diffs, v = multi_diff(\"20060522_46266_0100_PP\", Bio.RED_LESIONS)\n",
    "v"
   ]
  },
  {
   "cell_type": "code",
   "execution_count": 13,
   "metadata": {},
   "outputs": [
    {
     "data": {
      "text/plain": [
       "({2, 3, 4, 5, 6},\n",
       " {7, 8},\n",
       " {1},\n",
       " {9,\n",
       "  10,\n",
       "  11,\n",
       "  12,\n",
       "  13,\n",
       "  14,\n",
       "  15,\n",
       "  16,\n",
       "  17,\n",
       "  18,\n",
       "  19,\n",
       "  20,\n",
       "  21,\n",
       "  22,\n",
       "  23,\n",
       "  24,\n",
       "  25,\n",
       "  26,\n",
       "  27,\n",
       "  28,\n",
       "  29})"
      ]
     },
     "execution_count": 13,
     "metadata": {},
     "output_type": "execute_result"
    }
   ],
   "source": [
    "from variability_study_utils import regions_diff\n",
    "\n",
    "s = new_annotations[2][0]\n",
    "_, r, c, k, a = regions_diff(\n",
    "    s.read_biomarker(Bio.RED_LESIONS, pre_annotation=True),\n",
    "    s.read_biomarker(Bio.RED_LESIONS, pre_annotation=False),\n",
    "    change_max_iou=0.25,\n",
    ")\n",
    "\n",
    "k, c, r, a"
   ]
  },
  {
   "cell_type": "code",
   "execution_count": 14,
   "metadata": {},
   "outputs": [
    {
     "name": "stdout",
     "output_type": "stream",
     "text": [
      "BiomarkerField.MICROANEURYSMS\n",
      "     K  C  R  A     \n",
      "K  199  0  1  0    0\n",
      "C   35  0  0  0    0\n",
      "R  142  0  4  0    0\n",
      "A    0  0  0  0  144\n",
      "     0  0  0  0    0\n",
      "\n",
      "\n",
      "     K  C  R  A     \n",
      "K  199  1  0  0    0\n",
      "C   34  1  0  0    0\n",
      "R  137  0  9  0    0\n",
      "A    0  0  0  1  143\n",
      "     0  0  0  0    0\n",
      "\n",
      "\n",
      "BiomarkerField.HEMORRHAGES\n",
      "    K  C  R  A    \n",
      "K  12  0  0  0   0\n",
      "C   2  1  0  0   0\n",
      "R  26  0  6  0   0\n",
      "A   0  0  0  0  24\n",
      "    0  0  0  0   0\n",
      "\n",
      "\n",
      "    K  C  R  A    \n",
      "K  12  0  0  0   0\n",
      "C   3  0  0  0   0\n",
      "R  29  0  3  0   0\n",
      "A   0  0  0  0  24\n",
      "    0  0  0  0   0\n",
      "\n",
      "\n",
      "BiomarkerField.EXUDATES\n",
      "     K  C  R  A    \n",
      "K  131  0  0  0   0\n",
      "C   15  0  0  0   0\n",
      "R   35  0  1  0   0\n",
      "A    0  0  0  7  59\n",
      "     0  0  0  7   0\n",
      "\n",
      "\n",
      "     K  C   R  A    \n",
      "K  130  1   0  0   0\n",
      "C   15  0   0  0   0\n",
      "R   25  0  11  0   0\n",
      "A    0  0   0  0  66\n",
      "     0  0   0  0   7\n",
      "\n",
      "\n",
      "BiomarkerField.COTTON_WOOL_SPOTS\n",
      "   K  C  R  A    \n",
      "K  2  0  3  0   0\n",
      "C  1  0  1  0   0\n",
      "R  1  0  6  0   0\n",
      "A  0  0  0  0  10\n",
      "   0  0  0  0   0\n",
      "\n",
      "\n",
      "   K  C  R  A    \n",
      "K  2  0  3  0   0\n",
      "C  0  0  2  0   0\n",
      "R  4  0  3  0   0\n",
      "A  0  0  0  0  10\n",
      "   0  0  0  0   0\n",
      "\n",
      "\n",
      "BiomarkerField.RED_LESIONS\n",
      "     K  C  R  A     \n",
      "K  217  0  0  0    0\n",
      "C   35  1  0  0    0\n",
      "R  135  1  5  0    0\n",
      "A    0  0  0  0  157\n",
      "     0  0  0  0    0\n",
      "\n",
      "\n",
      "     K  C  R  A     \n",
      "K  216  1  0  0    0\n",
      "C   34  1  1  0    0\n",
      "R  134  0  7  0    0\n",
      "A    0  0  0  1  156\n",
      "     0  0  0  0    0\n",
      "\n",
      "\n",
      "BiomarkerField.BRIGHT_LESIONS\n",
      "     K  C  R  A    \n",
      "K  137  0  6  0   0\n",
      "C   25  0  1  0   0\n",
      "R   23  0  4  0   0\n",
      "A    0  0  0  6  89\n",
      "     0  0  0  4   0\n",
      "\n",
      "\n",
      "     K  C   R  A    \n",
      "K  137  1   5  0   0\n",
      "C   22  0   4  0   0\n",
      "R   17  0  10  0   0\n",
      "A    0  0   0  0  95\n",
      "     0  0   0  1   3\n",
      "\n",
      "\n"
     ]
    }
   ],
   "source": [
    "def diff_conf_mat(bio, main_annotator=2):\n",
    "    cm = {\n",
    "        i: pd.DataFrame(\n",
    "            np.zeros((5, 5)),\n",
    "            index=[\"K\", \"C\", \"R\", \"A\", \"\"],\n",
    "            columns=[\"K\", \"C\", \"R\", \"A\", \"\"],\n",
    "        )\n",
    "        for i in range(len(new_annotations))\n",
    "        if i != main_annotator\n",
    "    }\n",
    "\n",
    "    for img in new_annotations[0].keys():\n",
    "        diffs, _ = multi_diff(img, bio)\n",
    "        for diff in diffs.values():\n",
    "            for second_annotator in range(len(new_annotations)):\n",
    "                if second_annotator == main_annotator:\n",
    "                    continue\n",
    "                ann1 = diff[main_annotator]\n",
    "                ann2 = diff[second_annotator]\n",
    "                cm[second_annotator].loc[ann1, ann2] += 1\n",
    "    return cm\n",
    "\n",
    "\n",
    "for bio in [\n",
    "    Bio.MICROANEURYSMS,\n",
    "    Bio.HEMORRHAGES,\n",
    "    Bio.EXUDATES,\n",
    "    Bio.COTTON_WOOL_SPOTS,\n",
    "    Bio.RED_LESIONS,\n",
    "    Bio.BRIGHT_LESIONS,\n",
    "]:\n",
    "    print(bio)\n",
    "    cms = diff_conf_mat(bio)\n",
    "    for i, cm in cms.items():\n",
    "        print(cm.astype(int))\n",
    "        print(\"\\n\")"
   ]
  },
  {
   "cell_type": "markdown",
   "metadata": {},
   "source": [
    "## Registration check"
   ]
  },
  {
   "cell_type": "code",
   "execution_count": 16,
   "metadata": {},
   "outputs": [
    {
     "name": "stderr",
     "output_type": "stream",
     "text": [
      "  0%|          | 0/16 [00:00<?, ?it/s]"
     ]
    },
    {
     "name": "stderr",
     "output_type": "stream",
     "text": [
      "  6%|▋         | 1/16 [00:06<01:37,  6.51s/it]"
     ]
    },
    {
     "name": "stdout",
     "output_type": "stream",
     "text": [
      "Metric: -0.0896235992962801\n"
     ]
    },
    {
     "name": "stderr",
     "output_type": "stream",
     "text": [
      " 12%|█▎        | 2/16 [00:09<01:03,  4.55s/it]"
     ]
    },
    {
     "name": "stdout",
     "output_type": "stream",
     "text": [
      "Metric: -0.26418054339890923\n"
     ]
    },
    {
     "name": "stderr",
     "output_type": "stream",
     "text": [
      " 19%|█▉        | 3/16 [00:14<01:00,  4.64s/it]"
     ]
    },
    {
     "name": "stdout",
     "output_type": "stream",
     "text": [
      "Metric: -0.33645836048418487\n"
     ]
    },
    {
     "name": "stderr",
     "output_type": "stream",
     "text": [
      " 25%|██▌       | 4/16 [00:18<00:53,  4.43s/it]"
     ]
    },
    {
     "name": "stdout",
     "output_type": "stream",
     "text": [
      "Metric: -0.613143262761424\n"
     ]
    },
    {
     "name": "stderr",
     "output_type": "stream",
     "text": [
      " 31%|███▏      | 5/16 [00:22<00:48,  4.42s/it]"
     ]
    },
    {
     "name": "stdout",
     "output_type": "stream",
     "text": [
      "Metric: -3.573275582742725e-08\n"
     ]
    },
    {
     "name": "stderr",
     "output_type": "stream",
     "text": [
      " 38%|███▊      | 6/16 [00:25<00:37,  3.72s/it]"
     ]
    },
    {
     "name": "stdout",
     "output_type": "stream",
     "text": [
      "Metric: -0.2585257034483554\n"
     ]
    },
    {
     "name": "stderr",
     "output_type": "stream",
     "text": [
      " 44%|████▍     | 7/16 [00:27<00:28,  3.13s/it]"
     ]
    },
    {
     "name": "stdout",
     "output_type": "stream",
     "text": [
      "Metric: -0.1171242104911314\n"
     ]
    },
    {
     "name": "stderr",
     "output_type": "stream",
     "text": [
      " 50%|█████     | 8/16 [00:29<00:22,  2.76s/it]"
     ]
    },
    {
     "name": "stdout",
     "output_type": "stream",
     "text": [
      "Metric: -0.2497431600654953\n"
     ]
    },
    {
     "name": "stderr",
     "output_type": "stream",
     "text": [
      " 56%|█████▋    | 9/16 [00:32<00:21,  3.06s/it]"
     ]
    },
    {
     "name": "stdout",
     "output_type": "stream",
     "text": [
      "Metric: -0.3968836833415846\n"
     ]
    },
    {
     "name": "stderr",
     "output_type": "stream",
     "text": [
      " 62%|██████▎   | 10/16 [00:41<00:28,  4.73s/it]"
     ]
    },
    {
     "name": "stdout",
     "output_type": "stream",
     "text": [
      "Metric: -0.5172267259033478\n"
     ]
    },
    {
     "name": "stderr",
     "output_type": "stream",
     "text": [
      " 69%|██████▉   | 11/16 [00:45<00:22,  4.45s/it]"
     ]
    },
    {
     "name": "stdout",
     "output_type": "stream",
     "text": [
      "Metric: -0.4991236972989083\n"
     ]
    },
    {
     "name": "stderr",
     "output_type": "stream",
     "text": [
      " 75%|███████▌  | 12/16 [00:50<00:18,  4.64s/it]"
     ]
    },
    {
     "name": "stdout",
     "output_type": "stream",
     "text": [
      "Metric: -0.47321190757957127\n"
     ]
    },
    {
     "name": "stderr",
     "output_type": "stream",
     "text": [
      " 81%|████████▏ | 13/16 [00:53<00:12,  4.08s/it]"
     ]
    },
    {
     "name": "stdout",
     "output_type": "stream",
     "text": [
      "Metric: -0.2072465727050519\n"
     ]
    },
    {
     "name": "stderr",
     "output_type": "stream",
     "text": [
      " 88%|████████▊ | 14/16 [00:55<00:06,  3.45s/it]"
     ]
    },
    {
     "name": "stdout",
     "output_type": "stream",
     "text": [
      "Metric: -0.6371919800404285\n"
     ]
    },
    {
     "name": "stderr",
     "output_type": "stream",
     "text": [
      " 94%|█████████▍| 15/16 [00:58<00:03,  3.48s/it]"
     ]
    },
    {
     "name": "stdout",
     "output_type": "stream",
     "text": [
      "Metric: -0.40503727342049367\n"
     ]
    },
    {
     "name": "stderr",
     "output_type": "stream",
     "text": [
      "100%|██████████| 16/16 [01:05<00:00,  4.07s/it]"
     ]
    },
    {
     "name": "stdout",
     "output_type": "stream",
     "text": [
      "Metric: -0.6392704079324014\n"
     ]
    },
    {
     "name": "stderr",
     "output_type": "stream",
     "text": [
      "\n"
     ]
    }
   ],
   "source": [
    "import SimpleITK as sitk\n",
    "from maples_dr.utilities import Rect, Point\n",
    "from tqdm import tqdm\n",
    "\n",
    "R = sitk.ImageRegistrationMethod()\n",
    "R.SetMetricAsCorrelation()\n",
    "R.SetInterpolator(sitk.sitkLinear)\n",
    "R.SetOptimizerAsGradientDescent(learningRate=1.0, numberOfIterations=100, estimateLearningRate=R.EachIteration)\n",
    "R.SetOptimizerScalesFromPhysicalShift()\n",
    "\n",
    "\n",
    "def register(full_img, cropped_img):\n",
    "    sitk_full = sitk.GetImageFromArray(full_img)\n",
    "    sitk_cropped = sitk.GetImageFromArray(cropped_img)\n",
    "    h, w = full_img.shape[:2]\n",
    "    # Register the patch to the stitched image\n",
    "    transform = sitk.AffineTransform(2)\n",
    "\n",
    "    # iniTransform.SetAngle(0)\n",
    "    R.SetInitialTransform(transform)\n",
    "\n",
    "    transform = R.Execute(sitk_full, sitk_cropped)\n",
    "    metric = R.GetMetricValue()\n",
    "    print(f\"Metric: {metric}\")\n",
    "\n",
    "    return Rect.from_points(\n",
    "        *Point(*transform.GetInverse().TransformPoint((0, 0))[::-1]).to_int(),\n",
    "        *Point(*transform.GetInverse().TransformPoint((1500, 1500))[::-1]).to_int(),\n",
    "    )\n",
    "\n",
    "\n",
    "rois = {}\n",
    "\n",
    "for sample in tqdm(new_annotations[2]):\n",
    "    full_img = sample.read_biomarker(\"RedLesions\", pre_annotation=True).astype(np.float32)\n",
    "    cropped_img = sample.read_biomarker(\"RedLesions\").astype(np.float32)\n",
    "    roi = register(full_img, cropped_img)\n",
    "    rois[sample.name] = roi"
   ]
  },
  {
   "cell_type": "code",
   "execution_count": 17,
   "metadata": {},
   "outputs": [
    {
     "data": {
      "text/plain": [
       "{'20060522_46266_0100_PP': Rect(y=-7, x=-7, h=1513, w=1514),\n",
       " '20060412_52668_0200_PP': Rect(y=-3, x=-5, h=1507, w=1509),\n",
       " '20060523_49010_0100_PP': Rect(y=-2, x=-2, h=1508, w=1509),\n",
       " '20060411_58221_0200_PP': Rect(y=-4, x=-4, h=1509, w=1509),\n",
       " '20051020_62461_0100_PP': Rect(y=0, x=2, h=1524, w=1527),\n",
       " '20051202_51677_0400_PP': Rect(y=0, x=0, h=1504, w=1502),\n",
       " '20051116_44816_0400_PP': Rect(y=-1, x=-1, h=1500, w=1499),\n",
       " '20060412_59400_0200_PP': Rect(y=0, x=0, h=1501, w=1501),\n",
       " '20060412_61000_0200_PP': Rect(y=-6, x=-4, h=1508, w=1509),\n",
       " '20060412_60895_0200_PP': Rect(y=-6, x=-7, h=1513, w=1512),\n",
       " '20051202_51488_0400_PP': Rect(y=-3, x=-1, h=1507, w=1505),\n",
       " '20060412_59037_0200_PP': Rect(y=-7, x=-4, h=1512, w=1507),\n",
       " '20060410_43675_0200_PP': Rect(y=-1, x=-1, h=1504, w=1505),\n",
       " '20060410_40146_0200_PP': Rect(y=1, x=0, h=1502, w=1500),\n",
       " '20060412_52978_0200_PP': Rect(y=-2, x=0, h=1503, w=1504),\n",
       " '20051021_40074_0100_PP': Rect(y=-6, x=-6, h=1512, w=1514)}"
      ]
     },
     "execution_count": 17,
     "metadata": {},
     "output_type": "execute_result"
    }
   ],
   "source": [
    "rois"
   ]
  }
 ],
 "metadata": {
  "kernelspec": {
   "display_name": "nnet",
   "language": "python",
   "name": "python3"
  },
  "language_info": {
   "codemirror_mode": {
    "name": "ipython",
    "version": 3
   },
   "file_extension": ".py",
   "mimetype": "text/x-python",
   "name": "python",
   "nbconvert_exporter": "python",
   "pygments_lexer": "ipython3",
   "version": "3.10.11"
  }
 },
 "nbformat": 4,
 "nbformat_minor": 2
}
