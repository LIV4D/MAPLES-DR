{
 "cells": [
  {
   "cell_type": "markdown",
   "metadata": {},
   "source": [
    "MAPLES-DR Intervariability Study\n",
    "================================"
   ]
  },
  {
   "cell_type": "code",
   "execution_count": 1,
   "metadata": {},
   "outputs": [
    {
     "data": {
      "text/html": [
       "<pre style=\"white-space:pre;overflow-x:auto;line-height:normal;font-family:Menlo,'DejaVu Sans Mono',consolas,'Courier New',monospace\"><span style=\"font-weight: bold\">Thanks for using MAPLES-DR!</span>\n",
       "  When using this dataset in academic works,\n",
       "  please cite: <a href=\"https://arxiv.org/abs/2402.04258\" target=\"_blank\"><span style=\"color: #008080; text-decoration-color: #008080; text-decoration: underline\">https://arxiv.org/abs/2402.04258</span></a>\n",
       "</pre>\n"
      ],
      "text/plain": [
       "\u001b[1mThanks for using MAPLES-DR!\u001b[0m\n",
       "  When using this dataset in academic works,\n",
       "  please cite: \u001b]8;id=807725;https://arxiv.org/abs/2402.04258\u001b\\\u001b[4;36mhttps://arxiv.org/abs/2402.04258\u001b[0m\u001b]8;;\u001b\\\n"
      ]
     },
     "metadata": {},
     "output_type": "display_data"
    },
    {
     "data": {
      "application/vnd.jupyter.widget-view+json": {
       "model_id": "b609a35d47894010b2548576caab551b",
       "version_major": 2,
       "version_minor": 0
      },
      "text/plain": [
       "HTML(value='<style>\\n    .cell-output-ipywidget-background {\\n    background-color: transparent !important;\\n …"
      ]
     },
     "metadata": {},
     "output_type": "display_data"
    }
   ],
   "source": [
    "# Import maples-dr\n",
    "import maples_dr\n",
    "import numpy as np\n",
    "import pandas as pd\n",
    "\n",
    "# Import visualization tools\n",
    "from ipywidgets import HTML, Dropdown, GridBox, Layout\n",
    "from jppype import imshow, sync_views, vscode_theme\n",
    "from jppype.utilities.geometric import Point\n",
    "from maples_dr.dataset import BiomarkerField as Biomarkers\n",
    "from maples_dr.dataset import FundusField as Fundus\n",
    "from maples_dr.quick_api import GLOBAL_LOADER\n",
    "from sklearn.metrics import cohen_kappa_score\n",
    "\n",
    "# Import utilities\n",
    "from variability_study_utils import centroid, connected_components_f1\n",
    "\n",
    "vscode_theme()"
   ]
  },
  {
   "cell_type": "code",
   "execution_count": 2,
   "metadata": {},
   "outputs": [],
   "source": [
    "maples_dr.configure(\n",
    "    maples_dr_path=\"PATH/TO/MAPLES-DR/MAPLES-DR_v2.zip\",\n",
    "    messidor_path=\"PATH/TO/MESSIDOR/\",\n",
    "    image_format=\"bgr\",\n",
    "    preprocessing=\"clahe\",\n",
    ")\n",
    "maples_dataset = GLOBAL_LOADER.load_dataset(\"all_with_duplicates\")"
   ]
  },
  {
   "cell_type": "markdown",
   "metadata": {},
   "source": [
    "## Variability study on the duplicated images"
   ]
  },
  {
   "cell_type": "code",
   "execution_count": 3,
   "metadata": {},
   "outputs": [],
   "source": [
    "duplicates = list(GLOBAL_LOADER.maples_dr_infos[\"duplicates\"].items())"
   ]
  },
  {
   "cell_type": "markdown",
   "metadata": {},
   "source": [
    "#### Qualitative study"
   ]
  },
  {
   "cell_type": "code",
   "execution_count": 4,
   "metadata": {},
   "outputs": [],
   "source": [
    "ID = 0\n",
    "sample1, sample2 = [maples_dataset[_] for _ in duplicates[ID]]"
   ]
  },
  {
   "cell_type": "code",
   "execution_count": 5,
   "metadata": {},
   "outputs": [
    {
     "data": {
      "application/vnd.jupyter.widget-view+json": {
       "model_id": "8f44bfa907e24436af07c16970453c26",
       "version_major": 2,
       "version_minor": 0
      },
      "text/plain": [
       "GridBox(children=(Dropdown(description='Biomarker:', index=4, layout=Layout(width='auto'), options=('opticCup'…"
      ]
     },
     "execution_count": 5,
     "metadata": {},
     "output_type": "execute_result"
    }
   ],
   "source": [
    "selectors = [\n",
    "    Dropdown(\n",
    "        options=[field.value for field in Biomarkers],\n",
    "        description=\"Biomarker:\",\n",
    "        layout=Layout(width=\"auto\"),\n",
    "        value=(\"brightLesions\", \"redLesions\", \"vessels\")[i],\n",
    "    )\n",
    "    for i in range(3)\n",
    "]\n",
    "views = [imshow(sample1[\"fundus\"]) for i in range(3)]\n",
    "\n",
    "for i in range(3):\n",
    "\n",
    "    def set_label(biomarker, i=i):\n",
    "        if isinstance(biomarker, dict):\n",
    "            biomarker = biomarker[\"new\"]\n",
    "        views[i].add_label(\n",
    "            sample1[biomarker] + 2 * sample2[biomarker],\n",
    "            colormap={1: \"#a56fb9\", 2: \"#7aa8ba\", 3: \"white\"},\n",
    "            name=\"biomarker\",\n",
    "        )\n",
    "\n",
    "    selectors[i].observe(set_label, \"value\")\n",
    "\n",
    "    set_label(selectors[i].value)\n",
    "\n",
    "sync_views(*views)\n",
    "\n",
    "GridBox(\n",
    "    selectors + views,\n",
    "    layout=Layout(grid_template_columns=\"repeat(3, 1fr)\", height=\"600px\"),\n",
    ")"
   ]
  },
  {
   "cell_type": "code",
   "execution_count": 6,
   "metadata": {},
   "outputs": [
    {
     "data": {
      "application/vnd.jupyter.widget-view+json": {
       "model_id": "17ef188131934bada2b49b655ee0d73b",
       "version_major": 2,
       "version_minor": 0
      },
      "text/plain": [
       "GridBox(children=(Dropdown(description='Biomarker:', index=3, layout=Layout(width='auto'), options=('opticCup'…"
      ]
     },
     "execution_count": 6,
     "metadata": {},
     "output_type": "execute_result"
    }
   ],
   "source": [
    "selector = Dropdown(\n",
    "    options=[field.value for field in Biomarkers],\n",
    "    description=\"Biomarker:\",\n",
    "    layout=Layout(width=\"auto\"),\n",
    "    value=(\"brightLesions\", \"redLesions\", \"vessels\")[i],\n",
    ")\n",
    "\n",
    "duplicates_samples = [[maples_dataset[_[0]], maples_dataset[_[1]]] for _ in duplicates]\n",
    "(s1a, s1b), (s2a, s2b) = duplicates_samples\n",
    "view1 = imshow(s1a[\"fundus\"])\n",
    "view2 = imshow(s1a[\"fundus\"])\n",
    "\n",
    "\n",
    "def set_label(biomarker):\n",
    "    if isinstance(biomarker, dict):\n",
    "        biomarker = biomarker[\"new\"]\n",
    "    view1.add_label(\n",
    "        s1a[biomarker] + 2 * s1b[biomarker],\n",
    "        colormap={1: \"#a56fb9\", 2: \"#7aa8ba\", 3: \"white\"},\n",
    "        name=\"biomarker\",\n",
    "    )\n",
    "    view2.add_label(\n",
    "        s1a.read_biomarker(biomarker, pre_annotation=True) + 2 * s1b.read_biomarker(biomarker, pre_annotation=True),\n",
    "        colormap={1: \"#a56fb9\", 2: \"#7aa8ba\", 3: \"white\"},\n",
    "        name=\"biomarker\",\n",
    "    )\n",
    "\n",
    "\n",
    "selector.observe(set_label, \"value\")\n",
    "\n",
    "set_label(selectors[i].value)\n",
    "\n",
    "sync_views(view1, view2)\n",
    "\n",
    "GridBox(\n",
    "    [selector, HTML(), view1, view2],\n",
    "    layout=Layout(grid_template_columns=\"repeat(2, 1fr)\", grid_template_rows=\"auto 600px\"),\n",
    ")"
   ]
  },
  {
   "cell_type": "code",
   "execution_count": 7,
   "metadata": {},
   "outputs": [
    {
     "data": {
      "application/vnd.jupyter.widget-view+json": {
       "model_id": "5953be37183542fcbe23a29a34722636",
       "version_major": 2,
       "version_minor": 0
      },
      "text/plain": [
       "GridBox(children=(Dropdown(description='Biomarker:', index=3, layout=Layout(width='auto'), options=('opticCup'…"
      ]
     },
     "execution_count": 7,
     "metadata": {},
     "output_type": "execute_result"
    }
   ],
   "source": [
    "selector = Dropdown(\n",
    "    options=[field.value for field in Biomarkers],\n",
    "    description=\"Biomarker:\",\n",
    "    layout=Layout(width=\"auto\"),\n",
    "    value=(\"brightLesions\", \"redLesions\", \"vessels\")[i],\n",
    ")\n",
    "\n",
    "duplicates_samples = [[maples_dataset[_[0]], maples_dataset[_[1]]] for _ in duplicates]\n",
    "(s1a, s1b), (s2a, s2b) = duplicates_samples\n",
    "view1b = imshow(s2a[\"fundus\"])\n",
    "view2b = imshow(s2a[\"fundus\"])\n",
    "\n",
    "\n",
    "def set_label(biomarker):\n",
    "    if isinstance(biomarker, dict):\n",
    "        biomarker = biomarker[\"new\"]\n",
    "    view1b.add_label(\n",
    "        s2a[biomarker] + 2 * s2b[biomarker],\n",
    "        colormap={1: \"#a56fb9\", 2: \"#7aa8ba\", 3: \"white\"},\n",
    "        name=\"biomarker\",\n",
    "    )\n",
    "    view2b.add_label(\n",
    "        s2a.read_biomarker(biomarker, pre_annotation=True) + 2 * s2b.read_biomarker(biomarker, pre_annotation=True),\n",
    "        colormap={1: \"#a56fb9\", 2: \"#7aa8ba\", 3: \"white\"},\n",
    "        name=\"biomarker\",\n",
    "    )\n",
    "\n",
    "\n",
    "selector.observe(set_label, \"value\")\n",
    "\n",
    "set_label(selectors[i].value)\n",
    "\n",
    "sync_views(view1b, view2b)\n",
    "\n",
    "GridBox(\n",
    "    [selector, HTML(), view1b, view2b],\n",
    "    layout=Layout(grid_template_columns=\"repeat(2, 1fr)\", grid_template_rows=\"auto 600px\"),\n",
    ")"
   ]
  },
  {
   "cell_type": "markdown",
   "metadata": {},
   "source": [
    "### Quantitative"
   ]
  },
  {
   "cell_type": "code",
   "execution_count": 8,
   "metadata": {},
   "outputs": [
    {
     "name": "stderr",
     "output_type": "stream",
     "text": [
      "/home/gaby/These/src/Fundus/MAPLES-DR/examples/variability_study_utils.py:28: RuntimeWarning: invalid value encountered in divide\n",
      "  spe /= nb_l2\n"
     ]
    },
    {
     "data": {
      "text/html": [
       "<div>\n",
       "<style scoped>\n",
       "    .dataframe tbody tr th:only-of-type {\n",
       "        vertical-align: middle;\n",
       "    }\n",
       "\n",
       "    .dataframe tbody tr th {\n",
       "        vertical-align: top;\n",
       "    }\n",
       "\n",
       "    .dataframe thead th {\n",
       "        text-align: right;\n",
       "    }\n",
       "</style>\n",
       "<table border=\"1\" class=\"dataframe\">\n",
       "  <thead>\n",
       "    <tr style=\"text-align: right;\">\n",
       "      <th></th>\n",
       "      <th>vessels</th>\n",
       "      <th>opticCup</th>\n",
       "      <th>opticDisc</th>\n",
       "      <th>macula</th>\n",
       "      <th>redLesions</th>\n",
       "      <th>brightLesions</th>\n",
       "    </tr>\n",
       "  </thead>\n",
       "  <tbody>\n",
       "    <tr>\n",
       "      <th>kappa</th>\n",
       "      <td>0.802</td>\n",
       "      <td>0.847</td>\n",
       "      <td>0.958</td>\n",
       "      <td>0.045</td>\n",
       "      <td>0.48</td>\n",
       "      <td>0.176</td>\n",
       "    </tr>\n",
       "    <tr>\n",
       "      <th>accuracy</th>\n",
       "      <td>0.961</td>\n",
       "      <td>0.999</td>\n",
       "      <td>0.999</td>\n",
       "      <td>0.999</td>\n",
       "      <td>0.999</td>\n",
       "      <td>0.998</td>\n",
       "    </tr>\n",
       "    <tr>\n",
       "      <th>dice</th>\n",
       "      <td>0.824</td>\n",
       "      <td>0.848</td>\n",
       "      <td>0.958</td>\n",
       "      <td>0.045</td>\n",
       "      <td>0.48</td>\n",
       "      <td>0.177</td>\n",
       "    </tr>\n",
       "    <tr>\n",
       "      <th>distance</th>\n",
       "      <td></td>\n",
       "      <td>5.581</td>\n",
       "      <td>2.365</td>\n",
       "      <td>24.316</td>\n",
       "      <td></td>\n",
       "      <td></td>\n",
       "    </tr>\n",
       "    <tr>\n",
       "      <th>mean detection f1</th>\n",
       "      <td></td>\n",
       "      <td></td>\n",
       "      <td></td>\n",
       "      <td></td>\n",
       "      <td>0.616</td>\n",
       "      <td>0.083</td>\n",
       "    </tr>\n",
       "  </tbody>\n",
       "</table>\n",
       "</div>"
      ],
      "text/plain": [
       "                  vessels opticCup opticDisc  macula redLesions brightLesions\n",
       "kappa               0.802    0.847     0.958   0.045       0.48         0.176\n",
       "accuracy            0.961    0.999     0.999   0.999      0.999         0.998\n",
       "dice                0.824    0.848     0.958   0.045       0.48         0.177\n",
       "distance                     5.581     2.365  24.316                         \n",
       "mean detection f1                                         0.616         0.083"
      ]
     },
     "execution_count": 8,
     "metadata": {},
     "output_type": "execute_result"
    }
   ],
   "source": [
    "biomarkers = [\n",
    "    field.value\n",
    "    for field in (\n",
    "        Biomarkers.VESSELS,\n",
    "        Biomarkers.OPTIC_CUP,\n",
    "        Biomarkers.OPTIC_DISC,\n",
    "        Biomarkers.MACULA,\n",
    "        Biomarkers.RED_LESIONS,\n",
    "        Biomarkers.BRIGHT_LESIONS,\n",
    "    )\n",
    "]\n",
    "\n",
    "data = {}\n",
    "for bio in biomarkers:\n",
    "    sample_a = np.array([s1a[bio], s2a[bio]], dtype=bool)\n",
    "    sample_b = np.array([s1b[bio], s2b[bio]], dtype=bool)\n",
    "    kappa = cohen_kappa_score(sample_a.flatten(), sample_b.flatten(), labels=[0, 1])\n",
    "    accuracy = np.mean(sample_a == sample_b)\n",
    "    dice = 2 * np.sum(sample_a * sample_b) / (np.sum(sample_a) + np.sum(sample_b))\n",
    "    data[bio] = {\"kappa\": kappa, \"accuracy\": accuracy, \"dice\": dice}\n",
    "\n",
    "for bio in [Biomarkers.MACULA, Biomarkers.OPTIC_CUP, Biomarkers.OPTIC_DISC]:\n",
    "    d = np.mean([centroid(sa[bio]).distance(centroid(sb[bio])) for sa, sb in duplicates_samples])\n",
    "    data[bio.value][\"distance\"] = d\n",
    "\n",
    "for bio in [Biomarkers.RED_LESIONS, Biomarkers.BRIGHT_LESIONS]:\n",
    "    data[bio.value][\"mean detection f1\"] = np.nanmean(\n",
    "        [connected_components_f1(sa[bio], sb[bio]) for sa, sb in duplicates_samples]\n",
    "    )\n",
    "\n",
    "\n",
    "pd.DataFrame(data).round(3).fillna(\"\")"
   ]
  },
  {
   "cell_type": "code",
   "execution_count": 9,
   "metadata": {},
   "outputs": [
    {
     "data": {
      "text/plain": [
       "(9, 13)"
      ]
     },
     "execution_count": 9,
     "metadata": {},
     "output_type": "execute_result"
    }
   ],
   "source": [
    "from skimage.measure import label\n",
    "\n",
    "np.max(label(s2a[Biomarkers.RED_LESIONS])), np.max(label(s2b[Biomarkers.RED_LESIONS]))"
   ]
  },
  {
   "cell_type": "code",
   "execution_count": 10,
   "metadata": {},
   "outputs": [],
   "source": [
    "n = 0\n",
    "for s in maples_dataset:\n",
    "    n += s[Biomarkers.NEOVASCULARIZATION].any()"
   ]
  },
  {
   "cell_type": "code",
   "execution_count": null,
   "metadata": {},
   "outputs": [
    {
     "data": {
      "text/plain": [
       "6"
      ]
     },
     "execution_count": 11,
     "metadata": {},
     "output_type": "execute_result"
    }
   ],
   "source": []
  }
 ],
 "metadata": {
  "kernelspec": {
   "display_name": "nnet",
   "language": "python",
   "name": "python3"
  },
  "language_info": {
   "codemirror_mode": {
    "name": "ipython",
    "version": 3
   },
   "file_extension": ".py",
   "mimetype": "text/x-python",
   "name": "python",
   "nbconvert_exporter": "python",
   "pygments_lexer": "ipython3",
   "version": "3.10.11"
  }
 },
 "nbformat": 4,
 "nbformat_minor": 2
}
