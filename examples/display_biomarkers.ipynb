{
 "cells": [
  {
   "cell_type": "markdown",
   "metadata": {},
   "source": [
    "MAPLES-DR Visualisation Example\n",
    "==============================="
   ]
  },
  {
   "cell_type": "code",
   "execution_count": 1,
   "metadata": {},
   "outputs": [
    {
     "data": {
      "text/html": [
       "<pre style=\"white-space:pre;overflow-x:auto;line-height:normal;font-family:Menlo,'DejaVu Sans Mono',consolas,'Courier New',monospace\"><span style=\"font-weight: bold\">Thanks for using MAPLES-DR!</span>\n",
       "  When using this dataset in academic works,\n",
       "  please cite: <a href=\"https://arxiv.org/abs/2402.04258\" target=\"_blank\"><span style=\"color: #008080; text-decoration-color: #008080; text-decoration: underline\">https://arxiv.org/abs/2402.04258</span></a>\n",
       "</pre>\n"
      ],
      "text/plain": [
       "\u001b[1mThanks for using MAPLES-DR!\u001b[0m\n",
       "  When using this dataset in academic works,\n",
       "  please cite: \u001b]8;id=433391;https://arxiv.org/abs/2402.04258\u001b\\\u001b[4;36mhttps://arxiv.org/abs/2402.04258\u001b[0m\u001b]8;;\u001b\\\n"
      ]
     },
     "metadata": {},
     "output_type": "display_data"
    },
    {
     "data": {
      "application/vnd.jupyter.widget-view+json": {
       "model_id": "c124259a36014dfb9fe0bf48f7ef14f6",
       "version_major": 2,
       "version_minor": 0
      },
      "text/plain": [
       "HTML(value='<style>\\n    .cell-output-ipywidget-background {\\n    background-color: transparent !important;\\n …"
      ]
     },
     "metadata": {},
     "output_type": "display_data"
    }
   ],
   "source": [
    "# Import maples-dr\n",
    "import maples_dr\n",
    "\n",
    "# Import visualization tools\n",
    "from ipywidgets import HTML, GridBox, Layout\n",
    "from jppype import imshow, sync_views, vscode_theme\n",
    "\n",
    "vscode_theme()"
   ]
  },
  {
   "cell_type": "markdown",
   "metadata": {},
   "source": [
    "## Configure Maples-DR"
   ]
  },
  {
   "cell_type": "markdown",
   "metadata": {},
   "source": [
    "Configure local path, resolution and image format."
   ]
  },
  {
   "cell_type": "code",
   "execution_count": 2,
   "metadata": {},
   "outputs": [],
   "source": [
    "maples_dr.configure(\n",
    "    maples_dr_path=\"PATH/TO/MAPLES-DR/AdditionalData/\",\n",
    "    maples_dr_diagnosis_path=\"PATH/TO/MAPLES-DR/diagnosis.xls\",\n",
    "    messidor_path=\"PATH/TO/MESSIDOR/\",\n",
    "    image_format=\"bgr\",\n",
    ")"
   ]
  },
  {
   "cell_type": "markdown",
   "metadata": {},
   "source": [
    "## Load sample"
   ]
  },
  {
   "cell_type": "markdown",
   "metadata": {},
   "source": [
    "Load the train set in memory."
   ]
  },
  {
   "cell_type": "code",
   "execution_count": 3,
   "metadata": {},
   "outputs": [],
   "source": [
    "dataset = maples_dr.load_train_set()"
   ]
  },
  {
   "cell_type": "markdown",
   "metadata": {},
   "source": [
    "Read the first image and its corresponding labels."
   ]
  },
  {
   "cell_type": "code",
   "execution_count": 4,
   "metadata": {},
   "outputs": [],
   "source": [
    "sample = dataset[0]"
   ]
  },
  {
   "cell_type": "markdown",
   "metadata": {},
   "source": [
    "## Show sample image and labels."
   ]
  },
  {
   "cell_type": "markdown",
   "metadata": {},
   "source": [
    "Display the anatomical biomarkers using `jppype.View2D` widget."
   ]
  },
  {
   "cell_type": "code",
   "execution_count": 9,
   "metadata": {},
   "outputs": [
    {
     "data": {
      "application/vnd.jupyter.widget-view+json": {
       "model_id": "eb366ccea7d943169dbfe6fc12eec508",
       "version_major": 2,
       "version_minor": 0
      },
      "text/plain": [
       "GridBox(children=(HTML(value='<h2 style=\"color: var(--jppype-foreground-color); font-size: 20px; text-align: c…"
      ]
     },
     "execution_count": 9,
     "metadata": {},
     "output_type": "execute_result"
    }
   ],
   "source": [
    "def header(title, legend=None):\n",
    "    style = \"color: var(--jppype-foreground-color); font-size: 20px; text-align: center;\"\n",
    "    header = f'<h2 style=\"{style}\">{title}</h2>'\n",
    "    if legend is not None:\n",
    "        header += '<p style=\"color: var(--jppype-foreground-color); font-size: 14px; text-align: center;\">'\n",
    "        for key, value in legend.items():\n",
    "            header += (\n",
    "                f'<span style=\"background-color: {value}; width: 14px; height: 14px;'\n",
    "                ' border-radius: 7px; display: inline-block; margin-left: 20px\"></span>'\n",
    "                f\" {key} \"\n",
    "            )\n",
    "        header += \"</p>\"\n",
    "    return HTML(header)\n",
    "\n",
    "\n",
    "def add_label(view, label, name, colormap=None):\n",
    "    color = None if colormap is None or name not in colormap else colormap[name]\n",
    "    view.add_label(label, name, opacity=0.8, colormap=color)\n",
    "\n",
    "\n",
    "legend = {\"Optic Disc\": \"#767fab\", \"Optic Cup\": \"#7aa8ba\", \"Macula\": \"#640070\", \"Vessels\": \"#a56fb9\"}\n",
    "h1 = header(\"Anatomical Structures\", legend)\n",
    "v1 = imshow(sample[\"fundus\"])\n",
    "add_label(v1, sample[\"vessels\"], \"Vessels\", legend)\n",
    "add_label(v1, sample[\"optic_disc\"], \"Optic Disc\", legend)\n",
    "add_label(v1, sample[\"optic_cup\"], \"Optic Cup\", legend)\n",
    "add_label(v1, sample[\"macula\"], \"Macula\", legend)\n",
    "\n",
    "legend = {\"Exudates\": \"#334f7b\", \"Cotton Wool Spots\": \"#7aa8ba\", \"Drusens\": \"#4c859b\", \"Bright Uncertains\": \"#fff\"}\n",
    "h2 = header(\"Red Lesions\", legend)\n",
    "v2 = imshow(sample[\"fundus\"])\n",
    "add_label(v2, sample[\"bright_uncertains\"], \"Bright Uncertains\", legend)\n",
    "add_label(v2, sample[\"cotton_wool_spots\"], \"Cotton Wool Spots\", legend)\n",
    "add_label(v2, sample[\"exudates\"], \"Exudates\", legend)\n",
    "add_label(v2, sample[\"drusens\"], \"Drusens\", legend)\n",
    "\n",
    "legend = {\"Microaneurysms\": \"#490054\", \"Hemorrhages\": \"#783986\", \"Neo-vessels\": \"#a893b6\", \"Red Uncertains\": \"#fff\"}\n",
    "h3 = header(\"Bright Lesions\", legend)\n",
    "v3 = imshow(sample[\"fundus\"])\n",
    "add_label(v3, sample[\"neovascularization\"], \"Neo-vessels\", legend)\n",
    "add_label(v3, sample[\"red_uncertains\"], \"Red Uncertains\", legend)\n",
    "add_label(v3, sample[\"hemorrhages\"], \"Hemorrhages\", legend)\n",
    "add_label(v3, sample[\"microaneurysms\"], \"Microaneurysms\", legend)\n",
    "\n",
    "sync_views(v1, v2, v3)\n",
    "\n",
    "GridBox([h1, h2, h3, v1, v2, v3], layout=Layout(grid_template_columns=\"repeat(3, 1fr)\"))"
   ]
  }
 ],
 "metadata": {
  "kernelspec": {
   "display_name": "Python 3 (ipykernel)",
   "language": "python",
   "name": "python3"
  },
  "language_info": {
   "codemirror_mode": {
    "name": "ipython",
    "version": 3
   },
   "file_extension": ".py",
   "mimetype": "text/x-python",
   "name": "python",
   "nbconvert_exporter": "python",
   "pygments_lexer": "ipython3",
   "version": "3.10.11"
  }
 },
 "nbformat": 4,
 "nbformat_minor": 4
}
