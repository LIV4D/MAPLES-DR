{
 "cells": [
  {
   "cell_type": "markdown",
   "id": "f8a488dd-f4a2-4acb-a029-2b7312475a82",
   "metadata": {},
   "source": [
    "<p style='\n",
    "  color: var(--vscode-foreground, #3b4045); \n",
    "  text-align: center;\n",
    "  font-weight: bold;\n",
    "  font-family: -apple-system,BlinkMacSystemFont, \"Segoe UI Adjusted\",\"Segoe UI\",\"Liberation Sans\",sans-serif;     font-size: 2.07692308rem; '> \n",
    "    Clean and Export MAPLES-DR Biomarkers Maps\n",
    "</p>\n"
   ]
  },
  {
   "cell_type": "markdown",
   "id": "3fb9c5e3",
   "metadata": {},
   "source": [
    "This file is used to process the biomarkers map labelled by clinicians to produce the archives of MAPLES-DR."
   ]
  },
  {
   "cell_type": "markdown",
   "id": "d4e7ad7b-e49d-4a28-87c2-ea286e55d791",
   "metadata": {},
   "source": [
    "#### Imports\n"
   ]
  },
  {
   "cell_type": "code",
   "execution_count": 1,
   "id": "96d37d09-6ae5-4ee4-9c5b-791c620fdf41",
   "metadata": {},
   "outputs": [
    {
     "data": {
      "text/html": [
       "<pre style=\"white-space:pre;overflow-x:auto;line-height:normal;font-family:Menlo,'DejaVu Sans Mono',consolas,'Courier New',monospace\"><span style=\"font-weight: bold\">Thanks for using MAPLES-DR!</span>\n",
       "  When using this dataset in academic works,\n",
       "  please cite: <a href=\"https://arxiv.org/abs/2402.04258\" target=\"_blank\"><span style=\"color: #008080; text-decoration-color: #008080; text-decoration: underline\">https://arxiv.org/abs/2402.04258</span></a>\n",
       "</pre>\n"
      ],
      "text/plain": [
       "\u001b[1mThanks for using MAPLES-DR!\u001b[0m\n",
       "  When using this dataset in academic works,\n",
       "  please cite: \u001b]8;id=251004;https://arxiv.org/abs/2402.04258\u001b\\\u001b[4;36mhttps://arxiv.org/abs/2402.04258\u001b[0m\u001b]8;;\u001b\\\n"
      ]
     },
     "metadata": {},
     "output_type": "display_data"
    }
   ],
   "source": [
    "import tempfile\n",
    "from pathlib import Path\n",
    "from shutil import rmtree\n",
    "from zipfile import ZipFile\n",
    "\n",
    "import cv2\n",
    "import numpy as np\n",
    "import pandas as pd\n",
    "import skimage.morphology as skmorph\n",
    "import yaml\n",
    "from maples_dr.utilities import Point, Rect\n",
    "from skimage import measure as skmeasure\n",
    "from tqdm.auto import tqdm\n",
    "\n",
    "tqdm.pandas()"
   ]
  },
  {
   "cell_type": "markdown",
   "id": "d3dcfe5a-fae4-43cd-89dc-5f0ca694a216",
   "metadata": {},
   "source": [
    "## Paths\n"
   ]
  },
  {
   "cell_type": "markdown",
   "id": "95cadcc3-e5ac-484c-82d1-73bd43aeedb3",
   "metadata": {},
   "source": [
    "Path to the source folder of MAPLES-DR segmentation maps\n"
   ]
  },
  {
   "cell_type": "code",
   "execution_count": 2,
   "id": "8bf192da-b14b-49ea-a6d8-6a6d92021c67",
   "metadata": {},
   "outputs": [],
   "source": [
    "ANNOTATIONS_PATH = Path(\"/home/gaby/These/Data/Fundus/MESSIDOR1500/MAPLES-DR/AnnotationsWIP/10_merged/\")"
   ]
  },
  {
   "cell_type": "markdown",
   "id": "83f6c726-3795-49b0-b932-977f6c46248d",
   "metadata": {},
   "source": [
    "Path to MAPLES-DR fundus images (to compute the mask).\n"
   ]
  },
  {
   "cell_type": "code",
   "execution_count": 3,
   "id": "9a1d53b1-371e-486b-b881-397bf49b45a3",
   "metadata": {},
   "outputs": [],
   "source": [
    "MAPLES_IMAGES = Path(\"/home/gaby/These/Data/Fundus/MESSIDOR1500/0-images\")"
   ]
  },
  {
   "cell_type": "markdown",
   "id": "59af1733",
   "metadata": {},
   "source": [
    "Output folder for cleaned maps\n"
   ]
  },
  {
   "cell_type": "code",
   "execution_count": 4,
   "id": "bae68e3c",
   "metadata": {},
   "outputs": [],
   "source": [
    "OUTPUT_PATH = Path(\"/home/gaby/These/Data/Fundus/MESSIDOR1500/MAPLES-DR/\")\n",
    "\n",
    "MAPLES_DR_ADDITIONAL = OUTPUT_PATH / \"AdditionalData/\"\n",
    "\n",
    "MAPLES_DR_OUTPUT_PATH = Path(\"/home/gaby/These/Data/Fundus/MAPLES-DR/\")\n",
    "\n",
    "MAPLES_DR_ADDITIONAL_ZIP = MAPLES_DR_OUTPUT_PATH / \"AdditionalData.zip\"\n",
    "MAPLES_DR_ZIP = MAPLES_DR_OUTPUT_PATH / \"MAPLES-DR.zip\""
   ]
  },
  {
   "cell_type": "markdown",
   "id": "db73dcfd-b656-4b90-b278-84e9e8df1540",
   "metadata": {},
   "source": [
    "## Load images\n"
   ]
  },
  {
   "cell_type": "markdown",
   "id": "2ea9ccf4",
   "metadata": {},
   "source": [
    "Load images and biomarkers names\n"
   ]
  },
  {
   "cell_type": "code",
   "execution_count": 5,
   "id": "b603a683-e877-4593-8a2d-ea62ae4909d9",
   "metadata": {},
   "outputs": [],
   "source": [
    "with open(MAPLES_DR_ADDITIONAL / \"dataset_record.yaml\", \"r\") as f:\n",
    "    record = yaml.load(f, yaml.Loader)\n",
    "\n",
    "biomarkers = record[\"biomarkers\"]\n",
    "duplicates = list(record[\"duplicates\"].values())\n",
    "\n",
    "maples_imgs = (\n",
    "    {_: \"train\" for _ in record[\"train\"]} | {_: \"test\" for _ in record[\"test\"]} | {_: \"duplicates\" for _ in duplicates}\n",
    ")"
   ]
  },
  {
   "cell_type": "markdown",
   "id": "01a68c7e-be76-413d-b966-773ea2524588",
   "metadata": {},
   "source": [
    "## Clean Biomarkers\n"
   ]
  },
  {
   "cell_type": "code",
   "execution_count": 6,
   "id": "c866627c-c07a-4acd-9c97-c10b59f12f6d",
   "metadata": {},
   "outputs": [],
   "source": [
    "def compute_mask(img, blur_radius=5, morphological_clean=True, smoothing_radius=4):\n",
    "    img = cv2.medianBlur(img[..., 1], blur_radius * 2 - 1)\n",
    "    mask = img > 10\n",
    "\n",
    "    if morphological_clean:\n",
    "        # Remove small objects\n",
    "        mask = skmorph.remove_small_objects(mask, 5000)\n",
    "\n",
    "        # Remove holes that are not on the border\n",
    "        MASK_BORDER = np.zeros_like(mask)\n",
    "        MASK_BORDER[0, :] = 1\n",
    "        MASK_BORDER[-1, :] = 1\n",
    "        MASK_BORDER[:, 0] = 1\n",
    "        MASK_BORDER[:, -1] = 1\n",
    "        labelled_holes = skmeasure.label(mask == 0)\n",
    "        for i in range(1, labelled_holes.max() + 1):\n",
    "            hole_mask = labelled_holes == i\n",
    "            if not np.any(MASK_BORDER & hole_mask):\n",
    "                mask[hole_mask] = 1\n",
    "\n",
    "    if smoothing_radius > 0:\n",
    "        mask = (\n",
    "            cv2.GaussianBlur(\n",
    "                mask.astype(np.uint8) * 255,\n",
    "                (smoothing_radius * 6 + 1, smoothing_radius * 6 + 1),\n",
    "                smoothing_radius,\n",
    "                borderType=cv2.BORDER_CONSTANT,\n",
    "            )\n",
    "            > 200\n",
    "        )\n",
    "    return mask"
   ]
  },
  {
   "cell_type": "code",
   "execution_count": 7,
   "id": "e2b0c712",
   "metadata": {},
   "outputs": [],
   "source": [
    "def clean_biomarkers(img, mask, remove_small_objects=0, fill_small_holes=0):\n",
    "    img = img.copy()\n",
    "    img[~mask] = 0\n",
    "    if remove_small_objects:\n",
    "        img = skmorph.remove_small_objects(img, remove_small_objects)\n",
    "    if fill_small_holes:\n",
    "        img = skmorph.remove_small_holes(img, fill_small_holes)\n",
    "    return img\n",
    "\n",
    "\n",
    "biomarkers_remove_small = {\n",
    "    \"Vessels\": (100, 50),\n",
    "    \"Hemorrhages\": (100, 0),\n",
    "    \"Exudates\": (20, 0),\n",
    "    \"Microaneurysms\": (20, 0),\n",
    "    \"CottonWoolSpots\": (100, 40),\n",
    "    \"BrightUncertains\": (20, 0),\n",
    "    \"RedUncertains\": (20, 0),\n",
    "    \"Drusens\": (20, 0),\n",
    "    \"Neovascularization\": (70, 50),\n",
    "    \"OpticDisc\": (200, 300),\n",
    "    \"OpticCup\": (100, 100),\n",
    "}"
   ]
  },
  {
   "cell_type": "markdown",
   "id": "e9d1806d",
   "metadata": {},
   "source": [
    "## Generate Additional Data"
   ]
  },
  {
   "cell_type": "code",
   "execution_count": 8,
   "id": "5aed73ae-acf9-4635-b116-f1a91830a35d",
   "metadata": {},
   "outputs": [
    {
     "data": {
      "application/vnd.jupyter.widget-view+json": {
       "model_id": "807f9f3ecc05452ba8ce493281bbb614",
       "version_major": 2,
       "version_minor": 0
      },
      "text/plain": [
       "  0%|          | 0/200 [00:00<?, ?it/s]"
      ]
     },
     "metadata": {},
     "output_type": "display_data"
    }
   ],
   "source": [
    "output_images = []\n",
    "\n",
    "for biomarker in biomarkers:\n",
    "    biomarker_output_path = MAPLES_DR_ADDITIONAL / \"annotations\" / biomarker\n",
    "    rmtree(biomarker_output_path, ignore_errors=True)\n",
    "    biomarker_output_path.mkdir(parents=True)\n",
    "\n",
    "for img in tqdm(maples_imgs.keys()):\n",
    "    fundus = cv2.imread(str(MAPLES_IMAGES / (img + \".png\")))\n",
    "    mask = compute_mask(fundus)\n",
    "    for biomarker in biomarkers:\n",
    "        biomarker_mask = cv2.imread(str(ANNOTATIONS_PATH / biomarker / (img + \".png\")), cv2.IMREAD_GRAYSCALE) > 0\n",
    "        remove_small_objects, fill_small_holes = biomarkers_remove_small.get(biomarker, (0, 0))\n",
    "        biomarker_mask = clean_biomarkers(biomarker_mask, mask, remove_small_objects, fill_small_holes)\n",
    "        image_output_path = MAPLES_DR_ADDITIONAL / \"annotations\" / biomarker / (img + \".png\")\n",
    "        cv2.imwrite(\n",
    "            str(image_output_path),\n",
    "            biomarker_mask.astype(int),\n",
    "            [cv2.IMWRITE_PNG_BILEVEL, 1],\n",
    "        )\n",
    "        output_images.append(image_output_path)"
   ]
  },
  {
   "cell_type": "markdown",
   "id": "015ad8af",
   "metadata": {},
   "source": [
    "Create ZIP file with all cleaned maps"
   ]
  },
  {
   "cell_type": "code",
   "execution_count": 9,
   "id": "a957cc0d",
   "metadata": {},
   "outputs": [],
   "source": [
    "root = Path(\"\")\n",
    "\n",
    "with ZipFile(MAPLES_DR_ADDITIONAL_ZIP, \"w\") as zipf:\n",
    "    for img in output_images:\n",
    "        zipf.write(img, root / img.relative_to(MAPLES_DR_ADDITIONAL))\n",
    "    for pre_img in MAPLES_DR_ADDITIONAL.glob(\"preannotations/*/*.png\"):\n",
    "        zipf.write(pre_img, root / pre_img.relative_to(MAPLES_DR_ADDITIONAL))\n",
    "    zipf.write(\n",
    "        MAPLES_DR_ADDITIONAL / \"dataset_record.yaml\",\n",
    "        root / \"dataset_record.yaml\",\n",
    "    )\n",
    "    zipf.write(\n",
    "        MAPLES_DR_ADDITIONAL / \"biomarkers_annotation_infos.xls\",\n",
    "        root / \"biomarkers_annotation_infos.xls\",\n",
    "    )\n",
    "    zipf.write(\n",
    "        MAPLES_DR_ADDITIONAL / \"diagnosis_infos.xls\",\n",
    "        root / \"diagnosis_infos.xls\",\n",
    "    )\n",
    "\n",
    "    zipf.write(MAPLES_DR_ADDITIONAL / \"MESSIDOR-ROIs.csv\", root / \"MESSIDOR-ROIs.csv\")"
   ]
  },
  {
   "cell_type": "markdown",
   "id": "278779a9",
   "metadata": {},
   "source": [
    "## Generate biomarkers map"
   ]
  },
  {
   "cell_type": "code",
   "execution_count": 18,
   "id": "c09733c7",
   "metadata": {},
   "outputs": [
    {
     "data": {
      "application/vnd.jupyter.widget-view+json": {
       "model_id": "c4ce9db333124c1a9aa06a13bffead79",
       "version_major": 2,
       "version_minor": 0
      },
      "text/plain": [
       "  0%|          | 0/200 [00:00<?, ?it/s]"
      ]
     },
     "metadata": {},
     "output_type": "display_data"
    }
   ],
   "source": [
    "with (MAPLES_DR_ADDITIONAL / \"MESSIDOR-ROIs.csv\").open() as f:\n",
    "    rois = pd.read_csv(f).set_index(\"name\")\n",
    "\n",
    "biomarkers = record[\"biomarkers\"]\n",
    "diagnosis_DR = pd.read_excel(MAPLES_DR_ADDITIONAL / \"diagnosis_infos.xls\", sheet_name=\"DR\")\n",
    "diagnosis_ME = pd.read_excel(MAPLES_DR_ADDITIONAL / \"diagnosis_infos.xls\", sheet_name=\"ME\")\n",
    "diagnosis = pd.DataFrame(\n",
    "    data={\"DR\": diagnosis_DR[\"Consensus\"], \"ME\": diagnosis_ME[\"Consensus\"], \"name\": diagnosis_DR[\"name\"]}\n",
    ").set_index(\"name\")\n",
    "\n",
    "with tempfile.TemporaryDirectory() as tmpdir:\n",
    "    TEMP_DIR = Path(tmpdir)\n",
    "\n",
    "    # Generate multi-labels and multi-classes maps in a temporary directory\n",
    "    for imgname, split in tqdm(maples_imgs.items()):\n",
    "        imgfile = imgname + \".png\"\n",
    "\n",
    "        if split == \"duplicates\":\n",
    "            continue\n",
    "\n",
    "        roi = rois.loc[imgname]\n",
    "        messidor_shape = Point(int(roi[\"H\"]), int(roi[\"W\"]))\n",
    "        roi: Rect = Rect.from_points(int(roi[\"y0\"]), int(roi[\"x0\"]), int(roi[\"y1\"]), int(roi[\"x1\"]))\n",
    "\n",
    "        biomarkers_map = {}\n",
    "\n",
    "        for biomarker in biomarkers:\n",
    "            # Read MAPLES segmentation map\n",
    "            src = cv2.imread(\n",
    "                str(MAPLES_DR_ADDITIONAL / \"annotations\" / biomarker / imgfile),\n",
    "                cv2.IMREAD_GRAYSCALE,\n",
    "            )\n",
    "\n",
    "            # Resize to MESSIDOR resolution\n",
    "            src_resized = cv2.resize(src, roi.shape) > 20\n",
    "\n",
    "            # Pad according to MESSIDOR ROI\n",
    "            dest_img = np.zeros(messidor_shape, dtype=bool)\n",
    "            dest_img[roi.slice()] = src_resized\n",
    "\n",
    "            # Store result in RAM\n",
    "            biomarkers_map[biomarker] = dest_img\n",
    "\n",
    "            # Export map\n",
    "            # - Ensure the path exists\n",
    "            biomarker_path = TEMP_DIR / split / biomarker\n",
    "            biomarker_path.mkdir(exist_ok=True, parents=True)\n",
    "\n",
    "            # - Write image\n",
    "            cv2.imwrite(str(biomarker_path / imgfile), dest_img * np.uint8(255), [cv2.IMWRITE_PNG_BILEVEL, 1])\n",
    "\n",
    "    # Write diagnosis files\n",
    "    diagnosis.loc[record[\"train\"]].to_csv(TEMP_DIR / \"train\" / \"diagnosis.csv\")\n",
    "    diagnosis.loc[record[\"test\"]].to_csv(TEMP_DIR / \"test\" / \"diagnosis.csv\")\n",
    "\n",
    "    # Zip the temporary directory\n",
    "    with ZipFile(MAPLES_DR_ZIP, \"w\") as zipf:\n",
    "        for img in TEMP_DIR.glob(\"*/*/*.png\"):\n",
    "            zipf.write(img, img.relative_to(TEMP_DIR))\n",
    "        zipf.write(TEMP_DIR / \"train\" / \"diagnosis.csv\", \"train/diagnosis.csv\")\n",
    "        zipf.write(TEMP_DIR / \"test\" / \"diagnosis.csv\", \"test/diagnosis.csv\")"
   ]
  }
 ],
 "metadata": {
  "kernelspec": {
   "display_name": "Python 3 (ipykernel)",
   "language": "python",
   "name": "python3"
  },
  "language_info": {
   "codemirror_mode": {
    "name": "ipython",
    "version": 3
   },
   "file_extension": ".py",
   "mimetype": "text/x-python",
   "name": "python",
   "nbconvert_exporter": "python",
   "pygments_lexer": "ipython3",
   "version": "3.10.11"
  }
 },
 "nbformat": 4,
 "nbformat_minor": 5
}
