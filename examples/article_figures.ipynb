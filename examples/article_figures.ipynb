{
 "cells": [
  {
   "cell_type": "markdown",
   "id": "540d5132-6c18-45ac-8959-a4c467ca4e60",
   "metadata": {},
   "source": [
    "##### imports\n"
   ]
  },
  {
   "cell_type": "code",
   "execution_count": 1,
   "id": "5dc97843",
   "metadata": {},
   "outputs": [],
   "source": [
    "%load_ext autoreload\n",
    "%autoreload 2"
   ]
  },
  {
   "cell_type": "code",
   "execution_count": 2,
   "id": "4d8ce7d3-6dcc-4536-9517-2429ff5bbafd",
   "metadata": {},
   "outputs": [
    {
     "data": {
      "text/html": [
       "<pre style=\"white-space:pre;overflow-x:auto;line-height:normal;font-family:Menlo,'DejaVu Sans Mono',consolas,'Courier New',monospace\"><span style=\"font-weight: bold\">Thanks for using MAPLES-DR!</span>\n",
       "  When using this dataset in academic works,\n",
       "  please cite: <a href=\"https://arxiv.org/abs/2402.04258\" target=\"_blank\"><span style=\"color: #008080; text-decoration-color: #008080; text-decoration: underline\">https://arxiv.org/abs/2402.04258</span></a>\n",
       "</pre>\n"
      ],
      "text/plain": [
       "\u001b[1mThanks for using MAPLES-DR!\u001b[0m\n",
       "  When using this dataset in academic works,\n",
       "  please cite: \u001b]8;id=562394;https://arxiv.org/abs/2402.04258\u001b\\\u001b[4;36mhttps://arxiv.org/abs/2402.04258\u001b[0m\u001b]8;;\u001b\\\n"
      ]
     },
     "metadata": {},
     "output_type": "display_data"
    }
   ],
   "source": [
    "import os\n",
    "\n",
    "import cv2\n",
    "import yaml\n",
    "import numpy as np\n",
    "from skimage import measure\n",
    "from scipy import interpolate as scinterp\n",
    "import pandas as pd\n",
    "\n",
    "from pathlib import Path\n",
    "from sklearn.metrics import confusion_matrix as sklearn_confmat\n",
    "from tqdm import tqdm\n",
    "import maples_dr\n",
    "from maples_dr.dataset import (\n",
    "    BiomarkerField,\n",
    "    BiomarkersAnnotationTasks,\n",
    "    BiomarkersAnnotationInfos,\n",
    ")\n",
    "\n",
    "import plotly.graph_objects as go\n",
    "from plotly.subplots import make_subplots"
   ]
  },
  {
   "cell_type": "markdown",
   "id": "20617d5e-61a1-413a-8e83-c0b3138537e3",
   "metadata": {},
   "source": [
    "### PATHS\n"
   ]
  },
  {
   "cell_type": "markdown",
   "id": "9714920c-cc06-4469-bfad-ce375f929fdd",
   "metadata": {},
   "source": [
    "Path to MESSIDOR and MAPLES-DR folders.\n"
   ]
  },
  {
   "cell_type": "code",
   "execution_count": 3,
   "id": "86a86ec8-7441-4595-9564-1873e23190d3",
   "metadata": {},
   "outputs": [],
   "source": [
    "MAPLES_DR_PATH = Path(\"PATH/TO/MAPLES-DR/MAPLES-DR_v2.zip\")\n",
    "MESSIDOR_PATH = Path(\"PATH/TO/MESSIDOR\")\n",
    "\n",
    "MESSIDOR_DIAGNOSIS_XLSX = MESSIDOR_PATH / \"annotation_all.xls\""
   ]
  },
  {
   "cell_type": "markdown",
   "id": "225ba65b",
   "metadata": {},
   "source": [
    "Configure maples_dr package"
   ]
  },
  {
   "cell_type": "code",
   "execution_count": 4,
   "id": "b3da448e",
   "metadata": {},
   "outputs": [],
   "source": [
    "maples_dr.configure(maples_dr_path=MAPLES_DR_PATH, messidor_path=MESSIDOR_PATH, image_format=\"bgr\")\n",
    "maples_dataset = maples_dr.quick_api.GLOBAL_LOADER.load_dataset()"
   ]
  },
  {
   "cell_type": "markdown",
   "id": "49d59c91",
   "metadata": {},
   "source": [
    "Setup figure output path\n"
   ]
  },
  {
   "cell_type": "code",
   "execution_count": 5,
   "id": "eccac695",
   "metadata": {},
   "outputs": [],
   "source": [
    "FIGS_OUTPUT = Path(\"figures/\")\n",
    "FIGS_OUTPUT.mkdir(exist_ok=True)"
   ]
  },
  {
   "cell_type": "markdown",
   "id": "4b3a61a9-acb1-47f1-ad03-b9f35b103086",
   "metadata": {},
   "source": [
    "### Colors\n"
   ]
  },
  {
   "cell_type": "code",
   "execution_count": 6,
   "id": "aec33eea",
   "metadata": {},
   "outputs": [],
   "source": [
    "WHITE = \"#ffffff\"\n",
    "\n",
    "TEAL0 = \"#9ec5d4\"\n",
    "TEAL1 = \"#75a8ba\"\n",
    "TEAL2 = \"#4b8a9f\"\n",
    "TEAL3 = \"#277088\"\n",
    "TEAL4 = \"#14597e\"\n",
    "\n",
    "PURPLE00 = \"#beadd1\"\n",
    "PURPLE0 = \"#b8a1d1\"\n",
    "PURPLE1 = \"#a17bb8\"\n",
    "PURPLE1bis = \"#927dc0\"\n",
    "PURPLE2 = \"#8e5ea1\"\n",
    "PURPLE2bis = \"#7f5fa9\"\n",
    "PURPLE3 = \"#7b3e8a\"\n",
    "PURPLE4 = \"#6a1e75\""
   ]
  },
  {
   "cell_type": "markdown",
   "id": "74a95808-dc92-498f-9c54-a20e86defd5c",
   "metadata": {},
   "source": [
    "# Diagnostics\n"
   ]
  },
  {
   "cell_type": "markdown",
   "id": "cb24c898",
   "metadata": {},
   "source": [
    "### Load diagnostics\n"
   ]
  },
  {
   "cell_type": "markdown",
   "id": "5a57d6f0-f1a3-446a-8d07-b25ec3ef87dc",
   "metadata": {},
   "source": [
    "Define columns names and values\n"
   ]
  },
  {
   "cell_type": "code",
   "execution_count": 7,
   "id": "1e151139-5ec5-40fc-9892-629eec30aa35",
   "metadata": {},
   "outputs": [],
   "source": [
    "retinologists = [\"A\", \"B\", \"C\"]\n",
    "gt = \"Consensus\"\n",
    "DR_grades = [\"R0\", \"R1\", \"R2\", \"R3\", \"R4A\", \"R4S\"]\n",
    "ME_grades = [\"M0\", \"M1\", \"M2\"]"
   ]
  },
  {
   "cell_type": "markdown",
   "id": "95bea3ee-31d6-4747-9dca-a746f168ef3a",
   "metadata": {},
   "source": [
    "Load all diagnostics for ME and DR available in MAPLES-DR.\n"
   ]
  },
  {
   "cell_type": "code",
   "execution_count": 8,
   "id": "295f2322-ed49-49eb-b693-fd41071bc0ad",
   "metadata": {},
   "outputs": [],
   "source": [
    "DR_diagnostic = maples_dataset.diagnosis(\"dr\")\n",
    "ME_diagnostic = maples_dataset.diagnosis(\"me\")"
   ]
  },
  {
   "cell_type": "markdown",
   "id": "09aba666-4ef2-4daa-998c-70c4b541f4e6",
   "metadata": {},
   "source": [
    "Load all diagnostics for ME and DR available in MAPLES-DR.\n"
   ]
  },
  {
   "cell_type": "code",
   "execution_count": 9,
   "id": "45fa8bf6-887c-4400-a149-57b8831356f8",
   "metadata": {},
   "outputs": [],
   "source": [
    "messidor_diagnostic = pd.read_excel(MESSIDOR_DIAGNOSIS_XLSX)\n",
    "messidor_diagnostic[\"name\"] = messidor_diagnostic[\"name\"].apply(lambda n: n[:-4])\n",
    "messidor_diagnostic = messidor_diagnostic.loc[messidor_diagnostic[\"name\"].isin(DR_diagnostic.index)]\n",
    "messidor_diagnostic = messidor_diagnostic.sort_values(by=\"name\")[[\"name\", \"retinopathy\", \"edema\"]]\n",
    "\n",
    "messidor_diagnostic = pd.DataFrame(\n",
    "    {\n",
    "        \"name\": messidor_diagnostic[\"name\"],\n",
    "        \"DR\": messidor_diagnostic[\"retinopathy\"].map({0: \"R0\", 1: \"R1\", 2: \"R2\", 3: \"R3\"}),\n",
    "        \"ME\": messidor_diagnostic[\"edema\"].map({0: \"M0\", 1: \"M1\", 2: \"M2\"}),\n",
    "    }\n",
    ")\n",
    "messidor_diagnostic.set_index(\"name\", inplace=True)"
   ]
  },
  {
   "cell_type": "markdown",
   "id": "f09c3b66-329a-4cde-ad3f-dc8dfa77dbf8",
   "metadata": {},
   "source": [
    "Define correspondence between MAPLES-DR grades and MESSIDOR grades for DR\n"
   ]
  },
  {
   "cell_type": "code",
   "execution_count": 10,
   "id": "4ae48f2c-307d-4e33-91b5-0baa4d574d5d",
   "metadata": {},
   "outputs": [],
   "source": [
    "DR_grades_map = {\n",
    "    \"R0\": \"R0\",\n",
    "    \"R1\": \"R1\",\n",
    "    \"R2\": \"R1\",\n",
    "    \"R3\": \"R2\",\n",
    "    \"R4A\": \"R3\",\n",
    "    \"R4S\": \"R3\",\n",
    "}"
   ]
  },
  {
   "cell_type": "markdown",
   "id": "eb5e4a49-4835-41cf-b665-746d8673d8be",
   "metadata": {},
   "source": [
    "Derive quality specific labels\n"
   ]
  },
  {
   "cell_type": "code",
   "execution_count": 11,
   "id": "b2b57821-ea12-4606-b5a8-ce6539e9dedc",
   "metadata": {},
   "outputs": [],
   "source": [
    "def grades2quality(grade):\n",
    "    if isinstance(grade, str):\n",
    "        return not grade.strip().endswith(\"6\")\n",
    "    else:\n",
    "        return grade != -1\n",
    "\n",
    "\n",
    "DR_quality = DR_diagnostic.copy()\n",
    "ME_quality = DR_diagnostic.copy()\n",
    "\n",
    "for r in retinologists + [gt]:\n",
    "    DR_quality[r] = DR_diagnostic[r].map(grades2quality)\n",
    "    ME_quality[r] = ME_diagnostic[r].map(grades2quality)"
   ]
  },
  {
   "cell_type": "markdown",
   "id": "5033d1f7-2e76-4a15-80f0-fe1293aaeb53",
   "metadata": {},
   "source": [
    "### Grades Distribution\n"
   ]
  },
  {
   "cell_type": "markdown",
   "id": "e3756a5e",
   "metadata": {},
   "source": [
    "Plots the distribution of grades for ME and DR in MAPLES-DR.\n",
    "\n",
    "The color of the bars indicate the original grades in the MESSIDOR dataset.\n"
   ]
  },
  {
   "cell_type": "code",
   "execution_count": 12,
   "id": "429feb9c-ad89-4fd0-9e3c-5be1fca2ac8c",
   "metadata": {},
   "outputs": [
    {
     "data": {
      "application/vnd.plotly.v1+json": {
       "config": {
        "plotlyServerURL": "https://plot.ly"
       },
       "data": [
        {
         "legendgroup": "DR",
         "legendgrouptitle": {
          "text": "<b>MESSIDOR DR</b>"
         },
         "marker": {
          "color": "#9ec5d4"
         },
         "name": "R0",
         "type": "bar",
         "width": 0.5,
         "x": [
          "R0",
          "R1",
          "R2",
          "R3",
          "R4A",
          "R4S"
         ],
         "xaxis": "x",
         "y": [
          12,
          18,
          0,
          0,
          0,
          0
         ],
         "yaxis": "y"
        },
        {
         "legendgroup": "DR",
         "legendgrouptitle": {
          "text": "<b>MESSIDOR DR</b>"
         },
         "marker": {
          "color": "#75a8ba"
         },
         "name": "R1",
         "type": "bar",
         "width": 0.5,
         "x": [
          "R0",
          "R1",
          "R2",
          "R3",
          "R4A",
          "R4S"
         ],
         "xaxis": "x",
         "y": [
          2,
          55,
          1,
          1,
          0,
          0
         ],
         "yaxis": "y"
        },
        {
         "legendgroup": "DR",
         "legendgrouptitle": {
          "text": "<b>MESSIDOR DR</b>"
         },
         "marker": {
          "color": "#4b8a9f"
         },
         "name": "R2",
         "type": "bar",
         "width": 0.5,
         "x": [
          "R0",
          "R1",
          "R2",
          "R3",
          "R4A",
          "R4S"
         ],
         "xaxis": "x",
         "y": [
          0,
          51,
          3,
          0,
          0,
          0
         ],
         "yaxis": "y"
        },
        {
         "legendgroup": "DR",
         "legendgrouptitle": {
          "text": "<b>MESSIDOR DR</b>"
         },
         "marker": {
          "color": "#277088"
         },
         "name": "R3",
         "text": [
          "14",
          "155",
          "15",
          "10",
          "4",
          "0"
         ],
         "textposition": "outside",
         "type": "bar",
         "width": 0.5,
         "x": [
          "R0",
          "R1",
          "R2",
          "R3",
          "R4A",
          "R4S"
         ],
         "xaxis": "x",
         "y": [
          0,
          31,
          11,
          9,
          4,
          0
         ],
         "yaxis": "y"
        },
        {
         "legendgroup": "ME",
         "legendgrouptitle": {
          "text": "<b>MESSIDOR ME</b>"
         },
         "marker": {
          "color": "#b8a1d1"
         },
         "name": "M0",
         "type": "bar",
         "width": 0.5,
         "x": [
          "M0",
          "M1",
          "M2"
         ],
         "xaxis": "x2",
         "y": [
          51,
          20,
          56
         ],
         "yaxis": "y2"
        },
        {
         "legendgroup": "ME",
         "legendgrouptitle": {
          "text": "<b>MESSIDOR ME</b>"
         },
         "marker": {
          "color": "#a17bb8"
         },
         "name": "M1",
         "type": "bar",
         "width": 0.5,
         "x": [
          "M0",
          "M1",
          "M2"
         ],
         "xaxis": "x2",
         "y": [
          3,
          6,
          25
         ],
         "yaxis": "y2"
        },
        {
         "legendgroup": "ME",
         "legendgrouptitle": {
          "text": "<b>MESSIDOR ME</b>"
         },
         "marker": {
          "color": "#8e5ea1"
         },
         "name": "M2",
         "text": [
          "56",
          "29",
          "112"
         ],
         "textposition": "outside",
         "type": "bar",
         "width": 0.5,
         "x": [
          "M0",
          "M1",
          "M2"
         ],
         "xaxis": "x2",
         "y": [
          2,
          3,
          31
         ],
         "yaxis": "y2"
        }
       ],
       "layout": {
        "barmode": "stack",
        "height": 400,
        "legend": {
         "bordercolor": "#b5aaad",
         "borderwidth": 0.5,
         "grouptitlefont": {
          "size": 11
         },
         "orientation": "h",
         "x": 0.5,
         "xanchor": "center",
         "y": 1,
         "yanchor": "top"
        },
        "margin": {
         "b": 20,
         "l": 20,
         "r": 20,
         "t": 20
        },
        "template": {
         "data": {
          "bar": [
           {
            "error_x": {
             "color": "#2a3f5f"
            },
            "error_y": {
             "color": "#2a3f5f"
            },
            "marker": {
             "line": {
              "color": "white",
              "width": 0.5
             },
             "pattern": {
              "fillmode": "overlay",
              "size": 10,
              "solidity": 0.2
             }
            },
            "type": "bar"
           }
          ],
          "barpolar": [
           {
            "marker": {
             "line": {
              "color": "white",
              "width": 0.5
             },
             "pattern": {
              "fillmode": "overlay",
              "size": 10,
              "solidity": 0.2
             }
            },
            "type": "barpolar"
           }
          ],
          "carpet": [
           {
            "aaxis": {
             "endlinecolor": "#2a3f5f",
             "gridcolor": "#C8D4E3",
             "linecolor": "#C8D4E3",
             "minorgridcolor": "#C8D4E3",
             "startlinecolor": "#2a3f5f"
            },
            "baxis": {
             "endlinecolor": "#2a3f5f",
             "gridcolor": "#C8D4E3",
             "linecolor": "#C8D4E3",
             "minorgridcolor": "#C8D4E3",
             "startlinecolor": "#2a3f5f"
            },
            "type": "carpet"
           }
          ],
          "choropleth": [
           {
            "colorbar": {
             "outlinewidth": 0,
             "ticks": ""
            },
            "type": "choropleth"
           }
          ],
          "contour": [
           {
            "colorbar": {
             "outlinewidth": 0,
             "ticks": ""
            },
            "colorscale": [
             [
              0,
              "#0d0887"
             ],
             [
              0.1111111111111111,
              "#46039f"
             ],
             [
              0.2222222222222222,
              "#7201a8"
             ],
             [
              0.3333333333333333,
              "#9c179e"
             ],
             [
              0.4444444444444444,
              "#bd3786"
             ],
             [
              0.5555555555555556,
              "#d8576b"
             ],
             [
              0.6666666666666666,
              "#ed7953"
             ],
             [
              0.7777777777777778,
              "#fb9f3a"
             ],
             [
              0.8888888888888888,
              "#fdca26"
             ],
             [
              1,
              "#f0f921"
             ]
            ],
            "type": "contour"
           }
          ],
          "contourcarpet": [
           {
            "colorbar": {
             "outlinewidth": 0,
             "ticks": ""
            },
            "type": "contourcarpet"
           }
          ],
          "heatmap": [
           {
            "colorbar": {
             "outlinewidth": 0,
             "ticks": ""
            },
            "colorscale": [
             [
              0,
              "#0d0887"
             ],
             [
              0.1111111111111111,
              "#46039f"
             ],
             [
              0.2222222222222222,
              "#7201a8"
             ],
             [
              0.3333333333333333,
              "#9c179e"
             ],
             [
              0.4444444444444444,
              "#bd3786"
             ],
             [
              0.5555555555555556,
              "#d8576b"
             ],
             [
              0.6666666666666666,
              "#ed7953"
             ],
             [
              0.7777777777777778,
              "#fb9f3a"
             ],
             [
              0.8888888888888888,
              "#fdca26"
             ],
             [
              1,
              "#f0f921"
             ]
            ],
            "type": "heatmap"
           }
          ],
          "heatmapgl": [
           {
            "colorbar": {
             "outlinewidth": 0,
             "ticks": ""
            },
            "colorscale": [
             [
              0,
              "#0d0887"
             ],
             [
              0.1111111111111111,
              "#46039f"
             ],
             [
              0.2222222222222222,
              "#7201a8"
             ],
             [
              0.3333333333333333,
              "#9c179e"
             ],
             [
              0.4444444444444444,
              "#bd3786"
             ],
             [
              0.5555555555555556,
              "#d8576b"
             ],
             [
              0.6666666666666666,
              "#ed7953"
             ],
             [
              0.7777777777777778,
              "#fb9f3a"
             ],
             [
              0.8888888888888888,
              "#fdca26"
             ],
             [
              1,
              "#f0f921"
             ]
            ],
            "type": "heatmapgl"
           }
          ],
          "histogram": [
           {
            "marker": {
             "pattern": {
              "fillmode": "overlay",
              "size": 10,
              "solidity": 0.2
             }
            },
            "type": "histogram"
           }
          ],
          "histogram2d": [
           {
            "colorbar": {
             "outlinewidth": 0,
             "ticks": ""
            },
            "colorscale": [
             [
              0,
              "#0d0887"
             ],
             [
              0.1111111111111111,
              "#46039f"
             ],
             [
              0.2222222222222222,
              "#7201a8"
             ],
             [
              0.3333333333333333,
              "#9c179e"
             ],
             [
              0.4444444444444444,
              "#bd3786"
             ],
             [
              0.5555555555555556,
              "#d8576b"
             ],
             [
              0.6666666666666666,
              "#ed7953"
             ],
             [
              0.7777777777777778,
              "#fb9f3a"
             ],
             [
              0.8888888888888888,
              "#fdca26"
             ],
             [
              1,
              "#f0f921"
             ]
            ],
            "type": "histogram2d"
           }
          ],
          "histogram2dcontour": [
           {
            "colorbar": {
             "outlinewidth": 0,
             "ticks": ""
            },
            "colorscale": [
             [
              0,
              "#0d0887"
             ],
             [
              0.1111111111111111,
              "#46039f"
             ],
             [
              0.2222222222222222,
              "#7201a8"
             ],
             [
              0.3333333333333333,
              "#9c179e"
             ],
             [
              0.4444444444444444,
              "#bd3786"
             ],
             [
              0.5555555555555556,
              "#d8576b"
             ],
             [
              0.6666666666666666,
              "#ed7953"
             ],
             [
              0.7777777777777778,
              "#fb9f3a"
             ],
             [
              0.8888888888888888,
              "#fdca26"
             ],
             [
              1,
              "#f0f921"
             ]
            ],
            "type": "histogram2dcontour"
           }
          ],
          "mesh3d": [
           {
            "colorbar": {
             "outlinewidth": 0,
             "ticks": ""
            },
            "type": "mesh3d"
           }
          ],
          "parcoords": [
           {
            "line": {
             "colorbar": {
              "outlinewidth": 0,
              "ticks": ""
             }
            },
            "type": "parcoords"
           }
          ],
          "pie": [
           {
            "automargin": true,
            "type": "pie"
           }
          ],
          "scatter": [
           {
            "fillpattern": {
             "fillmode": "overlay",
             "size": 10,
             "solidity": 0.2
            },
            "type": "scatter"
           }
          ],
          "scatter3d": [
           {
            "line": {
             "colorbar": {
              "outlinewidth": 0,
              "ticks": ""
             }
            },
            "marker": {
             "colorbar": {
              "outlinewidth": 0,
              "ticks": ""
             }
            },
            "type": "scatter3d"
           }
          ],
          "scattercarpet": [
           {
            "marker": {
             "colorbar": {
              "outlinewidth": 0,
              "ticks": ""
             }
            },
            "type": "scattercarpet"
           }
          ],
          "scattergeo": [
           {
            "marker": {
             "colorbar": {
              "outlinewidth": 0,
              "ticks": ""
             }
            },
            "type": "scattergeo"
           }
          ],
          "scattergl": [
           {
            "marker": {
             "colorbar": {
              "outlinewidth": 0,
              "ticks": ""
             }
            },
            "type": "scattergl"
           }
          ],
          "scattermapbox": [
           {
            "marker": {
             "colorbar": {
              "outlinewidth": 0,
              "ticks": ""
             }
            },
            "type": "scattermapbox"
           }
          ],
          "scatterpolar": [
           {
            "marker": {
             "colorbar": {
              "outlinewidth": 0,
              "ticks": ""
             }
            },
            "type": "scatterpolar"
           }
          ],
          "scatterpolargl": [
           {
            "marker": {
             "colorbar": {
              "outlinewidth": 0,
              "ticks": ""
             }
            },
            "type": "scatterpolargl"
           }
          ],
          "scatterternary": [
           {
            "marker": {
             "colorbar": {
              "outlinewidth": 0,
              "ticks": ""
             }
            },
            "type": "scatterternary"
           }
          ],
          "surface": [
           {
            "colorbar": {
             "outlinewidth": 0,
             "ticks": ""
            },
            "colorscale": [
             [
              0,
              "#0d0887"
             ],
             [
              0.1111111111111111,
              "#46039f"
             ],
             [
              0.2222222222222222,
              "#7201a8"
             ],
             [
              0.3333333333333333,
              "#9c179e"
             ],
             [
              0.4444444444444444,
              "#bd3786"
             ],
             [
              0.5555555555555556,
              "#d8576b"
             ],
             [
              0.6666666666666666,
              "#ed7953"
             ],
             [
              0.7777777777777778,
              "#fb9f3a"
             ],
             [
              0.8888888888888888,
              "#fdca26"
             ],
             [
              1,
              "#f0f921"
             ]
            ],
            "type": "surface"
           }
          ],
          "table": [
           {
            "cells": {
             "fill": {
              "color": "#EBF0F8"
             },
             "line": {
              "color": "white"
             }
            },
            "header": {
             "fill": {
              "color": "#C8D4E3"
             },
             "line": {
              "color": "white"
             }
            },
            "type": "table"
           }
          ]
         },
         "layout": {
          "annotationdefaults": {
           "arrowcolor": "#2a3f5f",
           "arrowhead": 0,
           "arrowwidth": 1
          },
          "autotypenumbers": "strict",
          "coloraxis": {
           "colorbar": {
            "outlinewidth": 0,
            "ticks": ""
           }
          },
          "colorscale": {
           "diverging": [
            [
             0,
             "#8e0152"
            ],
            [
             0.1,
             "#c51b7d"
            ],
            [
             0.2,
             "#de77ae"
            ],
            [
             0.3,
             "#f1b6da"
            ],
            [
             0.4,
             "#fde0ef"
            ],
            [
             0.5,
             "#f7f7f7"
            ],
            [
             0.6,
             "#e6f5d0"
            ],
            [
             0.7,
             "#b8e186"
            ],
            [
             0.8,
             "#7fbc41"
            ],
            [
             0.9,
             "#4d9221"
            ],
            [
             1,
             "#276419"
            ]
           ],
           "sequential": [
            [
             0,
             "#0d0887"
            ],
            [
             0.1111111111111111,
             "#46039f"
            ],
            [
             0.2222222222222222,
             "#7201a8"
            ],
            [
             0.3333333333333333,
             "#9c179e"
            ],
            [
             0.4444444444444444,
             "#bd3786"
            ],
            [
             0.5555555555555556,
             "#d8576b"
            ],
            [
             0.6666666666666666,
             "#ed7953"
            ],
            [
             0.7777777777777778,
             "#fb9f3a"
            ],
            [
             0.8888888888888888,
             "#fdca26"
            ],
            [
             1,
             "#f0f921"
            ]
           ],
           "sequentialminus": [
            [
             0,
             "#0d0887"
            ],
            [
             0.1111111111111111,
             "#46039f"
            ],
            [
             0.2222222222222222,
             "#7201a8"
            ],
            [
             0.3333333333333333,
             "#9c179e"
            ],
            [
             0.4444444444444444,
             "#bd3786"
            ],
            [
             0.5555555555555556,
             "#d8576b"
            ],
            [
             0.6666666666666666,
             "#ed7953"
            ],
            [
             0.7777777777777778,
             "#fb9f3a"
            ],
            [
             0.8888888888888888,
             "#fdca26"
            ],
            [
             1,
             "#f0f921"
            ]
           ]
          },
          "colorway": [
           "#636efa",
           "#EF553B",
           "#00cc96",
           "#ab63fa",
           "#FFA15A",
           "#19d3f3",
           "#FF6692",
           "#B6E880",
           "#FF97FF",
           "#FECB52"
          ],
          "font": {
           "color": "#2a3f5f"
          },
          "geo": {
           "bgcolor": "white",
           "lakecolor": "white",
           "landcolor": "white",
           "showlakes": true,
           "showland": true,
           "subunitcolor": "#C8D4E3"
          },
          "hoverlabel": {
           "align": "left"
          },
          "hovermode": "closest",
          "mapbox": {
           "style": "light"
          },
          "paper_bgcolor": "white",
          "plot_bgcolor": "white",
          "polar": {
           "angularaxis": {
            "gridcolor": "#EBF0F8",
            "linecolor": "#EBF0F8",
            "ticks": ""
           },
           "bgcolor": "white",
           "radialaxis": {
            "gridcolor": "#EBF0F8",
            "linecolor": "#EBF0F8",
            "ticks": ""
           }
          },
          "scene": {
           "xaxis": {
            "backgroundcolor": "white",
            "gridcolor": "#DFE8F3",
            "gridwidth": 2,
            "linecolor": "#EBF0F8",
            "showbackground": true,
            "ticks": "",
            "zerolinecolor": "#EBF0F8"
           },
           "yaxis": {
            "backgroundcolor": "white",
            "gridcolor": "#DFE8F3",
            "gridwidth": 2,
            "linecolor": "#EBF0F8",
            "showbackground": true,
            "ticks": "",
            "zerolinecolor": "#EBF0F8"
           },
           "zaxis": {
            "backgroundcolor": "white",
            "gridcolor": "#DFE8F3",
            "gridwidth": 2,
            "linecolor": "#EBF0F8",
            "showbackground": true,
            "ticks": "",
            "zerolinecolor": "#EBF0F8"
           }
          },
          "shapedefaults": {
           "line": {
            "color": "#2a3f5f"
           }
          },
          "ternary": {
           "aaxis": {
            "gridcolor": "#DFE8F3",
            "linecolor": "#A2B1C6",
            "ticks": ""
           },
           "baxis": {
            "gridcolor": "#DFE8F3",
            "linecolor": "#A2B1C6",
            "ticks": ""
           },
           "bgcolor": "white",
           "caxis": {
            "gridcolor": "#DFE8F3",
            "linecolor": "#A2B1C6",
            "ticks": ""
           }
          },
          "title": {
           "x": 0.05
          },
          "xaxis": {
           "automargin": true,
           "gridcolor": "#EBF0F8",
           "linecolor": "#EBF0F8",
           "ticks": "",
           "title": {
            "standoff": 15
           },
           "zerolinecolor": "#EBF0F8",
           "zerolinewidth": 2
          },
          "yaxis": {
           "automargin": true,
           "gridcolor": "#EBF0F8",
           "linecolor": "#EBF0F8",
           "ticks": "",
           "title": {
            "standoff": 15
           },
           "zerolinecolor": "#EBF0F8",
           "zerolinewidth": 2
          }
         }
        },
        "width": 600,
        "xaxis": {
         "anchor": "y",
         "domain": [
          0,
          0.6000000000000001
         ],
         "tickfont": {
          "size": 15
         },
         "title": {
          "font": {
           "size": 15
          },
          "text": "Diabetic Retinopathy"
         }
        },
        "xaxis2": {
         "anchor": "y2",
         "domain": [
          0.7000000000000001,
          1
         ],
         "tickfont": {
          "size": 15
         },
         "title": {
          "font": {
           "size": 15
          },
          "text": "Macular Eudema"
         }
        },
        "yaxis": {
         "anchor": "x",
         "domain": [
          0,
          1
         ],
         "tickfont": {
          "size": 13
         },
         "title": {
          "text": "Number of images"
         }
        },
        "yaxis2": {
         "anchor": "x2",
         "domain": [
          0,
          1
         ],
         "showticklabels": false,
         "tickfont": {
          "size": 13
         },
         "title": {
          "text": "Number of images"
         }
        }
       }
      }
     },
     "metadata": {},
     "output_type": "display_data"
    }
   ],
   "source": [
    "maples_diagnostics = pd.DataFrame(\n",
    "    {\n",
    "        \"MAPLES-DR.ME\": ME_diagnostic[\"Consensus\"],\n",
    "        \"MAPLES-DR.DR\": DR_diagnostic[\"Consensus\"],\n",
    "        \"MESSIDOR.ME\": messidor_diagnostic[\"ME\"],\n",
    "        \"MESSIDOR.DR\": messidor_diagnostic[\"DR\"],\n",
    "    }\n",
    ")\n",
    "dr_color = {\"R0\": TEAL0, \"R1\": TEAL1, \"R2\": TEAL2, \"R3\": TEAL3}\n",
    "me_color = {\"M0\": PURPLE0, \"M1\": PURPLE1, \"M2\": PURPLE2}\n",
    "histogram_DR = {\n",
    "    messidor: [\n",
    "        ((maples_diagnostics[\"MAPLES-DR.DR\"] == maples) & (maples_diagnostics[\"MESSIDOR.DR\"] == messidor)).sum()\n",
    "        for maples in DR_grades\n",
    "    ]\n",
    "    for messidor in dr_color.keys()\n",
    "}\n",
    "histogram_ME = {\n",
    "    messidor: [\n",
    "        ((maples_diagnostics[\"MAPLES-DR.ME\"] == maples) & (maples_diagnostics[\"MESSIDOR.ME\"] == messidor)).sum()\n",
    "        for maples in ME_grades\n",
    "    ]\n",
    "    for messidor in me_color.keys()\n",
    "}\n",
    "\n",
    "fig = make_subplots(rows=1, cols=2, horizontal_spacing=0.1, column_widths=[0.64, 0.32])\n",
    "\n",
    "for dr, color in dr_color.items():\n",
    "    legend = dict(name=dr, legendgroup=\"DR\", legendgrouptitle_text=\"<b>MESSIDOR DR</b>\")\n",
    "    styling = dict(marker_color=color, width=0.5)\n",
    "    if dr == \"R3\":\n",
    "        styling |= dict(\n",
    "            text=[(maples_diagnostics[\"MAPLES-DR.DR\"] == _).sum() for _ in DR_grades],\n",
    "            textposition=\"outside\",\n",
    "        )\n",
    "    fig.add_trace(\n",
    "        go.Bar(x=DR_grades, y=histogram_DR[dr], **styling, **legend),\n",
    "        row=1,\n",
    "        col=1,\n",
    "    )\n",
    "\n",
    "\n",
    "for me, color in me_color.items():\n",
    "    legend = dict(name=me, legendgroup=\"ME\", legendgrouptitle_text=\"<b>MESSIDOR ME</b>\")\n",
    "    styling = dict(marker_color=color, width=0.5)\n",
    "    if me == \"M2\":\n",
    "        styling |= dict(\n",
    "            text=[(maples_diagnostics[\"MAPLES-DR.ME\"] == _).sum() for _ in ME_grades],\n",
    "            textposition=\"outside\",\n",
    "        )\n",
    "    fig.add_trace(\n",
    "        go.Bar(x=ME_grades, y=histogram_ME[me], **styling, **legend),\n",
    "        row=1,\n",
    "        col=2,\n",
    "    )\n",
    "\n",
    "fig.layout.barmode = \"stack\"\n",
    "\n",
    "fig.update_yaxes(\n",
    "    title=\"Number of images\",\n",
    "    tickfont={\"size\": 13},\n",
    ")\n",
    "fig.update_yaxes(row=1, col=2, showticklabels=False)\n",
    "fig.update_xaxes(tickfont={\"size\": 15})\n",
    "fig.update_xaxes(row=1, col=1, title={\"text\": \"Diabetic Retinopathy\", \"font_size\": 15})\n",
    "fig.update_xaxes(row=1, col=2, title={\"text\": \"Macular Eudema\", \"font_size\": 15})\n",
    "\n",
    "fig.update_layout(\n",
    "    legend=dict(\n",
    "        orientation=\"h\",\n",
    "        yanchor=\"top\",\n",
    "        y=1.0,\n",
    "        xanchor=\"center\",\n",
    "        x=0.5,\n",
    "        bordercolor=\"#b5aaad\",\n",
    "        borderwidth=0.5,\n",
    "        grouptitlefont_size=11,\n",
    "    ),\n",
    "    height=400,\n",
    "    width=600,\n",
    "    template=\"plotly_white\",\n",
    "    margin={\"t\": 20, \"l\": 20, \"r\": 20, \"b\": 20},\n",
    ")\n",
    "\n",
    "fig.show()"
   ]
  },
  {
   "cell_type": "markdown",
   "id": "ad80cb1f",
   "metadata": {},
   "source": [
    "### Retinologists Agreements\n"
   ]
  },
  {
   "cell_type": "code",
   "execution_count": 13,
   "id": "94202236",
   "metadata": {},
   "outputs": [
    {
     "data": {
      "application/vnd.plotly.v1+json": {
       "config": {
        "plotlyServerURL": "https://plot.ly"
       },
       "data": [
        {
         "dy": -1,
         "legendgroup": "DR",
         "legendgrouptitle": {
          "text": "<b>DR</b> Agreement"
         },
         "marker": {
          "color": "#14597e"
         },
         "name": "3/3: Consensus",
         "type": "bar",
         "width": 0.5,
         "x": [
          "R0",
          "R1",
          "R2",
          "R3",
          "R4A",
          "R4S"
         ],
         "xaxis": "x",
         "y": [
          6,
          111,
          2,
          1,
          2,
          0
         ],
         "yaxis": "y"
        },
        {
         "dy": -1,
         "legendgroup": "DR",
         "legendgrouptitle": {
          "text": "<b>DR</b> Agreement"
         },
         "marker": {
          "color": "#4b8a9f"
         },
         "name": "2/3: Majority",
         "type": "bar",
         "width": 0.5,
         "x": [
          "R0",
          "R1",
          "R2",
          "R3",
          "R4A",
          "R4S"
         ],
         "xaxis": "x",
         "y": [
          6,
          41,
          13,
          9,
          2,
          0
         ],
         "yaxis": "y"
        },
        {
         "dy": -1,
         "legendgroup": "DR",
         "legendgrouptitle": {
          "text": "<b>DR</b> Agreement"
         },
         "marker": {
          "color": "#9ec5d4"
         },
         "name": "Deliberation",
         "text": [
          "14",
          "155",
          "15",
          "10",
          "4",
          "0"
         ],
         "textfont": {
          "size": 11
         },
         "textposition": "outside",
         "type": "bar",
         "width": 0.5,
         "x": [
          "R0",
          "R1",
          "R2",
          "R3",
          "R4A",
          "R4S"
         ],
         "xaxis": "x",
         "y": [
          2,
          3,
          0,
          0,
          0,
          0
         ],
         "yaxis": "y"
        },
        {
         "legendgroup": "ME",
         "legendgrouptitle": {
          "text": "<b>ME</b> Agreement"
         },
         "marker": {
          "color": "#6a1e75"
         },
         "name": "3/3: Consensus",
         "type": "bar",
         "width": 0.5,
         "x": [
          "M0",
          "M1",
          "M2"
         ],
         "xaxis": "x2",
         "y": [
          21,
          12,
          84
         ],
         "yaxis": "y2"
        },
        {
         "legendgroup": "ME",
         "legendgrouptitle": {
          "text": "<b>ME</b> Agreement"
         },
         "marker": {
          "color": "#8e5ea1"
         },
         "name": "2/3: Majority",
         "type": "bar",
         "width": 0.5,
         "x": [
          "M0",
          "M1",
          "M2"
         ],
         "xaxis": "x2",
         "y": [
          23,
          17,
          28
         ],
         "yaxis": "y2"
        },
        {
         "legendgroup": "ME",
         "legendgrouptitle": {
          "text": "<b>ME</b> Agreement"
         },
         "marker": {
          "color": "#b8a1d1"
         },
         "name": "Deliberation",
         "text": [
          "56",
          "29",
          "112"
         ],
         "textfont": {
          "size": 11
         },
         "textposition": "outside",
         "type": "bar",
         "width": 0.5,
         "x": [
          "M0",
          "M1",
          "M2"
         ],
         "xaxis": "x2",
         "y": [
          12,
          0,
          0
         ],
         "yaxis": "y2"
        }
       ],
       "layout": {
        "bargap": 0,
        "barmode": "stack",
        "height": 300,
        "legend": {
         "bordercolor": "#b5aaad",
         "borderwidth": 0.5,
         "grouptitlefont": {
          "size": 11
         },
         "orientation": "h",
         "x": 0.5,
         "xanchor": "center",
         "y": 1,
         "yanchor": "top"
        },
        "margin": {
         "b": 20,
         "l": 5,
         "r": 10,
         "t": 20
        },
        "template": {
         "data": {
          "bar": [
           {
            "error_x": {
             "color": "#2a3f5f"
            },
            "error_y": {
             "color": "#2a3f5f"
            },
            "marker": {
             "line": {
              "color": "white",
              "width": 0.5
             },
             "pattern": {
              "fillmode": "overlay",
              "size": 10,
              "solidity": 0.2
             }
            },
            "type": "bar"
           }
          ],
          "barpolar": [
           {
            "marker": {
             "line": {
              "color": "white",
              "width": 0.5
             },
             "pattern": {
              "fillmode": "overlay",
              "size": 10,
              "solidity": 0.2
             }
            },
            "type": "barpolar"
           }
          ],
          "carpet": [
           {
            "aaxis": {
             "endlinecolor": "#2a3f5f",
             "gridcolor": "#C8D4E3",
             "linecolor": "#C8D4E3",
             "minorgridcolor": "#C8D4E3",
             "startlinecolor": "#2a3f5f"
            },
            "baxis": {
             "endlinecolor": "#2a3f5f",
             "gridcolor": "#C8D4E3",
             "linecolor": "#C8D4E3",
             "minorgridcolor": "#C8D4E3",
             "startlinecolor": "#2a3f5f"
            },
            "type": "carpet"
           }
          ],
          "choropleth": [
           {
            "colorbar": {
             "outlinewidth": 0,
             "ticks": ""
            },
            "type": "choropleth"
           }
          ],
          "contour": [
           {
            "colorbar": {
             "outlinewidth": 0,
             "ticks": ""
            },
            "colorscale": [
             [
              0,
              "#0d0887"
             ],
             [
              0.1111111111111111,
              "#46039f"
             ],
             [
              0.2222222222222222,
              "#7201a8"
             ],
             [
              0.3333333333333333,
              "#9c179e"
             ],
             [
              0.4444444444444444,
              "#bd3786"
             ],
             [
              0.5555555555555556,
              "#d8576b"
             ],
             [
              0.6666666666666666,
              "#ed7953"
             ],
             [
              0.7777777777777778,
              "#fb9f3a"
             ],
             [
              0.8888888888888888,
              "#fdca26"
             ],
             [
              1,
              "#f0f921"
             ]
            ],
            "type": "contour"
           }
          ],
          "contourcarpet": [
           {
            "colorbar": {
             "outlinewidth": 0,
             "ticks": ""
            },
            "type": "contourcarpet"
           }
          ],
          "heatmap": [
           {
            "colorbar": {
             "outlinewidth": 0,
             "ticks": ""
            },
            "colorscale": [
             [
              0,
              "#0d0887"
             ],
             [
              0.1111111111111111,
              "#46039f"
             ],
             [
              0.2222222222222222,
              "#7201a8"
             ],
             [
              0.3333333333333333,
              "#9c179e"
             ],
             [
              0.4444444444444444,
              "#bd3786"
             ],
             [
              0.5555555555555556,
              "#d8576b"
             ],
             [
              0.6666666666666666,
              "#ed7953"
             ],
             [
              0.7777777777777778,
              "#fb9f3a"
             ],
             [
              0.8888888888888888,
              "#fdca26"
             ],
             [
              1,
              "#f0f921"
             ]
            ],
            "type": "heatmap"
           }
          ],
          "heatmapgl": [
           {
            "colorbar": {
             "outlinewidth": 0,
             "ticks": ""
            },
            "colorscale": [
             [
              0,
              "#0d0887"
             ],
             [
              0.1111111111111111,
              "#46039f"
             ],
             [
              0.2222222222222222,
              "#7201a8"
             ],
             [
              0.3333333333333333,
              "#9c179e"
             ],
             [
              0.4444444444444444,
              "#bd3786"
             ],
             [
              0.5555555555555556,
              "#d8576b"
             ],
             [
              0.6666666666666666,
              "#ed7953"
             ],
             [
              0.7777777777777778,
              "#fb9f3a"
             ],
             [
              0.8888888888888888,
              "#fdca26"
             ],
             [
              1,
              "#f0f921"
             ]
            ],
            "type": "heatmapgl"
           }
          ],
          "histogram": [
           {
            "marker": {
             "pattern": {
              "fillmode": "overlay",
              "size": 10,
              "solidity": 0.2
             }
            },
            "type": "histogram"
           }
          ],
          "histogram2d": [
           {
            "colorbar": {
             "outlinewidth": 0,
             "ticks": ""
            },
            "colorscale": [
             [
              0,
              "#0d0887"
             ],
             [
              0.1111111111111111,
              "#46039f"
             ],
             [
              0.2222222222222222,
              "#7201a8"
             ],
             [
              0.3333333333333333,
              "#9c179e"
             ],
             [
              0.4444444444444444,
              "#bd3786"
             ],
             [
              0.5555555555555556,
              "#d8576b"
             ],
             [
              0.6666666666666666,
              "#ed7953"
             ],
             [
              0.7777777777777778,
              "#fb9f3a"
             ],
             [
              0.8888888888888888,
              "#fdca26"
             ],
             [
              1,
              "#f0f921"
             ]
            ],
            "type": "histogram2d"
           }
          ],
          "histogram2dcontour": [
           {
            "colorbar": {
             "outlinewidth": 0,
             "ticks": ""
            },
            "colorscale": [
             [
              0,
              "#0d0887"
             ],
             [
              0.1111111111111111,
              "#46039f"
             ],
             [
              0.2222222222222222,
              "#7201a8"
             ],
             [
              0.3333333333333333,
              "#9c179e"
             ],
             [
              0.4444444444444444,
              "#bd3786"
             ],
             [
              0.5555555555555556,
              "#d8576b"
             ],
             [
              0.6666666666666666,
              "#ed7953"
             ],
             [
              0.7777777777777778,
              "#fb9f3a"
             ],
             [
              0.8888888888888888,
              "#fdca26"
             ],
             [
              1,
              "#f0f921"
             ]
            ],
            "type": "histogram2dcontour"
           }
          ],
          "mesh3d": [
           {
            "colorbar": {
             "outlinewidth": 0,
             "ticks": ""
            },
            "type": "mesh3d"
           }
          ],
          "parcoords": [
           {
            "line": {
             "colorbar": {
              "outlinewidth": 0,
              "ticks": ""
             }
            },
            "type": "parcoords"
           }
          ],
          "pie": [
           {
            "automargin": true,
            "type": "pie"
           }
          ],
          "scatter": [
           {
            "fillpattern": {
             "fillmode": "overlay",
             "size": 10,
             "solidity": 0.2
            },
            "type": "scatter"
           }
          ],
          "scatter3d": [
           {
            "line": {
             "colorbar": {
              "outlinewidth": 0,
              "ticks": ""
             }
            },
            "marker": {
             "colorbar": {
              "outlinewidth": 0,
              "ticks": ""
             }
            },
            "type": "scatter3d"
           }
          ],
          "scattercarpet": [
           {
            "marker": {
             "colorbar": {
              "outlinewidth": 0,
              "ticks": ""
             }
            },
            "type": "scattercarpet"
           }
          ],
          "scattergeo": [
           {
            "marker": {
             "colorbar": {
              "outlinewidth": 0,
              "ticks": ""
             }
            },
            "type": "scattergeo"
           }
          ],
          "scattergl": [
           {
            "marker": {
             "colorbar": {
              "outlinewidth": 0,
              "ticks": ""
             }
            },
            "type": "scattergl"
           }
          ],
          "scattermapbox": [
           {
            "marker": {
             "colorbar": {
              "outlinewidth": 0,
              "ticks": ""
             }
            },
            "type": "scattermapbox"
           }
          ],
          "scatterpolar": [
           {
            "marker": {
             "colorbar": {
              "outlinewidth": 0,
              "ticks": ""
             }
            },
            "type": "scatterpolar"
           }
          ],
          "scatterpolargl": [
           {
            "marker": {
             "colorbar": {
              "outlinewidth": 0,
              "ticks": ""
             }
            },
            "type": "scatterpolargl"
           }
          ],
          "scatterternary": [
           {
            "marker": {
             "colorbar": {
              "outlinewidth": 0,
              "ticks": ""
             }
            },
            "type": "scatterternary"
           }
          ],
          "surface": [
           {
            "colorbar": {
             "outlinewidth": 0,
             "ticks": ""
            },
            "colorscale": [
             [
              0,
              "#0d0887"
             ],
             [
              0.1111111111111111,
              "#46039f"
             ],
             [
              0.2222222222222222,
              "#7201a8"
             ],
             [
              0.3333333333333333,
              "#9c179e"
             ],
             [
              0.4444444444444444,
              "#bd3786"
             ],
             [
              0.5555555555555556,
              "#d8576b"
             ],
             [
              0.6666666666666666,
              "#ed7953"
             ],
             [
              0.7777777777777778,
              "#fb9f3a"
             ],
             [
              0.8888888888888888,
              "#fdca26"
             ],
             [
              1,
              "#f0f921"
             ]
            ],
            "type": "surface"
           }
          ],
          "table": [
           {
            "cells": {
             "fill": {
              "color": "#EBF0F8"
             },
             "line": {
              "color": "white"
             }
            },
            "header": {
             "fill": {
              "color": "#C8D4E3"
             },
             "line": {
              "color": "white"
             }
            },
            "type": "table"
           }
          ]
         },
         "layout": {
          "annotationdefaults": {
           "arrowcolor": "#2a3f5f",
           "arrowhead": 0,
           "arrowwidth": 1
          },
          "autotypenumbers": "strict",
          "coloraxis": {
           "colorbar": {
            "outlinewidth": 0,
            "ticks": ""
           }
          },
          "colorscale": {
           "diverging": [
            [
             0,
             "#8e0152"
            ],
            [
             0.1,
             "#c51b7d"
            ],
            [
             0.2,
             "#de77ae"
            ],
            [
             0.3,
             "#f1b6da"
            ],
            [
             0.4,
             "#fde0ef"
            ],
            [
             0.5,
             "#f7f7f7"
            ],
            [
             0.6,
             "#e6f5d0"
            ],
            [
             0.7,
             "#b8e186"
            ],
            [
             0.8,
             "#7fbc41"
            ],
            [
             0.9,
             "#4d9221"
            ],
            [
             1,
             "#276419"
            ]
           ],
           "sequential": [
            [
             0,
             "#0d0887"
            ],
            [
             0.1111111111111111,
             "#46039f"
            ],
            [
             0.2222222222222222,
             "#7201a8"
            ],
            [
             0.3333333333333333,
             "#9c179e"
            ],
            [
             0.4444444444444444,
             "#bd3786"
            ],
            [
             0.5555555555555556,
             "#d8576b"
            ],
            [
             0.6666666666666666,
             "#ed7953"
            ],
            [
             0.7777777777777778,
             "#fb9f3a"
            ],
            [
             0.8888888888888888,
             "#fdca26"
            ],
            [
             1,
             "#f0f921"
            ]
           ],
           "sequentialminus": [
            [
             0,
             "#0d0887"
            ],
            [
             0.1111111111111111,
             "#46039f"
            ],
            [
             0.2222222222222222,
             "#7201a8"
            ],
            [
             0.3333333333333333,
             "#9c179e"
            ],
            [
             0.4444444444444444,
             "#bd3786"
            ],
            [
             0.5555555555555556,
             "#d8576b"
            ],
            [
             0.6666666666666666,
             "#ed7953"
            ],
            [
             0.7777777777777778,
             "#fb9f3a"
            ],
            [
             0.8888888888888888,
             "#fdca26"
            ],
            [
             1,
             "#f0f921"
            ]
           ]
          },
          "colorway": [
           "#636efa",
           "#EF553B",
           "#00cc96",
           "#ab63fa",
           "#FFA15A",
           "#19d3f3",
           "#FF6692",
           "#B6E880",
           "#FF97FF",
           "#FECB52"
          ],
          "font": {
           "color": "#2a3f5f"
          },
          "geo": {
           "bgcolor": "white",
           "lakecolor": "white",
           "landcolor": "white",
           "showlakes": true,
           "showland": true,
           "subunitcolor": "#C8D4E3"
          },
          "hoverlabel": {
           "align": "left"
          },
          "hovermode": "closest",
          "mapbox": {
           "style": "light"
          },
          "paper_bgcolor": "white",
          "plot_bgcolor": "white",
          "polar": {
           "angularaxis": {
            "gridcolor": "#EBF0F8",
            "linecolor": "#EBF0F8",
            "ticks": ""
           },
           "bgcolor": "white",
           "radialaxis": {
            "gridcolor": "#EBF0F8",
            "linecolor": "#EBF0F8",
            "ticks": ""
           }
          },
          "scene": {
           "xaxis": {
            "backgroundcolor": "white",
            "gridcolor": "#DFE8F3",
            "gridwidth": 2,
            "linecolor": "#EBF0F8",
            "showbackground": true,
            "ticks": "",
            "zerolinecolor": "#EBF0F8"
           },
           "yaxis": {
            "backgroundcolor": "white",
            "gridcolor": "#DFE8F3",
            "gridwidth": 2,
            "linecolor": "#EBF0F8",
            "showbackground": true,
            "ticks": "",
            "zerolinecolor": "#EBF0F8"
           },
           "zaxis": {
            "backgroundcolor": "white",
            "gridcolor": "#DFE8F3",
            "gridwidth": 2,
            "linecolor": "#EBF0F8",
            "showbackground": true,
            "ticks": "",
            "zerolinecolor": "#EBF0F8"
           }
          },
          "shapedefaults": {
           "line": {
            "color": "#2a3f5f"
           }
          },
          "ternary": {
           "aaxis": {
            "gridcolor": "#DFE8F3",
            "linecolor": "#A2B1C6",
            "ticks": ""
           },
           "baxis": {
            "gridcolor": "#DFE8F3",
            "linecolor": "#A2B1C6",
            "ticks": ""
           },
           "bgcolor": "white",
           "caxis": {
            "gridcolor": "#DFE8F3",
            "linecolor": "#A2B1C6",
            "ticks": ""
           }
          },
          "title": {
           "x": 0.05
          },
          "xaxis": {
           "automargin": true,
           "gridcolor": "#EBF0F8",
           "linecolor": "#EBF0F8",
           "ticks": "",
           "title": {
            "standoff": 15
           },
           "zerolinecolor": "#EBF0F8",
           "zerolinewidth": 2
          },
          "yaxis": {
           "automargin": true,
           "gridcolor": "#EBF0F8",
           "linecolor": "#EBF0F8",
           "ticks": "",
           "title": {
            "standoff": 15
           },
           "zerolinecolor": "#EBF0F8",
           "zerolinewidth": 2
          }
         }
        },
        "width": 600,
        "xaxis": {
         "anchor": "y",
         "domain": [
          0,
          0.6000000000000001
         ],
         "tickfont": {
          "size": 13
         },
         "title": {
          "font": {
           "size": 15
          },
          "text": "<b>Diabetic Retinopathy</b>"
         }
        },
        "xaxis2": {
         "anchor": "y2",
         "domain": [
          0.7000000000000001,
          1
         ],
         "tickfont": {
          "size": 13
         },
         "title": {
          "font": {
           "size": 15
          },
          "text": "<b>Macular Eudema</b>"
         }
        },
        "yaxis": {
         "anchor": "x",
         "domain": [
          0,
          1
         ],
         "range": [
          0,
          175
         ],
         "tickfont": {
          "size": 13
         },
         "title": {
          "font": {
           "size": 15
          },
          "text": "Number of images"
         }
        },
        "yaxis2": {
         "anchor": "x2",
         "domain": [
          0,
          1
         ],
         "range": [
          0,
          175
         ],
         "showticklabels": false
        }
       }
      }
     },
     "metadata": {},
     "output_type": "display_data"
    },
    {
     "data": {
      "text/html": [
       "<div>\n",
       "<style scoped>\n",
       "    .dataframe tbody tr th:only-of-type {\n",
       "        vertical-align: middle;\n",
       "    }\n",
       "\n",
       "    .dataframe tbody tr th {\n",
       "        vertical-align: top;\n",
       "    }\n",
       "\n",
       "    .dataframe thead th {\n",
       "        text-align: right;\n",
       "    }\n",
       "</style>\n",
       "<table border=\"1\" class=\"dataframe\">\n",
       "  <thead>\n",
       "    <tr style=\"text-align: right;\">\n",
       "      <th></th>\n",
       "      <th>R0</th>\n",
       "      <th>R1</th>\n",
       "      <th>R2</th>\n",
       "      <th>R3</th>\n",
       "      <th>R4A</th>\n",
       "      <th>R4S</th>\n",
       "      <th>Total</th>\n",
       "    </tr>\n",
       "  </thead>\n",
       "  <tbody>\n",
       "    <tr>\n",
       "      <th>3/3: Consensus</th>\n",
       "      <td>6</td>\n",
       "      <td>111</td>\n",
       "      <td>2</td>\n",
       "      <td>1</td>\n",
       "      <td>2</td>\n",
       "      <td>0</td>\n",
       "      <td>122</td>\n",
       "    </tr>\n",
       "    <tr>\n",
       "      <th>2/3: Majority</th>\n",
       "      <td>6</td>\n",
       "      <td>41</td>\n",
       "      <td>13</td>\n",
       "      <td>9</td>\n",
       "      <td>2</td>\n",
       "      <td>0</td>\n",
       "      <td>71</td>\n",
       "    </tr>\n",
       "    <tr>\n",
       "      <th>Deliberation</th>\n",
       "      <td>2</td>\n",
       "      <td>3</td>\n",
       "      <td>0</td>\n",
       "      <td>0</td>\n",
       "      <td>0</td>\n",
       "      <td>0</td>\n",
       "      <td>5</td>\n",
       "    </tr>\n",
       "  </tbody>\n",
       "</table>\n",
       "</div>"
      ],
      "text/plain": [
       "                R0   R1  R2  R3  R4A  R4S  Total\n",
       "3/3: Consensus   6  111   2   1    2    0    122\n",
       "2/3: Majority    6   41  13   9    2    0     71\n",
       "Deliberation     2    3   0   0    0    0      5"
      ]
     },
     "metadata": {},
     "output_type": "display_data"
    },
    {
     "data": {
      "text/html": [
       "<div>\n",
       "<style scoped>\n",
       "    .dataframe tbody tr th:only-of-type {\n",
       "        vertical-align: middle;\n",
       "    }\n",
       "\n",
       "    .dataframe tbody tr th {\n",
       "        vertical-align: top;\n",
       "    }\n",
       "\n",
       "    .dataframe thead th {\n",
       "        text-align: right;\n",
       "    }\n",
       "</style>\n",
       "<table border=\"1\" class=\"dataframe\">\n",
       "  <thead>\n",
       "    <tr style=\"text-align: right;\">\n",
       "      <th></th>\n",
       "      <th>M0</th>\n",
       "      <th>M1</th>\n",
       "      <th>M2</th>\n",
       "      <th>Total</th>\n",
       "    </tr>\n",
       "  </thead>\n",
       "  <tbody>\n",
       "    <tr>\n",
       "      <th>3/3: Consensus</th>\n",
       "      <td>21</td>\n",
       "      <td>12</td>\n",
       "      <td>84</td>\n",
       "      <td>117</td>\n",
       "    </tr>\n",
       "    <tr>\n",
       "      <th>2/3: Majority</th>\n",
       "      <td>23</td>\n",
       "      <td>17</td>\n",
       "      <td>28</td>\n",
       "      <td>68</td>\n",
       "    </tr>\n",
       "    <tr>\n",
       "      <th>Deliberation</th>\n",
       "      <td>12</td>\n",
       "      <td>0</td>\n",
       "      <td>0</td>\n",
       "      <td>12</td>\n",
       "    </tr>\n",
       "  </tbody>\n",
       "</table>\n",
       "</div>"
      ],
      "text/plain": [
       "                M0  M1  M2  Total\n",
       "3/3: Consensus  21  12  84    117\n",
       "2/3: Majority   23  17  28     68\n",
       "Deliberation    12   0   0     12"
      ]
     },
     "metadata": {},
     "output_type": "display_data"
    }
   ],
   "source": [
    "df_data = {\n",
    "    \"ME\": ME_diagnostic[gt],\n",
    "    \"DR\": DR_diagnostic[gt],\n",
    "    \"ME.nAgree\": sum(ME_diagnostic[gt] == ME_diagnostic[r] for r in retinologists),\n",
    "    \"DR.nAgree\": sum(DR_diagnostic[gt] == DR_diagnostic[r] for r in retinologists),\n",
    "}\n",
    "df = pd.DataFrame(df_data)\n",
    "\n",
    "agreement = {3: \"3/3: Consensus\", 2: \"2/3: Majority\", 1: \"Deliberation\"}\n",
    "dr_color_nAgree = {3: TEAL4, 2: TEAL2, 1: TEAL0}\n",
    "me_color_nAgree = {3: PURPLE4, 2: PURPLE2, 1: PURPLE0}\n",
    "histogram_DR = {\n",
    "    n: [((df[\"DR\"] == dr) & (df[\"DR.nAgree\"] == n)).sum() for dr in DR_grades] for n in dr_color_nAgree.keys()\n",
    "}\n",
    "histogram_ME = {\n",
    "    n: [((df[\"ME\"] == me) & (df[\"ME.nAgree\"] == n)).sum() for me in ME_grades] for n in me_color_nAgree.keys()\n",
    "}\n",
    "\n",
    "fig = make_subplots(rows=1, cols=2, horizontal_spacing=0.1, column_widths=[0.64, 0.32])\n",
    "\n",
    "text_styling = dict(textposition=\"outside\", textfont={\"size\": 11})\n",
    "\n",
    "for nAgree, agreeName in agreement.items():\n",
    "    color = dr_color_nAgree[nAgree]\n",
    "    legend = dict(name=agreeName, legendgroup=\"DR\", legendgrouptitle_text=\"<b>DR</b> Agreement\")\n",
    "    styling = dict(marker_color=color, width=0.5, dy=-1)\n",
    "    if nAgree == 1:\n",
    "        styling |= dict(\n",
    "            text=[(maples_diagnostics[\"MAPLES-DR.DR\"] == _).sum() for _ in DR_grades],\n",
    "            **text_styling,\n",
    "        )\n",
    "    fig.add_trace(\n",
    "        go.Bar(x=DR_grades, y=histogram_DR[nAgree], **styling, **legend),\n",
    "        row=1,\n",
    "        col=1,\n",
    "    )\n",
    "\n",
    "for nAgree, agreeName in agreement.items():\n",
    "    color = me_color_nAgree[nAgree]\n",
    "    legend = dict(name=agreeName, legendgroup=\"ME\", legendgrouptitle_text=\"<b>ME</b> Agreement\")\n",
    "    styling = dict(marker_color=color, width=0.5)\n",
    "    if nAgree == 1:\n",
    "        styling |= dict(\n",
    "            text=[(maples_diagnostics[\"MAPLES-DR.ME\"] == _).sum() for _ in ME_grades],\n",
    "            **text_styling,\n",
    "        )\n",
    "    fig.add_trace(\n",
    "        go.Bar(x=ME_grades, y=histogram_ME[nAgree], **styling, **legend),\n",
    "        row=1,\n",
    "        col=2,\n",
    "    )\n",
    "\n",
    "fig.layout.barmode = \"stack\"\n",
    "\n",
    "fig.update_yaxes(range=[0, 175])\n",
    "fig.update_yaxes(\n",
    "    title={\"text\": \"Number of images\", \"font_size\": 15},\n",
    "    tickfont={\"size\": 13},\n",
    "    row=1,\n",
    "    col=1,\n",
    ")\n",
    "fig.update_yaxes(row=1, col=2, showticklabels=False)\n",
    "fig.update_xaxes(tickfont={\"size\": 13})\n",
    "fig.update_xaxes(row=1, col=1, title={\"text\": \"<b>Diabetic Retinopathy</b>\", \"font_size\": 15})\n",
    "fig.update_xaxes(row=1, col=2, title={\"text\": \"<b>Macular Eudema</b>\", \"font_size\": 15})\n",
    "\n",
    "fig.update_layout(\n",
    "    bargap=0,\n",
    "    legend=dict(\n",
    "        orientation=\"h\",\n",
    "        yanchor=\"top\",\n",
    "        y=1.0,\n",
    "        xanchor=\"center\",\n",
    "        x=0.5,\n",
    "        bordercolor=\"#b5aaad\",\n",
    "        borderwidth=0.5,\n",
    "        grouptitlefont_size=11,\n",
    "    ),\n",
    "    height=300,\n",
    "    width=600,\n",
    "    template=\"plotly_white\",\n",
    "    margin={\"t\": 20, \"l\": 5, \"r\": 10, \"b\": 20},\n",
    ")\n",
    "\n",
    "fig.show()\n",
    "fig.write_image(\"figures/DR_post_dist.pdf\")\n",
    "\n",
    "DR_resume = pd.DataFrame(\n",
    "    {\n",
    "        dr: {agreeName: histogram_DR[nAgree][i_dr] for nAgree, agreeName in agreement.items()}\n",
    "        for i_dr, dr in enumerate(DR_grades)\n",
    "    }\n",
    ")\n",
    "DR_resume[\"Total\"] = DR_resume.sum(axis=1)\n",
    "display(DR_resume)\n",
    "\n",
    "ME_resume = pd.DataFrame(\n",
    "    {\n",
    "        me: {agreeName: histogram_ME[nAgree][i_me] for nAgree, agreeName in agreement.items()}\n",
    "        for i_me, me in enumerate(ME_grades)\n",
    "    }\n",
    ")\n",
    "ME_resume[\"Total\"] = ME_resume.sum(axis=1)\n",
    "\n",
    "display(ME_resume)"
   ]
  },
  {
   "cell_type": "markdown",
   "id": "f52c31a2",
   "metadata": {},
   "source": [
    "# Lesions Count\n"
   ]
  },
  {
   "cell_type": "code",
   "execution_count": 14,
   "id": "27f48597",
   "metadata": {},
   "outputs": [],
   "source": [
    "EXUDATES = BiomarkerField.EXUDATES.value\n",
    "COTTON_WOOL_SPOTS = BiomarkerField.COTTON_WOOL_SPOTS.value\n",
    "DRUSENS = BiomarkerField.DRUSENS.value\n",
    "BRIGHT_UNCERTAINS = BiomarkerField.BRIGHT_UNCERTAINS.value\n",
    "BRIGHT_LESIONS = BiomarkerField.BRIGHT_LESIONS.value\n",
    "MICROANEURYSMS = BiomarkerField.MICROANEURYSMS.value\n",
    "HEMORRHAGES = BiomarkerField.HEMORRHAGES.value\n",
    "NEOVASCULARIZATION = BiomarkerField.NEOVASCULARIZATION.value\n",
    "RED_UNCERTAINS = BiomarkerField.RED_UNCERTAINS.value\n",
    "RED_LESIONS = BiomarkerField.RED_LESIONS.value\n",
    "MACULA = BiomarkerField.MACULA.value\n",
    "OPTIC_DISC = BiomarkerField.OPTIC_DISC.value\n",
    "OPTIC_CUP = BiomarkerField.OPTIC_CUP.value\n",
    "VESSELS = BiomarkerField.VESSELS.value\n",
    "\n",
    "BRIGHT = [EXUDATES, COTTON_WOOL_SPOTS, DRUSENS, BRIGHT_UNCERTAINS]\n",
    "BRIGHT_PRE = [EXUDATES]\n",
    "RED = [MICROANEURYSMS, HEMORRHAGES, NEOVASCULARIZATION, RED_UNCERTAINS]\n",
    "RED_PRE = [MICROANEURYSMS, HEMORRHAGES]\n",
    "ANATOMICAL = [MACULA, OPTIC_DISC, OPTIC_CUP]"
   ]
  },
  {
   "cell_type": "markdown",
   "id": "10d282cb",
   "metadata": {},
   "source": [
    "### Prepare data\n"
   ]
  },
  {
   "cell_type": "markdown",
   "id": "02f441e5",
   "metadata": {},
   "source": [
    "#### Count Lesions"
   ]
  },
  {
   "cell_type": "code",
   "execution_count": 15,
   "id": "96ed531d",
   "metadata": {},
   "outputs": [],
   "source": [
    "lesions = [\n",
    "    BiomarkerField.MICROANEURYSMS,\n",
    "    BiomarkerField.HEMORRHAGES,\n",
    "    BiomarkerField.NEOVASCULARIZATION,\n",
    "    BiomarkerField.EXUDATES,\n",
    "    BiomarkerField.COTTON_WOOL_SPOTS,\n",
    "    BiomarkerField.DRUSENS,\n",
    "]\n",
    "\n",
    "\n",
    "def lesions_info(img: np.ndarray) -> dict:\n",
    "    # Count lesions\n",
    "    labels = measure.label(img)\n",
    "    lesions_count = labels.max()\n",
    "    if lesions_count == 0:\n",
    "        return {\"count\": 0, \"area\": 0, \"med_size\": float(\"nan\")}\n",
    "    # Compute average lesions area\n",
    "    lesions_sizes = [np.sum(labels == i) for i in range(1, lesions_count + 1)]\n",
    "    return {\n",
    "        \"count\": lesions_count,\n",
    "        \"area\": img.sum(),\n",
    "        \"med_size\": np.median(lesions_sizes),\n",
    "    }\n",
    "\n",
    "\n",
    "lesion_data = []\n",
    "for sample in maples_dataset:\n",
    "    for lesion in lesions:\n",
    "        lesion_data += [lesions_info(sample[lesion]) | {\"name\": sample.name, \"lesion\": lesion.value}]\n",
    "all_dataset_long = pd.DataFrame(lesion_data).merge(maples_diagnostics, left_on=\"name\", right_index=True)"
   ]
  },
  {
   "cell_type": "markdown",
   "id": "7e8d2c83",
   "metadata": {},
   "source": [
    "#### Measure pixel differences before and after corrections"
   ]
  },
  {
   "cell_type": "code",
   "execution_count": 16,
   "id": "1580a4c0",
   "metadata": {},
   "outputs": [],
   "source": [
    "def single_image_correction_stat(sample, annotation_labels, preannotation_labels=()):\n",
    "    annotation_labels = {i + 1: b for i, b in enumerate(annotation_labels)}\n",
    "    annotations = sample.read_multiple_biomarkers(annotation_labels)\n",
    "    if len(preannotation_labels):\n",
    "        preannotation_labels = {i + 1: b for i, b in enumerate(preannotation_labels)}\n",
    "        preannotations = sample.read_multiple_biomarkers(preannotation_labels, pre_annotation=True)\n",
    "        return sklearn_confmat(\n",
    "            annotations.flatten(),\n",
    "            preannotations.flatten(),\n",
    "            labels=np.arange(len(annotation_labels) + 1),\n",
    "        )\n",
    "    else:\n",
    "        return np.array([[(_ == annotations).sum()] for _ in range(len(annotation_labels) + 1)])\n",
    "\n",
    "\n",
    "def correction_stat(annotation_labels, preannotation_labels=(), desc=None):\n",
    "    cm = None\n",
    "    for sample in tqdm(maples_dataset, desc=desc):\n",
    "        cm_img = single_image_correction_stat(sample, annotation_labels, preannotation_labels)\n",
    "        if cm is None:\n",
    "            cm = cm_img\n",
    "        else:\n",
    "            cm += cm_img\n",
    "    df = pd.DataFrame(\n",
    "        cm[:, : len(preannotation_labels) + 1],\n",
    "        columns=[\"back\"] + list(preannotation_labels),\n",
    "        index=[\"back\"] + list(annotation_labels),\n",
    "    )\n",
    "    return df"
   ]
  },
  {
   "cell_type": "code",
   "execution_count": 17,
   "id": "5d530fcd",
   "metadata": {},
   "outputs": [
    {
     "name": "stderr",
     "output_type": "stream",
     "text": [
      "Bright lesions:   0%|          | 0/198 [00:00<?, ?it/s]"
     ]
    },
    {
     "name": "stderr",
     "output_type": "stream",
     "text": [
      "Bright lesions: 100%|██████████| 198/198 [00:23<00:00,  8.27it/s]\n"
     ]
    },
    {
     "data": {
      "text/html": [
       "<div>\n",
       "<style scoped>\n",
       "    .dataframe tbody tr th:only-of-type {\n",
       "        vertical-align: middle;\n",
       "    }\n",
       "\n",
       "    .dataframe tbody tr th {\n",
       "        vertical-align: top;\n",
       "    }\n",
       "\n",
       "    .dataframe thead th {\n",
       "        text-align: right;\n",
       "    }\n",
       "</style>\n",
       "<table border=\"1\" class=\"dataframe\">\n",
       "  <thead>\n",
       "    <tr style=\"text-align: right;\">\n",
       "      <th></th>\n",
       "      <th>back</th>\n",
       "      <th>exudates</th>\n",
       "    </tr>\n",
       "  </thead>\n",
       "  <tbody>\n",
       "    <tr>\n",
       "      <th>back</th>\n",
       "      <td>443060218</td>\n",
       "      <td>580277</td>\n",
       "    </tr>\n",
       "    <tr>\n",
       "      <th>exudates</th>\n",
       "      <td>159761</td>\n",
       "      <td>975972</td>\n",
       "    </tr>\n",
       "    <tr>\n",
       "      <th>cottonWoolSpots</th>\n",
       "      <td>231900</td>\n",
       "      <td>64785</td>\n",
       "    </tr>\n",
       "    <tr>\n",
       "      <th>drusens</th>\n",
       "      <td>220802</td>\n",
       "      <td>33725</td>\n",
       "    </tr>\n",
       "    <tr>\n",
       "      <th>brightUncertains</th>\n",
       "      <td>136471</td>\n",
       "      <td>36089</td>\n",
       "    </tr>\n",
       "  </tbody>\n",
       "</table>\n",
       "</div>"
      ],
      "text/plain": [
       "                       back  exudates\n",
       "back              443060218    580277\n",
       "exudates             159761    975972\n",
       "cottonWoolSpots      231900     64785\n",
       "drusens              220802     33725\n",
       "brightUncertains     136471     36089"
      ]
     },
     "execution_count": 17,
     "metadata": {},
     "output_type": "execute_result"
    }
   ],
   "source": [
    "bright_cm = correction_stat(BRIGHT, BRIGHT_PRE, desc=\"Bright lesions\")\n",
    "bright_cm"
   ]
  },
  {
   "cell_type": "code",
   "execution_count": 18,
   "id": "5d27922a",
   "metadata": {},
   "outputs": [
    {
     "name": "stderr",
     "output_type": "stream",
     "text": [
      "Red lesions:   0%|          | 0/198 [00:00<?, ?it/s]"
     ]
    },
    {
     "name": "stderr",
     "output_type": "stream",
     "text": [
      "Red lesions: 100%|██████████| 198/198 [00:22<00:00,  8.88it/s]\n"
     ]
    },
    {
     "data": {
      "text/html": [
       "<div>\n",
       "<style scoped>\n",
       "    .dataframe tbody tr th:only-of-type {\n",
       "        vertical-align: middle;\n",
       "    }\n",
       "\n",
       "    .dataframe tbody tr th {\n",
       "        vertical-align: top;\n",
       "    }\n",
       "\n",
       "    .dataframe thead th {\n",
       "        text-align: right;\n",
       "    }\n",
       "</style>\n",
       "<table border=\"1\" class=\"dataframe\">\n",
       "  <thead>\n",
       "    <tr style=\"text-align: right;\">\n",
       "      <th></th>\n",
       "      <th>back</th>\n",
       "      <th>microaneurysms</th>\n",
       "      <th>hemorrhages</th>\n",
       "    </tr>\n",
       "  </thead>\n",
       "  <tbody>\n",
       "    <tr>\n",
       "      <th>back</th>\n",
       "      <td>442220222</td>\n",
       "      <td>519144</td>\n",
       "      <td>789048</td>\n",
       "    </tr>\n",
       "    <tr>\n",
       "      <th>microaneurysms</th>\n",
       "      <td>123659</td>\n",
       "      <td>717196</td>\n",
       "      <td>8153</td>\n",
       "    </tr>\n",
       "    <tr>\n",
       "      <th>hemorrhages</th>\n",
       "      <td>154613</td>\n",
       "      <td>55691</td>\n",
       "      <td>643200</td>\n",
       "    </tr>\n",
       "    <tr>\n",
       "      <th>neovascularization</th>\n",
       "      <td>254066</td>\n",
       "      <td>1192</td>\n",
       "      <td>2904</td>\n",
       "    </tr>\n",
       "    <tr>\n",
       "      <th>redUncertains</th>\n",
       "      <td>10013</td>\n",
       "      <td>899</td>\n",
       "      <td>0</td>\n",
       "    </tr>\n",
       "  </tbody>\n",
       "</table>\n",
       "</div>"
      ],
      "text/plain": [
       "                         back  microaneurysms  hemorrhages\n",
       "back                442220222          519144       789048\n",
       "microaneurysms         123659          717196         8153\n",
       "hemorrhages            154613           55691       643200\n",
       "neovascularization     254066            1192         2904\n",
       "redUncertains           10013             899            0"
      ]
     },
     "execution_count": 18,
     "metadata": {},
     "output_type": "execute_result"
    }
   ],
   "source": [
    "red_cm = correction_stat(RED, RED_PRE, desc=\"Red lesions\")\n",
    "red_cm"
   ]
  },
  {
   "cell_type": "code",
   "execution_count": 19,
   "id": "212c54c4",
   "metadata": {},
   "outputs": [
    {
     "name": "stderr",
     "output_type": "stream",
     "text": [
      "Vessels:   0%|          | 0/198 [00:00<?, ?it/s]"
     ]
    },
    {
     "name": "stderr",
     "output_type": "stream",
     "text": [
      "Vessels: 100%|██████████| 198/198 [00:26<00:00,  7.55it/s]\n"
     ]
    },
    {
     "data": {
      "text/html": [
       "<div>\n",
       "<style scoped>\n",
       "    .dataframe tbody tr th:only-of-type {\n",
       "        vertical-align: middle;\n",
       "    }\n",
       "\n",
       "    .dataframe tbody tr th {\n",
       "        vertical-align: top;\n",
       "    }\n",
       "\n",
       "    .dataframe thead th {\n",
       "        text-align: right;\n",
       "    }\n",
       "</style>\n",
       "<table border=\"1\" class=\"dataframe\">\n",
       "  <thead>\n",
       "    <tr style=\"text-align: right;\">\n",
       "      <th></th>\n",
       "      <th>back</th>\n",
       "      <th>vessels</th>\n",
       "    </tr>\n",
       "  </thead>\n",
       "  <tbody>\n",
       "    <tr>\n",
       "      <th>back</th>\n",
       "      <td>391910724</td>\n",
       "      <td>2134922</td>\n",
       "    </tr>\n",
       "    <tr>\n",
       "      <th>vessels</th>\n",
       "      <td>11682492</td>\n",
       "      <td>39771862</td>\n",
       "    </tr>\n",
       "  </tbody>\n",
       "</table>\n",
       "</div>"
      ],
      "text/plain": [
       "              back   vessels\n",
       "back     391910724   2134922\n",
       "vessels   11682492  39771862"
      ]
     },
     "execution_count": 19,
     "metadata": {},
     "output_type": "execute_result"
    }
   ],
   "source": [
    "vessels_cm = correction_stat([VESSELS], [VESSELS], desc=\"Vessels\")\n",
    "vessels_cm"
   ]
  },
  {
   "cell_type": "code",
   "execution_count": 20,
   "id": "9561e507",
   "metadata": {},
   "outputs": [
    {
     "name": "stderr",
     "output_type": "stream",
     "text": [
      "Anatomical:   0%|          | 0/198 [00:00<?, ?it/s]"
     ]
    },
    {
     "name": "stderr",
     "output_type": "stream",
     "text": [
      "Anatomical: 100%|██████████| 198/198 [00:03<00:00, 51.21it/s]\n"
     ]
    },
    {
     "data": {
      "text/html": [
       "<div>\n",
       "<style scoped>\n",
       "    .dataframe tbody tr th:only-of-type {\n",
       "        vertical-align: middle;\n",
       "    }\n",
       "\n",
       "    .dataframe tbody tr th {\n",
       "        vertical-align: top;\n",
       "    }\n",
       "\n",
       "    .dataframe thead th {\n",
       "        text-align: right;\n",
       "    }\n",
       "</style>\n",
       "<table border=\"1\" class=\"dataframe\">\n",
       "  <thead>\n",
       "    <tr style=\"text-align: right;\">\n",
       "      <th></th>\n",
       "      <th>back</th>\n",
       "    </tr>\n",
       "  </thead>\n",
       "  <tbody>\n",
       "    <tr>\n",
       "      <th>back</th>\n",
       "      <td>437731445</td>\n",
       "    </tr>\n",
       "    <tr>\n",
       "      <th>macula</th>\n",
       "      <td>339692</td>\n",
       "    </tr>\n",
       "    <tr>\n",
       "      <th>opticDisc</th>\n",
       "      <td>6164734</td>\n",
       "    </tr>\n",
       "    <tr>\n",
       "      <th>opticCup</th>\n",
       "      <td>1264129</td>\n",
       "    </tr>\n",
       "  </tbody>\n",
       "</table>\n",
       "</div>"
      ],
      "text/plain": [
       "                back\n",
       "back       437731445\n",
       "macula        339692\n",
       "opticDisc    6164734\n",
       "opticCup     1264129"
      ]
     },
     "execution_count": 20,
     "metadata": {},
     "output_type": "execute_result"
    }
   ],
   "source": [
    "anatomical_stat = correction_stat(ANATOMICAL, desc=\"Anatomical\")\n",
    "anatomical_stat"
   ]
  },
  {
   "cell_type": "markdown",
   "id": "ea6459f4",
   "metadata": {},
   "source": [
    "### Plots\n"
   ]
  },
  {
   "cell_type": "markdown",
   "id": "5a4e6983",
   "metadata": {},
   "source": [
    "##### Overview of Preannotations Corrections "
   ]
  },
  {
   "cell_type": "code",
   "execution_count": 21,
   "id": "6b942203",
   "metadata": {},
   "outputs": [],
   "source": [
    "ADDED = \"Manual Annotations\"\n",
    "ERASED = \"Erased Preannotations\"\n",
    "\n",
    "\n",
    "def PRE(lesion):\n",
    "    return lesion.strip().capitalize() + \" Preannotations\"\n",
    "\n",
    "\n",
    "TOTAL = \"Total\"\n",
    "\n",
    "names_map = {\n",
    "    MICROANEURYSMS: \"Microaneurysms\",\n",
    "    HEMORRHAGES: \"Hemorrhages\",\n",
    "    NEOVASCULARIZATION: \"Neovascularization\",\n",
    "    RED_UNCERTAINS: \"Uncertain Red Lesions\",\n",
    "    EXUDATES: \"Exudates\",\n",
    "    COTTON_WOOL_SPOTS: \"Cotton Wool Spots\",\n",
    "    DRUSENS: \"Drusens\",\n",
    "    BRIGHT_UNCERTAINS: \"         Uncertain Bright Lesions\",\n",
    "}\n",
    "red = [lesion for lesion in names_map.keys() if lesion in RED]\n",
    "bright = [lesion for lesion in names_map.keys() if lesion in BRIGHT]\n",
    "red_labels = list(map(names_map.get, red))\n",
    "bright_labels = list(map(names_map.get, bright))"
   ]
  },
  {
   "cell_type": "code",
   "execution_count": 22,
   "id": "a5d3915a",
   "metadata": {},
   "outputs": [],
   "source": [
    "total_px = 1500 * 1500 * 200\n",
    "# coef = 1/total\n",
    "\n",
    "\n",
    "def select_erased(for_lesions, conf_mat):\n",
    "    selected_data = np.array([conf_mat[l][\"back\"] if l in conf_mat else 0 for l in for_lesions])\n",
    "    return selected_data\n",
    "\n",
    "\n",
    "def select_preannotated(preannotation, for_lesions, conf_mat):\n",
    "    selected_data = np.array([conf_mat[preannotation][l] if l in conf_mat[preannotation] else 0 for l in for_lesions])\n",
    "    return selected_data\n",
    "\n",
    "\n",
    "def select_added(for_lesions, conf_mat):\n",
    "    selected_data = np.array([conf_mat[\"back\"][l] if l in conf_mat[\"back\"] else 0 for l in for_lesions])\n",
    "    return selected_data\n",
    "\n",
    "\n",
    "def compute_total(for_lesions, conf_mat):\n",
    "    selected_data = np.array([conf_mat.T[l].sum() if l in conf_mat.T else 0 for l in for_lesions])\n",
    "    return selected_data\n",
    "\n",
    "\n",
    "# === Red lesions ===\n",
    "red_data = {\n",
    "    ERASED: select_erased(red, red_cm),\n",
    "    PRE(\"microaneurysms\"): select_preannotated(MICROANEURYSMS, red, red_cm),\n",
    "    PRE(\"hemorrhages\"): select_preannotated(HEMORRHAGES, red, red_cm),\n",
    "    ADDED: select_added(red, red_cm),\n",
    "    TOTAL: compute_total(red, red_cm),\n",
    "}\n",
    "\n",
    "# === Bright lesions ===\n",
    "bright_data = {\n",
    "    ERASED: select_erased(bright, bright_cm),\n",
    "    PRE(\"exudates\"): select_preannotated(EXUDATES, bright, bright_cm),\n",
    "    ADDED: select_added(bright, bright_cm),\n",
    "    TOTAL: compute_total(bright, bright_cm),\n",
    "}\n",
    "\n",
    "# === Vessels ===\n",
    "vessels_data = {\n",
    "    ERASED: select_erased([VESSELS], vessels_cm)[0],\n",
    "    PRE(\"vessels\"): select_preannotated(VESSELS, [VESSELS], vessels_cm)[0],\n",
    "    ADDED: select_added([VESSELS], vessels_cm)[0],\n",
    "    TOTAL: compute_total([VESSELS], vessels_cm)[0],\n",
    "}"
   ]
  },
  {
   "cell_type": "code",
   "execution_count": 23,
   "id": "82c248fd",
   "metadata": {},
   "outputs": [
    {
     "data": {
      "application/vnd.plotly.v1+json": {
       "config": {
        "plotlyServerURL": "https://plot.ly"
       },
       "data": [
        {
         "insidetextanchor": "middle",
         "legendgroup": "red",
         "legendgrouptitle": {
          "text": "Red Lesions"
         },
         "legendrank": 3,
         "marker": {
          "color": "#beadd1"
         },
         "name": "Erased Preannotations",
         "orientation": "h",
         "text": [
          "<b>2.6</b> kpx",
          "<b>3.9</b> kpx",
          "<b>0</b> px",
          "<b>0</b> px"
         ],
         "textfont": {
          "color": "#ffffff",
          "size": 10
         },
         "type": "bar",
         "width": 0.75,
         "x": [
          -0.0011536533333333333,
          -0.00175344,
          0,
          0
         ],
         "xaxis": "x",
         "y": [
          "Microaneurysms",
          "Hemorrhages",
          "Neovascularization",
          "Uncertain Red Lesions"
         ],
         "yaxis": "y"
        },
        {
         "base": [
          0,
          0,
          0,
          0
         ],
         "legendgroup": "red",
         "legendgrouptitle": {
          "text": "Red Lesions"
         },
         "legendrank": 2,
         "marker": {
          "color": "#7f5fa9"
         },
         "name": "Hemorrhages Preannotations",
         "orientation": "h",
         "type": "bar",
         "width": 0.75,
         "x": [
          0.000018117777777777777,
          0.0014293333333333332,
          0.000006453333333333333,
          0
         ],
         "xaxis": "x",
         "y": [
          "Microaneurysms",
          "Hemorrhages",
          "Neovascularization",
          "Uncertain Red Lesions"
         ],
         "yaxis": "y"
        },
        {
         "base": [
          0.000018117777777777777,
          0.0014293333333333332,
          0.000006453333333333333,
          0
         ],
         "legendgroup": "red",
         "legendgrouptitle": {
          "text": "Red Lesions"
         },
         "legendrank": 1,
         "marker": {
          "color": "#8e5ea1"
         },
         "name": "Microaneurysms Preannotations",
         "orientation": "h",
         "type": "bar",
         "width": 0.75,
         "x": [
          0.0015937688888888889,
          0.00012375777777777779,
          0.0000026488888888888888,
          0.0000019977777777777778
         ],
         "xaxis": "x",
         "y": [
          "Microaneurysms",
          "Hemorrhages",
          "Neovascularization",
          "Uncertain Red Lesions"
         ],
         "yaxis": "y"
        },
        {
         "base": [
          0.0016118866666666666,
          0.0015530911111111111,
          0.000009102222222222222,
          0.0000019977777777777778
         ],
         "insidetextanchor": "middle",
         "legendgroup": "red",
         "legendgrouptitle": {
          "text": "Red Lesions"
         },
         "legendrank": 0,
         "marker": {
          "color": "#6a1e75"
         },
         "name": "Manual Annotations",
         "orientation": "h",
         "text": [
          "<b>618</b> px",
          "<b>773</b> px",
          "<b>1.3</b> kpx",
          "<b>50</b> px"
         ],
         "textfont": {
          "color": "#ffffff",
          "size": 10
         },
         "type": "bar",
         "width": 0.75,
         "x": [
          0.0002747977777777778,
          0.00034358444444444443,
          0.0005645911111111111,
          0.00002225111111111111
         ],
         "xaxis": "x",
         "y": [
          "Microaneurysms",
          "Hemorrhages",
          "Neovascularization",
          "Uncertain Red Lesions"
         ],
         "yaxis": "y"
        },
        {
         "insidetextanchor": "middle",
         "legendgroup": "bright",
         "legendgrouptitle": {
          "text": "Bright Lesions"
         },
         "legendrank": 2,
         "marker": {
          "color": "#9ec5d4"
         },
         "name": "Erased Preannotations",
         "orientation": "h",
         "text": [
          "<b>2.9</b> kpx",
          "<b>0</b> px",
          "<b>0</b> px",
          "<b>0</b> px"
         ],
         "textfont": {
          "color": "#ffffff",
          "size": 10
         },
         "type": "bar",
         "width": 0.75,
         "x": [
          -0.0012895044444444445,
          0,
          0,
          0
         ],
         "xaxis": "x2",
         "y": [
          "Exudates",
          "Cotton Wool Spots",
          "Drusens",
          "         Uncertain Bright Lesions"
         ],
         "yaxis": "y2"
        },
        {
         "base": [
          0,
          0,
          0,
          0
         ],
         "legendgroup": "bright",
         "legendgrouptitle": {
          "text": "Bright Lesions"
         },
         "legendrank": 1,
         "marker": {
          "color": "#4b8a9f"
         },
         "name": "Exudates Preannotations",
         "orientation": "h",
         "type": "bar",
         "width": 0.75,
         "x": [
          0.0021688266666666667,
          0.00014396666666666668,
          0.00007494444444444444,
          0.00008019777777777778
         ],
         "xaxis": "x2",
         "y": [
          "Exudates",
          "Cotton Wool Spots",
          "Drusens",
          "         Uncertain Bright Lesions"
         ],
         "yaxis": "y2"
        },
        {
         "base": [
          0.0021688266666666667,
          0.00014396666666666668,
          0.00007494444444444444,
          0.00008019777777777778
         ],
         "insidetextanchor": "middle",
         "legendgroup": "bright",
         "legendgrouptitle": {
          "text": "Bright Lesions"
         },
         "legendrank": 0,
         "marker": {
          "color": "#14597e"
         },
         "name": "Manual Annotations",
         "orientation": "h",
         "text": [
          "<b>799</b> px",
          "<b>1.2</b> kpx",
          "<b>1.1</b> kpx",
          "<b>682</b> px"
         ],
         "textfont": {
          "color": "#ffffff",
          "size": 10
         },
         "type": "bar",
         "width": 0.75,
         "x": [
          0.00035502444444444447,
          0.0005153333333333334,
          0.0004906711111111111,
          0.0003032688888888889
         ],
         "xaxis": "x2",
         "y": [
          "Exudates",
          "Cotton Wool Spots",
          "Drusens",
          "         Uncertain Bright Lesions"
         ],
         "yaxis": "y2"
        }
       ],
       "layout": {
        "annotations": [
         {
          "font": {
           "color": "#6a1e75",
           "size": 11
          },
          "showarrow": false,
          "text": "1.89‰",
          "x": 0.0018866844444444444,
          "xanchor": "left",
          "xref": "x",
          "y": "Microaneurysms",
          "yref": "y"
         },
         {
          "font": {
           "color": "#6a1e75",
           "size": 11
          },
          "showarrow": false,
          "text": "1.90‰",
          "x": 0.0018966755555555556,
          "xanchor": "left",
          "xref": "x",
          "y": "Hemorrhages",
          "yref": "y"
         },
         {
          "font": {
           "color": "#6a1e75",
           "size": 11
          },
          "showarrow": false,
          "text": "0.57‰",
          "x": 0.0005736933333333334,
          "xanchor": "left",
          "xref": "x",
          "y": "Neovascularization",
          "yref": "y"
         },
         {
          "font": {
           "color": "#6a1e75",
           "size": 11
          },
          "showarrow": false,
          "text": "0.02‰",
          "x": 0.00002424888888888889,
          "xanchor": "left",
          "xref": "x",
          "y": "Uncertain Red Lesions",
          "yref": "y"
         },
         {
          "font": {
           "color": "#14597e",
           "size": 11
          },
          "showarrow": false,
          "text": "2.52‰",
          "x": 0.002523851111111111,
          "xanchor": "left",
          "xref": "x2",
          "y": "Exudates",
          "yref": "y2"
         },
         {
          "font": {
           "color": "#14597e",
           "size": 11
          },
          "showarrow": false,
          "text": "0.66‰",
          "x": 0.0006593,
          "xanchor": "left",
          "xref": "x2",
          "y": "Cotton Wool Spots",
          "yref": "y2"
         },
         {
          "font": {
           "color": "#14597e",
           "size": 11
          },
          "showarrow": false,
          "text": "0.57‰",
          "x": 0.0005656155555555556,
          "xanchor": "left",
          "xref": "x2",
          "y": "Drusens",
          "yref": "y2"
         },
         {
          "font": {
           "color": "#14597e",
           "size": 11
          },
          "showarrow": false,
          "text": "0.38‰",
          "x": 0.00038346666666666665,
          "xanchor": "left",
          "xref": "x2",
          "y": "         Uncertain Bright Lesions",
          "yref": "y2"
         },
         {
          "font": {
           "size": 15
          },
          "showarrow": false,
          "text": "Final Annotated Area per Image",
          "x": 0.00015,
          "xanchor": "left",
          "xref": "x",
          "y": -0.145,
          "yref": "paper"
         },
         {
          "font": {
           "color": "#888",
           "size": 13
          },
          "showarrow": false,
          "text": "Erased Preannotations",
          "x": -0.00015,
          "xanchor": "right",
          "xref": "x",
          "y": -0.145,
          "yref": "paper"
         },
         {
          "font": {
           "size": 15
          },
          "showarrow": false,
          "text": "<b>Lesions</b>",
          "textangle": -90,
          "x": -0.27,
          "xref": "paper",
          "y": 0.5,
          "yref": "paper"
         }
        ],
        "barmode": "overlay",
        "height": 400,
        "legend": {
         "bordercolor": "#b5aaad",
         "borderwidth": 0.5,
         "font": {
          "size": 11
         },
         "orientation": "h",
         "x": 0.1,
         "xanchor": "left",
         "y": 1.05,
         "yanchor": "bottom"
        },
        "margin": {
         "b": 35,
         "l": 10,
         "r": 30,
         "t": 0
        },
        "template": {
         "data": {
          "bar": [
           {
            "error_x": {
             "color": "#2a3f5f"
            },
            "error_y": {
             "color": "#2a3f5f"
            },
            "marker": {
             "line": {
              "color": "white",
              "width": 0.5
             },
             "pattern": {
              "fillmode": "overlay",
              "size": 10,
              "solidity": 0.2
             }
            },
            "type": "bar"
           }
          ],
          "barpolar": [
           {
            "marker": {
             "line": {
              "color": "white",
              "width": 0.5
             },
             "pattern": {
              "fillmode": "overlay",
              "size": 10,
              "solidity": 0.2
             }
            },
            "type": "barpolar"
           }
          ],
          "carpet": [
           {
            "aaxis": {
             "endlinecolor": "#2a3f5f",
             "gridcolor": "#C8D4E3",
             "linecolor": "#C8D4E3",
             "minorgridcolor": "#C8D4E3",
             "startlinecolor": "#2a3f5f"
            },
            "baxis": {
             "endlinecolor": "#2a3f5f",
             "gridcolor": "#C8D4E3",
             "linecolor": "#C8D4E3",
             "minorgridcolor": "#C8D4E3",
             "startlinecolor": "#2a3f5f"
            },
            "type": "carpet"
           }
          ],
          "choropleth": [
           {
            "colorbar": {
             "outlinewidth": 0,
             "ticks": ""
            },
            "type": "choropleth"
           }
          ],
          "contour": [
           {
            "colorbar": {
             "outlinewidth": 0,
             "ticks": ""
            },
            "colorscale": [
             [
              0,
              "#0d0887"
             ],
             [
              0.1111111111111111,
              "#46039f"
             ],
             [
              0.2222222222222222,
              "#7201a8"
             ],
             [
              0.3333333333333333,
              "#9c179e"
             ],
             [
              0.4444444444444444,
              "#bd3786"
             ],
             [
              0.5555555555555556,
              "#d8576b"
             ],
             [
              0.6666666666666666,
              "#ed7953"
             ],
             [
              0.7777777777777778,
              "#fb9f3a"
             ],
             [
              0.8888888888888888,
              "#fdca26"
             ],
             [
              1,
              "#f0f921"
             ]
            ],
            "type": "contour"
           }
          ],
          "contourcarpet": [
           {
            "colorbar": {
             "outlinewidth": 0,
             "ticks": ""
            },
            "type": "contourcarpet"
           }
          ],
          "heatmap": [
           {
            "colorbar": {
             "outlinewidth": 0,
             "ticks": ""
            },
            "colorscale": [
             [
              0,
              "#0d0887"
             ],
             [
              0.1111111111111111,
              "#46039f"
             ],
             [
              0.2222222222222222,
              "#7201a8"
             ],
             [
              0.3333333333333333,
              "#9c179e"
             ],
             [
              0.4444444444444444,
              "#bd3786"
             ],
             [
              0.5555555555555556,
              "#d8576b"
             ],
             [
              0.6666666666666666,
              "#ed7953"
             ],
             [
              0.7777777777777778,
              "#fb9f3a"
             ],
             [
              0.8888888888888888,
              "#fdca26"
             ],
             [
              1,
              "#f0f921"
             ]
            ],
            "type": "heatmap"
           }
          ],
          "heatmapgl": [
           {
            "colorbar": {
             "outlinewidth": 0,
             "ticks": ""
            },
            "colorscale": [
             [
              0,
              "#0d0887"
             ],
             [
              0.1111111111111111,
              "#46039f"
             ],
             [
              0.2222222222222222,
              "#7201a8"
             ],
             [
              0.3333333333333333,
              "#9c179e"
             ],
             [
              0.4444444444444444,
              "#bd3786"
             ],
             [
              0.5555555555555556,
              "#d8576b"
             ],
             [
              0.6666666666666666,
              "#ed7953"
             ],
             [
              0.7777777777777778,
              "#fb9f3a"
             ],
             [
              0.8888888888888888,
              "#fdca26"
             ],
             [
              1,
              "#f0f921"
             ]
            ],
            "type": "heatmapgl"
           }
          ],
          "histogram": [
           {
            "marker": {
             "pattern": {
              "fillmode": "overlay",
              "size": 10,
              "solidity": 0.2
             }
            },
            "type": "histogram"
           }
          ],
          "histogram2d": [
           {
            "colorbar": {
             "outlinewidth": 0,
             "ticks": ""
            },
            "colorscale": [
             [
              0,
              "#0d0887"
             ],
             [
              0.1111111111111111,
              "#46039f"
             ],
             [
              0.2222222222222222,
              "#7201a8"
             ],
             [
              0.3333333333333333,
              "#9c179e"
             ],
             [
              0.4444444444444444,
              "#bd3786"
             ],
             [
              0.5555555555555556,
              "#d8576b"
             ],
             [
              0.6666666666666666,
              "#ed7953"
             ],
             [
              0.7777777777777778,
              "#fb9f3a"
             ],
             [
              0.8888888888888888,
              "#fdca26"
             ],
             [
              1,
              "#f0f921"
             ]
            ],
            "type": "histogram2d"
           }
          ],
          "histogram2dcontour": [
           {
            "colorbar": {
             "outlinewidth": 0,
             "ticks": ""
            },
            "colorscale": [
             [
              0,
              "#0d0887"
             ],
             [
              0.1111111111111111,
              "#46039f"
             ],
             [
              0.2222222222222222,
              "#7201a8"
             ],
             [
              0.3333333333333333,
              "#9c179e"
             ],
             [
              0.4444444444444444,
              "#bd3786"
             ],
             [
              0.5555555555555556,
              "#d8576b"
             ],
             [
              0.6666666666666666,
              "#ed7953"
             ],
             [
              0.7777777777777778,
              "#fb9f3a"
             ],
             [
              0.8888888888888888,
              "#fdca26"
             ],
             [
              1,
              "#f0f921"
             ]
            ],
            "type": "histogram2dcontour"
           }
          ],
          "mesh3d": [
           {
            "colorbar": {
             "outlinewidth": 0,
             "ticks": ""
            },
            "type": "mesh3d"
           }
          ],
          "parcoords": [
           {
            "line": {
             "colorbar": {
              "outlinewidth": 0,
              "ticks": ""
             }
            },
            "type": "parcoords"
           }
          ],
          "pie": [
           {
            "automargin": true,
            "type": "pie"
           }
          ],
          "scatter": [
           {
            "fillpattern": {
             "fillmode": "overlay",
             "size": 10,
             "solidity": 0.2
            },
            "type": "scatter"
           }
          ],
          "scatter3d": [
           {
            "line": {
             "colorbar": {
              "outlinewidth": 0,
              "ticks": ""
             }
            },
            "marker": {
             "colorbar": {
              "outlinewidth": 0,
              "ticks": ""
             }
            },
            "type": "scatter3d"
           }
          ],
          "scattercarpet": [
           {
            "marker": {
             "colorbar": {
              "outlinewidth": 0,
              "ticks": ""
             }
            },
            "type": "scattercarpet"
           }
          ],
          "scattergeo": [
           {
            "marker": {
             "colorbar": {
              "outlinewidth": 0,
              "ticks": ""
             }
            },
            "type": "scattergeo"
           }
          ],
          "scattergl": [
           {
            "marker": {
             "colorbar": {
              "outlinewidth": 0,
              "ticks": ""
             }
            },
            "type": "scattergl"
           }
          ],
          "scattermapbox": [
           {
            "marker": {
             "colorbar": {
              "outlinewidth": 0,
              "ticks": ""
             }
            },
            "type": "scattermapbox"
           }
          ],
          "scatterpolar": [
           {
            "marker": {
             "colorbar": {
              "outlinewidth": 0,
              "ticks": ""
             }
            },
            "type": "scatterpolar"
           }
          ],
          "scatterpolargl": [
           {
            "marker": {
             "colorbar": {
              "outlinewidth": 0,
              "ticks": ""
             }
            },
            "type": "scatterpolargl"
           }
          ],
          "scatterternary": [
           {
            "marker": {
             "colorbar": {
              "outlinewidth": 0,
              "ticks": ""
             }
            },
            "type": "scatterternary"
           }
          ],
          "surface": [
           {
            "colorbar": {
             "outlinewidth": 0,
             "ticks": ""
            },
            "colorscale": [
             [
              0,
              "#0d0887"
             ],
             [
              0.1111111111111111,
              "#46039f"
             ],
             [
              0.2222222222222222,
              "#7201a8"
             ],
             [
              0.3333333333333333,
              "#9c179e"
             ],
             [
              0.4444444444444444,
              "#bd3786"
             ],
             [
              0.5555555555555556,
              "#d8576b"
             ],
             [
              0.6666666666666666,
              "#ed7953"
             ],
             [
              0.7777777777777778,
              "#fb9f3a"
             ],
             [
              0.8888888888888888,
              "#fdca26"
             ],
             [
              1,
              "#f0f921"
             ]
            ],
            "type": "surface"
           }
          ],
          "table": [
           {
            "cells": {
             "fill": {
              "color": "#EBF0F8"
             },
             "line": {
              "color": "white"
             }
            },
            "header": {
             "fill": {
              "color": "#C8D4E3"
             },
             "line": {
              "color": "white"
             }
            },
            "type": "table"
           }
          ]
         },
         "layout": {
          "annotationdefaults": {
           "arrowcolor": "#2a3f5f",
           "arrowhead": 0,
           "arrowwidth": 1
          },
          "autotypenumbers": "strict",
          "coloraxis": {
           "colorbar": {
            "outlinewidth": 0,
            "ticks": ""
           }
          },
          "colorscale": {
           "diverging": [
            [
             0,
             "#8e0152"
            ],
            [
             0.1,
             "#c51b7d"
            ],
            [
             0.2,
             "#de77ae"
            ],
            [
             0.3,
             "#f1b6da"
            ],
            [
             0.4,
             "#fde0ef"
            ],
            [
             0.5,
             "#f7f7f7"
            ],
            [
             0.6,
             "#e6f5d0"
            ],
            [
             0.7,
             "#b8e186"
            ],
            [
             0.8,
             "#7fbc41"
            ],
            [
             0.9,
             "#4d9221"
            ],
            [
             1,
             "#276419"
            ]
           ],
           "sequential": [
            [
             0,
             "#0d0887"
            ],
            [
             0.1111111111111111,
             "#46039f"
            ],
            [
             0.2222222222222222,
             "#7201a8"
            ],
            [
             0.3333333333333333,
             "#9c179e"
            ],
            [
             0.4444444444444444,
             "#bd3786"
            ],
            [
             0.5555555555555556,
             "#d8576b"
            ],
            [
             0.6666666666666666,
             "#ed7953"
            ],
            [
             0.7777777777777778,
             "#fb9f3a"
            ],
            [
             0.8888888888888888,
             "#fdca26"
            ],
            [
             1,
             "#f0f921"
            ]
           ],
           "sequentialminus": [
            [
             0,
             "#0d0887"
            ],
            [
             0.1111111111111111,
             "#46039f"
            ],
            [
             0.2222222222222222,
             "#7201a8"
            ],
            [
             0.3333333333333333,
             "#9c179e"
            ],
            [
             0.4444444444444444,
             "#bd3786"
            ],
            [
             0.5555555555555556,
             "#d8576b"
            ],
            [
             0.6666666666666666,
             "#ed7953"
            ],
            [
             0.7777777777777778,
             "#fb9f3a"
            ],
            [
             0.8888888888888888,
             "#fdca26"
            ],
            [
             1,
             "#f0f921"
            ]
           ]
          },
          "colorway": [
           "#636efa",
           "#EF553B",
           "#00cc96",
           "#ab63fa",
           "#FFA15A",
           "#19d3f3",
           "#FF6692",
           "#B6E880",
           "#FF97FF",
           "#FECB52"
          ],
          "font": {
           "color": "#2a3f5f"
          },
          "geo": {
           "bgcolor": "white",
           "lakecolor": "white",
           "landcolor": "white",
           "showlakes": true,
           "showland": true,
           "subunitcolor": "#C8D4E3"
          },
          "hoverlabel": {
           "align": "left"
          },
          "hovermode": "closest",
          "mapbox": {
           "style": "light"
          },
          "paper_bgcolor": "white",
          "plot_bgcolor": "white",
          "polar": {
           "angularaxis": {
            "gridcolor": "#EBF0F8",
            "linecolor": "#EBF0F8",
            "ticks": ""
           },
           "bgcolor": "white",
           "radialaxis": {
            "gridcolor": "#EBF0F8",
            "linecolor": "#EBF0F8",
            "ticks": ""
           }
          },
          "scene": {
           "xaxis": {
            "backgroundcolor": "white",
            "gridcolor": "#DFE8F3",
            "gridwidth": 2,
            "linecolor": "#EBF0F8",
            "showbackground": true,
            "ticks": "",
            "zerolinecolor": "#EBF0F8"
           },
           "yaxis": {
            "backgroundcolor": "white",
            "gridcolor": "#DFE8F3",
            "gridwidth": 2,
            "linecolor": "#EBF0F8",
            "showbackground": true,
            "ticks": "",
            "zerolinecolor": "#EBF0F8"
           },
           "zaxis": {
            "backgroundcolor": "white",
            "gridcolor": "#DFE8F3",
            "gridwidth": 2,
            "linecolor": "#EBF0F8",
            "showbackground": true,
            "ticks": "",
            "zerolinecolor": "#EBF0F8"
           }
          },
          "shapedefaults": {
           "line": {
            "color": "#2a3f5f"
           }
          },
          "ternary": {
           "aaxis": {
            "gridcolor": "#DFE8F3",
            "linecolor": "#A2B1C6",
            "ticks": ""
           },
           "baxis": {
            "gridcolor": "#DFE8F3",
            "linecolor": "#A2B1C6",
            "ticks": ""
           },
           "bgcolor": "white",
           "caxis": {
            "gridcolor": "#DFE8F3",
            "linecolor": "#A2B1C6",
            "ticks": ""
           }
          },
          "title": {
           "x": 0.05
          },
          "xaxis": {
           "automargin": true,
           "gridcolor": "#EBF0F8",
           "linecolor": "#EBF0F8",
           "ticks": "",
           "title": {
            "standoff": 15
           },
           "zerolinecolor": "#EBF0F8",
           "zerolinewidth": 2
          },
          "yaxis": {
           "automargin": true,
           "gridcolor": "#EBF0F8",
           "linecolor": "#EBF0F8",
           "ticks": "",
           "title": {
            "standoff": 15
           },
           "zerolinecolor": "#EBF0F8",
           "zerolinewidth": 2
          }
         }
        },
        "width": 750,
        "xaxis": {
         "anchor": "y",
         "domain": [
          0,
          1
         ],
         "matches": "x2",
         "range": [
          -0.0018,
          0.0028
         ],
         "showticklabels": false,
         "tickfont": {
          "size": 11
         },
         "ticktext": [
          "",
          "",
          "",
          "0",
          "",
          "1‰",
          "",
          "2‰",
          "",
          "3‰"
         ],
         "tickvals": [
          -0.0015,
          -0.001,
          -0.0005,
          0,
          0.0005,
          0.001,
          0.0015,
          0.002,
          0.0025,
          0.003
         ]
        },
        "xaxis2": {
         "anchor": "y2",
         "domain": [
          0,
          1
         ],
         "range": [
          -0.0018,
          0.0028
         ],
         "tickfont": {
          "size": 11
         },
         "ticktext": [
          "",
          "",
          "",
          "0",
          "",
          "1‰",
          "",
          "2‰",
          "",
          "3‰"
         ],
         "tickvals": [
          -0.0015,
          -0.001,
          -0.0005,
          0,
          0.0005,
          0.001,
          0.0015,
          0.002,
          0.0025,
          0.003
         ]
        },
        "yaxis": {
         "anchor": "x",
         "autorange": "reversed",
         "domain": [
          0.515,
          1
         ],
         "tickfont": {
          "size": 11
         }
        },
        "yaxis2": {
         "anchor": "x2",
         "autorange": "reversed",
         "domain": [
          0,
          0.485
         ],
         "tickfont": {
          "size": 11
         }
        }
       }
      }
     },
     "metadata": {},
     "output_type": "display_data"
    }
   ],
   "source": [
    "fig = make_subplots(\n",
    "    cols=1,\n",
    "    rows=2,\n",
    "    vertical_spacing=0.03,\n",
    "    shared_xaxes=True,\n",
    ")\n",
    "\n",
    "\n",
    "def format_percent(x):\n",
    "    return f\"{abs(x)*1000:.2f}‰\"\n",
    "\n",
    "\n",
    "def format_px(x):\n",
    "    x = abs(x) / 200\n",
    "    if x > 1e3:\n",
    "        return f\"<b>{x/1000:.1f}</b> kpx\"\n",
    "    else:\n",
    "        return f\"<b>{x:.0f}</b> px\"\n",
    "\n",
    "\n",
    "bar_style = dict(\n",
    "    width=0.75,\n",
    "    orientation=\"h\",\n",
    ")\n",
    "\n",
    "# === Red lesions ===\n",
    "red_color = {\n",
    "    ADDED: PURPLE4,\n",
    "    PRE(\"microaneurysms\"): PURPLE2,\n",
    "    PRE(\"hemorrhages\"): PURPLE2bis,\n",
    "    ERASED: PURPLE00,\n",
    "}\n",
    "\n",
    "red_style = (\n",
    "    dict(\n",
    "        legendgroup=\"red\",\n",
    "        legendgrouptitle_text=\"Red Lesions\",\n",
    "    )\n",
    "    | bar_style\n",
    ")\n",
    "offset = np.zeros_like(red_data[\"Total\"] / total_px)\n",
    "for src in reversed(red_color.keys()):\n",
    "    color = red_color[src]\n",
    "    legendrank = list(red_color.keys()).index(src)\n",
    "    if src == ERASED:\n",
    "        bar = go.Bar(y=red_labels, x=-red_data[src] / total_px)\n",
    "        bar.text = list(map(format_px, red_data[ERASED]))\n",
    "        bar.update(textfont={\"color\": WHITE, \"size\": 10}, insidetextanchor=\"middle\")\n",
    "    else:\n",
    "        x = red_data[src] / total_px\n",
    "        bar = go.Bar(y=red_labels, x=x, base=offset)\n",
    "        offset += x\n",
    "        if src == ADDED:\n",
    "            bar.text = list(map(format_px, red_data[ADDED]))\n",
    "            bar.update(textfont={\"color\": WHITE, \"size\": 10}, insidetextanchor=\"middle\")\n",
    "    bar.update(name=src, marker_color=color, legendrank=legendrank, **red_style)\n",
    "    fig.add_trace(bar, row=1, col=1)\n",
    "\n",
    "for i, l in enumerate(red_labels):\n",
    "    x = red_data[\"Total\"][i] / total_px\n",
    "    fig.add_annotation(\n",
    "        text=format_percent(x),\n",
    "        x=x,\n",
    "        y=l,\n",
    "        xref=\"x\",\n",
    "        xanchor=\"left\",\n",
    "        yref=\"y\",\n",
    "        showarrow=False,\n",
    "        font={\"size\": 11, \"color\": PURPLE4},\n",
    "        row=1,\n",
    "        col=1,\n",
    "    )\n",
    "\n",
    "# === Bright lesions ===\n",
    "bright_color = {\n",
    "    ADDED: TEAL4,\n",
    "    PRE(\"exudates\"): TEAL2,\n",
    "    ERASED: TEAL0,\n",
    "}\n",
    "\n",
    "bright_style = (\n",
    "    dict(\n",
    "        legendgroup=\"bright\",\n",
    "        legendgrouptitle_text=\"Bright Lesions\",\n",
    "    )\n",
    "    | bar_style\n",
    ")\n",
    "\n",
    "offset = np.zeros_like(bright_data[\"Total\"] / total_px)\n",
    "for src in reversed(bright_color.keys()):\n",
    "    color = bright_color[src]\n",
    "    legendrank = list(bright_color.keys()).index(src)\n",
    "    if src == ERASED:\n",
    "        bar = go.Bar(y=bright_labels, x=-bright_data[src] / total_px)\n",
    "        bar.text = list(map(format_px, bright_data[ERASED]))\n",
    "        bar.update(textfont={\"color\": WHITE, \"size\": 10}, insidetextanchor=\"middle\")\n",
    "    else:\n",
    "        x = bright_data[src] / total_px\n",
    "        bar = go.Bar(y=bright_labels, x=x, base=offset)\n",
    "        offset += x\n",
    "        if src == ADDED:\n",
    "            bar.text = list(map(format_px, bright_data[ADDED]))\n",
    "            bar.update(textfont={\"color\": WHITE, \"size\": 10}, insidetextanchor=\"middle\")\n",
    "    bar.update(marker_color=color, name=src, legendrank=legendrank, **bright_style)\n",
    "    fig.add_trace(bar, row=2, col=1)\n",
    "\n",
    "for i, l in enumerate(bright_labels):\n",
    "    x = bright_data[\"Total\"][i] / total_px\n",
    "    fig.add_annotation(\n",
    "        text=format_percent(x),\n",
    "        x=x,\n",
    "        xref=\"x\",\n",
    "        xanchor=\"left\",\n",
    "        y=l,\n",
    "        yref=\"y\",\n",
    "        showarrow=False,\n",
    "        font={\"size\": 11, \"color\": TEAL4},\n",
    "        row=2,\n",
    "        col=1,\n",
    "    )\n",
    "\n",
    "\n",
    "# === Axis Styling ===\n",
    "xaxes_style = dict(\n",
    "    tickfont={\"size\": 11},\n",
    "    tickvals=[-1.5e-3, -1e-3, -0.5e-3, 0, 0.5e-3, 1e-3, 1.5e-3, 2e-3, 2.5e-3, 3e-3],\n",
    "    ticktext=[\"\", \"\", \"\", \"0\", \"\", \"1‰\", \"\", \"2‰\", \"\", \"3‰\"],\n",
    "    range=[-1.8e-3, 2.8e-3],\n",
    ")\n",
    "fig.update_xaxes(**xaxes_style, showticklabels=False, row=1, col=1)\n",
    "fig.update_xaxes(**xaxes_style, row=2, col=1)\n",
    "\n",
    "xtitle_standoff = -0.145\n",
    "fig.add_annotation(\n",
    "    text=\"Final Annotated Area per Image\",\n",
    "    x=0.15e-3,\n",
    "    y=xtitle_standoff,\n",
    "    xref=\"x\",\n",
    "    xanchor=\"left\",\n",
    "    yref=\"paper\",\n",
    "    showarrow=False,\n",
    "    font=dict(size=15),\n",
    ")\n",
    "fig.add_annotation(\n",
    "    text=ERASED,\n",
    "    x=-0.15e-3,\n",
    "    y=xtitle_standoff,\n",
    "    xref=\"x\",\n",
    "    xanchor=\"right\",\n",
    "    yref=\"paper\",\n",
    "    showarrow=False,\n",
    "    font=dict(size=13, color=\"#888\"),\n",
    ")\n",
    "\n",
    "fig.update_yaxes(tickfont={\"size\": 11}, autorange=\"reversed\")\n",
    "fig.add_annotation(\n",
    "    text=\"<b>Lesions</b>\",\n",
    "    x=-0.27,\n",
    "    y=0.5,\n",
    "    xref=\"paper\",\n",
    "    yref=\"paper\",\n",
    "    showarrow=False,\n",
    "    font=dict(size=15),\n",
    "    textangle=-90,\n",
    ")\n",
    "\n",
    "# === General Styling ===\n",
    "fig.layout.barmode = \"overlay\"\n",
    "fig.layout.legend.update(\n",
    "    orientation=\"h\",\n",
    "    yanchor=\"bottom\",\n",
    "    y=1.05,\n",
    "    xanchor=\"left\",\n",
    "    x=0.1,\n",
    "    bordercolor=\"#b5aaad\",\n",
    "    borderwidth=0.5,\n",
    "    font_size=11,\n",
    ")\n",
    "fig.update_layout(\n",
    "    height=400,\n",
    "    width=750,\n",
    "    template=\"plotly_white\",\n",
    "    margin={\"t\": 0, \"l\": 10, \"r\": 30, \"b\": 35},\n",
    ")\n",
    "\n",
    "fig.show()\n",
    "fig.write_image(\"figures/diff_lesion.pdf\")"
   ]
  },
  {
   "cell_type": "code",
   "execution_count": 24,
   "id": "56ac8fc2",
   "metadata": {},
   "outputs": [
    {
     "data": {
      "application/vnd.plotly.v1+json": {
       "config": {
        "plotlyServerURL": "https://plot.ly"
       },
       "data": [
        {
         "base": [
          0
         ],
         "legendgroup": "vessels",
         "legendgrouptitle": {
          "text": "Vessels"
         },
         "legendrank": 1,
         "marker": {
          "color": "#8e5ea1"
         },
         "name": "Vessels Preannotations",
         "type": "bar",
         "width": 0.7,
         "x": [
          "Vessels"
         ],
         "xaxis": "x",
         "y": [
          0.08838191555555555
         ],
         "yaxis": "y"
        },
        {
         "base": [
          0.08838191555555555
         ],
         "insidetextanchor": "middle",
         "legendgroup": "vessels",
         "legendgrouptitle": {
          "text": "Vessels"
         },
         "legendrank": 0,
         "marker": {
          "color": "#6a1e75"
         },
         "name": "Manual Annotations",
         "text": [
          "<b>58</b> kpx"
         ],
         "textfont": {
          "color": "#ffffff",
          "size": 10
         },
         "type": "bar",
         "width": 0.7,
         "x": [
          "Vessels"
         ],
         "xaxis": "x",
         "y": [
          0.025961093333333334
         ],
         "yaxis": "y"
        },
        {
         "insidetextanchor": "middle",
         "legendgroup": "anatomical",
         "legendgrouptitle": {
          "text": "Other Structures"
         },
         "marker": {
          "color": "#14597e"
         },
         "name": "Manual Annotations",
         "showlegend": true,
         "text": [
          "<b>31</b> kpx"
         ],
         "textfont": {
          "color": "#ffffff",
          "size": 10
         },
         "type": "bar",
         "width": 0.7,
         "x": [
          "Optic Disc"
         ],
         "xaxis": "x2",
         "y": [
          0.01369940888888889
         ],
         "yaxis": "y2"
        },
        {
         "insidetextanchor": "middle",
         "marker": {
          "color": "#14597e"
         },
         "name": "Manual Annotations",
         "showlegend": false,
         "text": [
          "<b>6</b> kpx"
         ],
         "textfont": {
          "color": "#ffffff",
          "size": 10
         },
         "type": "bar",
         "width": 0.7,
         "x": [
          "Optic Cup"
         ],
         "xaxis": "x2",
         "y": [
          0.0028091755555555557
         ],
         "yaxis": "y2"
        },
        {
         "insidetextanchor": "middle",
         "marker": {
          "color": "#14597e"
         },
         "name": "Manual Annotations",
         "showlegend": false,
         "text": [
          "<b>2</b> kpx"
         ],
         "textfont": {
          "color": "#ffffff",
          "size": 10
         },
         "type": "bar",
         "width": 0.7,
         "x": [
          "Macula"
         ],
         "xaxis": "x2",
         "y": [
          0.0007548711111111111
         ],
         "yaxis": "y2"
        }
       ],
       "layout": {
        "annotations": [
         {
          "font": {
           "color": "#6a1e75",
           "size": 11
          },
          "showarrow": false,
          "text": "11.4%",
          "x": "Vessels",
          "xanchor": "center",
          "xref": "x",
          "y": 0.11434300888888889,
          "yanchor": "bottom",
          "yref": "y"
         },
         {
          "font": {
           "color": "#14597e",
           "size": 11
          },
          "showarrow": false,
          "text": "13.7‰",
          "x": "Optic Disc",
          "xanchor": "center",
          "xref": "x2",
          "y": 0.01369940888888889,
          "yanchor": "bottom",
          "yref": "y2"
         },
         {
          "font": {
           "color": "#14597e",
           "size": 11
          },
          "showarrow": false,
          "text": "2.8‰",
          "x": "Optic Cup",
          "xanchor": "center",
          "xref": "x2",
          "y": 0.0028091755555555557,
          "yanchor": "bottom",
          "yref": "y2"
         },
         {
          "font": {
           "color": "#14597e",
           "size": 11
          },
          "showarrow": false,
          "text": "0.8‰",
          "x": "Macula",
          "xanchor": "center",
          "xref": "x2",
          "y": 0.0007548711111111111,
          "yanchor": "bottom",
          "yref": "y2"
         },
         {
          "font": {
           "size": 15
          },
          "showarrow": false,
          "text": "<b>Anatomical Structure</b>",
          "x": 0,
          "xref": "paper",
          "y": -0.32,
          "yref": "paper"
         }
        ],
        "barmode": "overlay",
        "height": 400,
        "legend": {
         "bordercolor": "#b5aaad",
         "borderwidth": 0.5,
         "font": {
          "size": 11
         },
         "orientation": "h",
         "tracegroupgap": 0,
         "x": 0.05,
         "xanchor": "left",
         "y": 1.05,
         "yanchor": "bottom"
        },
        "margin": {
         "b": 65,
         "l": 20,
         "r": 20,
         "t": 0
        },
        "template": {
         "data": {
          "bar": [
           {
            "error_x": {
             "color": "#2a3f5f"
            },
            "error_y": {
             "color": "#2a3f5f"
            },
            "marker": {
             "line": {
              "color": "white",
              "width": 0.5
             },
             "pattern": {
              "fillmode": "overlay",
              "size": 10,
              "solidity": 0.2
             }
            },
            "type": "bar"
           }
          ],
          "barpolar": [
           {
            "marker": {
             "line": {
              "color": "white",
              "width": 0.5
             },
             "pattern": {
              "fillmode": "overlay",
              "size": 10,
              "solidity": 0.2
             }
            },
            "type": "barpolar"
           }
          ],
          "carpet": [
           {
            "aaxis": {
             "endlinecolor": "#2a3f5f",
             "gridcolor": "#C8D4E3",
             "linecolor": "#C8D4E3",
             "minorgridcolor": "#C8D4E3",
             "startlinecolor": "#2a3f5f"
            },
            "baxis": {
             "endlinecolor": "#2a3f5f",
             "gridcolor": "#C8D4E3",
             "linecolor": "#C8D4E3",
             "minorgridcolor": "#C8D4E3",
             "startlinecolor": "#2a3f5f"
            },
            "type": "carpet"
           }
          ],
          "choropleth": [
           {
            "colorbar": {
             "outlinewidth": 0,
             "ticks": ""
            },
            "type": "choropleth"
           }
          ],
          "contour": [
           {
            "colorbar": {
             "outlinewidth": 0,
             "ticks": ""
            },
            "colorscale": [
             [
              0,
              "#0d0887"
             ],
             [
              0.1111111111111111,
              "#46039f"
             ],
             [
              0.2222222222222222,
              "#7201a8"
             ],
             [
              0.3333333333333333,
              "#9c179e"
             ],
             [
              0.4444444444444444,
              "#bd3786"
             ],
             [
              0.5555555555555556,
              "#d8576b"
             ],
             [
              0.6666666666666666,
              "#ed7953"
             ],
             [
              0.7777777777777778,
              "#fb9f3a"
             ],
             [
              0.8888888888888888,
              "#fdca26"
             ],
             [
              1,
              "#f0f921"
             ]
            ],
            "type": "contour"
           }
          ],
          "contourcarpet": [
           {
            "colorbar": {
             "outlinewidth": 0,
             "ticks": ""
            },
            "type": "contourcarpet"
           }
          ],
          "heatmap": [
           {
            "colorbar": {
             "outlinewidth": 0,
             "ticks": ""
            },
            "colorscale": [
             [
              0,
              "#0d0887"
             ],
             [
              0.1111111111111111,
              "#46039f"
             ],
             [
              0.2222222222222222,
              "#7201a8"
             ],
             [
              0.3333333333333333,
              "#9c179e"
             ],
             [
              0.4444444444444444,
              "#bd3786"
             ],
             [
              0.5555555555555556,
              "#d8576b"
             ],
             [
              0.6666666666666666,
              "#ed7953"
             ],
             [
              0.7777777777777778,
              "#fb9f3a"
             ],
             [
              0.8888888888888888,
              "#fdca26"
             ],
             [
              1,
              "#f0f921"
             ]
            ],
            "type": "heatmap"
           }
          ],
          "heatmapgl": [
           {
            "colorbar": {
             "outlinewidth": 0,
             "ticks": ""
            },
            "colorscale": [
             [
              0,
              "#0d0887"
             ],
             [
              0.1111111111111111,
              "#46039f"
             ],
             [
              0.2222222222222222,
              "#7201a8"
             ],
             [
              0.3333333333333333,
              "#9c179e"
             ],
             [
              0.4444444444444444,
              "#bd3786"
             ],
             [
              0.5555555555555556,
              "#d8576b"
             ],
             [
              0.6666666666666666,
              "#ed7953"
             ],
             [
              0.7777777777777778,
              "#fb9f3a"
             ],
             [
              0.8888888888888888,
              "#fdca26"
             ],
             [
              1,
              "#f0f921"
             ]
            ],
            "type": "heatmapgl"
           }
          ],
          "histogram": [
           {
            "marker": {
             "pattern": {
              "fillmode": "overlay",
              "size": 10,
              "solidity": 0.2
             }
            },
            "type": "histogram"
           }
          ],
          "histogram2d": [
           {
            "colorbar": {
             "outlinewidth": 0,
             "ticks": ""
            },
            "colorscale": [
             [
              0,
              "#0d0887"
             ],
             [
              0.1111111111111111,
              "#46039f"
             ],
             [
              0.2222222222222222,
              "#7201a8"
             ],
             [
              0.3333333333333333,
              "#9c179e"
             ],
             [
              0.4444444444444444,
              "#bd3786"
             ],
             [
              0.5555555555555556,
              "#d8576b"
             ],
             [
              0.6666666666666666,
              "#ed7953"
             ],
             [
              0.7777777777777778,
              "#fb9f3a"
             ],
             [
              0.8888888888888888,
              "#fdca26"
             ],
             [
              1,
              "#f0f921"
             ]
            ],
            "type": "histogram2d"
           }
          ],
          "histogram2dcontour": [
           {
            "colorbar": {
             "outlinewidth": 0,
             "ticks": ""
            },
            "colorscale": [
             [
              0,
              "#0d0887"
             ],
             [
              0.1111111111111111,
              "#46039f"
             ],
             [
              0.2222222222222222,
              "#7201a8"
             ],
             [
              0.3333333333333333,
              "#9c179e"
             ],
             [
              0.4444444444444444,
              "#bd3786"
             ],
             [
              0.5555555555555556,
              "#d8576b"
             ],
             [
              0.6666666666666666,
              "#ed7953"
             ],
             [
              0.7777777777777778,
              "#fb9f3a"
             ],
             [
              0.8888888888888888,
              "#fdca26"
             ],
             [
              1,
              "#f0f921"
             ]
            ],
            "type": "histogram2dcontour"
           }
          ],
          "mesh3d": [
           {
            "colorbar": {
             "outlinewidth": 0,
             "ticks": ""
            },
            "type": "mesh3d"
           }
          ],
          "parcoords": [
           {
            "line": {
             "colorbar": {
              "outlinewidth": 0,
              "ticks": ""
             }
            },
            "type": "parcoords"
           }
          ],
          "pie": [
           {
            "automargin": true,
            "type": "pie"
           }
          ],
          "scatter": [
           {
            "fillpattern": {
             "fillmode": "overlay",
             "size": 10,
             "solidity": 0.2
            },
            "type": "scatter"
           }
          ],
          "scatter3d": [
           {
            "line": {
             "colorbar": {
              "outlinewidth": 0,
              "ticks": ""
             }
            },
            "marker": {
             "colorbar": {
              "outlinewidth": 0,
              "ticks": ""
             }
            },
            "type": "scatter3d"
           }
          ],
          "scattercarpet": [
           {
            "marker": {
             "colorbar": {
              "outlinewidth": 0,
              "ticks": ""
             }
            },
            "type": "scattercarpet"
           }
          ],
          "scattergeo": [
           {
            "marker": {
             "colorbar": {
              "outlinewidth": 0,
              "ticks": ""
             }
            },
            "type": "scattergeo"
           }
          ],
          "scattergl": [
           {
            "marker": {
             "colorbar": {
              "outlinewidth": 0,
              "ticks": ""
             }
            },
            "type": "scattergl"
           }
          ],
          "scattermapbox": [
           {
            "marker": {
             "colorbar": {
              "outlinewidth": 0,
              "ticks": ""
             }
            },
            "type": "scattermapbox"
           }
          ],
          "scatterpolar": [
           {
            "marker": {
             "colorbar": {
              "outlinewidth": 0,
              "ticks": ""
             }
            },
            "type": "scatterpolar"
           }
          ],
          "scatterpolargl": [
           {
            "marker": {
             "colorbar": {
              "outlinewidth": 0,
              "ticks": ""
             }
            },
            "type": "scatterpolargl"
           }
          ],
          "scatterternary": [
           {
            "marker": {
             "colorbar": {
              "outlinewidth": 0,
              "ticks": ""
             }
            },
            "type": "scatterternary"
           }
          ],
          "surface": [
           {
            "colorbar": {
             "outlinewidth": 0,
             "ticks": ""
            },
            "colorscale": [
             [
              0,
              "#0d0887"
             ],
             [
              0.1111111111111111,
              "#46039f"
             ],
             [
              0.2222222222222222,
              "#7201a8"
             ],
             [
              0.3333333333333333,
              "#9c179e"
             ],
             [
              0.4444444444444444,
              "#bd3786"
             ],
             [
              0.5555555555555556,
              "#d8576b"
             ],
             [
              0.6666666666666666,
              "#ed7953"
             ],
             [
              0.7777777777777778,
              "#fb9f3a"
             ],
             [
              0.8888888888888888,
              "#fdca26"
             ],
             [
              1,
              "#f0f921"
             ]
            ],
            "type": "surface"
           }
          ],
          "table": [
           {
            "cells": {
             "fill": {
              "color": "#EBF0F8"
             },
             "line": {
              "color": "white"
             }
            },
            "header": {
             "fill": {
              "color": "#C8D4E3"
             },
             "line": {
              "color": "white"
             }
            },
            "type": "table"
           }
          ]
         },
         "layout": {
          "annotationdefaults": {
           "arrowcolor": "#2a3f5f",
           "arrowhead": 0,
           "arrowwidth": 1
          },
          "autotypenumbers": "strict",
          "coloraxis": {
           "colorbar": {
            "outlinewidth": 0,
            "ticks": ""
           }
          },
          "colorscale": {
           "diverging": [
            [
             0,
             "#8e0152"
            ],
            [
             0.1,
             "#c51b7d"
            ],
            [
             0.2,
             "#de77ae"
            ],
            [
             0.3,
             "#f1b6da"
            ],
            [
             0.4,
             "#fde0ef"
            ],
            [
             0.5,
             "#f7f7f7"
            ],
            [
             0.6,
             "#e6f5d0"
            ],
            [
             0.7,
             "#b8e186"
            ],
            [
             0.8,
             "#7fbc41"
            ],
            [
             0.9,
             "#4d9221"
            ],
            [
             1,
             "#276419"
            ]
           ],
           "sequential": [
            [
             0,
             "#0d0887"
            ],
            [
             0.1111111111111111,
             "#46039f"
            ],
            [
             0.2222222222222222,
             "#7201a8"
            ],
            [
             0.3333333333333333,
             "#9c179e"
            ],
            [
             0.4444444444444444,
             "#bd3786"
            ],
            [
             0.5555555555555556,
             "#d8576b"
            ],
            [
             0.6666666666666666,
             "#ed7953"
            ],
            [
             0.7777777777777778,
             "#fb9f3a"
            ],
            [
             0.8888888888888888,
             "#fdca26"
            ],
            [
             1,
             "#f0f921"
            ]
           ],
           "sequentialminus": [
            [
             0,
             "#0d0887"
            ],
            [
             0.1111111111111111,
             "#46039f"
            ],
            [
             0.2222222222222222,
             "#7201a8"
            ],
            [
             0.3333333333333333,
             "#9c179e"
            ],
            [
             0.4444444444444444,
             "#bd3786"
            ],
            [
             0.5555555555555556,
             "#d8576b"
            ],
            [
             0.6666666666666666,
             "#ed7953"
            ],
            [
             0.7777777777777778,
             "#fb9f3a"
            ],
            [
             0.8888888888888888,
             "#fdca26"
            ],
            [
             1,
             "#f0f921"
            ]
           ]
          },
          "colorway": [
           "#636efa",
           "#EF553B",
           "#00cc96",
           "#ab63fa",
           "#FFA15A",
           "#19d3f3",
           "#FF6692",
           "#B6E880",
           "#FF97FF",
           "#FECB52"
          ],
          "font": {
           "color": "#2a3f5f"
          },
          "geo": {
           "bgcolor": "white",
           "lakecolor": "white",
           "landcolor": "white",
           "showlakes": true,
           "showland": true,
           "subunitcolor": "#C8D4E3"
          },
          "hoverlabel": {
           "align": "left"
          },
          "hovermode": "closest",
          "mapbox": {
           "style": "light"
          },
          "paper_bgcolor": "white",
          "plot_bgcolor": "white",
          "polar": {
           "angularaxis": {
            "gridcolor": "#EBF0F8",
            "linecolor": "#EBF0F8",
            "ticks": ""
           },
           "bgcolor": "white",
           "radialaxis": {
            "gridcolor": "#EBF0F8",
            "linecolor": "#EBF0F8",
            "ticks": ""
           }
          },
          "scene": {
           "xaxis": {
            "backgroundcolor": "white",
            "gridcolor": "#DFE8F3",
            "gridwidth": 2,
            "linecolor": "#EBF0F8",
            "showbackground": true,
            "ticks": "",
            "zerolinecolor": "#EBF0F8"
           },
           "yaxis": {
            "backgroundcolor": "white",
            "gridcolor": "#DFE8F3",
            "gridwidth": 2,
            "linecolor": "#EBF0F8",
            "showbackground": true,
            "ticks": "",
            "zerolinecolor": "#EBF0F8"
           },
           "zaxis": {
            "backgroundcolor": "white",
            "gridcolor": "#DFE8F3",
            "gridwidth": 2,
            "linecolor": "#EBF0F8",
            "showbackground": true,
            "ticks": "",
            "zerolinecolor": "#EBF0F8"
           }
          },
          "shapedefaults": {
           "line": {
            "color": "#2a3f5f"
           }
          },
          "ternary": {
           "aaxis": {
            "gridcolor": "#DFE8F3",
            "linecolor": "#A2B1C6",
            "ticks": ""
           },
           "baxis": {
            "gridcolor": "#DFE8F3",
            "linecolor": "#A2B1C6",
            "ticks": ""
           },
           "bgcolor": "white",
           "caxis": {
            "gridcolor": "#DFE8F3",
            "linecolor": "#A2B1C6",
            "ticks": ""
           }
          },
          "title": {
           "x": 0.05
          },
          "xaxis": {
           "automargin": true,
           "gridcolor": "#EBF0F8",
           "linecolor": "#EBF0F8",
           "ticks": "",
           "title": {
            "standoff": 15
           },
           "zerolinecolor": "#EBF0F8",
           "zerolinewidth": 2
          },
          "yaxis": {
           "automargin": true,
           "gridcolor": "#EBF0F8",
           "linecolor": "#EBF0F8",
           "ticks": "",
           "title": {
            "standoff": 15
           },
           "zerolinecolor": "#EBF0F8",
           "zerolinewidth": 2
          }
         }
        },
        "width": 250,
        "xaxis": {
         "anchor": "y",
         "domain": [
          0,
          0.2
         ],
         "tickangle": -35,
         "tickfont": {
          "size": 12
         }
        },
        "xaxis2": {
         "anchor": "y2",
         "domain": [
          0.4,
          1
         ],
         "tickangle": -35,
         "tickfont": {
          "size": 12
         }
        },
        "yaxis": {
         "anchor": "x",
         "domain": [
          0,
          1
         ],
         "range": [
          0,
          0.14
         ],
         "tickfont": {
          "size": 11
         },
         "tickformat": ".0%",
         "ticktext": [
          "0%",
          "4%",
          "8%",
          "12%",
          "16%"
         ],
         "tickvals": [
          0,
          0.04,
          0.08,
          0.12,
          0.16
         ],
         "title": {
          "font": {
           "size": 15
          },
          "standoff": 10,
          "text": "Final Annotated Area"
         }
        },
        "yaxis2": {
         "anchor": "x2",
         "domain": [
          0,
          1
         ],
         "range": [
          0,
          0.0175
         ],
         "side": "right",
         "tickfont": {
          "size": 11
         },
         "ticktext": [
          "0‰",
          "5‰",
          "10‰",
          "15‰",
          "20‰"
         ],
         "tickvals": [
          0,
          0.005,
          0.01,
          0.015,
          0.02
         ]
        }
       }
      }
     },
     "metadata": {},
     "output_type": "display_data"
    }
   ],
   "source": [
    "fig = make_subplots(cols=2, rows=1, horizontal_spacing=0.2, column_widths=[0.25, 0.75])\n",
    "\n",
    "bar_style = dict(\n",
    "    width=0.7,\n",
    ")\n",
    "\n",
    "\n",
    "def format_px(x):\n",
    "    x = abs(x) / 200\n",
    "    if x > 1e3:\n",
    "        return f\"<b>{x/1000:.0f}</b> kpx\"\n",
    "    else:\n",
    "        return f\"{x:.0f} px\"\n",
    "\n",
    "\n",
    "# === Vessels ===\n",
    "vessels_color = {\n",
    "    ADDED: PURPLE4,\n",
    "    PRE(\"vessels\"): PURPLE2,\n",
    "    # ERASED: PURPLE00,\n",
    "}\n",
    "vessels_style = (\n",
    "    dict(\n",
    "        legendgroup=\"vessels\",\n",
    "        legendgrouptitle_text=\"Vessels\",\n",
    "    )\n",
    "    | bar_style\n",
    ")\n",
    "\n",
    "offset = 0.0\n",
    "for src in reversed(vessels_color.keys()):\n",
    "    color = vessels_color[src]\n",
    "    legendrank = list(vessels_color.keys()).index(src)\n",
    "    if src == ERASED:\n",
    "        bar = go.Bar(x=[\"Vessels\"], y=[-vessels_data[src] / total_px])\n",
    "    else:\n",
    "        y = vessels_data[src] / total_px\n",
    "        bar = go.Bar(x=[\"Vessels\"], y=[y], base=[offset])\n",
    "        offset += y\n",
    "        if src == ADDED:\n",
    "            bar.text = [format_px(vessels_data[ADDED])]\n",
    "            bar.update(textfont={\"color\": WHITE, \"size\": 10}, insidetextanchor=\"middle\")\n",
    "    bar.update(marker_color=color, name=src, legendrank=legendrank, **vessels_style)\n",
    "    fig.add_trace(bar, col=1, row=1)\n",
    "\n",
    "total_vessels = vessels_data[\"Total\"] / total_px\n",
    "fig.add_annotation(\n",
    "    text=f\"{total_vessels*100:.1f}%\",\n",
    "    x=\"Vessels\",\n",
    "    xref=\"x\",\n",
    "    xanchor=\"center\",\n",
    "    y=total_vessels,\n",
    "    yref=\"y\",\n",
    "    yanchor=\"bottom\",\n",
    "    showarrow=False,\n",
    "    font={\"size\": 11, \"color\": PURPLE4},\n",
    "    col=1,\n",
    "    row=1,\n",
    ")\n",
    "\n",
    "\n",
    "# === Others Anatomical ===\n",
    "anatomical_names = {\n",
    "    OPTIC_DISC: \"Optic Disc\",\n",
    "    OPTIC_CUP: \"Optic Cup\",\n",
    "    MACULA: \"Macula\",\n",
    "}\n",
    "anatomical_color = {\n",
    "    OPTIC_DISC: TEAL4,\n",
    "    OPTIC_CUP: TEAL4,\n",
    "    MACULA: TEAL4,\n",
    "}\n",
    "\n",
    "anatomical_style = dict(showlegend=False) | bar_style\n",
    "\n",
    "for i, src in enumerate(anatomical_names.keys()):\n",
    "    color = anatomical_color[src]\n",
    "    y = anatomical_stat[\"back\"][src] / total_px\n",
    "    bar = go.Bar(x=[anatomical_names[src]], y=[y])\n",
    "    bar.update(marker_color=color, name=ADDED, **anatomical_style)\n",
    "\n",
    "    bar.text = [format_px(anatomical_stat[\"back\"][src])]\n",
    "    bar.update(textfont={\"color\": WHITE, \"size\": 10}, insidetextanchor=\"middle\")\n",
    "\n",
    "    if i == 0:\n",
    "        bar.update(\n",
    "            legendgroup=\"anatomical\",\n",
    "            legendgrouptitle_text=\"Other Structures\",\n",
    "            showlegend=True,\n",
    "        )\n",
    "\n",
    "    fig.add_trace(bar, col=2, row=1)\n",
    "\n",
    "    fig.add_annotation(\n",
    "        text=f\"{y*1000:.1f}‰\",\n",
    "        x=anatomical_names[src],\n",
    "        xref=\"x\",\n",
    "        xanchor=\"center\",\n",
    "        y=y,\n",
    "        yref=\"y\",\n",
    "        yanchor=\"bottom\",\n",
    "        showarrow=False,\n",
    "        font={\"size\": 11, \"color\": color},\n",
    "        col=2,\n",
    "        row=1,\n",
    "    )\n",
    "\n",
    "\n",
    "# === Axis Styling ===\n",
    "fig.update_xaxes(\n",
    "    tickfont={\"size\": 12},\n",
    "    tickangle=-35,\n",
    ")\n",
    "\n",
    "fig.update_yaxes(\n",
    "    tickfont={\"size\": 11},\n",
    "    range=[0, 14e-2],\n",
    "    tickvals=np.linspace(0, 16e-2, 5, endpoint=True),\n",
    "    ticktext=[\"0%\", \"4%\", \"8%\", \"12%\", \"16%\"],\n",
    "    tickformat=\".0%\",\n",
    "    title=dict(text=\"Final Annotated Area\", standoff=10, font_size=15),\n",
    "    col=1,\n",
    "    row=1,\n",
    ")\n",
    "\n",
    "fig.update_yaxes(\n",
    "    tickfont={\"size\": 11},\n",
    "    range=[0, 17.5e-3],\n",
    "    tickvals=[0, 5e-3, 10e-3, 15e-3, 20e-3],\n",
    "    ticktext=[\"0‰\", \"5‰\", \"10‰\", \"15‰\", \"20‰\"],\n",
    "    side=\"right\",\n",
    "    # title=dict(text=\"Final Annotated Area\", standoff=0, font_size=15),\n",
    "    col=2,\n",
    "    row=1,\n",
    ")\n",
    "\n",
    "fig.add_annotation(\n",
    "    text=\"<b>Anatomical Structure</b>\",\n",
    "    x=0,\n",
    "    xref=\"paper\",\n",
    "    y=-0.32,\n",
    "    yref=\"paper\",\n",
    "    showarrow=False,\n",
    "    font=dict(size=15),\n",
    ")\n",
    "\n",
    "\n",
    "# === General Styling ===\n",
    "fig.layout.barmode = \"overlay\"\n",
    "fig.layout.legend.update(\n",
    "    orientation=\"h\",\n",
    "    yanchor=\"bottom\",\n",
    "    y=1.05,\n",
    "    xanchor=\"left\",\n",
    "    x=0.05,\n",
    "    bordercolor=\"#b5aaad\",\n",
    "    borderwidth=0.5,\n",
    "    font_size=11,\n",
    "    tracegroupgap=0,\n",
    ")\n",
    "\n",
    "fig.update_layout(\n",
    "    height=400,\n",
    "    width=250,\n",
    "    template=\"plotly_white\",\n",
    "    margin={\"t\": 0, \"l\": 20, \"r\": 20, \"b\": 65},\n",
    ")\n",
    "\n",
    "\n",
    "fig.show()\n",
    "fig.write_image(\"figures/diff_anatomical.pdf\")"
   ]
  },
  {
   "cell_type": "markdown",
   "id": "3dc74f85",
   "metadata": {},
   "source": [
    "##### Task repartition per retinologists"
   ]
  },
  {
   "cell_type": "code",
   "execution_count": 25,
   "id": "dfda31ae",
   "metadata": {},
   "outputs": [],
   "source": [
    "RETINOLOGIST_INFOS = BiomarkersAnnotationInfos.RETINOLOGIST.value\n",
    "RED_TASK = BiomarkersAnnotationTasks.RED.value\n",
    "BRIGHT_TASK = BiomarkersAnnotationTasks.BRIGHT.value\n",
    "DISC_MACULA_TASK = BiomarkersAnnotationTasks.DISC_MACULA.value\n",
    "VESSELS_TASK = BiomarkersAnnotationTasks.VESSELS.value\n",
    "\n",
    "annotations_infos = maples_dataset.annotations_infos()"
   ]
  },
  {
   "cell_type": "code",
   "execution_count": 32,
   "id": "3eab426b",
   "metadata": {},
   "outputs": [
    {
     "data": {
      "application/vnd.plotly.v1+json": {
       "config": {
        "plotlyServerURL": "https://plot.ly"
       },
       "data": [
        {
         "insidetextanchor": "middle",
         "legendrank": 0,
         "marker": {
          "color": "#6a1e75"
         },
         "name": "Retinologist A",
         "orientation": "h",
         "text": [
          "",
          "39%",
          "",
          "87%"
         ],
         "textfont": {
          "color": "#ffffff",
          "size": 11
         },
         "type": "bar",
         "x": [
          0,
          77,
          27,
          172
         ],
         "y": [
          "<b>Vessels</b>",
          "<b>Disc & Macula</b>",
          "<b>Red Lesions</b>",
          "<b>Bright Lesions</b>"
         ]
        },
        {
         "insidetextanchor": "middle",
         "legendrank": 1,
         "marker": {
          "color": "#7f5fa9"
         },
         "name": "Retinologist B",
         "orientation": "h",
         "text": [
          "",
          "",
          "62%",
          ""
         ],
         "textfont": {
          "color": "#ffffff",
          "size": 11
         },
         "type": "bar",
         "x": [
          0,
          0,
          123,
          0
         ],
         "y": [
          "<b>Vessels</b>",
          "<b>Disc & Macula</b>",
          "<b>Red Lesions</b>",
          "<b>Bright Lesions</b>"
         ]
        },
        {
         "insidetextanchor": "middle",
         "legendrank": 2,
         "marker": {
          "color": "#7b3e8a"
         },
         "name": "Retinologist C",
         "orientation": "h",
         "text": [
          "100%",
          "36%",
          "",
          ""
         ],
         "textfont": {
          "color": "#ffffff",
          "size": 11
         },
         "type": "bar",
         "x": [
          198,
          72,
          10,
          0
         ],
         "y": [
          "<b>Vessels</b>",
          "<b>Disc & Macula</b>",
          "<b>Red Lesions</b>",
          "<b>Bright Lesions</b>"
         ]
        },
        {
         "insidetextanchor": "middle",
         "legendrank": 3,
         "marker": {
          "color": "#14597e"
         },
         "name": "Retinologist D",
         "orientation": "h",
         "text": [
          "",
          "",
          "",
          ""
         ],
         "textfont": {
          "color": "#ffffff",
          "size": 11
         },
         "type": "bar",
         "x": [
          0,
          0,
          0,
          23
         ],
         "y": [
          "<b>Vessels</b>",
          "<b>Disc & Macula</b>",
          "<b>Red Lesions</b>",
          "<b>Bright Lesions</b>"
         ]
        },
        {
         "insidetextanchor": "middle",
         "legendrank": 4,
         "marker": {
          "color": "#4b8a9f"
         },
         "name": "Retinologist E",
         "orientation": "h",
         "text": [
          "",
          "",
          "",
          ""
         ],
         "textfont": {
          "color": "#ffffff",
          "size": 11
         },
         "type": "bar",
         "x": [
          0,
          11,
          0,
          3
         ],
         "y": [
          "<b>Vessels</b>",
          "<b>Disc & Macula</b>",
          "<b>Red Lesions</b>",
          "<b>Bright Lesions</b>"
         ]
        },
        {
         "insidetextanchor": "middle",
         "legendrank": 5,
         "marker": {
          "color": "#75a8ba"
         },
         "name": "Retinologist F",
         "orientation": "h",
         "text": [
          "",
          "",
          "",
          ""
         ],
         "textfont": {
          "color": "#ffffff",
          "size": 11
         },
         "type": "bar",
         "x": [
          0,
          35,
          18,
          0
         ],
         "y": [
          "<b>Vessels</b>",
          "<b>Disc & Macula</b>",
          "<b>Red Lesions</b>",
          "<b>Bright Lesions</b>"
         ]
        },
        {
         "insidetextanchor": "middle",
         "legendrank": 6,
         "marker": {
          "color": "#9ec5d4"
         },
         "name": "Retinologist G",
         "orientation": "h",
         "text": [
          "",
          "",
          "",
          ""
         ],
         "textfont": {
          "color": "#ffffff",
          "size": 11
         },
         "type": "bar",
         "x": [
          0,
          3,
          20,
          0
         ],
         "y": [
          "<b>Vessels</b>",
          "<b>Disc & Macula</b>",
          "<b>Red Lesions</b>",
          "<b>Bright Lesions</b>"
         ]
        }
       ],
       "layout": {
        "bargap": 0.4,
        "barmode": "stack",
        "height": 210,
        "legend": {
         "bordercolor": "#b5aaad",
         "borderwidth": 0.5,
         "grouptitlefont": {
          "size": 11
         },
         "orientation": "v",
         "traceorder": "normal",
         "x": 1.02,
         "xanchor": "left",
         "y": 0.5,
         "yanchor": "middle"
        },
        "margin": {
         "b": 0,
         "l": 130,
         "r": 150,
         "t": 30
        },
        "template": {
         "data": {
          "bar": [
           {
            "error_x": {
             "color": "#2a3f5f"
            },
            "error_y": {
             "color": "#2a3f5f"
            },
            "marker": {
             "line": {
              "color": "white",
              "width": 0.5
             },
             "pattern": {
              "fillmode": "overlay",
              "size": 10,
              "solidity": 0.2
             }
            },
            "type": "bar"
           }
          ],
          "barpolar": [
           {
            "marker": {
             "line": {
              "color": "white",
              "width": 0.5
             },
             "pattern": {
              "fillmode": "overlay",
              "size": 10,
              "solidity": 0.2
             }
            },
            "type": "barpolar"
           }
          ],
          "carpet": [
           {
            "aaxis": {
             "endlinecolor": "#2a3f5f",
             "gridcolor": "#C8D4E3",
             "linecolor": "#C8D4E3",
             "minorgridcolor": "#C8D4E3",
             "startlinecolor": "#2a3f5f"
            },
            "baxis": {
             "endlinecolor": "#2a3f5f",
             "gridcolor": "#C8D4E3",
             "linecolor": "#C8D4E3",
             "minorgridcolor": "#C8D4E3",
             "startlinecolor": "#2a3f5f"
            },
            "type": "carpet"
           }
          ],
          "choropleth": [
           {
            "colorbar": {
             "outlinewidth": 0,
             "ticks": ""
            },
            "type": "choropleth"
           }
          ],
          "contour": [
           {
            "colorbar": {
             "outlinewidth": 0,
             "ticks": ""
            },
            "colorscale": [
             [
              0,
              "#0d0887"
             ],
             [
              0.1111111111111111,
              "#46039f"
             ],
             [
              0.2222222222222222,
              "#7201a8"
             ],
             [
              0.3333333333333333,
              "#9c179e"
             ],
             [
              0.4444444444444444,
              "#bd3786"
             ],
             [
              0.5555555555555556,
              "#d8576b"
             ],
             [
              0.6666666666666666,
              "#ed7953"
             ],
             [
              0.7777777777777778,
              "#fb9f3a"
             ],
             [
              0.8888888888888888,
              "#fdca26"
             ],
             [
              1,
              "#f0f921"
             ]
            ],
            "type": "contour"
           }
          ],
          "contourcarpet": [
           {
            "colorbar": {
             "outlinewidth": 0,
             "ticks": ""
            },
            "type": "contourcarpet"
           }
          ],
          "heatmap": [
           {
            "colorbar": {
             "outlinewidth": 0,
             "ticks": ""
            },
            "colorscale": [
             [
              0,
              "#0d0887"
             ],
             [
              0.1111111111111111,
              "#46039f"
             ],
             [
              0.2222222222222222,
              "#7201a8"
             ],
             [
              0.3333333333333333,
              "#9c179e"
             ],
             [
              0.4444444444444444,
              "#bd3786"
             ],
             [
              0.5555555555555556,
              "#d8576b"
             ],
             [
              0.6666666666666666,
              "#ed7953"
             ],
             [
              0.7777777777777778,
              "#fb9f3a"
             ],
             [
              0.8888888888888888,
              "#fdca26"
             ],
             [
              1,
              "#f0f921"
             ]
            ],
            "type": "heatmap"
           }
          ],
          "heatmapgl": [
           {
            "colorbar": {
             "outlinewidth": 0,
             "ticks": ""
            },
            "colorscale": [
             [
              0,
              "#0d0887"
             ],
             [
              0.1111111111111111,
              "#46039f"
             ],
             [
              0.2222222222222222,
              "#7201a8"
             ],
             [
              0.3333333333333333,
              "#9c179e"
             ],
             [
              0.4444444444444444,
              "#bd3786"
             ],
             [
              0.5555555555555556,
              "#d8576b"
             ],
             [
              0.6666666666666666,
              "#ed7953"
             ],
             [
              0.7777777777777778,
              "#fb9f3a"
             ],
             [
              0.8888888888888888,
              "#fdca26"
             ],
             [
              1,
              "#f0f921"
             ]
            ],
            "type": "heatmapgl"
           }
          ],
          "histogram": [
           {
            "marker": {
             "pattern": {
              "fillmode": "overlay",
              "size": 10,
              "solidity": 0.2
             }
            },
            "type": "histogram"
           }
          ],
          "histogram2d": [
           {
            "colorbar": {
             "outlinewidth": 0,
             "ticks": ""
            },
            "colorscale": [
             [
              0,
              "#0d0887"
             ],
             [
              0.1111111111111111,
              "#46039f"
             ],
             [
              0.2222222222222222,
              "#7201a8"
             ],
             [
              0.3333333333333333,
              "#9c179e"
             ],
             [
              0.4444444444444444,
              "#bd3786"
             ],
             [
              0.5555555555555556,
              "#d8576b"
             ],
             [
              0.6666666666666666,
              "#ed7953"
             ],
             [
              0.7777777777777778,
              "#fb9f3a"
             ],
             [
              0.8888888888888888,
              "#fdca26"
             ],
             [
              1,
              "#f0f921"
             ]
            ],
            "type": "histogram2d"
           }
          ],
          "histogram2dcontour": [
           {
            "colorbar": {
             "outlinewidth": 0,
             "ticks": ""
            },
            "colorscale": [
             [
              0,
              "#0d0887"
             ],
             [
              0.1111111111111111,
              "#46039f"
             ],
             [
              0.2222222222222222,
              "#7201a8"
             ],
             [
              0.3333333333333333,
              "#9c179e"
             ],
             [
              0.4444444444444444,
              "#bd3786"
             ],
             [
              0.5555555555555556,
              "#d8576b"
             ],
             [
              0.6666666666666666,
              "#ed7953"
             ],
             [
              0.7777777777777778,
              "#fb9f3a"
             ],
             [
              0.8888888888888888,
              "#fdca26"
             ],
             [
              1,
              "#f0f921"
             ]
            ],
            "type": "histogram2dcontour"
           }
          ],
          "mesh3d": [
           {
            "colorbar": {
             "outlinewidth": 0,
             "ticks": ""
            },
            "type": "mesh3d"
           }
          ],
          "parcoords": [
           {
            "line": {
             "colorbar": {
              "outlinewidth": 0,
              "ticks": ""
             }
            },
            "type": "parcoords"
           }
          ],
          "pie": [
           {
            "automargin": true,
            "type": "pie"
           }
          ],
          "scatter": [
           {
            "fillpattern": {
             "fillmode": "overlay",
             "size": 10,
             "solidity": 0.2
            },
            "type": "scatter"
           }
          ],
          "scatter3d": [
           {
            "line": {
             "colorbar": {
              "outlinewidth": 0,
              "ticks": ""
             }
            },
            "marker": {
             "colorbar": {
              "outlinewidth": 0,
              "ticks": ""
             }
            },
            "type": "scatter3d"
           }
          ],
          "scattercarpet": [
           {
            "marker": {
             "colorbar": {
              "outlinewidth": 0,
              "ticks": ""
             }
            },
            "type": "scattercarpet"
           }
          ],
          "scattergeo": [
           {
            "marker": {
             "colorbar": {
              "outlinewidth": 0,
              "ticks": ""
             }
            },
            "type": "scattergeo"
           }
          ],
          "scattergl": [
           {
            "marker": {
             "colorbar": {
              "outlinewidth": 0,
              "ticks": ""
             }
            },
            "type": "scattergl"
           }
          ],
          "scattermapbox": [
           {
            "marker": {
             "colorbar": {
              "outlinewidth": 0,
              "ticks": ""
             }
            },
            "type": "scattermapbox"
           }
          ],
          "scatterpolar": [
           {
            "marker": {
             "colorbar": {
              "outlinewidth": 0,
              "ticks": ""
             }
            },
            "type": "scatterpolar"
           }
          ],
          "scatterpolargl": [
           {
            "marker": {
             "colorbar": {
              "outlinewidth": 0,
              "ticks": ""
             }
            },
            "type": "scatterpolargl"
           }
          ],
          "scatterternary": [
           {
            "marker": {
             "colorbar": {
              "outlinewidth": 0,
              "ticks": ""
             }
            },
            "type": "scatterternary"
           }
          ],
          "surface": [
           {
            "colorbar": {
             "outlinewidth": 0,
             "ticks": ""
            },
            "colorscale": [
             [
              0,
              "#0d0887"
             ],
             [
              0.1111111111111111,
              "#46039f"
             ],
             [
              0.2222222222222222,
              "#7201a8"
             ],
             [
              0.3333333333333333,
              "#9c179e"
             ],
             [
              0.4444444444444444,
              "#bd3786"
             ],
             [
              0.5555555555555556,
              "#d8576b"
             ],
             [
              0.6666666666666666,
              "#ed7953"
             ],
             [
              0.7777777777777778,
              "#fb9f3a"
             ],
             [
              0.8888888888888888,
              "#fdca26"
             ],
             [
              1,
              "#f0f921"
             ]
            ],
            "type": "surface"
           }
          ],
          "table": [
           {
            "cells": {
             "fill": {
              "color": "#EBF0F8"
             },
             "line": {
              "color": "white"
             }
            },
            "header": {
             "fill": {
              "color": "#C8D4E3"
             },
             "line": {
              "color": "white"
             }
            },
            "type": "table"
           }
          ]
         },
         "layout": {
          "annotationdefaults": {
           "arrowcolor": "#2a3f5f",
           "arrowhead": 0,
           "arrowwidth": 1
          },
          "autotypenumbers": "strict",
          "coloraxis": {
           "colorbar": {
            "outlinewidth": 0,
            "ticks": ""
           }
          },
          "colorscale": {
           "diverging": [
            [
             0,
             "#8e0152"
            ],
            [
             0.1,
             "#c51b7d"
            ],
            [
             0.2,
             "#de77ae"
            ],
            [
             0.3,
             "#f1b6da"
            ],
            [
             0.4,
             "#fde0ef"
            ],
            [
             0.5,
             "#f7f7f7"
            ],
            [
             0.6,
             "#e6f5d0"
            ],
            [
             0.7,
             "#b8e186"
            ],
            [
             0.8,
             "#7fbc41"
            ],
            [
             0.9,
             "#4d9221"
            ],
            [
             1,
             "#276419"
            ]
           ],
           "sequential": [
            [
             0,
             "#0d0887"
            ],
            [
             0.1111111111111111,
             "#46039f"
            ],
            [
             0.2222222222222222,
             "#7201a8"
            ],
            [
             0.3333333333333333,
             "#9c179e"
            ],
            [
             0.4444444444444444,
             "#bd3786"
            ],
            [
             0.5555555555555556,
             "#d8576b"
            ],
            [
             0.6666666666666666,
             "#ed7953"
            ],
            [
             0.7777777777777778,
             "#fb9f3a"
            ],
            [
             0.8888888888888888,
             "#fdca26"
            ],
            [
             1,
             "#f0f921"
            ]
           ],
           "sequentialminus": [
            [
             0,
             "#0d0887"
            ],
            [
             0.1111111111111111,
             "#46039f"
            ],
            [
             0.2222222222222222,
             "#7201a8"
            ],
            [
             0.3333333333333333,
             "#9c179e"
            ],
            [
             0.4444444444444444,
             "#bd3786"
            ],
            [
             0.5555555555555556,
             "#d8576b"
            ],
            [
             0.6666666666666666,
             "#ed7953"
            ],
            [
             0.7777777777777778,
             "#fb9f3a"
            ],
            [
             0.8888888888888888,
             "#fdca26"
            ],
            [
             1,
             "#f0f921"
            ]
           ]
          },
          "colorway": [
           "#636efa",
           "#EF553B",
           "#00cc96",
           "#ab63fa",
           "#FFA15A",
           "#19d3f3",
           "#FF6692",
           "#B6E880",
           "#FF97FF",
           "#FECB52"
          ],
          "font": {
           "color": "#2a3f5f"
          },
          "geo": {
           "bgcolor": "white",
           "lakecolor": "white",
           "landcolor": "white",
           "showlakes": true,
           "showland": true,
           "subunitcolor": "#C8D4E3"
          },
          "hoverlabel": {
           "align": "left"
          },
          "hovermode": "closest",
          "mapbox": {
           "style": "light"
          },
          "paper_bgcolor": "white",
          "plot_bgcolor": "white",
          "polar": {
           "angularaxis": {
            "gridcolor": "#EBF0F8",
            "linecolor": "#EBF0F8",
            "ticks": ""
           },
           "bgcolor": "white",
           "radialaxis": {
            "gridcolor": "#EBF0F8",
            "linecolor": "#EBF0F8",
            "ticks": ""
           }
          },
          "scene": {
           "xaxis": {
            "backgroundcolor": "white",
            "gridcolor": "#DFE8F3",
            "gridwidth": 2,
            "linecolor": "#EBF0F8",
            "showbackground": true,
            "ticks": "",
            "zerolinecolor": "#EBF0F8"
           },
           "yaxis": {
            "backgroundcolor": "white",
            "gridcolor": "#DFE8F3",
            "gridwidth": 2,
            "linecolor": "#EBF0F8",
            "showbackground": true,
            "ticks": "",
            "zerolinecolor": "#EBF0F8"
           },
           "zaxis": {
            "backgroundcolor": "white",
            "gridcolor": "#DFE8F3",
            "gridwidth": 2,
            "linecolor": "#EBF0F8",
            "showbackground": true,
            "ticks": "",
            "zerolinecolor": "#EBF0F8"
           }
          },
          "shapedefaults": {
           "line": {
            "color": "#2a3f5f"
           }
          },
          "ternary": {
           "aaxis": {
            "gridcolor": "#DFE8F3",
            "linecolor": "#A2B1C6",
            "ticks": ""
           },
           "baxis": {
            "gridcolor": "#DFE8F3",
            "linecolor": "#A2B1C6",
            "ticks": ""
           },
           "bgcolor": "white",
           "caxis": {
            "gridcolor": "#DFE8F3",
            "linecolor": "#A2B1C6",
            "ticks": ""
           }
          },
          "title": {
           "x": 0.05
          },
          "xaxis": {
           "automargin": true,
           "gridcolor": "#EBF0F8",
           "linecolor": "#EBF0F8",
           "ticks": "",
           "title": {
            "standoff": 15
           },
           "zerolinecolor": "#EBF0F8",
           "zerolinewidth": 2
          },
          "yaxis": {
           "automargin": true,
           "gridcolor": "#EBF0F8",
           "linecolor": "#EBF0F8",
           "ticks": "",
           "title": {
            "standoff": 15
           },
           "zerolinecolor": "#EBF0F8",
           "zerolinewidth": 2
          }
         }
        },
        "width": 1000,
        "xaxis": {
         "range": [
          0,
          199
         ],
         "showticklabels": false,
         "tickvals": [
          0,
          50,
          100,
          150,
          198
         ],
         "title": {
          "font": {
           "size": 15
          },
          "text": "<b>Proportion of images annotated</b>"
         }
        },
        "yaxis": {
         "categoryorder": "array",
         "tickfont": {
          "size": 13
         },
         "ticksuffix": " "
        }
       }
      }
     },
     "metadata": {},
     "output_type": "display_data"
    }
   ],
   "source": [
    "retinologists_colors = {\n",
    "    \"A\": PURPLE4,\n",
    "    \"B\": PURPLE2bis,\n",
    "    \"C\": PURPLE3,\n",
    "    \"D\": TEAL4,\n",
    "    \"E\": TEAL2,\n",
    "    \"F\": TEAL1,\n",
    "    \"G\": TEAL0,\n",
    "}\n",
    "tasks = [\"Bright Lesions\", \"Red Lesions\", \"Disc & Macula\", \"Vessels\"]\n",
    "\n",
    "df = pd.DataFrame(index=list(\"ABCDEFG\"))\n",
    "for task, annotation_task in zip(tasks, [BRIGHT_TASK, RED_TASK, DISC_MACULA_TASK, VESSELS_TASK], strict=True):\n",
    "    df[task] = annotations_infos[(annotation_task, RETINOLOGIST_INFOS)].value_counts()\n",
    "df = df.fillna(0).astype(int).T\n",
    "\n",
    "tasks = list(reversed(tasks))\n",
    "\n",
    "fig = go.Figure()\n",
    "for i, (r, color) in enumerate(retinologists_colors.items()):\n",
    "    fig.add_trace(\n",
    "        go.Bar(\n",
    "            y=[f\"<b>{t}</b>\" for t in tasks],\n",
    "            x=df[r][tasks],\n",
    "            name=\"Retinologist \" + r,\n",
    "            orientation=\"h\",\n",
    "            marker=dict(color=color),\n",
    "            legendrank=i,\n",
    "            text=[f\"{df[r][task]/1.98:.0f}%\" if df[r][task] > 60 else \"\" for task in tasks],\n",
    "            insidetextanchor=\"middle\",\n",
    "            textfont=dict(size=11, color=WHITE),\n",
    "        )\n",
    "    )\n",
    "\n",
    "fig.update_xaxes(\n",
    "    title=\"<b>Proportion of images annotated</b>\",\n",
    "    titlefont={\"size\": 15},\n",
    "    range=[0, 199],\n",
    "    tickvals=[0, 50, 100, 150, 198],\n",
    "    showticklabels=False,\n",
    ")\n",
    "fig.update_yaxes(tickfont={\"size\": 13}, categoryorder=\"array\", ticksuffix=\" \")\n",
    "fig.update_layout(\n",
    "    barmode=\"stack\",\n",
    "    bargap=0.4,\n",
    "    legend=dict(\n",
    "        orientation=\"v\",\n",
    "        yanchor=\"middle\",\n",
    "        y=0.5,\n",
    "        xanchor=\"left\",\n",
    "        x=1.02,\n",
    "        traceorder=\"normal\",\n",
    "        bordercolor=\"#b5aaad\",\n",
    "        borderwidth=0.5,\n",
    "        grouptitlefont_size=11,\n",
    "    ),\n",
    "    height=210,\n",
    "    width=1000,\n",
    "    template=\"plotly_white\",\n",
    "    margin={\"t\": 30, \"l\": 130, \"r\": 150, \"b\": 0},\n",
    ")\n",
    "\n",
    "fig.show()\n",
    "fig.write_image(\"figures/retinologist_contribution.pdf\")"
   ]
  },
  {
   "cell_type": "markdown",
   "id": "d711b359",
   "metadata": {},
   "source": [
    "##### Lesions Count per grade"
   ]
  },
  {
   "cell_type": "code",
   "execution_count": 27,
   "id": "bb1bb128",
   "metadata": {},
   "outputs": [
    {
     "data": {
      "application/vnd.plotly.v1+json": {
       "config": {
        "plotlyServerURL": "https://plot.ly"
       },
       "data": [
        {
         "boxpoints": false,
         "marker": {
          "color": "#9ec5d4"
         },
         "name": "R0",
         "text": "0.40476190476190477",
         "type": "box",
         "x": [
          "microaneurysms",
          "microaneurysms",
          "microaneurysms",
          "microaneurysms",
          "microaneurysms",
          "microaneurysms",
          "microaneurysms",
          "microaneurysms",
          "microaneurysms",
          "microaneurysms",
          "microaneurysms",
          "microaneurysms",
          "microaneurysms",
          "microaneurysms",
          "hemorrhages",
          "hemorrhages",
          "hemorrhages",
          "hemorrhages",
          "hemorrhages",
          "hemorrhages",
          "hemorrhages",
          "hemorrhages",
          "hemorrhages",
          "hemorrhages",
          "hemorrhages",
          "hemorrhages",
          "hemorrhages",
          "hemorrhages",
          "neovascularization",
          "neovascularization",
          "neovascularization",
          "neovascularization",
          "neovascularization",
          "neovascularization",
          "neovascularization",
          "neovascularization",
          "neovascularization",
          "neovascularization",
          "neovascularization",
          "neovascularization",
          "neovascularization",
          "neovascularization",
          "exudates",
          "exudates",
          "exudates",
          "exudates",
          "exudates",
          "exudates",
          "exudates",
          "exudates",
          "exudates",
          "exudates",
          "exudates",
          "exudates",
          "exudates",
          "exudates",
          "cottonWoolSpots",
          "cottonWoolSpots",
          "cottonWoolSpots",
          "cottonWoolSpots",
          "cottonWoolSpots",
          "cottonWoolSpots",
          "cottonWoolSpots",
          "cottonWoolSpots",
          "cottonWoolSpots",
          "cottonWoolSpots",
          "cottonWoolSpots",
          "cottonWoolSpots",
          "cottonWoolSpots",
          "cottonWoolSpots",
          "drusens",
          "drusens",
          "drusens",
          "drusens",
          "drusens",
          "drusens",
          "drusens",
          "drusens",
          "drusens",
          "drusens",
          "drusens",
          "drusens",
          "drusens",
          "drusens"
         ],
         "y": [
          2,
          4,
          9,
          2,
          1,
          0,
          3,
          0,
          2,
          0,
          0,
          6,
          0,
          1,
          0,
          0,
          0,
          0,
          0,
          1,
          0,
          0,
          0,
          0,
          1,
          0,
          0,
          0,
          0,
          0,
          0,
          0,
          0,
          0,
          0,
          0,
          0,
          0,
          0,
          0,
          0,
          0,
          0,
          1,
          0,
          0,
          0,
          0,
          0,
          0,
          0,
          0,
          0,
          0,
          0,
          0,
          0,
          0,
          0,
          0,
          0,
          0,
          0,
          0,
          0,
          0,
          0,
          0,
          0,
          0,
          0,
          0,
          0,
          0,
          0,
          0,
          0,
          0,
          0,
          1,
          0,
          0,
          0,
          0
         ]
        },
        {
         "boxpoints": false,
         "marker": {
          "color": "#75a8ba"
         },
         "name": "R1",
         "text": "6.909677419354839",
         "type": "box",
         "x": [
          "microaneurysms",
          "microaneurysms",
          "microaneurysms",
          "microaneurysms",
          "microaneurysms",
          "microaneurysms",
          "microaneurysms",
          "microaneurysms",
          "microaneurysms",
          "microaneurysms",
          "microaneurysms",
          "microaneurysms",
          "microaneurysms",
          "microaneurysms",
          "microaneurysms",
          "microaneurysms",
          "microaneurysms",
          "microaneurysms",
          "microaneurysms",
          "microaneurysms",
          "microaneurysms",
          "microaneurysms",
          "microaneurysms",
          "microaneurysms",
          "microaneurysms",
          "microaneurysms",
          "microaneurysms",
          "microaneurysms",
          "microaneurysms",
          "microaneurysms",
          "microaneurysms",
          "microaneurysms",
          "microaneurysms",
          "microaneurysms",
          "microaneurysms",
          "microaneurysms",
          "microaneurysms",
          "microaneurysms",
          "microaneurysms",
          "microaneurysms",
          "microaneurysms",
          "microaneurysms",
          "microaneurysms",
          "microaneurysms",
          "microaneurysms",
          "microaneurysms",
          "microaneurysms",
          "microaneurysms",
          "microaneurysms",
          "microaneurysms",
          "microaneurysms",
          "microaneurysms",
          "microaneurysms",
          "microaneurysms",
          "microaneurysms",
          "microaneurysms",
          "microaneurysms",
          "microaneurysms",
          "microaneurysms",
          "microaneurysms",
          "microaneurysms",
          "microaneurysms",
          "microaneurysms",
          "microaneurysms",
          "microaneurysms",
          "microaneurysms",
          "microaneurysms",
          "microaneurysms",
          "microaneurysms",
          "microaneurysms",
          "microaneurysms",
          "microaneurysms",
          "microaneurysms",
          "microaneurysms",
          "microaneurysms",
          "microaneurysms",
          "microaneurysms",
          "microaneurysms",
          "microaneurysms",
          "microaneurysms",
          "microaneurysms",
          "microaneurysms",
          "microaneurysms",
          "microaneurysms",
          "microaneurysms",
          "microaneurysms",
          "microaneurysms",
          "microaneurysms",
          "microaneurysms",
          "microaneurysms",
          "microaneurysms",
          "microaneurysms",
          "microaneurysms",
          "microaneurysms",
          "microaneurysms",
          "microaneurysms",
          "microaneurysms",
          "microaneurysms",
          "microaneurysms",
          "microaneurysms",
          "microaneurysms",
          "microaneurysms",
          "microaneurysms",
          "microaneurysms",
          "microaneurysms",
          "microaneurysms",
          "microaneurysms",
          "microaneurysms",
          "microaneurysms",
          "microaneurysms",
          "microaneurysms",
          "microaneurysms",
          "microaneurysms",
          "microaneurysms",
          "microaneurysms",
          "microaneurysms",
          "microaneurysms",
          "microaneurysms",
          "microaneurysms",
          "microaneurysms",
          "microaneurysms",
          "microaneurysms",
          "microaneurysms",
          "microaneurysms",
          "microaneurysms",
          "microaneurysms",
          "microaneurysms",
          "microaneurysms",
          "microaneurysms",
          "microaneurysms",
          "microaneurysms",
          "microaneurysms",
          "microaneurysms",
          "microaneurysms",
          "microaneurysms",
          "microaneurysms",
          "microaneurysms",
          "microaneurysms",
          "microaneurysms",
          "microaneurysms",
          "microaneurysms",
          "microaneurysms",
          "microaneurysms",
          "microaneurysms",
          "microaneurysms",
          "microaneurysms",
          "microaneurysms",
          "microaneurysms",
          "microaneurysms",
          "microaneurysms",
          "microaneurysms",
          "microaneurysms",
          "microaneurysms",
          "microaneurysms",
          "microaneurysms",
          "hemorrhages",
          "hemorrhages",
          "hemorrhages",
          "hemorrhages",
          "hemorrhages",
          "hemorrhages",
          "hemorrhages",
          "hemorrhages",
          "hemorrhages",
          "hemorrhages",
          "hemorrhages",
          "hemorrhages",
          "hemorrhages",
          "hemorrhages",
          "hemorrhages",
          "hemorrhages",
          "hemorrhages",
          "hemorrhages",
          "hemorrhages",
          "hemorrhages",
          "hemorrhages",
          "hemorrhages",
          "hemorrhages",
          "hemorrhages",
          "hemorrhages",
          "hemorrhages",
          "hemorrhages",
          "hemorrhages",
          "hemorrhages",
          "hemorrhages",
          "hemorrhages",
          "hemorrhages",
          "hemorrhages",
          "hemorrhages",
          "hemorrhages",
          "hemorrhages",
          "hemorrhages",
          "hemorrhages",
          "hemorrhages",
          "hemorrhages",
          "hemorrhages",
          "hemorrhages",
          "hemorrhages",
          "hemorrhages",
          "hemorrhages",
          "hemorrhages",
          "hemorrhages",
          "hemorrhages",
          "hemorrhages",
          "hemorrhages",
          "hemorrhages",
          "hemorrhages",
          "hemorrhages",
          "hemorrhages",
          "hemorrhages",
          "hemorrhages",
          "hemorrhages",
          "hemorrhages",
          "hemorrhages",
          "hemorrhages",
          "hemorrhages",
          "hemorrhages",
          "hemorrhages",
          "hemorrhages",
          "hemorrhages",
          "hemorrhages",
          "hemorrhages",
          "hemorrhages",
          "hemorrhages",
          "hemorrhages",
          "hemorrhages",
          "hemorrhages",
          "hemorrhages",
          "hemorrhages",
          "hemorrhages",
          "hemorrhages",
          "hemorrhages",
          "hemorrhages",
          "hemorrhages",
          "hemorrhages",
          "hemorrhages",
          "hemorrhages",
          "hemorrhages",
          "hemorrhages",
          "hemorrhages",
          "hemorrhages",
          "hemorrhages",
          "hemorrhages",
          "hemorrhages",
          "hemorrhages",
          "hemorrhages",
          "hemorrhages",
          "hemorrhages",
          "hemorrhages",
          "hemorrhages",
          "hemorrhages",
          "hemorrhages",
          "hemorrhages",
          "hemorrhages",
          "hemorrhages",
          "hemorrhages",
          "hemorrhages",
          "hemorrhages",
          "hemorrhages",
          "hemorrhages",
          "hemorrhages",
          "hemorrhages",
          "hemorrhages",
          "hemorrhages",
          "hemorrhages",
          "hemorrhages",
          "hemorrhages",
          "hemorrhages",
          "hemorrhages",
          "hemorrhages",
          "hemorrhages",
          "hemorrhages",
          "hemorrhages",
          "hemorrhages",
          "hemorrhages",
          "hemorrhages",
          "hemorrhages",
          "hemorrhages",
          "hemorrhages",
          "hemorrhages",
          "hemorrhages",
          "hemorrhages",
          "hemorrhages",
          "hemorrhages",
          "hemorrhages",
          "hemorrhages",
          "hemorrhages",
          "hemorrhages",
          "hemorrhages",
          "hemorrhages",
          "hemorrhages",
          "hemorrhages",
          "hemorrhages",
          "hemorrhages",
          "hemorrhages",
          "hemorrhages",
          "hemorrhages",
          "hemorrhages",
          "hemorrhages",
          "hemorrhages",
          "hemorrhages",
          "hemorrhages",
          "hemorrhages",
          "hemorrhages",
          "hemorrhages",
          "hemorrhages",
          "hemorrhages",
          "hemorrhages",
          "hemorrhages",
          "hemorrhages",
          "neovascularization",
          "neovascularization",
          "neovascularization",
          "neovascularization",
          "neovascularization",
          "neovascularization",
          "neovascularization",
          "neovascularization",
          "neovascularization",
          "neovascularization",
          "neovascularization",
          "neovascularization",
          "neovascularization",
          "neovascularization",
          "neovascularization",
          "neovascularization",
          "neovascularization",
          "neovascularization",
          "neovascularization",
          "neovascularization",
          "neovascularization",
          "neovascularization",
          "neovascularization",
          "neovascularization",
          "neovascularization",
          "neovascularization",
          "neovascularization",
          "neovascularization",
          "neovascularization",
          "neovascularization",
          "neovascularization",
          "neovascularization",
          "neovascularization",
          "neovascularization",
          "neovascularization",
          "neovascularization",
          "neovascularization",
          "neovascularization",
          "neovascularization",
          "neovascularization",
          "neovascularization",
          "neovascularization",
          "neovascularization",
          "neovascularization",
          "neovascularization",
          "neovascularization",
          "neovascularization",
          "neovascularization",
          "neovascularization",
          "neovascularization",
          "neovascularization",
          "neovascularization",
          "neovascularization",
          "neovascularization",
          "neovascularization",
          "neovascularization",
          "neovascularization",
          "neovascularization",
          "neovascularization",
          "neovascularization",
          "neovascularization",
          "neovascularization",
          "neovascularization",
          "neovascularization",
          "neovascularization",
          "neovascularization",
          "neovascularization",
          "neovascularization",
          "neovascularization",
          "neovascularization",
          "neovascularization",
          "neovascularization",
          "neovascularization",
          "neovascularization",
          "neovascularization",
          "neovascularization",
          "neovascularization",
          "neovascularization",
          "neovascularization",
          "neovascularization",
          "neovascularization",
          "neovascularization",
          "neovascularization",
          "neovascularization",
          "neovascularization",
          "neovascularization",
          "neovascularization",
          "neovascularization",
          "neovascularization",
          "neovascularization",
          "neovascularization",
          "neovascularization",
          "neovascularization",
          "neovascularization",
          "neovascularization",
          "neovascularization",
          "neovascularization",
          "neovascularization",
          "neovascularization",
          "neovascularization",
          "neovascularization",
          "neovascularization",
          "neovascularization",
          "neovascularization",
          "neovascularization",
          "neovascularization",
          "neovascularization",
          "neovascularization",
          "neovascularization",
          "neovascularization",
          "neovascularization",
          "neovascularization",
          "neovascularization",
          "neovascularization",
          "neovascularization",
          "neovascularization",
          "neovascularization",
          "neovascularization",
          "neovascularization",
          "neovascularization",
          "neovascularization",
          "neovascularization",
          "neovascularization",
          "neovascularization",
          "neovascularization",
          "neovascularization",
          "neovascularization",
          "neovascularization",
          "neovascularization",
          "neovascularization",
          "neovascularization",
          "neovascularization",
          "neovascularization",
          "neovascularization",
          "neovascularization",
          "neovascularization",
          "neovascularization",
          "neovascularization",
          "neovascularization",
          "neovascularization",
          "neovascularization",
          "neovascularization",
          "neovascularization",
          "neovascularization",
          "neovascularization",
          "neovascularization",
          "neovascularization",
          "neovascularization",
          "neovascularization",
          "neovascularization",
          "neovascularization",
          "neovascularization",
          "neovascularization",
          "neovascularization",
          "neovascularization",
          "exudates",
          "exudates",
          "exudates",
          "exudates",
          "exudates",
          "exudates",
          "exudates",
          "exudates",
          "exudates",
          "exudates",
          "exudates",
          "exudates",
          "exudates",
          "exudates",
          "exudates",
          "exudates",
          "exudates",
          "exudates",
          "exudates",
          "exudates",
          "exudates",
          "exudates",
          "exudates",
          "exudates",
          "exudates",
          "exudates",
          "exudates",
          "exudates",
          "exudates",
          "exudates",
          "exudates",
          "exudates",
          "exudates",
          "exudates",
          "exudates",
          "exudates",
          "exudates",
          "exudates",
          "exudates",
          "exudates",
          "exudates",
          "exudates",
          "exudates",
          "exudates",
          "exudates",
          "exudates",
          "exudates",
          "exudates",
          "exudates",
          "exudates",
          "exudates",
          "exudates",
          "exudates",
          "exudates",
          "exudates",
          "exudates",
          "exudates",
          "exudates",
          "exudates",
          "exudates",
          "exudates",
          "exudates",
          "exudates",
          "exudates",
          "exudates",
          "exudates",
          "exudates",
          "exudates",
          "exudates",
          "exudates",
          "exudates",
          "exudates",
          "exudates",
          "exudates",
          "exudates",
          "exudates",
          "exudates",
          "exudates",
          "exudates",
          "exudates",
          "exudates",
          "exudates",
          "exudates",
          "exudates",
          "exudates",
          "exudates",
          "exudates",
          "exudates",
          "exudates",
          "exudates",
          "exudates",
          "exudates",
          "exudates",
          "exudates",
          "exudates",
          "exudates",
          "exudates",
          "exudates",
          "exudates",
          "exudates",
          "exudates",
          "exudates",
          "exudates",
          "exudates",
          "exudates",
          "exudates",
          "exudates",
          "exudates",
          "exudates",
          "exudates",
          "exudates",
          "exudates",
          "exudates",
          "exudates",
          "exudates",
          "exudates",
          "exudates",
          "exudates",
          "exudates",
          "exudates",
          "exudates",
          "exudates",
          "exudates",
          "exudates",
          "exudates",
          "exudates",
          "exudates",
          "exudates",
          "exudates",
          "exudates",
          "exudates",
          "exudates",
          "exudates",
          "exudates",
          "exudates",
          "exudates",
          "exudates",
          "exudates",
          "exudates",
          "exudates",
          "exudates",
          "exudates",
          "exudates",
          "exudates",
          "exudates",
          "exudates",
          "exudates",
          "exudates",
          "exudates",
          "exudates",
          "exudates",
          "exudates",
          "exudates",
          "exudates",
          "exudates",
          "cottonWoolSpots",
          "cottonWoolSpots",
          "cottonWoolSpots",
          "cottonWoolSpots",
          "cottonWoolSpots",
          "cottonWoolSpots",
          "cottonWoolSpots",
          "cottonWoolSpots",
          "cottonWoolSpots",
          "cottonWoolSpots",
          "cottonWoolSpots",
          "cottonWoolSpots",
          "cottonWoolSpots",
          "cottonWoolSpots",
          "cottonWoolSpots",
          "cottonWoolSpots",
          "cottonWoolSpots",
          "cottonWoolSpots",
          "cottonWoolSpots",
          "cottonWoolSpots",
          "cottonWoolSpots",
          "cottonWoolSpots",
          "cottonWoolSpots",
          "cottonWoolSpots",
          "cottonWoolSpots",
          "cottonWoolSpots",
          "cottonWoolSpots",
          "cottonWoolSpots",
          "cottonWoolSpots",
          "cottonWoolSpots",
          "cottonWoolSpots",
          "cottonWoolSpots",
          "cottonWoolSpots",
          "cottonWoolSpots",
          "cottonWoolSpots",
          "cottonWoolSpots",
          "cottonWoolSpots",
          "cottonWoolSpots",
          "cottonWoolSpots",
          "cottonWoolSpots",
          "cottonWoolSpots",
          "cottonWoolSpots",
          "cottonWoolSpots",
          "cottonWoolSpots",
          "cottonWoolSpots",
          "cottonWoolSpots",
          "cottonWoolSpots",
          "cottonWoolSpots",
          "cottonWoolSpots",
          "cottonWoolSpots",
          "cottonWoolSpots",
          "cottonWoolSpots",
          "cottonWoolSpots",
          "cottonWoolSpots",
          "cottonWoolSpots",
          "cottonWoolSpots",
          "cottonWoolSpots",
          "cottonWoolSpots",
          "cottonWoolSpots",
          "cottonWoolSpots",
          "cottonWoolSpots",
          "cottonWoolSpots",
          "cottonWoolSpots",
          "cottonWoolSpots",
          "cottonWoolSpots",
          "cottonWoolSpots",
          "cottonWoolSpots",
          "cottonWoolSpots",
          "cottonWoolSpots",
          "cottonWoolSpots",
          "cottonWoolSpots",
          "cottonWoolSpots",
          "cottonWoolSpots",
          "cottonWoolSpots",
          "cottonWoolSpots",
          "cottonWoolSpots",
          "cottonWoolSpots",
          "cottonWoolSpots",
          "cottonWoolSpots",
          "cottonWoolSpots",
          "cottonWoolSpots",
          "cottonWoolSpots",
          "cottonWoolSpots",
          "cottonWoolSpots",
          "cottonWoolSpots",
          "cottonWoolSpots",
          "cottonWoolSpots",
          "cottonWoolSpots",
          "cottonWoolSpots",
          "cottonWoolSpots",
          "cottonWoolSpots",
          "cottonWoolSpots",
          "cottonWoolSpots",
          "cottonWoolSpots",
          "cottonWoolSpots",
          "cottonWoolSpots",
          "cottonWoolSpots",
          "cottonWoolSpots",
          "cottonWoolSpots",
          "cottonWoolSpots",
          "cottonWoolSpots",
          "cottonWoolSpots",
          "cottonWoolSpots",
          "cottonWoolSpots",
          "cottonWoolSpots",
          "cottonWoolSpots",
          "cottonWoolSpots",
          "cottonWoolSpots",
          "cottonWoolSpots",
          "cottonWoolSpots",
          "cottonWoolSpots",
          "cottonWoolSpots",
          "cottonWoolSpots",
          "cottonWoolSpots",
          "cottonWoolSpots",
          "cottonWoolSpots",
          "cottonWoolSpots",
          "cottonWoolSpots",
          "cottonWoolSpots",
          "cottonWoolSpots",
          "cottonWoolSpots",
          "cottonWoolSpots",
          "cottonWoolSpots",
          "cottonWoolSpots",
          "cottonWoolSpots",
          "cottonWoolSpots",
          "cottonWoolSpots",
          "cottonWoolSpots",
          "cottonWoolSpots",
          "cottonWoolSpots",
          "cottonWoolSpots",
          "cottonWoolSpots",
          "cottonWoolSpots",
          "cottonWoolSpots",
          "cottonWoolSpots",
          "cottonWoolSpots",
          "cottonWoolSpots",
          "cottonWoolSpots",
          "cottonWoolSpots",
          "cottonWoolSpots",
          "cottonWoolSpots",
          "cottonWoolSpots",
          "cottonWoolSpots",
          "cottonWoolSpots",
          "cottonWoolSpots",
          "cottonWoolSpots",
          "cottonWoolSpots",
          "cottonWoolSpots",
          "cottonWoolSpots",
          "cottonWoolSpots",
          "cottonWoolSpots",
          "cottonWoolSpots",
          "cottonWoolSpots",
          "cottonWoolSpots",
          "cottonWoolSpots",
          "drusens",
          "drusens",
          "drusens",
          "drusens",
          "drusens",
          "drusens",
          "drusens",
          "drusens",
          "drusens",
          "drusens",
          "drusens",
          "drusens",
          "drusens",
          "drusens",
          "drusens",
          "drusens",
          "drusens",
          "drusens",
          "drusens",
          "drusens",
          "drusens",
          "drusens",
          "drusens",
          "drusens",
          "drusens",
          "drusens",
          "drusens",
          "drusens",
          "drusens",
          "drusens",
          "drusens",
          "drusens",
          "drusens",
          "drusens",
          "drusens",
          "drusens",
          "drusens",
          "drusens",
          "drusens",
          "drusens",
          "drusens",
          "drusens",
          "drusens",
          "drusens",
          "drusens",
          "drusens",
          "drusens",
          "drusens",
          "drusens",
          "drusens",
          "drusens",
          "drusens",
          "drusens",
          "drusens",
          "drusens",
          "drusens",
          "drusens",
          "drusens",
          "drusens",
          "drusens",
          "drusens",
          "drusens",
          "drusens",
          "drusens",
          "drusens",
          "drusens",
          "drusens",
          "drusens",
          "drusens",
          "drusens",
          "drusens",
          "drusens",
          "drusens",
          "drusens",
          "drusens",
          "drusens",
          "drusens",
          "drusens",
          "drusens",
          "drusens",
          "drusens",
          "drusens",
          "drusens",
          "drusens",
          "drusens",
          "drusens",
          "drusens",
          "drusens",
          "drusens",
          "drusens",
          "drusens",
          "drusens",
          "drusens",
          "drusens",
          "drusens",
          "drusens",
          "drusens",
          "drusens",
          "drusens",
          "drusens",
          "drusens",
          "drusens",
          "drusens",
          "drusens",
          "drusens",
          "drusens",
          "drusens",
          "drusens",
          "drusens",
          "drusens",
          "drusens",
          "drusens",
          "drusens",
          "drusens",
          "drusens",
          "drusens",
          "drusens",
          "drusens",
          "drusens",
          "drusens",
          "drusens",
          "drusens",
          "drusens",
          "drusens",
          "drusens",
          "drusens",
          "drusens",
          "drusens",
          "drusens",
          "drusens",
          "drusens",
          "drusens",
          "drusens",
          "drusens",
          "drusens",
          "drusens",
          "drusens",
          "drusens",
          "drusens",
          "drusens",
          "drusens",
          "drusens",
          "drusens",
          "drusens",
          "drusens",
          "drusens",
          "drusens",
          "drusens",
          "drusens",
          "drusens",
          "drusens",
          "drusens",
          "drusens",
          "drusens",
          "drusens"
         ],
         "y": [
          17,
          1,
          8,
          35,
          47,
          48,
          8,
          56,
          1,
          35,
          58,
          1,
          7,
          9,
          24,
          5,
          0,
          12,
          44,
          23,
          16,
          17,
          5,
          34,
          7,
          3,
          0,
          20,
          25,
          33,
          67,
          5,
          34,
          7,
          20,
          89,
          27,
          12,
          0,
          9,
          4,
          17,
          9,
          1,
          32,
          10,
          34,
          19,
          21,
          31,
          11,
          4,
          0,
          1,
          8,
          42,
          0,
          27,
          2,
          15,
          40,
          3,
          58,
          93,
          27,
          31,
          39,
          7,
          16,
          12,
          60,
          2,
          15,
          4,
          9,
          40,
          7,
          16,
          54,
          1,
          8,
          57,
          33,
          9,
          4,
          13,
          31,
          44,
          14,
          18,
          3,
          22,
          31,
          50,
          29,
          56,
          6,
          4,
          20,
          12,
          5,
          5,
          9,
          15,
          20,
          47,
          7,
          11,
          7,
          45,
          29,
          1,
          14,
          13,
          9,
          33,
          10,
          2,
          32,
          23,
          2,
          14,
          5,
          10,
          13,
          43,
          4,
          42,
          22,
          15,
          69,
          3,
          5,
          38,
          0,
          96,
          10,
          7,
          28,
          23,
          37,
          25,
          7,
          9,
          15,
          43,
          43,
          32,
          21,
          25,
          28,
          6,
          28,
          7,
          8,
          3,
          2,
          5,
          4,
          0,
          4,
          0,
          0,
          0,
          7,
          1,
          0,
          5,
          1,
          0,
          2,
          3,
          1,
          5,
          3,
          1,
          4,
          1,
          0,
          0,
          0,
          0,
          4,
          6,
          2,
          0,
          0,
          0,
          0,
          0,
          0,
          3,
          0,
          0,
          2,
          0,
          1,
          0,
          9,
          1,
          1,
          3,
          0,
          6,
          2,
          0,
          0,
          1,
          0,
          2,
          0,
          0,
          2,
          1,
          5,
          0,
          1,
          0,
          10,
          0,
          2,
          1,
          1,
          4,
          0,
          1,
          2,
          1,
          17,
          0,
          1,
          4,
          5,
          10,
          3,
          0,
          0,
          3,
          0,
          3,
          1,
          14,
          0,
          2,
          0,
          3,
          0,
          0,
          2,
          6,
          5,
          2,
          1,
          1,
          0,
          7,
          2,
          0,
          0,
          0,
          8,
          14,
          3,
          1,
          0,
          4,
          0,
          0,
          0,
          0,
          1,
          2,
          7,
          1,
          0,
          0,
          1,
          0,
          1,
          1,
          0,
          0,
          0,
          0,
          2,
          1,
          2,
          8,
          1,
          0,
          3,
          0,
          0,
          0,
          4,
          11,
          4,
          3,
          1,
          2,
          0,
          0,
          1,
          5,
          0,
          0,
          7,
          4,
          0,
          2,
          0,
          0,
          0,
          0,
          0,
          0,
          0,
          0,
          0,
          0,
          0,
          0,
          0,
          0,
          0,
          0,
          0,
          0,
          0,
          0,
          0,
          0,
          0,
          0,
          0,
          0,
          0,
          0,
          0,
          0,
          0,
          0,
          0,
          0,
          0,
          0,
          0,
          0,
          0,
          0,
          0,
          0,
          0,
          0,
          0,
          0,
          0,
          0,
          0,
          0,
          0,
          0,
          0,
          0,
          0,
          0,
          0,
          0,
          0,
          0,
          0,
          0,
          0,
          1,
          29,
          0,
          0,
          0,
          0,
          0,
          0,
          0,
          0,
          0,
          0,
          0,
          0,
          0,
          0,
          0,
          0,
          0,
          0,
          0,
          0,
          0,
          0,
          0,
          0,
          0,
          0,
          0,
          0,
          0,
          0,
          0,
          0,
          0,
          0,
          0,
          0,
          0,
          0,
          0,
          0,
          0,
          0,
          0,
          0,
          0,
          0,
          0,
          0,
          0,
          0,
          0,
          0,
          0,
          0,
          0,
          0,
          0,
          0,
          0,
          0,
          0,
          0,
          0,
          0,
          0,
          0,
          0,
          0,
          0,
          0,
          0,
          0,
          0,
          0,
          0,
          0,
          0,
          0,
          0,
          0,
          0,
          0,
          0,
          0,
          0,
          0,
          0,
          0,
          0,
          0,
          44,
          97,
          22,
          0,
          21,
          2,
          0,
          0,
          0,
          0,
          1,
          0,
          1,
          3,
          60,
          13,
          0,
          0,
          0,
          1,
          0,
          0,
          1,
          0,
          0,
          31,
          0,
          0,
          0,
          45,
          3,
          0,
          76,
          0,
          0,
          0,
          0,
          0,
          23,
          1,
          2,
          1,
          7,
          3,
          0,
          0,
          0,
          8,
          0,
          9,
          18,
          91,
          40,
          0,
          0,
          26,
          5,
          0,
          21,
          0,
          0,
          55,
          17,
          10,
          0,
          98,
          4,
          1,
          27,
          0,
          0,
          4,
          0,
          10,
          1,
          0,
          0,
          0,
          0,
          12,
          4,
          0,
          0,
          0,
          7,
          0,
          0,
          0,
          42,
          14,
          0,
          18,
          0,
          0,
          4,
          3,
          11,
          0,
          0,
          4,
          0,
          0,
          0,
          1,
          16,
          5,
          19,
          0,
          81,
          4,
          0,
          15,
          0,
          0,
          1,
          4,
          1,
          19,
          0,
          0,
          0,
          16,
          1,
          0,
          0,
          1,
          0,
          12,
          0,
          30,
          0,
          7,
          2,
          2,
          0,
          0,
          0,
          0,
          24,
          0,
          1,
          18,
          0,
          0,
          4,
          36,
          0,
          6,
          8,
          15,
          0,
          0,
          0,
          0,
          0,
          1,
          0,
          0,
          0,
          5,
          0,
          0,
          0,
          0,
          0,
          0,
          0,
          0,
          0,
          6,
          1,
          0,
          3,
          1,
          0,
          0,
          0,
          0,
          6,
          0,
          0,
          0,
          0,
          0,
          0,
          0,
          0,
          6,
          0,
          0,
          2,
          0,
          0,
          0,
          0,
          0,
          0,
          1,
          0,
          1,
          0,
          3,
          0,
          1,
          5,
          0,
          0,
          0,
          0,
          1,
          0,
          0,
          0,
          0,
          0,
          0,
          1,
          0,
          4,
          0,
          0,
          0,
          0,
          0,
          0,
          0,
          0,
          1,
          0,
          0,
          0,
          2,
          0,
          0,
          1,
          4,
          1,
          1,
          0,
          0,
          1,
          3,
          0,
          0,
          1,
          0,
          5,
          0,
          2,
          0,
          2,
          0,
          0,
          0,
          9,
          1,
          1,
          0,
          2,
          1,
          2,
          3,
          0,
          0,
          0,
          0,
          2,
          0,
          0,
          0,
          0,
          0,
          0,
          0,
          7,
          0,
          0,
          0,
          0,
          1,
          0,
          0,
          1,
          0,
          0,
          0,
          0,
          0,
          0,
          0,
          3,
          0,
          0,
          0,
          0,
          0,
          0,
          0,
          3,
          1,
          0,
          0,
          1,
          1,
          0,
          0,
          0,
          1,
          2,
          0,
          16,
          0,
          0,
          6,
          1,
          0,
          0,
          0,
          0,
          0,
          81,
          4,
          0,
          0,
          0,
          0,
          12,
          7,
          0,
          6,
          5,
          36,
          9,
          2,
          0,
          0,
          2,
          0,
          0,
          4,
          0,
          0,
          0,
          6,
          0,
          1,
          15,
          0,
          0,
          0,
          4,
          45,
          0,
          16,
          6,
          66,
          16,
          4,
          0,
          0,
          0,
          0,
          8,
          13,
          0,
          0,
          0,
          0,
          0,
          3,
          32,
          2,
          2,
          1,
          10,
          5,
          5,
          0,
          0,
          0,
          0,
          0,
          0,
          0,
          0,
          3,
          3,
          0,
          1,
          0,
          0,
          1,
          0,
          21,
          2,
          13,
          6,
          0,
          11,
          56,
          2,
          33,
          0,
          113,
          0,
          2,
          0,
          1,
          0,
          0,
          0,
          3,
          8,
          0,
          14,
          9,
          3,
          0,
          0,
          6,
          2,
          1,
          0,
          2,
          10,
          3,
          0,
          1,
          66,
          0,
          9,
          1,
          0,
          0,
          0,
          3,
          139,
          0,
          0,
          1,
          0,
          0,
          0,
          1,
          11,
          27,
          0,
          7,
          0,
          191,
          3,
          2,
          22,
          8,
          0,
          0,
          0,
          0,
          0,
          4,
          12,
          5,
          0,
          19,
          1
         ]
        },
        {
         "boxpoints": false,
         "marker": {
          "color": "#4b8a9f"
         },
         "name": "R2",
         "text": "22.466666666666665",
         "type": "box",
         "x": [
          "microaneurysms",
          "microaneurysms",
          "microaneurysms",
          "microaneurysms",
          "microaneurysms",
          "microaneurysms",
          "microaneurysms",
          "microaneurysms",
          "microaneurysms",
          "microaneurysms",
          "microaneurysms",
          "microaneurysms",
          "microaneurysms",
          "microaneurysms",
          "microaneurysms",
          "hemorrhages",
          "hemorrhages",
          "hemorrhages",
          "hemorrhages",
          "hemorrhages",
          "hemorrhages",
          "hemorrhages",
          "hemorrhages",
          "hemorrhages",
          "hemorrhages",
          "hemorrhages",
          "hemorrhages",
          "hemorrhages",
          "hemorrhages",
          "hemorrhages",
          "neovascularization",
          "neovascularization",
          "neovascularization",
          "neovascularization",
          "neovascularization",
          "neovascularization",
          "neovascularization",
          "neovascularization",
          "neovascularization",
          "neovascularization",
          "neovascularization",
          "neovascularization",
          "neovascularization",
          "neovascularization",
          "neovascularization",
          "exudates",
          "exudates",
          "exudates",
          "exudates",
          "exudates",
          "exudates",
          "exudates",
          "exudates",
          "exudates",
          "exudates",
          "exudates",
          "exudates",
          "exudates",
          "exudates",
          "exudates",
          "cottonWoolSpots",
          "cottonWoolSpots",
          "cottonWoolSpots",
          "cottonWoolSpots",
          "cottonWoolSpots",
          "cottonWoolSpots",
          "cottonWoolSpots",
          "cottonWoolSpots",
          "cottonWoolSpots",
          "cottonWoolSpots",
          "cottonWoolSpots",
          "cottonWoolSpots",
          "cottonWoolSpots",
          "cottonWoolSpots",
          "cottonWoolSpots",
          "drusens",
          "drusens",
          "drusens",
          "drusens",
          "drusens",
          "drusens",
          "drusens",
          "drusens",
          "drusens",
          "drusens",
          "drusens",
          "drusens",
          "drusens",
          "drusens",
          "drusens"
         ],
         "y": [
          98,
          139,
          39,
          52,
          52,
          24,
          30,
          58,
          147,
          61,
          71,
          44,
          16,
          42,
          49,
          18,
          43,
          38,
          8,
          18,
          13,
          5,
          14,
          9,
          20,
          7,
          7,
          4,
          11,
          10,
          70,
          0,
          0,
          0,
          0,
          0,
          0,
          3,
          0,
          0,
          0,
          0,
          0,
          0,
          0,
          105,
          100,
          80,
          15,
          35,
          31,
          2,
          24,
          52,
          8,
          153,
          0,
          47,
          53,
          21,
          0,
          0,
          3,
          0,
          7,
          0,
          0,
          3,
          14,
          0,
          1,
          0,
          3,
          13,
          0,
          7,
          0,
          0,
          13,
          0,
          2,
          0,
          1,
          0,
          0,
          0,
          0,
          9,
          0,
          0
         ]
        },
        {
         "boxpoints": false,
         "marker": {
          "color": "#277088"
         },
         "name": "R3",
         "text": "30.533333333333335",
         "type": "box",
         "x": [
          "microaneurysms",
          "microaneurysms",
          "microaneurysms",
          "microaneurysms",
          "microaneurysms",
          "microaneurysms",
          "microaneurysms",
          "microaneurysms",
          "microaneurysms",
          "microaneurysms",
          "hemorrhages",
          "hemorrhages",
          "hemorrhages",
          "hemorrhages",
          "hemorrhages",
          "hemorrhages",
          "hemorrhages",
          "hemorrhages",
          "hemorrhages",
          "hemorrhages",
          "neovascularization",
          "neovascularization",
          "neovascularization",
          "neovascularization",
          "neovascularization",
          "neovascularization",
          "neovascularization",
          "neovascularization",
          "neovascularization",
          "neovascularization",
          "exudates",
          "exudates",
          "exudates",
          "exudates",
          "exudates",
          "exudates",
          "exudates",
          "exudates",
          "exudates",
          "exudates",
          "cottonWoolSpots",
          "cottonWoolSpots",
          "cottonWoolSpots",
          "cottonWoolSpots",
          "cottonWoolSpots",
          "cottonWoolSpots",
          "cottonWoolSpots",
          "cottonWoolSpots",
          "cottonWoolSpots",
          "cottonWoolSpots",
          "drusens",
          "drusens",
          "drusens",
          "drusens",
          "drusens",
          "drusens",
          "drusens",
          "drusens",
          "drusens",
          "drusens"
         ],
         "y": [
          170,
          155,
          110,
          65,
          33,
          36,
          103,
          5,
          65,
          128,
          42,
          25,
          5,
          12,
          91,
          3,
          29,
          9,
          14,
          7,
          0,
          0,
          1,
          0,
          0,
          0,
          0,
          0,
          0,
          0,
          41,
          0,
          217,
          13,
          25,
          62,
          114,
          3,
          135,
          0,
          0,
          0,
          0,
          0,
          2,
          3,
          7,
          0,
          16,
          5,
          47,
          0,
          0,
          0,
          0,
          33,
          0,
          0,
          0,
          1
         ]
        },
        {
         "boxpoints": false,
         "marker": {
          "color": "#8e5ea1"
         },
         "name": "R4A",
         "text": "43.916666666666664",
         "type": "box",
         "x": [
          "microaneurysms",
          "microaneurysms",
          "microaneurysms",
          "microaneurysms",
          "hemorrhages",
          "hemorrhages",
          "hemorrhages",
          "hemorrhages",
          "neovascularization",
          "neovascularization",
          "neovascularization",
          "neovascularization",
          "exudates",
          "exudates",
          "exudates",
          "exudates",
          "cottonWoolSpots",
          "cottonWoolSpots",
          "cottonWoolSpots",
          "cottonWoolSpots",
          "drusens",
          "drusens",
          "drusens",
          "drusens"
         ],
         "y": [
          143,
          82,
          116,
          85,
          16,
          57,
          56,
          41,
          0,
          17,
          0,
          0,
          0,
          152,
          114,
          166,
          3,
          0,
          6,
          0,
          0,
          0,
          0,
          0
         ]
        }
       ],
       "layout": {
        "boxmode": "group",
        "height": 300,
        "legend": {
         "bordercolor": "#b5aaad",
         "borderwidth": 0.5,
         "grouptitlefont": {
          "size": 11
         },
         "orientation": "h",
         "title": {
          "text": "<b>Diabetic Retinopathy Grade</b>"
         },
         "x": 0.5,
         "xanchor": "center",
         "y": 1.1,
         "yanchor": "top"
        },
        "margin": {
         "b": 20,
         "l": 20,
         "r": 20,
         "t": 20
        },
        "template": {
         "data": {
          "bar": [
           {
            "error_x": {
             "color": "#2a3f5f"
            },
            "error_y": {
             "color": "#2a3f5f"
            },
            "marker": {
             "line": {
              "color": "white",
              "width": 0.5
             },
             "pattern": {
              "fillmode": "overlay",
              "size": 10,
              "solidity": 0.2
             }
            },
            "type": "bar"
           }
          ],
          "barpolar": [
           {
            "marker": {
             "line": {
              "color": "white",
              "width": 0.5
             },
             "pattern": {
              "fillmode": "overlay",
              "size": 10,
              "solidity": 0.2
             }
            },
            "type": "barpolar"
           }
          ],
          "carpet": [
           {
            "aaxis": {
             "endlinecolor": "#2a3f5f",
             "gridcolor": "#C8D4E3",
             "linecolor": "#C8D4E3",
             "minorgridcolor": "#C8D4E3",
             "startlinecolor": "#2a3f5f"
            },
            "baxis": {
             "endlinecolor": "#2a3f5f",
             "gridcolor": "#C8D4E3",
             "linecolor": "#C8D4E3",
             "minorgridcolor": "#C8D4E3",
             "startlinecolor": "#2a3f5f"
            },
            "type": "carpet"
           }
          ],
          "choropleth": [
           {
            "colorbar": {
             "outlinewidth": 0,
             "ticks": ""
            },
            "type": "choropleth"
           }
          ],
          "contour": [
           {
            "colorbar": {
             "outlinewidth": 0,
             "ticks": ""
            },
            "colorscale": [
             [
              0,
              "#0d0887"
             ],
             [
              0.1111111111111111,
              "#46039f"
             ],
             [
              0.2222222222222222,
              "#7201a8"
             ],
             [
              0.3333333333333333,
              "#9c179e"
             ],
             [
              0.4444444444444444,
              "#bd3786"
             ],
             [
              0.5555555555555556,
              "#d8576b"
             ],
             [
              0.6666666666666666,
              "#ed7953"
             ],
             [
              0.7777777777777778,
              "#fb9f3a"
             ],
             [
              0.8888888888888888,
              "#fdca26"
             ],
             [
              1,
              "#f0f921"
             ]
            ],
            "type": "contour"
           }
          ],
          "contourcarpet": [
           {
            "colorbar": {
             "outlinewidth": 0,
             "ticks": ""
            },
            "type": "contourcarpet"
           }
          ],
          "heatmap": [
           {
            "colorbar": {
             "outlinewidth": 0,
             "ticks": ""
            },
            "colorscale": [
             [
              0,
              "#0d0887"
             ],
             [
              0.1111111111111111,
              "#46039f"
             ],
             [
              0.2222222222222222,
              "#7201a8"
             ],
             [
              0.3333333333333333,
              "#9c179e"
             ],
             [
              0.4444444444444444,
              "#bd3786"
             ],
             [
              0.5555555555555556,
              "#d8576b"
             ],
             [
              0.6666666666666666,
              "#ed7953"
             ],
             [
              0.7777777777777778,
              "#fb9f3a"
             ],
             [
              0.8888888888888888,
              "#fdca26"
             ],
             [
              1,
              "#f0f921"
             ]
            ],
            "type": "heatmap"
           }
          ],
          "heatmapgl": [
           {
            "colorbar": {
             "outlinewidth": 0,
             "ticks": ""
            },
            "colorscale": [
             [
              0,
              "#0d0887"
             ],
             [
              0.1111111111111111,
              "#46039f"
             ],
             [
              0.2222222222222222,
              "#7201a8"
             ],
             [
              0.3333333333333333,
              "#9c179e"
             ],
             [
              0.4444444444444444,
              "#bd3786"
             ],
             [
              0.5555555555555556,
              "#d8576b"
             ],
             [
              0.6666666666666666,
              "#ed7953"
             ],
             [
              0.7777777777777778,
              "#fb9f3a"
             ],
             [
              0.8888888888888888,
              "#fdca26"
             ],
             [
              1,
              "#f0f921"
             ]
            ],
            "type": "heatmapgl"
           }
          ],
          "histogram": [
           {
            "marker": {
             "pattern": {
              "fillmode": "overlay",
              "size": 10,
              "solidity": 0.2
             }
            },
            "type": "histogram"
           }
          ],
          "histogram2d": [
           {
            "colorbar": {
             "outlinewidth": 0,
             "ticks": ""
            },
            "colorscale": [
             [
              0,
              "#0d0887"
             ],
             [
              0.1111111111111111,
              "#46039f"
             ],
             [
              0.2222222222222222,
              "#7201a8"
             ],
             [
              0.3333333333333333,
              "#9c179e"
             ],
             [
              0.4444444444444444,
              "#bd3786"
             ],
             [
              0.5555555555555556,
              "#d8576b"
             ],
             [
              0.6666666666666666,
              "#ed7953"
             ],
             [
              0.7777777777777778,
              "#fb9f3a"
             ],
             [
              0.8888888888888888,
              "#fdca26"
             ],
             [
              1,
              "#f0f921"
             ]
            ],
            "type": "histogram2d"
           }
          ],
          "histogram2dcontour": [
           {
            "colorbar": {
             "outlinewidth": 0,
             "ticks": ""
            },
            "colorscale": [
             [
              0,
              "#0d0887"
             ],
             [
              0.1111111111111111,
              "#46039f"
             ],
             [
              0.2222222222222222,
              "#7201a8"
             ],
             [
              0.3333333333333333,
              "#9c179e"
             ],
             [
              0.4444444444444444,
              "#bd3786"
             ],
             [
              0.5555555555555556,
              "#d8576b"
             ],
             [
              0.6666666666666666,
              "#ed7953"
             ],
             [
              0.7777777777777778,
              "#fb9f3a"
             ],
             [
              0.8888888888888888,
              "#fdca26"
             ],
             [
              1,
              "#f0f921"
             ]
            ],
            "type": "histogram2dcontour"
           }
          ],
          "mesh3d": [
           {
            "colorbar": {
             "outlinewidth": 0,
             "ticks": ""
            },
            "type": "mesh3d"
           }
          ],
          "parcoords": [
           {
            "line": {
             "colorbar": {
              "outlinewidth": 0,
              "ticks": ""
             }
            },
            "type": "parcoords"
           }
          ],
          "pie": [
           {
            "automargin": true,
            "type": "pie"
           }
          ],
          "scatter": [
           {
            "fillpattern": {
             "fillmode": "overlay",
             "size": 10,
             "solidity": 0.2
            },
            "type": "scatter"
           }
          ],
          "scatter3d": [
           {
            "line": {
             "colorbar": {
              "outlinewidth": 0,
              "ticks": ""
             }
            },
            "marker": {
             "colorbar": {
              "outlinewidth": 0,
              "ticks": ""
             }
            },
            "type": "scatter3d"
           }
          ],
          "scattercarpet": [
           {
            "marker": {
             "colorbar": {
              "outlinewidth": 0,
              "ticks": ""
             }
            },
            "type": "scattercarpet"
           }
          ],
          "scattergeo": [
           {
            "marker": {
             "colorbar": {
              "outlinewidth": 0,
              "ticks": ""
             }
            },
            "type": "scattergeo"
           }
          ],
          "scattergl": [
           {
            "marker": {
             "colorbar": {
              "outlinewidth": 0,
              "ticks": ""
             }
            },
            "type": "scattergl"
           }
          ],
          "scattermapbox": [
           {
            "marker": {
             "colorbar": {
              "outlinewidth": 0,
              "ticks": ""
             }
            },
            "type": "scattermapbox"
           }
          ],
          "scatterpolar": [
           {
            "marker": {
             "colorbar": {
              "outlinewidth": 0,
              "ticks": ""
             }
            },
            "type": "scatterpolar"
           }
          ],
          "scatterpolargl": [
           {
            "marker": {
             "colorbar": {
              "outlinewidth": 0,
              "ticks": ""
             }
            },
            "type": "scatterpolargl"
           }
          ],
          "scatterternary": [
           {
            "marker": {
             "colorbar": {
              "outlinewidth": 0,
              "ticks": ""
             }
            },
            "type": "scatterternary"
           }
          ],
          "surface": [
           {
            "colorbar": {
             "outlinewidth": 0,
             "ticks": ""
            },
            "colorscale": [
             [
              0,
              "#0d0887"
             ],
             [
              0.1111111111111111,
              "#46039f"
             ],
             [
              0.2222222222222222,
              "#7201a8"
             ],
             [
              0.3333333333333333,
              "#9c179e"
             ],
             [
              0.4444444444444444,
              "#bd3786"
             ],
             [
              0.5555555555555556,
              "#d8576b"
             ],
             [
              0.6666666666666666,
              "#ed7953"
             ],
             [
              0.7777777777777778,
              "#fb9f3a"
             ],
             [
              0.8888888888888888,
              "#fdca26"
             ],
             [
              1,
              "#f0f921"
             ]
            ],
            "type": "surface"
           }
          ],
          "table": [
           {
            "cells": {
             "fill": {
              "color": "#EBF0F8"
             },
             "line": {
              "color": "white"
             }
            },
            "header": {
             "fill": {
              "color": "#C8D4E3"
             },
             "line": {
              "color": "white"
             }
            },
            "type": "table"
           }
          ]
         },
         "layout": {
          "annotationdefaults": {
           "arrowcolor": "#2a3f5f",
           "arrowhead": 0,
           "arrowwidth": 1
          },
          "autotypenumbers": "strict",
          "coloraxis": {
           "colorbar": {
            "outlinewidth": 0,
            "ticks": ""
           }
          },
          "colorscale": {
           "diverging": [
            [
             0,
             "#8e0152"
            ],
            [
             0.1,
             "#c51b7d"
            ],
            [
             0.2,
             "#de77ae"
            ],
            [
             0.3,
             "#f1b6da"
            ],
            [
             0.4,
             "#fde0ef"
            ],
            [
             0.5,
             "#f7f7f7"
            ],
            [
             0.6,
             "#e6f5d0"
            ],
            [
             0.7,
             "#b8e186"
            ],
            [
             0.8,
             "#7fbc41"
            ],
            [
             0.9,
             "#4d9221"
            ],
            [
             1,
             "#276419"
            ]
           ],
           "sequential": [
            [
             0,
             "#0d0887"
            ],
            [
             0.1111111111111111,
             "#46039f"
            ],
            [
             0.2222222222222222,
             "#7201a8"
            ],
            [
             0.3333333333333333,
             "#9c179e"
            ],
            [
             0.4444444444444444,
             "#bd3786"
            ],
            [
             0.5555555555555556,
             "#d8576b"
            ],
            [
             0.6666666666666666,
             "#ed7953"
            ],
            [
             0.7777777777777778,
             "#fb9f3a"
            ],
            [
             0.8888888888888888,
             "#fdca26"
            ],
            [
             1,
             "#f0f921"
            ]
           ],
           "sequentialminus": [
            [
             0,
             "#0d0887"
            ],
            [
             0.1111111111111111,
             "#46039f"
            ],
            [
             0.2222222222222222,
             "#7201a8"
            ],
            [
             0.3333333333333333,
             "#9c179e"
            ],
            [
             0.4444444444444444,
             "#bd3786"
            ],
            [
             0.5555555555555556,
             "#d8576b"
            ],
            [
             0.6666666666666666,
             "#ed7953"
            ],
            [
             0.7777777777777778,
             "#fb9f3a"
            ],
            [
             0.8888888888888888,
             "#fdca26"
            ],
            [
             1,
             "#f0f921"
            ]
           ]
          },
          "colorway": [
           "#636efa",
           "#EF553B",
           "#00cc96",
           "#ab63fa",
           "#FFA15A",
           "#19d3f3",
           "#FF6692",
           "#B6E880",
           "#FF97FF",
           "#FECB52"
          ],
          "font": {
           "color": "#2a3f5f"
          },
          "geo": {
           "bgcolor": "white",
           "lakecolor": "white",
           "landcolor": "white",
           "showlakes": true,
           "showland": true,
           "subunitcolor": "#C8D4E3"
          },
          "hoverlabel": {
           "align": "left"
          },
          "hovermode": "closest",
          "mapbox": {
           "style": "light"
          },
          "paper_bgcolor": "white",
          "plot_bgcolor": "white",
          "polar": {
           "angularaxis": {
            "gridcolor": "#EBF0F8",
            "linecolor": "#EBF0F8",
            "ticks": ""
           },
           "bgcolor": "white",
           "radialaxis": {
            "gridcolor": "#EBF0F8",
            "linecolor": "#EBF0F8",
            "ticks": ""
           }
          },
          "scene": {
           "xaxis": {
            "backgroundcolor": "white",
            "gridcolor": "#DFE8F3",
            "gridwidth": 2,
            "linecolor": "#EBF0F8",
            "showbackground": true,
            "ticks": "",
            "zerolinecolor": "#EBF0F8"
           },
           "yaxis": {
            "backgroundcolor": "white",
            "gridcolor": "#DFE8F3",
            "gridwidth": 2,
            "linecolor": "#EBF0F8",
            "showbackground": true,
            "ticks": "",
            "zerolinecolor": "#EBF0F8"
           },
           "zaxis": {
            "backgroundcolor": "white",
            "gridcolor": "#DFE8F3",
            "gridwidth": 2,
            "linecolor": "#EBF0F8",
            "showbackground": true,
            "ticks": "",
            "zerolinecolor": "#EBF0F8"
           }
          },
          "shapedefaults": {
           "line": {
            "color": "#2a3f5f"
           }
          },
          "ternary": {
           "aaxis": {
            "gridcolor": "#DFE8F3",
            "linecolor": "#A2B1C6",
            "ticks": ""
           },
           "baxis": {
            "gridcolor": "#DFE8F3",
            "linecolor": "#A2B1C6",
            "ticks": ""
           },
           "bgcolor": "white",
           "caxis": {
            "gridcolor": "#DFE8F3",
            "linecolor": "#A2B1C6",
            "ticks": ""
           }
          },
          "title": {
           "x": 0.05
          },
          "xaxis": {
           "automargin": true,
           "gridcolor": "#EBF0F8",
           "linecolor": "#EBF0F8",
           "ticks": "",
           "title": {
            "standoff": 15
           },
           "zerolinecolor": "#EBF0F8",
           "zerolinewidth": 2
          },
          "yaxis": {
           "automargin": true,
           "gridcolor": "#EBF0F8",
           "linecolor": "#EBF0F8",
           "ticks": "",
           "title": {
            "standoff": 15
           },
           "zerolinecolor": "#EBF0F8",
           "zerolinewidth": 2
          }
         }
        },
        "title": {
         "x": 0.5,
         "xanchor": "center",
         "y": 1,
         "yanchor": "top"
        },
        "width": 1000,
        "xaxis": {
         "tickfont": {
          "size": 15
         }
        },
        "yaxis": {
         "tickfont": {
          "size": 13
         },
         "title": {
          "font": {
           "size": 15
          },
          "text": "Lesions count per image"
         }
        }
       }
      }
     },
     "metadata": {},
     "output_type": "display_data"
    },
    {
     "data": {
      "application/vnd.plotly.v1+json": {
       "config": {
        "plotlyServerURL": "https://plot.ly"
       },
       "data": [
        {
         "boxpoints": false,
         "marker": {
          "color": "#9ec5d4"
         },
         "name": "R0",
         "showlegend": false,
         "type": "box",
         "x": [
          "microaneurysms",
          "microaneurysms",
          "microaneurysms",
          "microaneurysms",
          "microaneurysms",
          "microaneurysms",
          "microaneurysms",
          "microaneurysms",
          "microaneurysms",
          "microaneurysms",
          "microaneurysms",
          "microaneurysms",
          "microaneurysms",
          "microaneurysms",
          "hemorrhages",
          "hemorrhages",
          "hemorrhages",
          "hemorrhages",
          "hemorrhages",
          "hemorrhages",
          "hemorrhages",
          "hemorrhages",
          "hemorrhages",
          "hemorrhages",
          "hemorrhages",
          "hemorrhages",
          "hemorrhages",
          "hemorrhages",
          "neovascularization",
          "neovascularization",
          "neovascularization",
          "neovascularization",
          "neovascularization",
          "neovascularization",
          "neovascularization",
          "neovascularization",
          "neovascularization",
          "neovascularization",
          "neovascularization",
          "neovascularization",
          "neovascularization",
          "neovascularization",
          "exudates",
          "exudates",
          "exudates",
          "exudates",
          "exudates",
          "exudates",
          "exudates",
          "exudates",
          "exudates",
          "exudates",
          "exudates",
          "exudates",
          "exudates",
          "exudates",
          "cottonWoolSpots",
          "cottonWoolSpots",
          "cottonWoolSpots",
          "cottonWoolSpots",
          "cottonWoolSpots",
          "cottonWoolSpots",
          "cottonWoolSpots",
          "cottonWoolSpots",
          "cottonWoolSpots",
          "cottonWoolSpots",
          "cottonWoolSpots",
          "cottonWoolSpots",
          "cottonWoolSpots",
          "cottonWoolSpots",
          "drusens",
          "drusens",
          "drusens",
          "drusens",
          "drusens",
          "drusens",
          "drusens",
          "drusens",
          "drusens",
          "drusens",
          "drusens",
          "drusens",
          "drusens",
          "drusens"
         ],
         "y": [
          0.000072,
          0.00014133333333333334,
          0.00031066666666666666,
          0.00006933333333333333,
          0.000088,
          0,
          0.00019066666666666668,
          0,
          0.00006755555555555555,
          0,
          0,
          0.00023511111111111112,
          0,
          0.00003511111111111111,
          0,
          0,
          0,
          0,
          0,
          0.00013022222222222222,
          0,
          0,
          0,
          0,
          0.0002613333333333333,
          0,
          0,
          0,
          0,
          0,
          0,
          0,
          0,
          0,
          0,
          0,
          0,
          0,
          0,
          0,
          0,
          0,
          0,
          0.00018133333333333334,
          0,
          0,
          0,
          0,
          0,
          0,
          0,
          0,
          0,
          0,
          0,
          0,
          0,
          0,
          0,
          0,
          0,
          0,
          0,
          0,
          0,
          0,
          0,
          0,
          0,
          0,
          0,
          0,
          0,
          0,
          0,
          0,
          0,
          0,
          0,
          0.00003511111111111111,
          0,
          0,
          0,
          0
         ]
        },
        {
         "boxpoints": false,
         "marker": {
          "color": "#75a8ba"
         },
         "name": "R1",
         "showlegend": false,
         "type": "box",
         "x": [
          "microaneurysms",
          "microaneurysms",
          "microaneurysms",
          "microaneurysms",
          "microaneurysms",
          "microaneurysms",
          "microaneurysms",
          "microaneurysms",
          "microaneurysms",
          "microaneurysms",
          "microaneurysms",
          "microaneurysms",
          "microaneurysms",
          "microaneurysms",
          "microaneurysms",
          "microaneurysms",
          "microaneurysms",
          "microaneurysms",
          "microaneurysms",
          "microaneurysms",
          "microaneurysms",
          "microaneurysms",
          "microaneurysms",
          "microaneurysms",
          "microaneurysms",
          "microaneurysms",
          "microaneurysms",
          "microaneurysms",
          "microaneurysms",
          "microaneurysms",
          "microaneurysms",
          "microaneurysms",
          "microaneurysms",
          "microaneurysms",
          "microaneurysms",
          "microaneurysms",
          "microaneurysms",
          "microaneurysms",
          "microaneurysms",
          "microaneurysms",
          "microaneurysms",
          "microaneurysms",
          "microaneurysms",
          "microaneurysms",
          "microaneurysms",
          "microaneurysms",
          "microaneurysms",
          "microaneurysms",
          "microaneurysms",
          "microaneurysms",
          "microaneurysms",
          "microaneurysms",
          "microaneurysms",
          "microaneurysms",
          "microaneurysms",
          "microaneurysms",
          "microaneurysms",
          "microaneurysms",
          "microaneurysms",
          "microaneurysms",
          "microaneurysms",
          "microaneurysms",
          "microaneurysms",
          "microaneurysms",
          "microaneurysms",
          "microaneurysms",
          "microaneurysms",
          "microaneurysms",
          "microaneurysms",
          "microaneurysms",
          "microaneurysms",
          "microaneurysms",
          "microaneurysms",
          "microaneurysms",
          "microaneurysms",
          "microaneurysms",
          "microaneurysms",
          "microaneurysms",
          "microaneurysms",
          "microaneurysms",
          "microaneurysms",
          "microaneurysms",
          "microaneurysms",
          "microaneurysms",
          "microaneurysms",
          "microaneurysms",
          "microaneurysms",
          "microaneurysms",
          "microaneurysms",
          "microaneurysms",
          "microaneurysms",
          "microaneurysms",
          "microaneurysms",
          "microaneurysms",
          "microaneurysms",
          "microaneurysms",
          "microaneurysms",
          "microaneurysms",
          "microaneurysms",
          "microaneurysms",
          "microaneurysms",
          "microaneurysms",
          "microaneurysms",
          "microaneurysms",
          "microaneurysms",
          "microaneurysms",
          "microaneurysms",
          "microaneurysms",
          "microaneurysms",
          "microaneurysms",
          "microaneurysms",
          "microaneurysms",
          "microaneurysms",
          "microaneurysms",
          "microaneurysms",
          "microaneurysms",
          "microaneurysms",
          "microaneurysms",
          "microaneurysms",
          "microaneurysms",
          "microaneurysms",
          "microaneurysms",
          "microaneurysms",
          "microaneurysms",
          "microaneurysms",
          "microaneurysms",
          "microaneurysms",
          "microaneurysms",
          "microaneurysms",
          "microaneurysms",
          "microaneurysms",
          "microaneurysms",
          "microaneurysms",
          "microaneurysms",
          "microaneurysms",
          "microaneurysms",
          "microaneurysms",
          "microaneurysms",
          "microaneurysms",
          "microaneurysms",
          "microaneurysms",
          "microaneurysms",
          "microaneurysms",
          "microaneurysms",
          "microaneurysms",
          "microaneurysms",
          "microaneurysms",
          "microaneurysms",
          "microaneurysms",
          "microaneurysms",
          "microaneurysms",
          "microaneurysms",
          "microaneurysms",
          "microaneurysms",
          "microaneurysms",
          "hemorrhages",
          "hemorrhages",
          "hemorrhages",
          "hemorrhages",
          "hemorrhages",
          "hemorrhages",
          "hemorrhages",
          "hemorrhages",
          "hemorrhages",
          "hemorrhages",
          "hemorrhages",
          "hemorrhages",
          "hemorrhages",
          "hemorrhages",
          "hemorrhages",
          "hemorrhages",
          "hemorrhages",
          "hemorrhages",
          "hemorrhages",
          "hemorrhages",
          "hemorrhages",
          "hemorrhages",
          "hemorrhages",
          "hemorrhages",
          "hemorrhages",
          "hemorrhages",
          "hemorrhages",
          "hemorrhages",
          "hemorrhages",
          "hemorrhages",
          "hemorrhages",
          "hemorrhages",
          "hemorrhages",
          "hemorrhages",
          "hemorrhages",
          "hemorrhages",
          "hemorrhages",
          "hemorrhages",
          "hemorrhages",
          "hemorrhages",
          "hemorrhages",
          "hemorrhages",
          "hemorrhages",
          "hemorrhages",
          "hemorrhages",
          "hemorrhages",
          "hemorrhages",
          "hemorrhages",
          "hemorrhages",
          "hemorrhages",
          "hemorrhages",
          "hemorrhages",
          "hemorrhages",
          "hemorrhages",
          "hemorrhages",
          "hemorrhages",
          "hemorrhages",
          "hemorrhages",
          "hemorrhages",
          "hemorrhages",
          "hemorrhages",
          "hemorrhages",
          "hemorrhages",
          "hemorrhages",
          "hemorrhages",
          "hemorrhages",
          "hemorrhages",
          "hemorrhages",
          "hemorrhages",
          "hemorrhages",
          "hemorrhages",
          "hemorrhages",
          "hemorrhages",
          "hemorrhages",
          "hemorrhages",
          "hemorrhages",
          "hemorrhages",
          "hemorrhages",
          "hemorrhages",
          "hemorrhages",
          "hemorrhages",
          "hemorrhages",
          "hemorrhages",
          "hemorrhages",
          "hemorrhages",
          "hemorrhages",
          "hemorrhages",
          "hemorrhages",
          "hemorrhages",
          "hemorrhages",
          "hemorrhages",
          "hemorrhages",
          "hemorrhages",
          "hemorrhages",
          "hemorrhages",
          "hemorrhages",
          "hemorrhages",
          "hemorrhages",
          "hemorrhages",
          "hemorrhages",
          "hemorrhages",
          "hemorrhages",
          "hemorrhages",
          "hemorrhages",
          "hemorrhages",
          "hemorrhages",
          "hemorrhages",
          "hemorrhages",
          "hemorrhages",
          "hemorrhages",
          "hemorrhages",
          "hemorrhages",
          "hemorrhages",
          "hemorrhages",
          "hemorrhages",
          "hemorrhages",
          "hemorrhages",
          "hemorrhages",
          "hemorrhages",
          "hemorrhages",
          "hemorrhages",
          "hemorrhages",
          "hemorrhages",
          "hemorrhages",
          "hemorrhages",
          "hemorrhages",
          "hemorrhages",
          "hemorrhages",
          "hemorrhages",
          "hemorrhages",
          "hemorrhages",
          "hemorrhages",
          "hemorrhages",
          "hemorrhages",
          "hemorrhages",
          "hemorrhages",
          "hemorrhages",
          "hemorrhages",
          "hemorrhages",
          "hemorrhages",
          "hemorrhages",
          "hemorrhages",
          "hemorrhages",
          "hemorrhages",
          "hemorrhages",
          "hemorrhages",
          "hemorrhages",
          "hemorrhages",
          "hemorrhages",
          "hemorrhages",
          "hemorrhages",
          "hemorrhages",
          "hemorrhages",
          "hemorrhages",
          "hemorrhages",
          "neovascularization",
          "neovascularization",
          "neovascularization",
          "neovascularization",
          "neovascularization",
          "neovascularization",
          "neovascularization",
          "neovascularization",
          "neovascularization",
          "neovascularization",
          "neovascularization",
          "neovascularization",
          "neovascularization",
          "neovascularization",
          "neovascularization",
          "neovascularization",
          "neovascularization",
          "neovascularization",
          "neovascularization",
          "neovascularization",
          "neovascularization",
          "neovascularization",
          "neovascularization",
          "neovascularization",
          "neovascularization",
          "neovascularization",
          "neovascularization",
          "neovascularization",
          "neovascularization",
          "neovascularization",
          "neovascularization",
          "neovascularization",
          "neovascularization",
          "neovascularization",
          "neovascularization",
          "neovascularization",
          "neovascularization",
          "neovascularization",
          "neovascularization",
          "neovascularization",
          "neovascularization",
          "neovascularization",
          "neovascularization",
          "neovascularization",
          "neovascularization",
          "neovascularization",
          "neovascularization",
          "neovascularization",
          "neovascularization",
          "neovascularization",
          "neovascularization",
          "neovascularization",
          "neovascularization",
          "neovascularization",
          "neovascularization",
          "neovascularization",
          "neovascularization",
          "neovascularization",
          "neovascularization",
          "neovascularization",
          "neovascularization",
          "neovascularization",
          "neovascularization",
          "neovascularization",
          "neovascularization",
          "neovascularization",
          "neovascularization",
          "neovascularization",
          "neovascularization",
          "neovascularization",
          "neovascularization",
          "neovascularization",
          "neovascularization",
          "neovascularization",
          "neovascularization",
          "neovascularization",
          "neovascularization",
          "neovascularization",
          "neovascularization",
          "neovascularization",
          "neovascularization",
          "neovascularization",
          "neovascularization",
          "neovascularization",
          "neovascularization",
          "neovascularization",
          "neovascularization",
          "neovascularization",
          "neovascularization",
          "neovascularization",
          "neovascularization",
          "neovascularization",
          "neovascularization",
          "neovascularization",
          "neovascularization",
          "neovascularization",
          "neovascularization",
          "neovascularization",
          "neovascularization",
          "neovascularization",
          "neovascularization",
          "neovascularization",
          "neovascularization",
          "neovascularization",
          "neovascularization",
          "neovascularization",
          "neovascularization",
          "neovascularization",
          "neovascularization",
          "neovascularization",
          "neovascularization",
          "neovascularization",
          "neovascularization",
          "neovascularization",
          "neovascularization",
          "neovascularization",
          "neovascularization",
          "neovascularization",
          "neovascularization",
          "neovascularization",
          "neovascularization",
          "neovascularization",
          "neovascularization",
          "neovascularization",
          "neovascularization",
          "neovascularization",
          "neovascularization",
          "neovascularization",
          "neovascularization",
          "neovascularization",
          "neovascularization",
          "neovascularization",
          "neovascularization",
          "neovascularization",
          "neovascularization",
          "neovascularization",
          "neovascularization",
          "neovascularization",
          "neovascularization",
          "neovascularization",
          "neovascularization",
          "neovascularization",
          "neovascularization",
          "neovascularization",
          "neovascularization",
          "neovascularization",
          "neovascularization",
          "neovascularization",
          "neovascularization",
          "neovascularization",
          "neovascularization",
          "neovascularization",
          "neovascularization",
          "neovascularization",
          "neovascularization",
          "exudates",
          "exudates",
          "exudates",
          "exudates",
          "exudates",
          "exudates",
          "exudates",
          "exudates",
          "exudates",
          "exudates",
          "exudates",
          "exudates",
          "exudates",
          "exudates",
          "exudates",
          "exudates",
          "exudates",
          "exudates",
          "exudates",
          "exudates",
          "exudates",
          "exudates",
          "exudates",
          "exudates",
          "exudates",
          "exudates",
          "exudates",
          "exudates",
          "exudates",
          "exudates",
          "exudates",
          "exudates",
          "exudates",
          "exudates",
          "exudates",
          "exudates",
          "exudates",
          "exudates",
          "exudates",
          "exudates",
          "exudates",
          "exudates",
          "exudates",
          "exudates",
          "exudates",
          "exudates",
          "exudates",
          "exudates",
          "exudates",
          "exudates",
          "exudates",
          "exudates",
          "exudates",
          "exudates",
          "exudates",
          "exudates",
          "exudates",
          "exudates",
          "exudates",
          "exudates",
          "exudates",
          "exudates",
          "exudates",
          "exudates",
          "exudates",
          "exudates",
          "exudates",
          "exudates",
          "exudates",
          "exudates",
          "exudates",
          "exudates",
          "exudates",
          "exudates",
          "exudates",
          "exudates",
          "exudates",
          "exudates",
          "exudates",
          "exudates",
          "exudates",
          "exudates",
          "exudates",
          "exudates",
          "exudates",
          "exudates",
          "exudates",
          "exudates",
          "exudates",
          "exudates",
          "exudates",
          "exudates",
          "exudates",
          "exudates",
          "exudates",
          "exudates",
          "exudates",
          "exudates",
          "exudates",
          "exudates",
          "exudates",
          "exudates",
          "exudates",
          "exudates",
          "exudates",
          "exudates",
          "exudates",
          "exudates",
          "exudates",
          "exudates",
          "exudates",
          "exudates",
          "exudates",
          "exudates",
          "exudates",
          "exudates",
          "exudates",
          "exudates",
          "exudates",
          "exudates",
          "exudates",
          "exudates",
          "exudates",
          "exudates",
          "exudates",
          "exudates",
          "exudates",
          "exudates",
          "exudates",
          "exudates",
          "exudates",
          "exudates",
          "exudates",
          "exudates",
          "exudates",
          "exudates",
          "exudates",
          "exudates",
          "exudates",
          "exudates",
          "exudates",
          "exudates",
          "exudates",
          "exudates",
          "exudates",
          "exudates",
          "exudates",
          "exudates",
          "exudates",
          "exudates",
          "exudates",
          "exudates",
          "exudates",
          "exudates",
          "exudates",
          "cottonWoolSpots",
          "cottonWoolSpots",
          "cottonWoolSpots",
          "cottonWoolSpots",
          "cottonWoolSpots",
          "cottonWoolSpots",
          "cottonWoolSpots",
          "cottonWoolSpots",
          "cottonWoolSpots",
          "cottonWoolSpots",
          "cottonWoolSpots",
          "cottonWoolSpots",
          "cottonWoolSpots",
          "cottonWoolSpots",
          "cottonWoolSpots",
          "cottonWoolSpots",
          "cottonWoolSpots",
          "cottonWoolSpots",
          "cottonWoolSpots",
          "cottonWoolSpots",
          "cottonWoolSpots",
          "cottonWoolSpots",
          "cottonWoolSpots",
          "cottonWoolSpots",
          "cottonWoolSpots",
          "cottonWoolSpots",
          "cottonWoolSpots",
          "cottonWoolSpots",
          "cottonWoolSpots",
          "cottonWoolSpots",
          "cottonWoolSpots",
          "cottonWoolSpots",
          "cottonWoolSpots",
          "cottonWoolSpots",
          "cottonWoolSpots",
          "cottonWoolSpots",
          "cottonWoolSpots",
          "cottonWoolSpots",
          "cottonWoolSpots",
          "cottonWoolSpots",
          "cottonWoolSpots",
          "cottonWoolSpots",
          "cottonWoolSpots",
          "cottonWoolSpots",
          "cottonWoolSpots",
          "cottonWoolSpots",
          "cottonWoolSpots",
          "cottonWoolSpots",
          "cottonWoolSpots",
          "cottonWoolSpots",
          "cottonWoolSpots",
          "cottonWoolSpots",
          "cottonWoolSpots",
          "cottonWoolSpots",
          "cottonWoolSpots",
          "cottonWoolSpots",
          "cottonWoolSpots",
          "cottonWoolSpots",
          "cottonWoolSpots",
          "cottonWoolSpots",
          "cottonWoolSpots",
          "cottonWoolSpots",
          "cottonWoolSpots",
          "cottonWoolSpots",
          "cottonWoolSpots",
          "cottonWoolSpots",
          "cottonWoolSpots",
          "cottonWoolSpots",
          "cottonWoolSpots",
          "cottonWoolSpots",
          "cottonWoolSpots",
          "cottonWoolSpots",
          "cottonWoolSpots",
          "cottonWoolSpots",
          "cottonWoolSpots",
          "cottonWoolSpots",
          "cottonWoolSpots",
          "cottonWoolSpots",
          "cottonWoolSpots",
          "cottonWoolSpots",
          "cottonWoolSpots",
          "cottonWoolSpots",
          "cottonWoolSpots",
          "cottonWoolSpots",
          "cottonWoolSpots",
          "cottonWoolSpots",
          "cottonWoolSpots",
          "cottonWoolSpots",
          "cottonWoolSpots",
          "cottonWoolSpots",
          "cottonWoolSpots",
          "cottonWoolSpots",
          "cottonWoolSpots",
          "cottonWoolSpots",
          "cottonWoolSpots",
          "cottonWoolSpots",
          "cottonWoolSpots",
          "cottonWoolSpots",
          "cottonWoolSpots",
          "cottonWoolSpots",
          "cottonWoolSpots",
          "cottonWoolSpots",
          "cottonWoolSpots",
          "cottonWoolSpots",
          "cottonWoolSpots",
          "cottonWoolSpots",
          "cottonWoolSpots",
          "cottonWoolSpots",
          "cottonWoolSpots",
          "cottonWoolSpots",
          "cottonWoolSpots",
          "cottonWoolSpots",
          "cottonWoolSpots",
          "cottonWoolSpots",
          "cottonWoolSpots",
          "cottonWoolSpots",
          "cottonWoolSpots",
          "cottonWoolSpots",
          "cottonWoolSpots",
          "cottonWoolSpots",
          "cottonWoolSpots",
          "cottonWoolSpots",
          "cottonWoolSpots",
          "cottonWoolSpots",
          "cottonWoolSpots",
          "cottonWoolSpots",
          "cottonWoolSpots",
          "cottonWoolSpots",
          "cottonWoolSpots",
          "cottonWoolSpots",
          "cottonWoolSpots",
          "cottonWoolSpots",
          "cottonWoolSpots",
          "cottonWoolSpots",
          "cottonWoolSpots",
          "cottonWoolSpots",
          "cottonWoolSpots",
          "cottonWoolSpots",
          "cottonWoolSpots",
          "cottonWoolSpots",
          "cottonWoolSpots",
          "cottonWoolSpots",
          "cottonWoolSpots",
          "cottonWoolSpots",
          "cottonWoolSpots",
          "cottonWoolSpots",
          "cottonWoolSpots",
          "cottonWoolSpots",
          "cottonWoolSpots",
          "cottonWoolSpots",
          "cottonWoolSpots",
          "cottonWoolSpots",
          "cottonWoolSpots",
          "cottonWoolSpots",
          "cottonWoolSpots",
          "drusens",
          "drusens",
          "drusens",
          "drusens",
          "drusens",
          "drusens",
          "drusens",
          "drusens",
          "drusens",
          "drusens",
          "drusens",
          "drusens",
          "drusens",
          "drusens",
          "drusens",
          "drusens",
          "drusens",
          "drusens",
          "drusens",
          "drusens",
          "drusens",
          "drusens",
          "drusens",
          "drusens",
          "drusens",
          "drusens",
          "drusens",
          "drusens",
          "drusens",
          "drusens",
          "drusens",
          "drusens",
          "drusens",
          "drusens",
          "drusens",
          "drusens",
          "drusens",
          "drusens",
          "drusens",
          "drusens",
          "drusens",
          "drusens",
          "drusens",
          "drusens",
          "drusens",
          "drusens",
          "drusens",
          "drusens",
          "drusens",
          "drusens",
          "drusens",
          "drusens",
          "drusens",
          "drusens",
          "drusens",
          "drusens",
          "drusens",
          "drusens",
          "drusens",
          "drusens",
          "drusens",
          "drusens",
          "drusens",
          "drusens",
          "drusens",
          "drusens",
          "drusens",
          "drusens",
          "drusens",
          "drusens",
          "drusens",
          "drusens",
          "drusens",
          "drusens",
          "drusens",
          "drusens",
          "drusens",
          "drusens",
          "drusens",
          "drusens",
          "drusens",
          "drusens",
          "drusens",
          "drusens",
          "drusens",
          "drusens",
          "drusens",
          "drusens",
          "drusens",
          "drusens",
          "drusens",
          "drusens",
          "drusens",
          "drusens",
          "drusens",
          "drusens",
          "drusens",
          "drusens",
          "drusens",
          "drusens",
          "drusens",
          "drusens",
          "drusens",
          "drusens",
          "drusens",
          "drusens",
          "drusens",
          "drusens",
          "drusens",
          "drusens",
          "drusens",
          "drusens",
          "drusens",
          "drusens",
          "drusens",
          "drusens",
          "drusens",
          "drusens",
          "drusens",
          "drusens",
          "drusens",
          "drusens",
          "drusens",
          "drusens",
          "drusens",
          "drusens",
          "drusens",
          "drusens",
          "drusens",
          "drusens",
          "drusens",
          "drusens",
          "drusens",
          "drusens",
          "drusens",
          "drusens",
          "drusens",
          "drusens",
          "drusens",
          "drusens",
          "drusens",
          "drusens",
          "drusens",
          "drusens",
          "drusens",
          "drusens",
          "drusens",
          "drusens",
          "drusens",
          "drusens",
          "drusens",
          "drusens",
          "drusens",
          "drusens",
          "drusens"
         ],
         "y": [
          0.0010706666666666666,
          0.000034222222222222224,
          0.00034355555555555555,
          0.0019484444444444445,
          0.0032764444444444442,
          0.0029035555555555555,
          0.0003648888888888889,
          0.0031115555555555553,
          0.00008755555555555555,
          0.001972888888888889,
          0.004544888888888889,
          0.00004222222222222222,
          0.0006093333333333334,
          0.001323111111111111,
          0.001387111111111111,
          0.0002573333333333333,
          0,
          0.00041022222222222225,
          0.003105333333333333,
          0.001528,
          0.001419111111111111,
          0.0010413333333333333,
          0.0003897777777777778,
          0.002168,
          0.00037955555555555556,
          0.0002862222222222222,
          0,
          0.0007155555555555555,
          0.0019666666666666665,
          0.0020462222222222223,
          0.004476444444444444,
          0.0005582222222222222,
          0.0028182222222222224,
          0.0005977777777777778,
          0.0017102222222222221,
          0.005904444444444445,
          0.0017693333333333333,
          0.0004426666666666667,
          0,
          0.00032933333333333333,
          0.00013911111111111112,
          0.0014484444444444445,
          0.0009191111111111111,
          0.00013377777777777777,
          0.002214666666666667,
          0.0004715555555555556,
          0.0025035555555555557,
          0.001476,
          0.0012035555555555556,
          0.0017702222222222223,
          0.001071111111111111,
          0.00013555555555555556,
          0,
          0.000058666666666666665,
          0.0005275555555555555,
          0.0021324444444444446,
          0,
          0.0017457777777777777,
          0.000058222222222222224,
          0.0008751111111111111,
          0.002457777777777778,
          0.000104,
          0.003730222222222222,
          0.005269777777777778,
          0.0012835555555555556,
          0.0017635555555555555,
          0.0017413333333333332,
          0.0002466666666666667,
          0.0009511111111111111,
          0.0006382222222222222,
          0.0037186666666666666,
          0.0000688888888888889,
          0.0011088888888888889,
          0.0003102222222222222,
          0.0006675555555555556,
          0.0023333333333333335,
          0.00035422222222222224,
          0.0014555555555555556,
          0.002718222222222222,
          0.000044444444444444447,
          0.00036844444444444446,
          0.003951111111111111,
          0.001984,
          0.00044666666666666666,
          0.00036533333333333334,
          0.000832,
          0.0026582222222222224,
          0.0029262222222222224,
          0.0007284444444444444,
          0.0008502222222222223,
          0.0003511111111111111,
          0.001027111111111111,
          0.0018746666666666666,
          0.004208,
          0.0013884444444444445,
          0.0039062222222222224,
          0.0002608888888888889,
          0.00016266666666666667,
          0.002264,
          0.0006231111111111111,
          0.00019422222222222223,
          0.00017422222222222223,
          0.0007724444444444444,
          0.0014093333333333334,
          0.0011248888888888888,
          0.0033835555555555554,
          0.0007333333333333333,
          0.0009684444444444444,
          0.0004862222222222222,
          0.0035306666666666668,
          0.001692888888888889,
          0.000033777777777777776,
          0.0007177777777777778,
          0.001024,
          0.0005,
          0.001859111111111111,
          0.0005617777777777778,
          0.00006977777777777778,
          0.0020973333333333334,
          0.0016946666666666666,
          0.00006622222222222222,
          0.0007995555555555555,
          0.0002248888888888889,
          0.0006088888888888888,
          0.0005755555555555556,
          0.0020595555555555554,
          0.000484,
          0.0021515555555555554,
          0.0018355555555555556,
          0.001068888888888889,
          0.003473777777777778,
          0.00010355555555555556,
          0.0001928888888888889,
          0.0022795555555555555,
          0,
          0.004573333333333334,
          0.0007168888888888889,
          0.0004671111111111111,
          0.0015648888888888889,
          0.0018595555555555555,
          0.003070222222222222,
          0.0015924444444444445,
          0.0003355555555555556,
          0.0006248888888888889,
          0.0007262222222222222,
          0.002667111111111111,
          0.0031706666666666667,
          0.002209777777777778,
          0.0011493333333333334,
          0.0015102222222222223,
          0.0020746666666666665,
          0.00042666666666666667,
          0.0016182222222222223,
          0.0002973333333333333,
          0.000668,
          0.001200888888888889,
          0.0006191111111111111,
          0.0012253333333333333,
          0.0005373333333333333,
          0,
          0.0007804444444444444,
          0,
          0,
          0,
          0.0021297777777777777,
          0.0004093333333333333,
          0,
          0.0004697777777777778,
          0.0005306666666666667,
          0,
          0.00036,
          0.0008831111111111111,
          0.00012844444444444446,
          0.0014462222222222222,
          0.0012911111111111111,
          0.00010711111111111111,
          0.0011062222222222222,
          0.0002128888888888889,
          0,
          0,
          0,
          0,
          0.0026684444444444446,
          0.0013862222222222223,
          0.0006537777777777778,
          0,
          0,
          0,
          0,
          0,
          0,
          0.0006573333333333333,
          0,
          0,
          0.0006324444444444445,
          0,
          0.00029422222222222225,
          0,
          0.0029608888888888888,
          0.00021866666666666668,
          0.00022666666666666666,
          0.0016235555555555556,
          0,
          0.0008288888888888889,
          0.0004186666666666667,
          0,
          0,
          0.0001768888888888889,
          0,
          0.00022533333333333333,
          0,
          0,
          0.0009226666666666667,
          0.0002662222222222222,
          0.0015902222222222223,
          0,
          0.0001368888888888889,
          0,
          0.0016182222222222223,
          0,
          0.0001857777777777778,
          0.0002608888888888889,
          0.0008315555555555555,
          0.0006755555555555555,
          0,
          0.000112,
          0.0004608888888888889,
          0.0008822222222222222,
          0.004113777777777778,
          0,
          0.00022844444444444445,
          0.001212,
          0.0017035555555555556,
          0.0038888888888888888,
          0.0004937777777777778,
          0,
          0,
          0.0012573333333333334,
          0,
          0.002049777777777778,
          0.00012133333333333333,
          0.003931111111111111,
          0,
          0.0004955555555555555,
          0,
          0.0009173333333333334,
          0,
          0,
          0.0001951111111111111,
          0.0023146666666666667,
          0.002126222222222222,
          0.0006808888888888889,
          0.000057777777777777776,
          0.00009866666666666666,
          0,
          0.0011164444444444444,
          0.000536,
          0,
          0,
          0,
          0.0011213333333333333,
          0.002140888888888889,
          0.0019222222222222223,
          0.001104,
          0,
          0.0007533333333333333,
          0,
          0,
          0,
          0,
          0.00029288888888888886,
          0.0012222222222222222,
          0.0038484444444444443,
          0.0004093333333333333,
          0,
          0,
          0.00013066666666666665,
          0,
          0.0002,
          0.00018977777777777778,
          0,
          0,
          0,
          0,
          0.0005484444444444444,
          0.00024933333333333334,
          0.00016844444444444445,
          0.001624,
          0.00006444444444444444,
          0,
          0.0005235555555555555,
          0,
          0,
          0,
          0.001619111111111111,
          0.001756,
          0.0026133333333333334,
          0.0013022222222222222,
          0.0003244444444444444,
          0.0009186666666666667,
          0,
          0,
          0.0006453333333333334,
          0.001612888888888889,
          0,
          0,
          0.0013333333333333333,
          0.0010946666666666667,
          0,
          0.0021675555555555554,
          0,
          0,
          0,
          0,
          0,
          0,
          0,
          0,
          0,
          0,
          0,
          0,
          0,
          0,
          0,
          0,
          0,
          0,
          0,
          0,
          0,
          0,
          0,
          0,
          0,
          0,
          0,
          0,
          0,
          0,
          0,
          0,
          0,
          0,
          0,
          0,
          0,
          0,
          0,
          0,
          0,
          0,
          0,
          0,
          0,
          0,
          0,
          0,
          0,
          0,
          0,
          0,
          0,
          0,
          0,
          0,
          0,
          0,
          0,
          0,
          0,
          0,
          0,
          0.00003911111111111111,
          0.012253333333333333,
          0,
          0,
          0,
          0,
          0,
          0,
          0,
          0,
          0,
          0,
          0,
          0,
          0,
          0,
          0,
          0,
          0,
          0,
          0,
          0,
          0,
          0,
          0,
          0,
          0,
          0,
          0,
          0,
          0,
          0,
          0,
          0,
          0,
          0,
          0,
          0,
          0,
          0,
          0,
          0,
          0,
          0,
          0,
          0,
          0,
          0,
          0,
          0,
          0,
          0,
          0,
          0,
          0,
          0,
          0,
          0,
          0,
          0,
          0,
          0,
          0,
          0,
          0,
          0,
          0,
          0,
          0,
          0,
          0,
          0,
          0,
          0,
          0,
          0,
          0,
          0,
          0,
          0,
          0,
          0,
          0,
          0,
          0,
          0,
          0,
          0,
          0,
          0,
          0,
          0,
          0.010275555555555555,
          0.011730666666666667,
          0.007211555555555555,
          0,
          0.001815111111111111,
          0.0006582222222222223,
          0,
          0,
          0,
          0,
          0.00003777777777777778,
          0,
          0.00004266666666666667,
          0.00043022222222222225,
          0.007165777777777778,
          0.0008577777777777777,
          0,
          0,
          0,
          0.000024,
          0,
          0,
          0.00008622222222222222,
          0,
          0,
          0.0025822222222222223,
          0,
          0,
          0,
          0.006869777777777778,
          0.00010266666666666666,
          0,
          0.007332444444444444,
          0,
          0,
          0,
          0,
          0,
          0.0018515555555555555,
          0.00019955555555555555,
          0.0009013333333333333,
          0.00006444444444444444,
          0.00045466666666666664,
          0.0004786666666666667,
          0,
          0,
          0,
          0.0020973333333333334,
          0,
          0.0012284444444444445,
          0.004962222222222222,
          0.013659555555555555,
          0.006977333333333334,
          0,
          0,
          0.007440444444444445,
          0.0006853333333333334,
          0,
          0.0012417777777777778,
          0,
          0,
          0.012591111111111112,
          0.002455111111111111,
          0.0016337777777777778,
          0,
          0.014430222222222223,
          0.00016533333333333333,
          0.0002551111111111111,
          0.0028951111111111113,
          0,
          0,
          0.00014755555555555556,
          0,
          0.0005386666666666667,
          0.00006266666666666667,
          0,
          0,
          0,
          0,
          0.0013653333333333334,
          0.002683111111111111,
          0,
          0,
          0,
          0.0010986666666666666,
          0,
          0,
          0,
          0.0035644444444444443,
          0.0015657777777777777,
          0,
          0.0019693333333333334,
          0,
          0,
          0.000172,
          0.00021955555555555555,
          0.0006186666666666667,
          0,
          0,
          0.00024222222222222223,
          0,
          0,
          0,
          0.00018,
          0.0026951111111111112,
          0.00020088888888888888,
          0.0009395555555555556,
          0,
          0.025154222222222224,
          0.00013955555555555555,
          0,
          0.001816,
          0,
          0,
          0.000068,
          0.000192,
          0.000033333333333333335,
          0.002317333333333333,
          0,
          0,
          0,
          0.0022773333333333335,
          0.00011111111111111112,
          0,
          0,
          0.0006226666666666667,
          0,
          0.002244,
          0,
          0.005474666666666667,
          0,
          0.0004857777777777778,
          0.0002808888888888889,
          0.00011155555555555555,
          0,
          0,
          0,
          0,
          0.005238666666666667,
          0,
          0.00009688888888888888,
          0.001708888888888889,
          0,
          0,
          0.0006462222222222222,
          0.004756888888888889,
          0,
          0.00027866666666666665,
          0.0003422222222222222,
          0.0007955555555555555,
          0,
          0,
          0,
          0,
          0,
          0.0011995555555555555,
          0,
          0,
          0,
          0.004273777777777777,
          0,
          0,
          0,
          0,
          0,
          0,
          0,
          0,
          0,
          0.008588,
          0.0006555555555555556,
          0,
          0.0008755555555555555,
          0.0005977777777777778,
          0,
          0,
          0,
          0,
          0.0016626666666666667,
          0,
          0,
          0,
          0,
          0,
          0,
          0,
          0,
          0.005224,
          0,
          0,
          0.001083111111111111,
          0,
          0,
          0,
          0,
          0,
          0,
          0.0003208888888888889,
          0,
          0.0006106666666666667,
          0,
          0.000516,
          0,
          0.00007466666666666666,
          0.003763111111111111,
          0,
          0,
          0,
          0,
          0.0005697777777777778,
          0,
          0,
          0,
          0,
          0,
          0,
          0.0013075555555555555,
          0,
          0.0038773333333333333,
          0,
          0,
          0,
          0,
          0,
          0,
          0,
          0,
          0.0005186666666666666,
          0,
          0,
          0,
          0.002772,
          0,
          0,
          0.0006026666666666667,
          0.0013626666666666668,
          0.00017377777777777777,
          0.0005284444444444444,
          0,
          0,
          0.000772,
          0.0023555555555555556,
          0,
          0,
          0.0012275555555555555,
          0,
          0.0008088888888888889,
          0,
          0.0005208888888888889,
          0,
          0.00047644444444444443,
          0,
          0,
          0,
          0.004125777777777778,
          0.00037644444444444444,
          0.0015866666666666666,
          0,
          0.0014946666666666667,
          0.0006466666666666667,
          0.0008866666666666667,
          0.001715111111111111,
          0,
          0,
          0,
          0,
          0.0011457777777777777,
          0,
          0,
          0,
          0,
          0,
          0,
          0,
          0.004877333333333333,
          0,
          0,
          0,
          0,
          0.0003808888888888889,
          0,
          0,
          0.0004515555555555556,
          0,
          0,
          0,
          0,
          0,
          0,
          0,
          0.0011835555555555555,
          0,
          0,
          0,
          0,
          0,
          0,
          0,
          0.002550666666666667,
          0.0002555555555555556,
          0,
          0,
          0.0004382222222222222,
          0.0006688888888888889,
          0,
          0,
          0,
          0.002804888888888889,
          0.002493777777777778,
          0,
          0.0007377777777777777,
          0,
          0,
          0.00022933333333333334,
          0.00018044444444444445,
          0,
          0,
          0,
          0,
          0,
          0.0047146666666666665,
          0.0013417777777777777,
          0,
          0,
          0,
          0,
          0.0022355555555555557,
          0.0002791111111111111,
          0,
          0.00020844444444444445,
          0.0005542222222222222,
          0.0014488888888888889,
          0.0005293333333333334,
          0.00007022222222222222,
          0,
          0,
          0.00007022222222222222,
          0,
          0,
          0.00014533333333333333,
          0,
          0,
          0,
          0.00022266666666666667,
          0,
          0.00010533333333333334,
          0.0006066666666666667,
          0,
          0,
          0,
          0.00024355555555555556,
          0.004124,
          0,
          0.006566222222222222,
          0.0002573333333333333,
          0.002603111111111111,
          0.0005671111111111111,
          0.00014177777777777778,
          0,
          0,
          0,
          0,
          0.00034,
          0.000824,
          0,
          0,
          0,
          0,
          0,
          0.00010444444444444444,
          0.001144,
          0.00008711111111111112,
          0.00007022222222222222,
          0.00027111111111111113,
          0.00048666666666666666,
          0.00026044444444444444,
          0.00017422222222222223,
          0,
          0,
          0,
          0,
          0,
          0,
          0,
          0,
          0.00010355555555555556,
          0.000104,
          0,
          0.00004133333333333333,
          0,
          0,
          0.000034666666666666665,
          0,
          0.000964,
          0.0001488888888888889,
          0.0006102222222222222,
          0.00028355555555555556,
          0,
          0.00040444444444444447,
          0.0027235555555555555,
          0.00017022222222222222,
          0.003604888888888889,
          0,
          0.006717333333333333,
          0,
          0.00008355555555555556,
          0,
          0.00007333333333333333,
          0,
          0,
          0,
          0.00016133333333333334,
          0.0002755555555555556,
          0,
          0.002008,
          0.0003155555555555556,
          0.0003031111111111111,
          0,
          0,
          0.00021244444444444444,
          0.00012355555555555554,
          0.000034666666666666665,
          0,
          0.00013422222222222224,
          0.0004697777777777778,
          0.0003768888888888889,
          0,
          0.0001128888888888889,
          0.02672,
          0,
          0.0004382222222222222,
          0.000034666666666666665,
          0,
          0,
          0,
          0.00020888888888888888,
          0.007058666666666667,
          0,
          0,
          0.00004711111111111111,
          0,
          0,
          0,
          0.00003555555555555555,
          0.00040355555555555555,
          0.0017742222222222222,
          0,
          0.003072,
          0,
          0.007898222222222221,
          0.00008622222222222222,
          0.00006755555555555555,
          0.0009808888888888888,
          0.00042888888888888886,
          0,
          0,
          0,
          0,
          0,
          0.00016711111111111112,
          0.0009093333333333333,
          0.00025333333333333333,
          0,
          0.000856,
          0.00003866666666666667
         ]
        },
        {
         "boxpoints": false,
         "marker": {
          "color": "#4b8a9f"
         },
         "name": "R2",
         "showlegend": false,
         "type": "box",
         "x": [
          "microaneurysms",
          "microaneurysms",
          "microaneurysms",
          "microaneurysms",
          "microaneurysms",
          "microaneurysms",
          "microaneurysms",
          "microaneurysms",
          "microaneurysms",
          "microaneurysms",
          "microaneurysms",
          "microaneurysms",
          "microaneurysms",
          "microaneurysms",
          "microaneurysms",
          "hemorrhages",
          "hemorrhages",
          "hemorrhages",
          "hemorrhages",
          "hemorrhages",
          "hemorrhages",
          "hemorrhages",
          "hemorrhages",
          "hemorrhages",
          "hemorrhages",
          "hemorrhages",
          "hemorrhages",
          "hemorrhages",
          "hemorrhages",
          "hemorrhages",
          "neovascularization",
          "neovascularization",
          "neovascularization",
          "neovascularization",
          "neovascularization",
          "neovascularization",
          "neovascularization",
          "neovascularization",
          "neovascularization",
          "neovascularization",
          "neovascularization",
          "neovascularization",
          "neovascularization",
          "neovascularization",
          "neovascularization",
          "exudates",
          "exudates",
          "exudates",
          "exudates",
          "exudates",
          "exudates",
          "exudates",
          "exudates",
          "exudates",
          "exudates",
          "exudates",
          "exudates",
          "exudates",
          "exudates",
          "exudates",
          "cottonWoolSpots",
          "cottonWoolSpots",
          "cottonWoolSpots",
          "cottonWoolSpots",
          "cottonWoolSpots",
          "cottonWoolSpots",
          "cottonWoolSpots",
          "cottonWoolSpots",
          "cottonWoolSpots",
          "cottonWoolSpots",
          "cottonWoolSpots",
          "cottonWoolSpots",
          "cottonWoolSpots",
          "cottonWoolSpots",
          "cottonWoolSpots",
          "drusens",
          "drusens",
          "drusens",
          "drusens",
          "drusens",
          "drusens",
          "drusens",
          "drusens",
          "drusens",
          "drusens",
          "drusens",
          "drusens",
          "drusens",
          "drusens",
          "drusens"
         ],
         "y": [
          0.008748444444444444,
          0.010720444444444444,
          0.002728,
          0.0031706666666666667,
          0.005073777777777778,
          0.0020533333333333332,
          0.0026546666666666667,
          0.004154222222222222,
          0.006664,
          0.0033862222222222223,
          0.005170666666666666,
          0.0026617777777777777,
          0.001440888888888889,
          0.003637333333333333,
          0.004771111111111111,
          0.005604888888888889,
          0.008735555555555555,
          0.014554666666666667,
          0.0035764444444444446,
          0.004025777777777777,
          0.007517777777777778,
          0.0012515555555555555,
          0.006443111111111111,
          0.003608,
          0.005708,
          0.0016697777777777778,
          0.002419111111111111,
          0.0008248888888888889,
          0.0035626666666666667,
          0.004592444444444444,
          0.055717333333333334,
          0,
          0,
          0,
          0,
          0,
          0,
          0.0003097777777777778,
          0,
          0,
          0,
          0,
          0,
          0,
          0,
          0.013852444444444445,
          0.02155422222222222,
          0.022752,
          0.003968,
          0.0024955555555555555,
          0.005236444444444445,
          0.0005853333333333333,
          0.0038884444444444444,
          0.009695111111111111,
          0.0007097777777777778,
          0.021992888888888888,
          0,
          0.005689777777777778,
          0.00656,
          0.003668,
          0,
          0,
          0.0005275555555555555,
          0,
          0.005855555555555556,
          0,
          0,
          0.004463111111111111,
          0.011965333333333333,
          0,
          0.00033822222222222223,
          0,
          0.0016835555555555555,
          0.007189333333333333,
          0,
          0.0011497777777777778,
          0,
          0,
          0.0024595555555555555,
          0,
          0.00015644444444444443,
          0,
          0.00007911111111111111,
          0,
          0,
          0,
          0,
          0.0003733333333333333,
          0,
          0
         ]
        },
        {
         "boxpoints": false,
         "marker": {
          "color": "#277088"
         },
         "name": "R3",
         "showlegend": false,
         "type": "box",
         "x": [
          "microaneurysms",
          "microaneurysms",
          "microaneurysms",
          "microaneurysms",
          "microaneurysms",
          "microaneurysms",
          "microaneurysms",
          "microaneurysms",
          "microaneurysms",
          "microaneurysms",
          "hemorrhages",
          "hemorrhages",
          "hemorrhages",
          "hemorrhages",
          "hemorrhages",
          "hemorrhages",
          "hemorrhages",
          "hemorrhages",
          "hemorrhages",
          "hemorrhages",
          "neovascularization",
          "neovascularization",
          "neovascularization",
          "neovascularization",
          "neovascularization",
          "neovascularization",
          "neovascularization",
          "neovascularization",
          "neovascularization",
          "neovascularization",
          "exudates",
          "exudates",
          "exudates",
          "exudates",
          "exudates",
          "exudates",
          "exudates",
          "exudates",
          "exudates",
          "exudates",
          "cottonWoolSpots",
          "cottonWoolSpots",
          "cottonWoolSpots",
          "cottonWoolSpots",
          "cottonWoolSpots",
          "cottonWoolSpots",
          "cottonWoolSpots",
          "cottonWoolSpots",
          "cottonWoolSpots",
          "cottonWoolSpots",
          "drusens",
          "drusens",
          "drusens",
          "drusens",
          "drusens",
          "drusens",
          "drusens",
          "drusens",
          "drusens",
          "drusens"
         ],
         "y": [
          0.013507555555555556,
          0.012107111111111112,
          0.010554222222222222,
          0.005073333333333333,
          0.003302666666666667,
          0.0040546666666666665,
          0.0075053333333333335,
          0.00022266666666666667,
          0.003940444444444444,
          0.008911111111111111,
          0.018642222222222223,
          0.01122,
          0.004309777777777778,
          0.0033786666666666665,
          0.05749777777777778,
          0.0003173333333333333,
          0.011581777777777778,
          0.002373333333333333,
          0.00885511111111111,
          0.002173777777777778,
          0,
          0,
          0.001244888888888889,
          0,
          0,
          0,
          0,
          0,
          0,
          0,
          0.007308888888888889,
          0,
          0.04315555555555556,
          0.0010382222222222223,
          0.012835111111111111,
          0.009009777777777778,
          0.016714666666666666,
          0.00008,
          0.0359,
          0,
          0,
          0,
          0,
          0,
          0.0019444444444444444,
          0.0011644444444444445,
          0.0015968888888888888,
          0,
          0.00970711111111111,
          0.004084444444444444,
          0.003036,
          0,
          0,
          0,
          0,
          0.0018595555555555555,
          0,
          0,
          0,
          0.00003511111111111111
         ]
        },
        {
         "boxpoints": false,
         "marker": {
          "color": "#8e5ea1"
         },
         "name": "R4A",
         "showlegend": false,
         "type": "box",
         "x": [
          "microaneurysms",
          "microaneurysms",
          "microaneurysms",
          "microaneurysms",
          "hemorrhages",
          "hemorrhages",
          "hemorrhages",
          "hemorrhages",
          "neovascularization",
          "neovascularization",
          "neovascularization",
          "neovascularization",
          "exudates",
          "exudates",
          "exudates",
          "exudates",
          "cottonWoolSpots",
          "cottonWoolSpots",
          "cottonWoolSpots",
          "cottonWoolSpots",
          "drusens",
          "drusens",
          "drusens",
          "drusens"
         ],
         "y": [
          0.011501777777777777,
          0.006495111111111111,
          0.009146222222222222,
          0.006744888888888889,
          0.004229777777777778,
          0.044784,
          0.014250666666666667,
          0.027763555555555555,
          0,
          0.04517422222222222,
          0,
          0,
          0,
          0.020702222222222223,
          0.010452444444444445,
          0.02240088888888889,
          0.0008564444444444444,
          0,
          0.005323111111111111,
          0,
          0,
          0,
          0,
          0
         ]
        }
       ],
       "layout": {
        "boxmode": "group",
        "height": 260,
        "legend": {
         "bordercolor": "#b5aaad",
         "borderwidth": 0.5,
         "grouptitlefont": {
          "size": 11
         },
         "orientation": "h",
         "title": {
          "text": "<b>Diabetic Retinopathy Grade</b>"
         },
         "x": 0.5,
         "xanchor": "center",
         "y": 1.1,
         "yanchor": "top"
        },
        "margin": {
         "b": 20,
         "l": 20,
         "r": 20,
         "t": 20
        },
        "template": {
         "data": {
          "bar": [
           {
            "error_x": {
             "color": "#2a3f5f"
            },
            "error_y": {
             "color": "#2a3f5f"
            },
            "marker": {
             "line": {
              "color": "white",
              "width": 0.5
             },
             "pattern": {
              "fillmode": "overlay",
              "size": 10,
              "solidity": 0.2
             }
            },
            "type": "bar"
           }
          ],
          "barpolar": [
           {
            "marker": {
             "line": {
              "color": "white",
              "width": 0.5
             },
             "pattern": {
              "fillmode": "overlay",
              "size": 10,
              "solidity": 0.2
             }
            },
            "type": "barpolar"
           }
          ],
          "carpet": [
           {
            "aaxis": {
             "endlinecolor": "#2a3f5f",
             "gridcolor": "#C8D4E3",
             "linecolor": "#C8D4E3",
             "minorgridcolor": "#C8D4E3",
             "startlinecolor": "#2a3f5f"
            },
            "baxis": {
             "endlinecolor": "#2a3f5f",
             "gridcolor": "#C8D4E3",
             "linecolor": "#C8D4E3",
             "minorgridcolor": "#C8D4E3",
             "startlinecolor": "#2a3f5f"
            },
            "type": "carpet"
           }
          ],
          "choropleth": [
           {
            "colorbar": {
             "outlinewidth": 0,
             "ticks": ""
            },
            "type": "choropleth"
           }
          ],
          "contour": [
           {
            "colorbar": {
             "outlinewidth": 0,
             "ticks": ""
            },
            "colorscale": [
             [
              0,
              "#0d0887"
             ],
             [
              0.1111111111111111,
              "#46039f"
             ],
             [
              0.2222222222222222,
              "#7201a8"
             ],
             [
              0.3333333333333333,
              "#9c179e"
             ],
             [
              0.4444444444444444,
              "#bd3786"
             ],
             [
              0.5555555555555556,
              "#d8576b"
             ],
             [
              0.6666666666666666,
              "#ed7953"
             ],
             [
              0.7777777777777778,
              "#fb9f3a"
             ],
             [
              0.8888888888888888,
              "#fdca26"
             ],
             [
              1,
              "#f0f921"
             ]
            ],
            "type": "contour"
           }
          ],
          "contourcarpet": [
           {
            "colorbar": {
             "outlinewidth": 0,
             "ticks": ""
            },
            "type": "contourcarpet"
           }
          ],
          "heatmap": [
           {
            "colorbar": {
             "outlinewidth": 0,
             "ticks": ""
            },
            "colorscale": [
             [
              0,
              "#0d0887"
             ],
             [
              0.1111111111111111,
              "#46039f"
             ],
             [
              0.2222222222222222,
              "#7201a8"
             ],
             [
              0.3333333333333333,
              "#9c179e"
             ],
             [
              0.4444444444444444,
              "#bd3786"
             ],
             [
              0.5555555555555556,
              "#d8576b"
             ],
             [
              0.6666666666666666,
              "#ed7953"
             ],
             [
              0.7777777777777778,
              "#fb9f3a"
             ],
             [
              0.8888888888888888,
              "#fdca26"
             ],
             [
              1,
              "#f0f921"
             ]
            ],
            "type": "heatmap"
           }
          ],
          "heatmapgl": [
           {
            "colorbar": {
             "outlinewidth": 0,
             "ticks": ""
            },
            "colorscale": [
             [
              0,
              "#0d0887"
             ],
             [
              0.1111111111111111,
              "#46039f"
             ],
             [
              0.2222222222222222,
              "#7201a8"
             ],
             [
              0.3333333333333333,
              "#9c179e"
             ],
             [
              0.4444444444444444,
              "#bd3786"
             ],
             [
              0.5555555555555556,
              "#d8576b"
             ],
             [
              0.6666666666666666,
              "#ed7953"
             ],
             [
              0.7777777777777778,
              "#fb9f3a"
             ],
             [
              0.8888888888888888,
              "#fdca26"
             ],
             [
              1,
              "#f0f921"
             ]
            ],
            "type": "heatmapgl"
           }
          ],
          "histogram": [
           {
            "marker": {
             "pattern": {
              "fillmode": "overlay",
              "size": 10,
              "solidity": 0.2
             }
            },
            "type": "histogram"
           }
          ],
          "histogram2d": [
           {
            "colorbar": {
             "outlinewidth": 0,
             "ticks": ""
            },
            "colorscale": [
             [
              0,
              "#0d0887"
             ],
             [
              0.1111111111111111,
              "#46039f"
             ],
             [
              0.2222222222222222,
              "#7201a8"
             ],
             [
              0.3333333333333333,
              "#9c179e"
             ],
             [
              0.4444444444444444,
              "#bd3786"
             ],
             [
              0.5555555555555556,
              "#d8576b"
             ],
             [
              0.6666666666666666,
              "#ed7953"
             ],
             [
              0.7777777777777778,
              "#fb9f3a"
             ],
             [
              0.8888888888888888,
              "#fdca26"
             ],
             [
              1,
              "#f0f921"
             ]
            ],
            "type": "histogram2d"
           }
          ],
          "histogram2dcontour": [
           {
            "colorbar": {
             "outlinewidth": 0,
             "ticks": ""
            },
            "colorscale": [
             [
              0,
              "#0d0887"
             ],
             [
              0.1111111111111111,
              "#46039f"
             ],
             [
              0.2222222222222222,
              "#7201a8"
             ],
             [
              0.3333333333333333,
              "#9c179e"
             ],
             [
              0.4444444444444444,
              "#bd3786"
             ],
             [
              0.5555555555555556,
              "#d8576b"
             ],
             [
              0.6666666666666666,
              "#ed7953"
             ],
             [
              0.7777777777777778,
              "#fb9f3a"
             ],
             [
              0.8888888888888888,
              "#fdca26"
             ],
             [
              1,
              "#f0f921"
             ]
            ],
            "type": "histogram2dcontour"
           }
          ],
          "mesh3d": [
           {
            "colorbar": {
             "outlinewidth": 0,
             "ticks": ""
            },
            "type": "mesh3d"
           }
          ],
          "parcoords": [
           {
            "line": {
             "colorbar": {
              "outlinewidth": 0,
              "ticks": ""
             }
            },
            "type": "parcoords"
           }
          ],
          "pie": [
           {
            "automargin": true,
            "type": "pie"
           }
          ],
          "scatter": [
           {
            "fillpattern": {
             "fillmode": "overlay",
             "size": 10,
             "solidity": 0.2
            },
            "type": "scatter"
           }
          ],
          "scatter3d": [
           {
            "line": {
             "colorbar": {
              "outlinewidth": 0,
              "ticks": ""
             }
            },
            "marker": {
             "colorbar": {
              "outlinewidth": 0,
              "ticks": ""
             }
            },
            "type": "scatter3d"
           }
          ],
          "scattercarpet": [
           {
            "marker": {
             "colorbar": {
              "outlinewidth": 0,
              "ticks": ""
             }
            },
            "type": "scattercarpet"
           }
          ],
          "scattergeo": [
           {
            "marker": {
             "colorbar": {
              "outlinewidth": 0,
              "ticks": ""
             }
            },
            "type": "scattergeo"
           }
          ],
          "scattergl": [
           {
            "marker": {
             "colorbar": {
              "outlinewidth": 0,
              "ticks": ""
             }
            },
            "type": "scattergl"
           }
          ],
          "scattermapbox": [
           {
            "marker": {
             "colorbar": {
              "outlinewidth": 0,
              "ticks": ""
             }
            },
            "type": "scattermapbox"
           }
          ],
          "scatterpolar": [
           {
            "marker": {
             "colorbar": {
              "outlinewidth": 0,
              "ticks": ""
             }
            },
            "type": "scatterpolar"
           }
          ],
          "scatterpolargl": [
           {
            "marker": {
             "colorbar": {
              "outlinewidth": 0,
              "ticks": ""
             }
            },
            "type": "scatterpolargl"
           }
          ],
          "scatterternary": [
           {
            "marker": {
             "colorbar": {
              "outlinewidth": 0,
              "ticks": ""
             }
            },
            "type": "scatterternary"
           }
          ],
          "surface": [
           {
            "colorbar": {
             "outlinewidth": 0,
             "ticks": ""
            },
            "colorscale": [
             [
              0,
              "#0d0887"
             ],
             [
              0.1111111111111111,
              "#46039f"
             ],
             [
              0.2222222222222222,
              "#7201a8"
             ],
             [
              0.3333333333333333,
              "#9c179e"
             ],
             [
              0.4444444444444444,
              "#bd3786"
             ],
             [
              0.5555555555555556,
              "#d8576b"
             ],
             [
              0.6666666666666666,
              "#ed7953"
             ],
             [
              0.7777777777777778,
              "#fb9f3a"
             ],
             [
              0.8888888888888888,
              "#fdca26"
             ],
             [
              1,
              "#f0f921"
             ]
            ],
            "type": "surface"
           }
          ],
          "table": [
           {
            "cells": {
             "fill": {
              "color": "#EBF0F8"
             },
             "line": {
              "color": "white"
             }
            },
            "header": {
             "fill": {
              "color": "#C8D4E3"
             },
             "line": {
              "color": "white"
             }
            },
            "type": "table"
           }
          ]
         },
         "layout": {
          "annotationdefaults": {
           "arrowcolor": "#2a3f5f",
           "arrowhead": 0,
           "arrowwidth": 1
          },
          "autotypenumbers": "strict",
          "coloraxis": {
           "colorbar": {
            "outlinewidth": 0,
            "ticks": ""
           }
          },
          "colorscale": {
           "diverging": [
            [
             0,
             "#8e0152"
            ],
            [
             0.1,
             "#c51b7d"
            ],
            [
             0.2,
             "#de77ae"
            ],
            [
             0.3,
             "#f1b6da"
            ],
            [
             0.4,
             "#fde0ef"
            ],
            [
             0.5,
             "#f7f7f7"
            ],
            [
             0.6,
             "#e6f5d0"
            ],
            [
             0.7,
             "#b8e186"
            ],
            [
             0.8,
             "#7fbc41"
            ],
            [
             0.9,
             "#4d9221"
            ],
            [
             1,
             "#276419"
            ]
           ],
           "sequential": [
            [
             0,
             "#0d0887"
            ],
            [
             0.1111111111111111,
             "#46039f"
            ],
            [
             0.2222222222222222,
             "#7201a8"
            ],
            [
             0.3333333333333333,
             "#9c179e"
            ],
            [
             0.4444444444444444,
             "#bd3786"
            ],
            [
             0.5555555555555556,
             "#d8576b"
            ],
            [
             0.6666666666666666,
             "#ed7953"
            ],
            [
             0.7777777777777778,
             "#fb9f3a"
            ],
            [
             0.8888888888888888,
             "#fdca26"
            ],
            [
             1,
             "#f0f921"
            ]
           ],
           "sequentialminus": [
            [
             0,
             "#0d0887"
            ],
            [
             0.1111111111111111,
             "#46039f"
            ],
            [
             0.2222222222222222,
             "#7201a8"
            ],
            [
             0.3333333333333333,
             "#9c179e"
            ],
            [
             0.4444444444444444,
             "#bd3786"
            ],
            [
             0.5555555555555556,
             "#d8576b"
            ],
            [
             0.6666666666666666,
             "#ed7953"
            ],
            [
             0.7777777777777778,
             "#fb9f3a"
            ],
            [
             0.8888888888888888,
             "#fdca26"
            ],
            [
             1,
             "#f0f921"
            ]
           ]
          },
          "colorway": [
           "#636efa",
           "#EF553B",
           "#00cc96",
           "#ab63fa",
           "#FFA15A",
           "#19d3f3",
           "#FF6692",
           "#B6E880",
           "#FF97FF",
           "#FECB52"
          ],
          "font": {
           "color": "#2a3f5f"
          },
          "geo": {
           "bgcolor": "white",
           "lakecolor": "white",
           "landcolor": "white",
           "showlakes": true,
           "showland": true,
           "subunitcolor": "#C8D4E3"
          },
          "hoverlabel": {
           "align": "left"
          },
          "hovermode": "closest",
          "mapbox": {
           "style": "light"
          },
          "paper_bgcolor": "white",
          "plot_bgcolor": "white",
          "polar": {
           "angularaxis": {
            "gridcolor": "#EBF0F8",
            "linecolor": "#EBF0F8",
            "ticks": ""
           },
           "bgcolor": "white",
           "radialaxis": {
            "gridcolor": "#EBF0F8",
            "linecolor": "#EBF0F8",
            "ticks": ""
           }
          },
          "scene": {
           "xaxis": {
            "backgroundcolor": "white",
            "gridcolor": "#DFE8F3",
            "gridwidth": 2,
            "linecolor": "#EBF0F8",
            "showbackground": true,
            "ticks": "",
            "zerolinecolor": "#EBF0F8"
           },
           "yaxis": {
            "backgroundcolor": "white",
            "gridcolor": "#DFE8F3",
            "gridwidth": 2,
            "linecolor": "#EBF0F8",
            "showbackground": true,
            "ticks": "",
            "zerolinecolor": "#EBF0F8"
           },
           "zaxis": {
            "backgroundcolor": "white",
            "gridcolor": "#DFE8F3",
            "gridwidth": 2,
            "linecolor": "#EBF0F8",
            "showbackground": true,
            "ticks": "",
            "zerolinecolor": "#EBF0F8"
           }
          },
          "shapedefaults": {
           "line": {
            "color": "#2a3f5f"
           }
          },
          "ternary": {
           "aaxis": {
            "gridcolor": "#DFE8F3",
            "linecolor": "#A2B1C6",
            "ticks": ""
           },
           "baxis": {
            "gridcolor": "#DFE8F3",
            "linecolor": "#A2B1C6",
            "ticks": ""
           },
           "bgcolor": "white",
           "caxis": {
            "gridcolor": "#DFE8F3",
            "linecolor": "#A2B1C6",
            "ticks": ""
           }
          },
          "title": {
           "x": 0.05
          },
          "xaxis": {
           "automargin": true,
           "gridcolor": "#EBF0F8",
           "linecolor": "#EBF0F8",
           "ticks": "",
           "title": {
            "standoff": 15
           },
           "zerolinecolor": "#EBF0F8",
           "zerolinewidth": 2
          },
          "yaxis": {
           "automargin": true,
           "gridcolor": "#EBF0F8",
           "linecolor": "#EBF0F8",
           "ticks": "",
           "title": {
            "standoff": 15
           },
           "zerolinecolor": "#EBF0F8",
           "zerolinewidth": 2
          }
         }
        },
        "title": {
         "x": 0.5,
         "xanchor": "center",
         "y": 1,
         "yanchor": "top"
        },
        "width": 1000,
        "xaxis": {
         "tickfont": {
          "size": 15
         }
        },
        "yaxis": {
         "tickfont": {
          "size": 13
         },
         "tickformat": ".0%",
         "title": {
          "font": {
           "size": 15
          },
          "text": "Total lesion area per image"
         }
        }
       }
      }
     },
     "metadata": {},
     "output_type": "display_data"
    }
   ],
   "source": [
    "group_by = \"MAPLES-DR.DR\"\n",
    "\n",
    "all_dataset_long = all_dataset_long.sort_values(by=group_by)\n",
    "all_dataset_long = all_dataset_long.sort_values(by=\"lesion\", key=lambda x: x.map(lesions.index))\n",
    "all_dataset_long[\"area (%)\"] = all_dataset_long[\"area\"] / (1500 * 1500)\n",
    "\n",
    "dr_color = {\n",
    "    \"R0\": TEAL0,\n",
    "    \"R1\": TEAL1,\n",
    "    \"R2\": TEAL2,\n",
    "    \"R3\": TEAL3,\n",
    "    \"R4A\": PURPLE2,\n",
    "}\n",
    "\n",
    "\n",
    "generic_opt = dict(\n",
    "    boxpoints=False,\n",
    ")\n",
    "\n",
    "fig1 = go.Figure()\n",
    "for i, (dr, color) in enumerate(dr_color.items()):\n",
    "    data = all_dataset_long.loc[all_dataset_long[group_by] == dr]\n",
    "    opt = dict(marker_color=color) | generic_opt\n",
    "    opt |= dict(name=dr)\n",
    "    fig1.add_trace(go.Box(x=data[\"lesion\"], y=data[\"count\"], text=data[\"count\"].mean(), **opt))\n",
    "fig1.update_yaxes(\n",
    "    title=\"Lesions count per image\",\n",
    ")\n",
    "\n",
    "\n",
    "fig2 = go.Figure()\n",
    "for i, (dr, color) in enumerate(dr_color.items()):\n",
    "    data = all_dataset_long.loc[all_dataset_long[group_by] == dr]\n",
    "    opt = dict(marker_color=color) | generic_opt\n",
    "    opt |= dict(name=dr, showlegend=False)\n",
    "    fig2.add_trace(\n",
    "        go.Box(x=data[\"lesion\"], y=data[\"area (%)\"], **opt),\n",
    "    )\n",
    "\n",
    "fig2.update_yaxes(\n",
    "    title=\"Total lesion area per image\",\n",
    "    tickformat=\".0%\",\n",
    ")\n",
    "\n",
    "\n",
    "def fig_format_and_show(fig):\n",
    "    fig.layout.boxmode = \"group\"\n",
    "    fig.update_layout(\n",
    "        legend=dict(\n",
    "            title=dict(text=\"<b>Diabetic Retinopathy Grade</b>\"),\n",
    "            orientation=\"h\",\n",
    "            yanchor=\"top\",\n",
    "            y=1.1,\n",
    "            xanchor=\"center\",\n",
    "            x=0.5,\n",
    "            bordercolor=\"#b5aaad\",\n",
    "            borderwidth=0.5,\n",
    "            grouptitlefont_size=11,\n",
    "        ),\n",
    "        title=dict(x=0.5, y=1, xanchor=\"center\", yanchor=\"top\"),\n",
    "        height=300,\n",
    "        width=1000,\n",
    "        template=\"plotly_white\",\n",
    "        margin={\"t\": 20, \"l\": 20, \"r\": 20, \"b\": 20},\n",
    "    )\n",
    "    fig.update_yaxes(tickfont_size=13, title_font_size=15)\n",
    "    fig.update_xaxes(tickfont_size=15)\n",
    "\n",
    "\n",
    "fig_format_and_show(fig1)\n",
    "fig_format_and_show(fig2)\n",
    "fig2.update_layout(height=260)\n",
    "\n",
    "fig1.show()\n",
    "fig2.show()\n",
    "fig1.write_image(\"figures/lesions_dist1.pdf\")\n",
    "fig2.write_image(\"figures/lesions_dist2.pdf\")"
   ]
  },
  {
   "cell_type": "markdown",
   "id": "10f35a69-1261-4546-9762-959d326fe6c7",
   "metadata": {},
   "source": [
    "## Automatic Sementic Segmentation\n"
   ]
  },
  {
   "cell_type": "code",
   "execution_count": 28,
   "id": "890572df",
   "metadata": {},
   "outputs": [],
   "source": [
    "perfs = pd.DataFrame(\n",
    "    [\n",
    "        {\n",
    "            \"type\": \"Microaneurysms\",\n",
    "            \"Precision\": 0.59,\n",
    "            \"Recall\": 0.52,\n",
    "            \"IoU\": 0.38,\n",
    "            \"Avg. Pr.\": 0.56,\n",
    "        },\n",
    "        {\n",
    "            \"type\": \"Hemorrhages\",\n",
    "            \"Precision\": 0.58,\n",
    "            \"Recall\": 0.44,\n",
    "            \"IoU\": 0.34,\n",
    "            \"Avg. Pr.\": 0.51,\n",
    "        },\n",
    "        {\n",
    "            \"type\": \"Exudates\",\n",
    "            \"Precision\": 0.75,\n",
    "            \"Recall\": 0.78,\n",
    "            \"IoU\": 0.62,\n",
    "            \"Avg. Pr.\": 0.78,\n",
    "        },\n",
    "        {\n",
    "            \"type\": \"Vessels\",\n",
    "            \"Precision\": 0.87,\n",
    "            \"Recall\": 0.79,\n",
    "            \"IoU\": 0.71,\n",
    "            \"Avg. Pr.\": 0.86,\n",
    "        },\n",
    "        {\n",
    "            \"type\": \"Macula\",\n",
    "            \"Precision\": 0.67,\n",
    "            \"Recall\": 0.55,\n",
    "            \"IoU\": 0.43,\n",
    "            \"Avg. Pr.\": 0.61,\n",
    "        },\n",
    "        {\n",
    "            \"type\": \"Optic Disc\",\n",
    "            \"Precision\": 0.70,\n",
    "            \"Recall\": 0.81,\n",
    "            \"IoU\": 0.60,\n",
    "            \"Avg. Pr.\": 0.77,\n",
    "        },\n",
    "        {\n",
    "            \"type\": \"Optic Cup\",\n",
    "            \"Precision\": 0.42,\n",
    "            \"Recall\": 0.92,\n",
    "            \"IoU\": 0.41,\n",
    "            \"Avg. Pr.\": 0.68,\n",
    "        },\n",
    "    ]\n",
    ")"
   ]
  },
  {
   "cell_type": "code",
   "execution_count": 29,
   "id": "20c286a8",
   "metadata": {},
   "outputs": [
    {
     "data": {
      "application/vnd.plotly.v1+json": {
       "config": {
        "plotlyServerURL": "https://plot.ly"
       },
       "data": [
        {
         "fill": "toself",
         "line": {
          "color": "#6a1e75",
          "width": 0.5
         },
         "mode": "lines",
         "r": [
          0.59,
          0.5900070390673391,
          0.5900277440252953,
          0.5900614965077775,
          0.5901076781486944,
          0.5901656705819547,
          0.590234855441467,
          0.5903146143611402,
          0.5904043289748829,
          0.590503380916604,
          0.5906111518202121,
          0.5907270233196159,
          0.5908503770487241,
          0.5909805946414456,
          0.5911170577316889,
          0.5912591479533629,
          0.591406246940376,
          0.5915577363266374,
          0.5917129977460556,
          0.5918714128325393,
          0.5920323632199972,
          0.592195230542338,
          0.5923593964334705,
          0.5925242425273034,
          0.5926891504577455,
          0.5928535018587053,
          0.5930166783640919,
          0.5931780616078136,
          0.5933370332237794,
          0.593492974845898,
          0.5936452681080779,
          0.5937932946442283,
          0.5939364360882573,
          0.5940740740740741,
          0.5942055902355872,
          0.5943303662067053,
          0.5944477836213373,
          0.5945572241133918,
          0.5946580693167776,
          0.5947497008654034,
          0.5948315003931778,
          0.5949028495340096,
          0.5949631299218077,
          0.5950117231904805,
          0.5950480109739369,
          0.5950713749060856,
          0.5950811966208354,
          0.595076857752095,
          0.595057739933773,
          0.5950232247997782,
          0.5949726939840193,
          0.5949055291204052,
          0.5948211118428443,
          0.5947188237852457,
          0.5945980465815176,
          0.5944581618655693,
          0.5942985512713092,
          0.5941185964326461,
          0.5939176789834886,
          0.5936951805577456,
          0.5934504827893258,
          0.5931829673121378,
          0.5928920157600904,
          0.5925770097670925,
          0.5922373309670524,
          0.5918723609938792,
          0.5914814814814815,
          0.591064074063768,
          0.5906195203746474,
          0.5901472020480285,
          0.5896465007178199,
          0.5891167980179306,
          0.5885574755822689,
          0.5879679150447439,
          0.5873474980392641,
          0.5866956061997385,
          0.5860116211600754,
          0.5852949245541839,
          0.5845448980159723,
          0.5837609231793498,
          0.5829423816782249,
          0.5820886551465064,
          0.5811991252181029,
          0.5802731735269232,
          0.5793101817068759,
          0.5783095313918699,
          0.5772706042158139,
          0.5761927818126166,
          0.5750754458161865,
          0.5739179778604326,
          0.5727197595792637,
          0.5714801726065882,
          0.570198598576315,
          0.568874419122353,
          0.5675070158786106,
          0.5660957704789966,
          0.5646400645574199,
          0.563139279747789,
          0.5615927976840128,
          0.56,
          0.56,
          0.5583605878188065,
          0.5566755402200765,
          0.5549461557726021,
          0.5531737330451748,
          0.5513595706065862,
          0.5495049670256281,
          0.5476112208710925,
          0.5456796307117704,
          0.5437114951164539,
          0.5417081126539346,
          0.5396707818930041,
          0.5376008014024544,
          0.5354994697510768,
          0.5333680855076631,
          0.5312079472410051,
          0.5290203535198944,
          0.5268066029131228,
          0.5245679939894817,
          0.5223058253177629,
          0.5200213954667583,
          0.5177160030052593,
          0.5153909465020576,
          0.5130475245259452,
          0.5106870356457134,
          0.5083107784301539,
          0.5059200514480588,
          0.5035161532682195,
          0.5011003824594276,
          0.49867403759047474,
          0.49623841723015283,
          0.49379481994725344,
          0.49134454431056823,
          0.48888888888888893,
          0.4864291522510072,
          0.4839666329657146,
          0.4815026296018033,
          0.47903844072806434,
          0.4765753649132896,
          0.474114700726271,
          0.4716577467358001,
          0.46920580151066843,
          0.4667601636196678,
          0.46432213163158986,
          0.4618930041152264,
          0.45947407963936887,
          0.4570666567728092,
          0.454672034084339,
          0.4522915101427498,
          0.44992638351683345,
          0.4475779527753816,
          0.4452475164871859,
          0.44293637322103807,
          0.44064582154572973,
          0.43837716003005267,
          0.4361316872427984,
          0.43391070175275875,
          0.4317155021287253,
          0.4295473869394898,
          0.427407654753844,
          0.4252976041405794,
          0.4232185336684878,
          0.42117174190636086,
          0.4191585274229902,
          0.4171801887871677,
          0.41523802456768477,
          0.41333333333333333,
          0.41146741365290496,
          0.40964156409519126,
          0.40785708322898406,
          0.406115269623075,
          0.4044174218462557,
          0.40276483846731786,
          0.40115881805505316,
          0.3996006591782533,
          0.3980916604057099,
          0.3966331203062149,
          0.3952263374485597,
          0.393872610401536,
          0.39257323773393565,
          0.3913295180145502,
          0.39014274981217134,
          0.38901423169559074,
          0.38794526223360015,
          0.3869371399949912,
          0.38599116354855567,
          0.38510863146308505,
          0.3842908423073712,
          0.38353909465020575,
          0.3828546870603804,
          0.38223891810668675,
          0.38169308635791654,
          0.3812184903828614,
          0.3808164287503131,
          0.3804882000290632,
          0.3802351027879035,
          0.3800584355956257,
          0.3799594970210214,
          0.3799395856328822,
          0.38,
          0.38,
          0.3801415439982933,
          0.38036304273218874,
          0.38066282661323986,
          0.38103922605300017,
          0.3814905714630233,
          0.3820151932548627,
          0.38261142184007196,
          0.3832775876302047,
          0.3840120210368144,
          0.3848130524714547,
          0.38567901234567903,
          0.38660823107104103,
          0.38759903905909415,
          0.3886497667213921,
          0.3897587444694883,
          0.39092430271493633,
          0.3921447718692898,
          0.3934184823441022,
          0.3947437645509271,
          0.39611894890131805,
          0.3975423658068286,
          0.3990123456790124,
          0.4005272189294228,
          0.40208531596961355,
          0.40368496721113806,
          0.4053245030655499,
          0.40700225394440276,
          0.40871655025924997,
          0.41046572242164525,
          0.4122481008431421,
          0.4140620159352941,
          0.4159057981096549,
          0.41777777777777775,
          0.4196762853512164,
          0.42159965124152454,
          0.42354620586025543,
          0.4255142796189628,
          0.42750220292920016,
          0.42950830620252106,
          0.4315309198504791,
          0.4335683742846277,
          0.4356189999165206,
          0.4376811271577112,
          0.4397530864197531,
          0.44183320811419985,
          0.44391982265260505,
          0.4460112604465222,
          0.44810585190750485,
          0.4502019274471065,
          0.45229781747688086,
          0.4543918524083813,
          0.45648236265316156,
          0.45856767862277503,
          0.46064613072877536,
          0.4627160493827161,
          0.46477576499615064,
          0.4668236079806329,
          0.46885790874771593,
          0.4708769977089536,
          0.47287920527589955,
          0.47486286186010707,
          0.47682629787312975,
          0.4787678437265215,
          0.48068582983183533,
          0.4825785866006253,
          0.4844444444444445,
          0.4862817337748468,
          0.4880887850033856,
          0.4898639285416145,
          0.49160549480108706,
          0.49331181419335696,
          0.4949812171299775,
          0.4966120340225024,
          0.4982025952824851,
          0.49975123132147925,
          0.5012562725510384,
          0.5027160493827162,
          0.5041288922280659,
          0.5054931314986412,
          0.5068070976059957,
          0.508069120961683,
          0.5092775319772564,
          0.5104306610642698,
          0.5115268386342766,
          0.5125643950988303,
          0.5135416608694846,
          0.5144569663577928,
          0.5153086419753087,
          0.5160950181335857,
          0.5168144252441773,
          0.5174651937186373,
          0.518045653968519,
          0.5185541364053761,
          0.5189889714407621,
          0.5193484894862305,
          0.519631020953335,
          0.519834896253629,
          0.5199584457986662,
          0.52
         ],
         "theta": [
          0,
          0.6060606060606061,
          1.2121212121212122,
          1.8181818181818183,
          2.4242424242424243,
          3.0303030303030303,
          3.6363636363636367,
          4.242424242424242,
          4.848484848484849,
          5.454545454545455,
          6.0606060606060606,
          6.666666666666667,
          7.272727272727273,
          7.878787878787879,
          8.484848484848484,
          9.090909090909092,
          9.696969696969697,
          10.303030303030303,
          10.90909090909091,
          11.515151515151516,
          12.121212121212121,
          12.727272727272728,
          13.333333333333334,
          13.93939393939394,
          14.545454545454547,
          15.151515151515152,
          15.757575757575758,
          16.363636363636363,
          16.96969696969697,
          17.575757575757578,
          18.181818181818183,
          18.78787878787879,
          19.393939393939394,
          20,
          20.606060606060606,
          21.21212121212121,
          21.81818181818182,
          22.424242424242426,
          23.03030303030303,
          23.636363636363637,
          24.242424242424242,
          24.848484848484848,
          25.454545454545457,
          26.060606060606062,
          26.666666666666668,
          27.272727272727273,
          27.87878787878788,
          28.484848484848484,
          29.090909090909093,
          29.6969696969697,
          30.303030303030305,
          30.90909090909091,
          31.515151515151516,
          32.121212121212125,
          32.72727272727273,
          33.333333333333336,
          33.93939393939394,
          34.54545454545455,
          35.151515151515156,
          35.75757575757576,
          36.36363636363637,
          36.96969696969697,
          37.57575757575758,
          38.18181818181818,
          38.78787878787879,
          39.3939393939394,
          40,
          40.60606060606061,
          41.21212121212121,
          41.81818181818182,
          42.42424242424242,
          43.03030303030303,
          43.63636363636364,
          44.24242424242424,
          44.84848484848485,
          45.45454545454545,
          46.06060606060606,
          46.66666666666667,
          47.27272727272727,
          47.87878787878788,
          48.484848484848484,
          49.09090909090909,
          49.696969696969695,
          50.303030303030305,
          50.909090909090914,
          51.515151515151516,
          52.121212121212125,
          52.72727272727273,
          53.333333333333336,
          53.93939393939394,
          54.54545454545455,
          55.151515151515156,
          55.75757575757576,
          56.36363636363637,
          56.96969696969697,
          57.57575757575758,
          58.18181818181819,
          58.78787878787879,
          59.3939393939394,
          60,
          60,
          60.60606060606061,
          61.21212121212121,
          61.81818181818182,
          62.42424242424242,
          63.03030303030303,
          63.63636363636364,
          64.24242424242425,
          64.84848484848484,
          65.45454545454545,
          66.06060606060606,
          66.66666666666667,
          67.27272727272728,
          67.87878787878788,
          68.48484848484848,
          69.0909090909091,
          69.6969696969697,
          70.3030303030303,
          70.9090909090909,
          71.51515151515152,
          72.12121212121212,
          72.72727272727273,
          73.33333333333333,
          73.93939393939394,
          74.54545454545455,
          75.15151515151516,
          75.75757575757575,
          76.36363636363636,
          76.96969696969697,
          77.57575757575758,
          78.18181818181819,
          78.78787878787878,
          79.39393939393939,
          80,
          80.60606060606061,
          81.21212121212122,
          81.81818181818181,
          82.42424242424242,
          83.03030303030303,
          83.63636363636364,
          84.24242424242425,
          84.84848484848484,
          85.45454545454545,
          86.06060606060606,
          86.66666666666667,
          87.27272727272728,
          87.87878787878788,
          88.48484848484848,
          89.0909090909091,
          89.6969696969697,
          90.30303030303031,
          90.9090909090909,
          91.51515151515152,
          92.12121212121212,
          92.72727272727272,
          93.33333333333334,
          93.93939393939394,
          94.54545454545455,
          95.15151515151516,
          95.75757575757575,
          96.36363636363637,
          96.96969696969697,
          97.57575757575758,
          98.18181818181819,
          98.78787878787878,
          99.3939393939394,
          100,
          100.60606060606061,
          101.21212121212122,
          101.81818181818181,
          102.42424242424242,
          103.03030303030303,
          103.63636363636364,
          104.24242424242425,
          104.84848484848484,
          105.45454545454545,
          106.06060606060606,
          106.66666666666667,
          107.27272727272728,
          107.87878787878788,
          108.48484848484848,
          109.0909090909091,
          109.69696969696969,
          110.30303030303031,
          110.9090909090909,
          111.51515151515152,
          112.12121212121212,
          112.72727272727272,
          113.33333333333334,
          113.93939393939394,
          114.54545454545455,
          115.15151515151516,
          115.75757575757575,
          116.36363636363637,
          116.96969696969697,
          117.57575757575758,
          118.18181818181819,
          118.78787878787878,
          119.3939393939394,
          120,
          120,
          120.60606060606061,
          121.21212121212122,
          121.81818181818181,
          122.42424242424242,
          123.03030303030303,
          123.63636363636364,
          124.24242424242425,
          124.84848484848484,
          125.45454545454545,
          126.06060606060606,
          126.66666666666667,
          127.27272727272728,
          127.87878787878788,
          128.4848484848485,
          129.0909090909091,
          129.6969696969697,
          130.3030303030303,
          130.9090909090909,
          131.5151515151515,
          132.12121212121212,
          132.72727272727272,
          133.33333333333334,
          133.93939393939394,
          134.54545454545456,
          135.15151515151516,
          135.75757575757575,
          136.36363636363637,
          136.96969696969697,
          137.57575757575756,
          138.1818181818182,
          138.78787878787878,
          139.3939393939394,
          140,
          140.6060606060606,
          141.21212121212122,
          141.8181818181818,
          142.42424242424244,
          143.03030303030303,
          143.63636363636363,
          144.24242424242425,
          144.84848484848484,
          145.45454545454547,
          146.06060606060606,
          146.66666666666666,
          147.27272727272728,
          147.87878787878788,
          148.4848484848485,
          149.0909090909091,
          149.6969696969697,
          150.3030303030303,
          150.9090909090909,
          151.5151515151515,
          152.12121212121212,
          152.72727272727272,
          153.33333333333334,
          153.93939393939394,
          154.54545454545456,
          155.15151515151516,
          155.75757575757575,
          156.36363636363637,
          156.96969696969697,
          157.57575757575756,
          158.1818181818182,
          158.78787878787878,
          159.3939393939394,
          160,
          160.60606060606062,
          161.21212121212122,
          161.8181818181818,
          162.42424242424244,
          163.03030303030303,
          163.63636363636363,
          164.24242424242425,
          164.84848484848484,
          165.45454545454544,
          166.06060606060606,
          166.66666666666669,
          167.27272727272728,
          167.87878787878788,
          168.4848484848485,
          169.0909090909091,
          169.6969696969697,
          170.3030303030303,
          170.9090909090909,
          171.5151515151515,
          172.12121212121212,
          172.72727272727272,
          173.33333333333334,
          173.93939393939394,
          174.54545454545456,
          175.15151515151516,
          175.75757575757575,
          176.36363636363637,
          176.96969696969697,
          177.57575757575756,
          178.1818181818182,
          178.78787878787878,
          179.3939393939394,
          180
         ],
         "type": "scatterpolar"
        },
        {
         "marker": {
          "color": "#6a1e75",
          "size": 4
         },
         "mode": "markers",
         "r": [
          0.59,
          0.56,
          0.38,
          0.52
         ],
         "theta": [
          0,
          60,
          120,
          180
         ],
         "type": "scatterpolar"
        },
        {
         "mode": "text",
         "r": [
          0.69,
          0.6100000000000001,
          0.43,
          0.62
         ],
         "text": [
          "59%",
          "56%",
          "38%",
          "52%"
         ],
         "textfont": {
          "color": "#6a1e75"
         },
         "textposition": "middle left",
         "theta": [
          0,
          60,
          120,
          180
         ],
         "type": "scatterpolar"
        }
       ],
       "layout": {
        "height": 280,
        "margin": {
         "b": 20,
         "l": 50,
         "r": 32,
         "t": 20
        },
        "polar": {
         "angularaxis": {
          "direction": "counterclockwise",
          "gridcolor": "#ddd",
          "gridwidth": 2,
          "rotation": 90,
          "showline": false,
          "tickfont": {
           "size": 13
          },
          "ticktext": [
           "     <b>Precision</b>     ",
           "<b>Avg. Pr.</b>",
           "<b>IoU</b>",
           "     <b>Recall</b>     "
          ],
          "tickvals": [
           0,
           60,
           120,
           180
          ]
         },
         "radialaxis": {
          "angle": 90,
          "range": [
           0,
           1.15
          ],
          "showline": false,
          "showticklabels": true,
          "tickangle": 90,
          "tickfont": {
           "color": "#555",
           "size": 11
          },
          "tickformat": " .0%",
          "tickvals": [
           0,
           0.2,
           0.4,
           0.6,
           0.8,
           1
          ]
         },
         "sector": [
          90,
          270
         ]
        },
        "showlegend": false,
        "template": {
         "data": {
          "bar": [
           {
            "error_x": {
             "color": "#2a3f5f"
            },
            "error_y": {
             "color": "#2a3f5f"
            },
            "marker": {
             "line": {
              "color": "white",
              "width": 0.5
             },
             "pattern": {
              "fillmode": "overlay",
              "size": 10,
              "solidity": 0.2
             }
            },
            "type": "bar"
           }
          ],
          "barpolar": [
           {
            "marker": {
             "line": {
              "color": "white",
              "width": 0.5
             },
             "pattern": {
              "fillmode": "overlay",
              "size": 10,
              "solidity": 0.2
             }
            },
            "type": "barpolar"
           }
          ],
          "carpet": [
           {
            "aaxis": {
             "endlinecolor": "#2a3f5f",
             "gridcolor": "#C8D4E3",
             "linecolor": "#C8D4E3",
             "minorgridcolor": "#C8D4E3",
             "startlinecolor": "#2a3f5f"
            },
            "baxis": {
             "endlinecolor": "#2a3f5f",
             "gridcolor": "#C8D4E3",
             "linecolor": "#C8D4E3",
             "minorgridcolor": "#C8D4E3",
             "startlinecolor": "#2a3f5f"
            },
            "type": "carpet"
           }
          ],
          "choropleth": [
           {
            "colorbar": {
             "outlinewidth": 0,
             "ticks": ""
            },
            "type": "choropleth"
           }
          ],
          "contour": [
           {
            "colorbar": {
             "outlinewidth": 0,
             "ticks": ""
            },
            "colorscale": [
             [
              0,
              "#0d0887"
             ],
             [
              0.1111111111111111,
              "#46039f"
             ],
             [
              0.2222222222222222,
              "#7201a8"
             ],
             [
              0.3333333333333333,
              "#9c179e"
             ],
             [
              0.4444444444444444,
              "#bd3786"
             ],
             [
              0.5555555555555556,
              "#d8576b"
             ],
             [
              0.6666666666666666,
              "#ed7953"
             ],
             [
              0.7777777777777778,
              "#fb9f3a"
             ],
             [
              0.8888888888888888,
              "#fdca26"
             ],
             [
              1,
              "#f0f921"
             ]
            ],
            "type": "contour"
           }
          ],
          "contourcarpet": [
           {
            "colorbar": {
             "outlinewidth": 0,
             "ticks": ""
            },
            "type": "contourcarpet"
           }
          ],
          "heatmap": [
           {
            "colorbar": {
             "outlinewidth": 0,
             "ticks": ""
            },
            "colorscale": [
             [
              0,
              "#0d0887"
             ],
             [
              0.1111111111111111,
              "#46039f"
             ],
             [
              0.2222222222222222,
              "#7201a8"
             ],
             [
              0.3333333333333333,
              "#9c179e"
             ],
             [
              0.4444444444444444,
              "#bd3786"
             ],
             [
              0.5555555555555556,
              "#d8576b"
             ],
             [
              0.6666666666666666,
              "#ed7953"
             ],
             [
              0.7777777777777778,
              "#fb9f3a"
             ],
             [
              0.8888888888888888,
              "#fdca26"
             ],
             [
              1,
              "#f0f921"
             ]
            ],
            "type": "heatmap"
           }
          ],
          "heatmapgl": [
           {
            "colorbar": {
             "outlinewidth": 0,
             "ticks": ""
            },
            "colorscale": [
             [
              0,
              "#0d0887"
             ],
             [
              0.1111111111111111,
              "#46039f"
             ],
             [
              0.2222222222222222,
              "#7201a8"
             ],
             [
              0.3333333333333333,
              "#9c179e"
             ],
             [
              0.4444444444444444,
              "#bd3786"
             ],
             [
              0.5555555555555556,
              "#d8576b"
             ],
             [
              0.6666666666666666,
              "#ed7953"
             ],
             [
              0.7777777777777778,
              "#fb9f3a"
             ],
             [
              0.8888888888888888,
              "#fdca26"
             ],
             [
              1,
              "#f0f921"
             ]
            ],
            "type": "heatmapgl"
           }
          ],
          "histogram": [
           {
            "marker": {
             "pattern": {
              "fillmode": "overlay",
              "size": 10,
              "solidity": 0.2
             }
            },
            "type": "histogram"
           }
          ],
          "histogram2d": [
           {
            "colorbar": {
             "outlinewidth": 0,
             "ticks": ""
            },
            "colorscale": [
             [
              0,
              "#0d0887"
             ],
             [
              0.1111111111111111,
              "#46039f"
             ],
             [
              0.2222222222222222,
              "#7201a8"
             ],
             [
              0.3333333333333333,
              "#9c179e"
             ],
             [
              0.4444444444444444,
              "#bd3786"
             ],
             [
              0.5555555555555556,
              "#d8576b"
             ],
             [
              0.6666666666666666,
              "#ed7953"
             ],
             [
              0.7777777777777778,
              "#fb9f3a"
             ],
             [
              0.8888888888888888,
              "#fdca26"
             ],
             [
              1,
              "#f0f921"
             ]
            ],
            "type": "histogram2d"
           }
          ],
          "histogram2dcontour": [
           {
            "colorbar": {
             "outlinewidth": 0,
             "ticks": ""
            },
            "colorscale": [
             [
              0,
              "#0d0887"
             ],
             [
              0.1111111111111111,
              "#46039f"
             ],
             [
              0.2222222222222222,
              "#7201a8"
             ],
             [
              0.3333333333333333,
              "#9c179e"
             ],
             [
              0.4444444444444444,
              "#bd3786"
             ],
             [
              0.5555555555555556,
              "#d8576b"
             ],
             [
              0.6666666666666666,
              "#ed7953"
             ],
             [
              0.7777777777777778,
              "#fb9f3a"
             ],
             [
              0.8888888888888888,
              "#fdca26"
             ],
             [
              1,
              "#f0f921"
             ]
            ],
            "type": "histogram2dcontour"
           }
          ],
          "mesh3d": [
           {
            "colorbar": {
             "outlinewidth": 0,
             "ticks": ""
            },
            "type": "mesh3d"
           }
          ],
          "parcoords": [
           {
            "line": {
             "colorbar": {
              "outlinewidth": 0,
              "ticks": ""
             }
            },
            "type": "parcoords"
           }
          ],
          "pie": [
           {
            "automargin": true,
            "type": "pie"
           }
          ],
          "scatter": [
           {
            "fillpattern": {
             "fillmode": "overlay",
             "size": 10,
             "solidity": 0.2
            },
            "type": "scatter"
           }
          ],
          "scatter3d": [
           {
            "line": {
             "colorbar": {
              "outlinewidth": 0,
              "ticks": ""
             }
            },
            "marker": {
             "colorbar": {
              "outlinewidth": 0,
              "ticks": ""
             }
            },
            "type": "scatter3d"
           }
          ],
          "scattercarpet": [
           {
            "marker": {
             "colorbar": {
              "outlinewidth": 0,
              "ticks": ""
             }
            },
            "type": "scattercarpet"
           }
          ],
          "scattergeo": [
           {
            "marker": {
             "colorbar": {
              "outlinewidth": 0,
              "ticks": ""
             }
            },
            "type": "scattergeo"
           }
          ],
          "scattergl": [
           {
            "marker": {
             "colorbar": {
              "outlinewidth": 0,
              "ticks": ""
             }
            },
            "type": "scattergl"
           }
          ],
          "scattermapbox": [
           {
            "marker": {
             "colorbar": {
              "outlinewidth": 0,
              "ticks": ""
             }
            },
            "type": "scattermapbox"
           }
          ],
          "scatterpolar": [
           {
            "marker": {
             "colorbar": {
              "outlinewidth": 0,
              "ticks": ""
             }
            },
            "type": "scatterpolar"
           }
          ],
          "scatterpolargl": [
           {
            "marker": {
             "colorbar": {
              "outlinewidth": 0,
              "ticks": ""
             }
            },
            "type": "scatterpolargl"
           }
          ],
          "scatterternary": [
           {
            "marker": {
             "colorbar": {
              "outlinewidth": 0,
              "ticks": ""
             }
            },
            "type": "scatterternary"
           }
          ],
          "surface": [
           {
            "colorbar": {
             "outlinewidth": 0,
             "ticks": ""
            },
            "colorscale": [
             [
              0,
              "#0d0887"
             ],
             [
              0.1111111111111111,
              "#46039f"
             ],
             [
              0.2222222222222222,
              "#7201a8"
             ],
             [
              0.3333333333333333,
              "#9c179e"
             ],
             [
              0.4444444444444444,
              "#bd3786"
             ],
             [
              0.5555555555555556,
              "#d8576b"
             ],
             [
              0.6666666666666666,
              "#ed7953"
             ],
             [
              0.7777777777777778,
              "#fb9f3a"
             ],
             [
              0.8888888888888888,
              "#fdca26"
             ],
             [
              1,
              "#f0f921"
             ]
            ],
            "type": "surface"
           }
          ],
          "table": [
           {
            "cells": {
             "fill": {
              "color": "#EBF0F8"
             },
             "line": {
              "color": "white"
             }
            },
            "header": {
             "fill": {
              "color": "#C8D4E3"
             },
             "line": {
              "color": "white"
             }
            },
            "type": "table"
           }
          ]
         },
         "layout": {
          "annotationdefaults": {
           "arrowcolor": "#2a3f5f",
           "arrowhead": 0,
           "arrowwidth": 1
          },
          "autotypenumbers": "strict",
          "coloraxis": {
           "colorbar": {
            "outlinewidth": 0,
            "ticks": ""
           }
          },
          "colorscale": {
           "diverging": [
            [
             0,
             "#8e0152"
            ],
            [
             0.1,
             "#c51b7d"
            ],
            [
             0.2,
             "#de77ae"
            ],
            [
             0.3,
             "#f1b6da"
            ],
            [
             0.4,
             "#fde0ef"
            ],
            [
             0.5,
             "#f7f7f7"
            ],
            [
             0.6,
             "#e6f5d0"
            ],
            [
             0.7,
             "#b8e186"
            ],
            [
             0.8,
             "#7fbc41"
            ],
            [
             0.9,
             "#4d9221"
            ],
            [
             1,
             "#276419"
            ]
           ],
           "sequential": [
            [
             0,
             "#0d0887"
            ],
            [
             0.1111111111111111,
             "#46039f"
            ],
            [
             0.2222222222222222,
             "#7201a8"
            ],
            [
             0.3333333333333333,
             "#9c179e"
            ],
            [
             0.4444444444444444,
             "#bd3786"
            ],
            [
             0.5555555555555556,
             "#d8576b"
            ],
            [
             0.6666666666666666,
             "#ed7953"
            ],
            [
             0.7777777777777778,
             "#fb9f3a"
            ],
            [
             0.8888888888888888,
             "#fdca26"
            ],
            [
             1,
             "#f0f921"
            ]
           ],
           "sequentialminus": [
            [
             0,
             "#0d0887"
            ],
            [
             0.1111111111111111,
             "#46039f"
            ],
            [
             0.2222222222222222,
             "#7201a8"
            ],
            [
             0.3333333333333333,
             "#9c179e"
            ],
            [
             0.4444444444444444,
             "#bd3786"
            ],
            [
             0.5555555555555556,
             "#d8576b"
            ],
            [
             0.6666666666666666,
             "#ed7953"
            ],
            [
             0.7777777777777778,
             "#fb9f3a"
            ],
            [
             0.8888888888888888,
             "#fdca26"
            ],
            [
             1,
             "#f0f921"
            ]
           ]
          },
          "colorway": [
           "#636efa",
           "#EF553B",
           "#00cc96",
           "#ab63fa",
           "#FFA15A",
           "#19d3f3",
           "#FF6692",
           "#B6E880",
           "#FF97FF",
           "#FECB52"
          ],
          "font": {
           "color": "#2a3f5f"
          },
          "geo": {
           "bgcolor": "white",
           "lakecolor": "white",
           "landcolor": "white",
           "showlakes": true,
           "showland": true,
           "subunitcolor": "#C8D4E3"
          },
          "hoverlabel": {
           "align": "left"
          },
          "hovermode": "closest",
          "mapbox": {
           "style": "light"
          },
          "paper_bgcolor": "white",
          "plot_bgcolor": "white",
          "polar": {
           "angularaxis": {
            "gridcolor": "#EBF0F8",
            "linecolor": "#EBF0F8",
            "ticks": ""
           },
           "bgcolor": "white",
           "radialaxis": {
            "gridcolor": "#EBF0F8",
            "linecolor": "#EBF0F8",
            "ticks": ""
           }
          },
          "scene": {
           "xaxis": {
            "backgroundcolor": "white",
            "gridcolor": "#DFE8F3",
            "gridwidth": 2,
            "linecolor": "#EBF0F8",
            "showbackground": true,
            "ticks": "",
            "zerolinecolor": "#EBF0F8"
           },
           "yaxis": {
            "backgroundcolor": "white",
            "gridcolor": "#DFE8F3",
            "gridwidth": 2,
            "linecolor": "#EBF0F8",
            "showbackground": true,
            "ticks": "",
            "zerolinecolor": "#EBF0F8"
           },
           "zaxis": {
            "backgroundcolor": "white",
            "gridcolor": "#DFE8F3",
            "gridwidth": 2,
            "linecolor": "#EBF0F8",
            "showbackground": true,
            "ticks": "",
            "zerolinecolor": "#EBF0F8"
           }
          },
          "shapedefaults": {
           "line": {
            "color": "#2a3f5f"
           }
          },
          "ternary": {
           "aaxis": {
            "gridcolor": "#DFE8F3",
            "linecolor": "#A2B1C6",
            "ticks": ""
           },
           "baxis": {
            "gridcolor": "#DFE8F3",
            "linecolor": "#A2B1C6",
            "ticks": ""
           },
           "bgcolor": "white",
           "caxis": {
            "gridcolor": "#DFE8F3",
            "linecolor": "#A2B1C6",
            "ticks": ""
           }
          },
          "title": {
           "x": 0.05
          },
          "xaxis": {
           "automargin": true,
           "gridcolor": "#EBF0F8",
           "linecolor": "#EBF0F8",
           "ticks": "",
           "title": {
            "standoff": 15
           },
           "zerolinecolor": "#EBF0F8",
           "zerolinewidth": 2
          },
          "yaxis": {
           "automargin": true,
           "gridcolor": "#EBF0F8",
           "linecolor": "#EBF0F8",
           "ticks": "",
           "title": {
            "standoff": 15
           },
           "zerolinecolor": "#EBF0F8",
           "zerolinewidth": 2
          }
         }
        },
        "width": 200
       }
      }
     },
     "metadata": {},
     "output_type": "display_data"
    },
    {
     "data": {
      "application/vnd.plotly.v1+json": {
       "config": {
        "plotlyServerURL": "https://plot.ly"
       },
       "data": [
        {
         "fill": "toself",
         "line": {
          "color": "#6a1e75",
          "width": 0.5
         },
         "mode": "lines",
         "r": [
          0.58,
          0.5799966958638522,
          0.579986626802666,
          0.5799695578373264,
          0.5799452539887189,
          0.5799134802777288,
          0.5798740017252414,
          0.579826583352142,
          0.5797709901793158,
          0.5797069872276484,
          0.5796343395180248,
          0.5795528120713305,
          0.5794621699084508,
          0.579362178050271,
          0.5792526015176764,
          0.5791332053315524,
          0.5790037545127842,
          0.5788640140822571,
          0.5787137490608565,
          0.5785527244694676,
          0.5783807053289759,
          0.5781974566602665,
          0.5780027434842249,
          0.5777963308217363,
          0.5775779836936862,
          0.5773474671209595,
          0.5771045461244421,
          0.5768489857250187,
          0.5765805509435751,
          0.5762990068009964,
          0.5760041183181679,
          0.5756956505159749,
          0.5753733684153028,
          0.575037037037037,
          0.5746864214020626,
          0.5743212865312651,
          0.5739413974455296,
          0.5735465191657416,
          0.5731364167127864,
          0.5727108551075493,
          0.5722695993709155,
          0.5718124145237705,
          0.5713390655869994,
          0.5708493175814877,
          0.5703429355281207,
          0.5698196844477835,
          0.5692793293613617,
          0.5687216352897405,
          0.5681463672538052,
          0.5675532902744411,
          0.5669421693725336,
          0.5663127695689679,
          0.5656648558846293,
          0.5649981933404034,
          0.564312546957175,
          0.5636076817558299,
          0.5628833627572531,
          0.5621393549823303,
          0.5613754234519462,
          0.5605913331869867,
          0.5597868492083368,
          0.558961736536882,
          0.5581157601935074,
          0.5572486851990984,
          0.5563602765745405,
          0.5554502993407187,
          0.5545185185185184,
          0.5535646991288252,
          0.552588606192524,
          0.5515900047305006,
          0.5505686597636399,
          0.5495243363128273,
          0.5484567993989481,
          0.5473658140428878,
          0.5462511452655315,
          0.5451125580877647,
          0.5439498175304726,
          0.5427626886145404,
          0.5415509363608537,
          0.5403143257902976,
          0.5390526219237575,
          0.5377655897821187,
          0.5364529943862665,
          0.5351146007570862,
          0.5337501739154631,
          0.5323594788822827,
          0.5309422806784301,
          0.5294983443247906,
          0.5280274348422496,
          0.5265293172516925,
          0.5250037565740044,
          0.5234505178300709,
          0.521869366040777,
          0.5202600662270084,
          0.51862238340965,
          0.5169560826095874,
          0.5152609288477057,
          0.5135366871448904,
          0.5117831225220267,
          0.51,
          0.51,
          0.5081872824768447,
          0.5063457243591925,
          0.5044762779308234,
          0.5025798954755184,
          0.5006575292770579,
          0.49871013161922256,
          0.4967386547857928,
          0.49474405106054936,
          0.49272727272727274,
          0.49068927206974344,
          0.48863100137174215,
          0.4865534129170493,
          0.48445745898944553,
          0.4823440918727114,
          0.4802142638506275,
          0.47806892720697436,
          0.4759090342255326,
          0.47373553719008266,
          0.47154938838440524,
          0.4693515400922808,
          0.46714294459749006,
          0.4649245541838135,
          0.4626973211350316,
          0.460462197734925,
          0.4582201362672743,
          0.4559720890158601,
          0.4537190082644629,
          0.4514618462968632,
          0.4492015553968416,
          0.44693908784817876,
          0.44467539593465527,
          0.4424114319400515,
          0.4401481481481482,
          0.43788649684272574,
          0.43562743030756496,
          0.43337190082644633,
          0.43112086068315025,
          0.4288752621614575,
          0.42663605754514844,
          0.4244041991180038,
          0.4221806391638042,
          0.41996632996633,
          0.4177622238093619,
          0.41556927297668034,
          0.4133884297520661,
          0.4112206464192996,
          0.40906687526216146,
          0.40692806856443225,
          0.40480517860989246,
          0.4026991576823227,
          0.4006109580655035,
          0.3985415320432156,
          0.3964918318992393,
          0.3944628099173555,
          0.39245541838134423,
          0.3904706095749867,
          0.38850933578206304,
          0.386572549286354,
          0.3846612023716402,
          0.3827762473217019,
          0.3809186364203199,
          0.3790893219512748,
          0.37728925619834713,
          0.37551939144531743,
          0.37378067997596615,
          0.37207407407407406,
          0.37040052602342166,
          0.36876098810778946,
          0.36715641261095816,
          0.3655877518167081,
          0.36405595800882007,
          0.3625619834710744,
          0.36110678048725187,
          0.35969130134113303,
          0.35831649831649837,
          0.3569833236971285,
          0.3556927297668039,
          0.35444566880930517,
          0.35324309310841306,
          0.35208595494790784,
          0.35097520661157033,
          0.34991180038318087,
          0.34889668854652023,
          0.3479308233853689,
          0.3470151571835074,
          0.34615064222471637,
          0.34533823079277626,
          0.3445788751714678,
          0.34387352764457146,
          0.34322314049586783,
          0.34262866600913744,
          0.3420910564681609,
          0.3416112641567188,
          0.34119024135859155,
          0.34082894035755995,
          0.3405283134374044,
          0.34028931288190545,
          0.3401128909748439,
          0.34,
          0.34,
          0.3399512191602795,
          0.33996563533508745,
          0.34004196232295403,
          0.3401789139224095,
          0.3403752039319839,
          0.34062954615020735,
          0.34094065437561005,
          0.34130724240672206,
          0.34172802404207364,
          0.34220171308019487,
          0.34272702331961596,
          0.34330266855886693,
          0.343927362596478,
          0.3445998192309794,
          0.3453187522609011,
          0.34608287548477323,
          0.3468909027011262,
          0.3477415477084899,
          0.3486335243053945,
          0.3495655462903703,
          0.3505363274619473,
          0.35154458161865576,
          0.35258902255902563,
          0.3536683640815873,
          0.35478131998487067,
          0.355926604067406,
          0.35710293012772354,
          0.35830901196435333,
          0.3595435633758254,
          0.3608052981606701,
          0.36209293011741744,
          0.36340517304459763,
          0.36474074074074075,
          0.366098347004377,
          0.3674767056340365,
          0.3688745304282494,
          0.370290535185546,
          0.3717234337044561,
          0.37317193978351,
          0.374634767221238,
          0.3761106298161701,
          0.37759824136683645,
          0.3790963156717672,
          0.38060356652949245,
          0.38211870773854245,
          0.3836404530974473,
          0.3851675164047372,
          0.38669861145894213,
          0.3882324520585922,
          0.3897677520022179,
          0.391303225088349,
          0.3928375851155159,
          0.3943695458822487,
          0.3958978211870774,
          0.39742112482853226,
          0.39893817060514336,
          0.40044767231544093,
          0.4019483437579551,
          0.40343889873121586,
          0.40491805103375356,
          0.40638451446409823,
          0.40783700282077995,
          0.4092742299023291,
          0.4106949095072756,
          0.41209775543414967,
          0.4134814814814815,
          0.4148448014478012,
          0.41618642913163884,
          0.4175050783315246,
          0.4187994628459887,
          0.42006829647356125,
          0.42131029301277234,
          0.4225241662621522,
          0.4237086300202309,
          0.4248623980855385,
          0.42598418425660545,
          0.42707270233196165,
          0.4281266661101372,
          0.4291447893896624,
          0.43012578596906725,
          0.431068369646882,
          0.43197125422163685,
          0.4328331534918618,
          0.4336527812560871,
          0.43442885131284276,
          0.435160077460659,
          0.435845173498066,
          0.43648285322359404,
          0.43707183043577286,
          0.437610818933133,
          0.4380985325142044,
          0.4385336849775172,
          0.43891499012160173,
          0.4392411617449879,
          0.439510913646206,
          0.43972295962378605,
          0.4398760134762584,
          0.43996878900215297,
          0.44
         ],
         "theta": [
          0,
          0.6060606060606061,
          1.2121212121212122,
          1.8181818181818183,
          2.4242424242424243,
          3.0303030303030303,
          3.6363636363636367,
          4.242424242424242,
          4.848484848484849,
          5.454545454545455,
          6.0606060606060606,
          6.666666666666667,
          7.272727272727273,
          7.878787878787879,
          8.484848484848484,
          9.090909090909092,
          9.696969696969697,
          10.303030303030303,
          10.90909090909091,
          11.515151515151516,
          12.121212121212121,
          12.727272727272728,
          13.333333333333334,
          13.93939393939394,
          14.545454545454547,
          15.151515151515152,
          15.757575757575758,
          16.363636363636363,
          16.96969696969697,
          17.575757575757578,
          18.181818181818183,
          18.78787878787879,
          19.393939393939394,
          20,
          20.606060606060606,
          21.21212121212121,
          21.81818181818182,
          22.424242424242426,
          23.03030303030303,
          23.636363636363637,
          24.242424242424242,
          24.848484848484848,
          25.454545454545457,
          26.060606060606062,
          26.666666666666668,
          27.272727272727273,
          27.87878787878788,
          28.484848484848484,
          29.090909090909093,
          29.6969696969697,
          30.303030303030305,
          30.90909090909091,
          31.515151515151516,
          32.121212121212125,
          32.72727272727273,
          33.333333333333336,
          33.93939393939394,
          34.54545454545455,
          35.151515151515156,
          35.75757575757576,
          36.36363636363637,
          36.96969696969697,
          37.57575757575758,
          38.18181818181818,
          38.78787878787879,
          39.3939393939394,
          40,
          40.60606060606061,
          41.21212121212121,
          41.81818181818182,
          42.42424242424242,
          43.03030303030303,
          43.63636363636364,
          44.24242424242424,
          44.84848484848485,
          45.45454545454545,
          46.06060606060606,
          46.66666666666667,
          47.27272727272727,
          47.87878787878788,
          48.484848484848484,
          49.09090909090909,
          49.696969696969695,
          50.303030303030305,
          50.909090909090914,
          51.515151515151516,
          52.121212121212125,
          52.72727272727273,
          53.333333333333336,
          53.93939393939394,
          54.54545454545455,
          55.151515151515156,
          55.75757575757576,
          56.36363636363637,
          56.96969696969697,
          57.57575757575758,
          58.18181818181819,
          58.78787878787879,
          59.3939393939394,
          60,
          60,
          60.60606060606061,
          61.21212121212121,
          61.81818181818182,
          62.42424242424242,
          63.03030303030303,
          63.63636363636364,
          64.24242424242425,
          64.84848484848484,
          65.45454545454545,
          66.06060606060606,
          66.66666666666667,
          67.27272727272728,
          67.87878787878788,
          68.48484848484848,
          69.0909090909091,
          69.6969696969697,
          70.3030303030303,
          70.9090909090909,
          71.51515151515152,
          72.12121212121212,
          72.72727272727273,
          73.33333333333333,
          73.93939393939394,
          74.54545454545455,
          75.15151515151516,
          75.75757575757575,
          76.36363636363636,
          76.96969696969697,
          77.57575757575758,
          78.18181818181819,
          78.78787878787878,
          79.39393939393939,
          80,
          80.60606060606061,
          81.21212121212122,
          81.81818181818181,
          82.42424242424242,
          83.03030303030303,
          83.63636363636364,
          84.24242424242425,
          84.84848484848484,
          85.45454545454545,
          86.06060606060606,
          86.66666666666667,
          87.27272727272728,
          87.87878787878788,
          88.48484848484848,
          89.0909090909091,
          89.6969696969697,
          90.30303030303031,
          90.9090909090909,
          91.51515151515152,
          92.12121212121212,
          92.72727272727272,
          93.33333333333334,
          93.93939393939394,
          94.54545454545455,
          95.15151515151516,
          95.75757575757575,
          96.36363636363637,
          96.96969696969697,
          97.57575757575758,
          98.18181818181819,
          98.78787878787878,
          99.3939393939394,
          100,
          100.60606060606061,
          101.21212121212122,
          101.81818181818181,
          102.42424242424242,
          103.03030303030303,
          103.63636363636364,
          104.24242424242425,
          104.84848484848484,
          105.45454545454545,
          106.06060606060606,
          106.66666666666667,
          107.27272727272728,
          107.87878787878788,
          108.48484848484848,
          109.0909090909091,
          109.69696969696969,
          110.30303030303031,
          110.9090909090909,
          111.51515151515152,
          112.12121212121212,
          112.72727272727272,
          113.33333333333334,
          113.93939393939394,
          114.54545454545455,
          115.15151515151516,
          115.75757575757575,
          116.36363636363637,
          116.96969696969697,
          117.57575757575758,
          118.18181818181819,
          118.78787878787878,
          119.3939393939394,
          120,
          120,
          120.60606060606061,
          121.21212121212122,
          121.81818181818181,
          122.42424242424242,
          123.03030303030303,
          123.63636363636364,
          124.24242424242425,
          124.84848484848484,
          125.45454545454545,
          126.06060606060606,
          126.66666666666667,
          127.27272727272728,
          127.87878787878788,
          128.4848484848485,
          129.0909090909091,
          129.6969696969697,
          130.3030303030303,
          130.9090909090909,
          131.5151515151515,
          132.12121212121212,
          132.72727272727272,
          133.33333333333334,
          133.93939393939394,
          134.54545454545456,
          135.15151515151516,
          135.75757575757575,
          136.36363636363637,
          136.96969696969697,
          137.57575757575756,
          138.1818181818182,
          138.78787878787878,
          139.3939393939394,
          140,
          140.6060606060606,
          141.21212121212122,
          141.8181818181818,
          142.42424242424244,
          143.03030303030303,
          143.63636363636363,
          144.24242424242425,
          144.84848484848484,
          145.45454545454547,
          146.06060606060606,
          146.66666666666666,
          147.27272727272728,
          147.87878787878788,
          148.4848484848485,
          149.0909090909091,
          149.6969696969697,
          150.3030303030303,
          150.9090909090909,
          151.5151515151515,
          152.12121212121212,
          152.72727272727272,
          153.33333333333334,
          153.93939393939394,
          154.54545454545456,
          155.15151515151516,
          155.75757575757575,
          156.36363636363637,
          156.96969696969697,
          157.57575757575756,
          158.1818181818182,
          158.78787878787878,
          159.3939393939394,
          160,
          160.60606060606062,
          161.21212121212122,
          161.8181818181818,
          162.42424242424244,
          163.03030303030303,
          163.63636363636363,
          164.24242424242425,
          164.84848484848484,
          165.45454545454544,
          166.06060606060606,
          166.66666666666669,
          167.27272727272728,
          167.87878787878788,
          168.4848484848485,
          169.0909090909091,
          169.6969696969697,
          170.3030303030303,
          170.9090909090909,
          171.5151515151515,
          172.12121212121212,
          172.72727272727272,
          173.33333333333334,
          173.93939393939394,
          174.54545454545456,
          175.15151515151516,
          175.75757575757575,
          176.36363636363637,
          176.96969696969697,
          177.57575757575756,
          178.1818181818182,
          178.78787878787878,
          179.3939393939394,
          180
         ],
         "type": "scatterpolar"
        },
        {
         "marker": {
          "color": "#6a1e75",
          "size": 4
         },
         "mode": "markers",
         "r": [
          0.58,
          0.51,
          0.34,
          0.44
         ],
         "theta": [
          0,
          60,
          120,
          180
         ],
         "type": "scatterpolar"
        },
        {
         "mode": "text",
         "r": [
          0.6799999999999999,
          0.56,
          0.39,
          0.54
         ],
         "text": [
          "58%",
          "51%",
          "34%",
          "44%"
         ],
         "textfont": {
          "color": "#6a1e75"
         },
         "textposition": "middle right",
         "theta": [
          0,
          60,
          120,
          180
         ],
         "type": "scatterpolar"
        }
       ],
       "layout": {
        "height": 280,
        "margin": {
         "b": 20,
         "l": 32,
         "r": 50,
         "t": 20
        },
        "polar": {
         "angularaxis": {
          "direction": "clockwise",
          "gridcolor": "#ddd",
          "gridwidth": 2,
          "rotation": 90,
          "showline": false,
          "tickfont": {
           "size": 13
          },
          "ticktext": [
           "     <b>Precision</b>     ",
           "<b>Avg. Pr.</b>",
           "<b>IoU</b>",
           "     <b>Recall</b>     "
          ],
          "tickvals": [
           0,
           60,
           120,
           180
          ]
         },
         "radialaxis": {
          "angle": -90,
          "range": [
           0,
           1.15
          ],
          "showline": false,
          "showticklabels": false,
          "tickvals": [
           0,
           0.2,
           0.4,
           0.6,
           0.8,
           1
          ]
         },
         "sector": [
          -90,
          90
         ]
        },
        "showlegend": false,
        "template": {
         "data": {
          "bar": [
           {
            "error_x": {
             "color": "#2a3f5f"
            },
            "error_y": {
             "color": "#2a3f5f"
            },
            "marker": {
             "line": {
              "color": "white",
              "width": 0.5
             },
             "pattern": {
              "fillmode": "overlay",
              "size": 10,
              "solidity": 0.2
             }
            },
            "type": "bar"
           }
          ],
          "barpolar": [
           {
            "marker": {
             "line": {
              "color": "white",
              "width": 0.5
             },
             "pattern": {
              "fillmode": "overlay",
              "size": 10,
              "solidity": 0.2
             }
            },
            "type": "barpolar"
           }
          ],
          "carpet": [
           {
            "aaxis": {
             "endlinecolor": "#2a3f5f",
             "gridcolor": "#C8D4E3",
             "linecolor": "#C8D4E3",
             "minorgridcolor": "#C8D4E3",
             "startlinecolor": "#2a3f5f"
            },
            "baxis": {
             "endlinecolor": "#2a3f5f",
             "gridcolor": "#C8D4E3",
             "linecolor": "#C8D4E3",
             "minorgridcolor": "#C8D4E3",
             "startlinecolor": "#2a3f5f"
            },
            "type": "carpet"
           }
          ],
          "choropleth": [
           {
            "colorbar": {
             "outlinewidth": 0,
             "ticks": ""
            },
            "type": "choropleth"
           }
          ],
          "contour": [
           {
            "colorbar": {
             "outlinewidth": 0,
             "ticks": ""
            },
            "colorscale": [
             [
              0,
              "#0d0887"
             ],
             [
              0.1111111111111111,
              "#46039f"
             ],
             [
              0.2222222222222222,
              "#7201a8"
             ],
             [
              0.3333333333333333,
              "#9c179e"
             ],
             [
              0.4444444444444444,
              "#bd3786"
             ],
             [
              0.5555555555555556,
              "#d8576b"
             ],
             [
              0.6666666666666666,
              "#ed7953"
             ],
             [
              0.7777777777777778,
              "#fb9f3a"
             ],
             [
              0.8888888888888888,
              "#fdca26"
             ],
             [
              1,
              "#f0f921"
             ]
            ],
            "type": "contour"
           }
          ],
          "contourcarpet": [
           {
            "colorbar": {
             "outlinewidth": 0,
             "ticks": ""
            },
            "type": "contourcarpet"
           }
          ],
          "heatmap": [
           {
            "colorbar": {
             "outlinewidth": 0,
             "ticks": ""
            },
            "colorscale": [
             [
              0,
              "#0d0887"
             ],
             [
              0.1111111111111111,
              "#46039f"
             ],
             [
              0.2222222222222222,
              "#7201a8"
             ],
             [
              0.3333333333333333,
              "#9c179e"
             ],
             [
              0.4444444444444444,
              "#bd3786"
             ],
             [
              0.5555555555555556,
              "#d8576b"
             ],
             [
              0.6666666666666666,
              "#ed7953"
             ],
             [
              0.7777777777777778,
              "#fb9f3a"
             ],
             [
              0.8888888888888888,
              "#fdca26"
             ],
             [
              1,
              "#f0f921"
             ]
            ],
            "type": "heatmap"
           }
          ],
          "heatmapgl": [
           {
            "colorbar": {
             "outlinewidth": 0,
             "ticks": ""
            },
            "colorscale": [
             [
              0,
              "#0d0887"
             ],
             [
              0.1111111111111111,
              "#46039f"
             ],
             [
              0.2222222222222222,
              "#7201a8"
             ],
             [
              0.3333333333333333,
              "#9c179e"
             ],
             [
              0.4444444444444444,
              "#bd3786"
             ],
             [
              0.5555555555555556,
              "#d8576b"
             ],
             [
              0.6666666666666666,
              "#ed7953"
             ],
             [
              0.7777777777777778,
              "#fb9f3a"
             ],
             [
              0.8888888888888888,
              "#fdca26"
             ],
             [
              1,
              "#f0f921"
             ]
            ],
            "type": "heatmapgl"
           }
          ],
          "histogram": [
           {
            "marker": {
             "pattern": {
              "fillmode": "overlay",
              "size": 10,
              "solidity": 0.2
             }
            },
            "type": "histogram"
           }
          ],
          "histogram2d": [
           {
            "colorbar": {
             "outlinewidth": 0,
             "ticks": ""
            },
            "colorscale": [
             [
              0,
              "#0d0887"
             ],
             [
              0.1111111111111111,
              "#46039f"
             ],
             [
              0.2222222222222222,
              "#7201a8"
             ],
             [
              0.3333333333333333,
              "#9c179e"
             ],
             [
              0.4444444444444444,
              "#bd3786"
             ],
             [
              0.5555555555555556,
              "#d8576b"
             ],
             [
              0.6666666666666666,
              "#ed7953"
             ],
             [
              0.7777777777777778,
              "#fb9f3a"
             ],
             [
              0.8888888888888888,
              "#fdca26"
             ],
             [
              1,
              "#f0f921"
             ]
            ],
            "type": "histogram2d"
           }
          ],
          "histogram2dcontour": [
           {
            "colorbar": {
             "outlinewidth": 0,
             "ticks": ""
            },
            "colorscale": [
             [
              0,
              "#0d0887"
             ],
             [
              0.1111111111111111,
              "#46039f"
             ],
             [
              0.2222222222222222,
              "#7201a8"
             ],
             [
              0.3333333333333333,
              "#9c179e"
             ],
             [
              0.4444444444444444,
              "#bd3786"
             ],
             [
              0.5555555555555556,
              "#d8576b"
             ],
             [
              0.6666666666666666,
              "#ed7953"
             ],
             [
              0.7777777777777778,
              "#fb9f3a"
             ],
             [
              0.8888888888888888,
              "#fdca26"
             ],
             [
              1,
              "#f0f921"
             ]
            ],
            "type": "histogram2dcontour"
           }
          ],
          "mesh3d": [
           {
            "colorbar": {
             "outlinewidth": 0,
             "ticks": ""
            },
            "type": "mesh3d"
           }
          ],
          "parcoords": [
           {
            "line": {
             "colorbar": {
              "outlinewidth": 0,
              "ticks": ""
             }
            },
            "type": "parcoords"
           }
          ],
          "pie": [
           {
            "automargin": true,
            "type": "pie"
           }
          ],
          "scatter": [
           {
            "fillpattern": {
             "fillmode": "overlay",
             "size": 10,
             "solidity": 0.2
            },
            "type": "scatter"
           }
          ],
          "scatter3d": [
           {
            "line": {
             "colorbar": {
              "outlinewidth": 0,
              "ticks": ""
             }
            },
            "marker": {
             "colorbar": {
              "outlinewidth": 0,
              "ticks": ""
             }
            },
            "type": "scatter3d"
           }
          ],
          "scattercarpet": [
           {
            "marker": {
             "colorbar": {
              "outlinewidth": 0,
              "ticks": ""
             }
            },
            "type": "scattercarpet"
           }
          ],
          "scattergeo": [
           {
            "marker": {
             "colorbar": {
              "outlinewidth": 0,
              "ticks": ""
             }
            },
            "type": "scattergeo"
           }
          ],
          "scattergl": [
           {
            "marker": {
             "colorbar": {
              "outlinewidth": 0,
              "ticks": ""
             }
            },
            "type": "scattergl"
           }
          ],
          "scattermapbox": [
           {
            "marker": {
             "colorbar": {
              "outlinewidth": 0,
              "ticks": ""
             }
            },
            "type": "scattermapbox"
           }
          ],
          "scatterpolar": [
           {
            "marker": {
             "colorbar": {
              "outlinewidth": 0,
              "ticks": ""
             }
            },
            "type": "scatterpolar"
           }
          ],
          "scatterpolargl": [
           {
            "marker": {
             "colorbar": {
              "outlinewidth": 0,
              "ticks": ""
             }
            },
            "type": "scatterpolargl"
           }
          ],
          "scatterternary": [
           {
            "marker": {
             "colorbar": {
              "outlinewidth": 0,
              "ticks": ""
             }
            },
            "type": "scatterternary"
           }
          ],
          "surface": [
           {
            "colorbar": {
             "outlinewidth": 0,
             "ticks": ""
            },
            "colorscale": [
             [
              0,
              "#0d0887"
             ],
             [
              0.1111111111111111,
              "#46039f"
             ],
             [
              0.2222222222222222,
              "#7201a8"
             ],
             [
              0.3333333333333333,
              "#9c179e"
             ],
             [
              0.4444444444444444,
              "#bd3786"
             ],
             [
              0.5555555555555556,
              "#d8576b"
             ],
             [
              0.6666666666666666,
              "#ed7953"
             ],
             [
              0.7777777777777778,
              "#fb9f3a"
             ],
             [
              0.8888888888888888,
              "#fdca26"
             ],
             [
              1,
              "#f0f921"
             ]
            ],
            "type": "surface"
           }
          ],
          "table": [
           {
            "cells": {
             "fill": {
              "color": "#EBF0F8"
             },
             "line": {
              "color": "white"
             }
            },
            "header": {
             "fill": {
              "color": "#C8D4E3"
             },
             "line": {
              "color": "white"
             }
            },
            "type": "table"
           }
          ]
         },
         "layout": {
          "annotationdefaults": {
           "arrowcolor": "#2a3f5f",
           "arrowhead": 0,
           "arrowwidth": 1
          },
          "autotypenumbers": "strict",
          "coloraxis": {
           "colorbar": {
            "outlinewidth": 0,
            "ticks": ""
           }
          },
          "colorscale": {
           "diverging": [
            [
             0,
             "#8e0152"
            ],
            [
             0.1,
             "#c51b7d"
            ],
            [
             0.2,
             "#de77ae"
            ],
            [
             0.3,
             "#f1b6da"
            ],
            [
             0.4,
             "#fde0ef"
            ],
            [
             0.5,
             "#f7f7f7"
            ],
            [
             0.6,
             "#e6f5d0"
            ],
            [
             0.7,
             "#b8e186"
            ],
            [
             0.8,
             "#7fbc41"
            ],
            [
             0.9,
             "#4d9221"
            ],
            [
             1,
             "#276419"
            ]
           ],
           "sequential": [
            [
             0,
             "#0d0887"
            ],
            [
             0.1111111111111111,
             "#46039f"
            ],
            [
             0.2222222222222222,
             "#7201a8"
            ],
            [
             0.3333333333333333,
             "#9c179e"
            ],
            [
             0.4444444444444444,
             "#bd3786"
            ],
            [
             0.5555555555555556,
             "#d8576b"
            ],
            [
             0.6666666666666666,
             "#ed7953"
            ],
            [
             0.7777777777777778,
             "#fb9f3a"
            ],
            [
             0.8888888888888888,
             "#fdca26"
            ],
            [
             1,
             "#f0f921"
            ]
           ],
           "sequentialminus": [
            [
             0,
             "#0d0887"
            ],
            [
             0.1111111111111111,
             "#46039f"
            ],
            [
             0.2222222222222222,
             "#7201a8"
            ],
            [
             0.3333333333333333,
             "#9c179e"
            ],
            [
             0.4444444444444444,
             "#bd3786"
            ],
            [
             0.5555555555555556,
             "#d8576b"
            ],
            [
             0.6666666666666666,
             "#ed7953"
            ],
            [
             0.7777777777777778,
             "#fb9f3a"
            ],
            [
             0.8888888888888888,
             "#fdca26"
            ],
            [
             1,
             "#f0f921"
            ]
           ]
          },
          "colorway": [
           "#636efa",
           "#EF553B",
           "#00cc96",
           "#ab63fa",
           "#FFA15A",
           "#19d3f3",
           "#FF6692",
           "#B6E880",
           "#FF97FF",
           "#FECB52"
          ],
          "font": {
           "color": "#2a3f5f"
          },
          "geo": {
           "bgcolor": "white",
           "lakecolor": "white",
           "landcolor": "white",
           "showlakes": true,
           "showland": true,
           "subunitcolor": "#C8D4E3"
          },
          "hoverlabel": {
           "align": "left"
          },
          "hovermode": "closest",
          "mapbox": {
           "style": "light"
          },
          "paper_bgcolor": "white",
          "plot_bgcolor": "white",
          "polar": {
           "angularaxis": {
            "gridcolor": "#EBF0F8",
            "linecolor": "#EBF0F8",
            "ticks": ""
           },
           "bgcolor": "white",
           "radialaxis": {
            "gridcolor": "#EBF0F8",
            "linecolor": "#EBF0F8",
            "ticks": ""
           }
          },
          "scene": {
           "xaxis": {
            "backgroundcolor": "white",
            "gridcolor": "#DFE8F3",
            "gridwidth": 2,
            "linecolor": "#EBF0F8",
            "showbackground": true,
            "ticks": "",
            "zerolinecolor": "#EBF0F8"
           },
           "yaxis": {
            "backgroundcolor": "white",
            "gridcolor": "#DFE8F3",
            "gridwidth": 2,
            "linecolor": "#EBF0F8",
            "showbackground": true,
            "ticks": "",
            "zerolinecolor": "#EBF0F8"
           },
           "zaxis": {
            "backgroundcolor": "white",
            "gridcolor": "#DFE8F3",
            "gridwidth": 2,
            "linecolor": "#EBF0F8",
            "showbackground": true,
            "ticks": "",
            "zerolinecolor": "#EBF0F8"
           }
          },
          "shapedefaults": {
           "line": {
            "color": "#2a3f5f"
           }
          },
          "ternary": {
           "aaxis": {
            "gridcolor": "#DFE8F3",
            "linecolor": "#A2B1C6",
            "ticks": ""
           },
           "baxis": {
            "gridcolor": "#DFE8F3",
            "linecolor": "#A2B1C6",
            "ticks": ""
           },
           "bgcolor": "white",
           "caxis": {
            "gridcolor": "#DFE8F3",
            "linecolor": "#A2B1C6",
            "ticks": ""
           }
          },
          "title": {
           "x": 0.05
          },
          "xaxis": {
           "automargin": true,
           "gridcolor": "#EBF0F8",
           "linecolor": "#EBF0F8",
           "ticks": "",
           "title": {
            "standoff": 15
           },
           "zerolinecolor": "#EBF0F8",
           "zerolinewidth": 2
          },
          "yaxis": {
           "automargin": true,
           "gridcolor": "#EBF0F8",
           "linecolor": "#EBF0F8",
           "ticks": "",
           "title": {
            "standoff": 15
           },
           "zerolinecolor": "#EBF0F8",
           "zerolinewidth": 2
          }
         }
        },
        "width": 200
       }
      }
     },
     "metadata": {},
     "output_type": "display_data"
    },
    {
     "data": {
      "application/vnd.plotly.v1+json": {
       "config": {
        "plotlyServerURL": "https://plot.ly"
       },
       "data": [
        {
         "fill": "toself",
         "line": {
          "color": "#8e5ea1",
          "width": 0.5
         },
         "mode": "lines",
         "r": [
          0.75,
          0.7500196248785168,
          0.7500778234338076,
          0.7501735815454824,
          0.7503058850931517,
          0.7504737199564258,
          0.7506760720149149,
          0.7509119271482295,
          0.7511802712359799,
          0.7514800901577762,
          0.7518103697932287,
          0.752170096021948,
          0.752558254723544,
          0.7529738317776272,
          0.7534158130638081,
          0.7538831844616969,
          0.7543749318509037,
          0.754890041111039,
          0.755427498121713,
          0.7559862887625362,
          0.7565653989131186,
          0.7571638144530707,
          0.7577805212620028,
          0.7584145052195251,
          0.7590647522052482,
          0.759730248098782,
          0.760409978779737,
          0.7611029301277236,
          0.7618080880223519,
          0.7625244383432324,
          0.7632509669699753,
          0.7639866597821908,
          0.7647305026594895,
          0.7654814814814814,
          0.7662385821277772,
          0.7670007904779867,
          0.7677670924117205,
          0.7685364738085889,
          0.7693079205482022,
          0.7700804185101705,
          0.7708529535741044,
          0.7716245116196142,
          0.7723940785263099,
          0.773160640173802,
          0.773923182441701,
          0.7746806912096168,
          0.77543215235716,
          0.7761765517639408,
          0.7769128753095695,
          0.7776401088736565,
          0.7783572383358119,
          0.7790632495756463,
          0.7797571284727698,
          0.7804378609067927,
          0.7811044327573253,
          0.7817558299039781,
          0.7823910382263612,
          0.783009043604085,
          0.7836088319167598,
          0.7841893890439957,
          0.7847497008654034,
          0.7852887532605929,
          0.7858055321091746,
          0.7862990232907588,
          0.7867682126849559,
          0.7872120861713761,
          0.7876296296296297,
          0.788019828939327,
          0.7883816699800784,
          0.7887141386314941,
          0.7890162207731845,
          0.7892869022847597,
          0.7895251690458303,
          0.7897300069360064,
          0.7899004018348983,
          0.7900353396221166,
          0.7901338061772712,
          0.7901947873799726,
          0.7902172691098311,
          0.7902002372464572,
          0.7901426776694607,
          0.7900435762584523,
          0.7899019188930423,
          0.789716691452841,
          0.7894868798174584,
          0.7892114698665051,
          0.7888894474795913,
          0.7885197985363275,
          0.7881015089163238,
          0.7876335644991905,
          0.787114951164538,
          0.7865446547919765,
          0.7859216612611165,
          0.7852449564515681,
          0.7845135262429417,
          0.7837263565148476,
          0.782882433146896,
          0.7819807420186974,
          0.781020269009862,
          0.78,
          0.78,
          0.7789193392964437,
          0.7777793649174122,
          0.7765815733088461,
          0.7753274609166866,
          0.7740185241868743,
          0.7726562595653506,
          0.7712421634980559,
          0.7697777324309312,
          0.7682644628099173,
          0.7667038510809555,
          0.7650973936899863,
          0.7634465870829508,
          0.7617529277057896,
          0.7600179120044441,
          0.7582430364248547,
          0.7564297974129623,
          0.7545796914147083,
          0.7526942148760332,
          0.7507748642428778,
          0.7488231359611831,
          0.74684052647689,
          0.7448285322359397,
          0.7427886496842726,
          0.7407223752678298,
          0.7386312054325522,
          0.7365166366243807,
          0.7343801652892562,
          0.7322232878731195,
          0.7300475008219116,
          0.7278543005815733,
          0.7256451835980456,
          0.7234216463172692,
          0.7211851851851853,
          0.7189372966477343,
          0.7166794771508577,
          0.714413223140496,
          0.71214003106259,
          0.7098613973630808,
          0.7075788184879094,
          0.7052937908830165,
          0.7030078109943431,
          0.7007223752678298,
          0.6984389801494179,
          0.6961591220850479,
          0.6938842975206612,
          0.6916160029021982,
          0.6893557346756,
          0.6871049892868074,
          0.6848652631817616,
          0.6826380528064029,
          0.6804248546066728,
          0.6782271650285119,
          0.6760464805178611,
          0.6738842975206611,
          0.6717421124828532,
          0.6696214218503781,
          0.6675237220691767,
          0.6654505095851897,
          0.6634032808443583,
          0.6613835322926233,
          0.6593927603759254,
          0.6574324615402056,
          0.6555041322314049,
          0.6536092688954642,
          0.6517493679783242,
          0.6499259259259259,
          0.6481404391842102,
          0.6463944041991181,
          0.6446893174165902,
          0.6430266752825675,
          0.6414079742429911,
          0.6398347107438016,
          0.6383083812309401,
          0.6368304821503475,
          0.6354025099479645,
          0.6340259610697321,
          0.6327023319615912,
          0.6314331190694826,
          0.6302198188393474,
          0.6290639277171264,
          0.6279669421487604,
          0.6269303585801903,
          0.6259556734573569,
          0.6250443832262014,
          0.6241979843326645,
          0.623417973222687,
          0.62270584634221,
          0.6220631001371743,
          0.6214912310535206,
          0.6209917355371901,
          0.6205661100341235,
          0.6202158509902618,
          0.6199424548515458,
          0.6197474180639164,
          0.6196322370733146,
          0.6195984083256811,
          0.6196474282669568,
          0.619780793343083,
          0.62,
          0.62,
          0.6203059922766075,
          0.6206975045836386,
          0.621172718924785,
          0.6217298173037384,
          0.6223669817241901,
          0.6230823941898322,
          0.6238742367043562,
          0.6247406912714534,
          0.625679939894816,
          0.6266901645781352,
          0.6277695473251029,
          0.6289162701394106,
          0.6301285150247501,
          0.631404463984813,
          0.6327422990232907,
          0.6341402021438752,
          0.635596355350258,
          0.6371089406461308,
          0.638676140035185,
          0.6402961355211126,
          0.6419671091076049,
          0.6436872427983539,
          0.6454547185970511,
          0.6472677185073878,
          0.6491244245330563,
          0.6510230186777478,
          0.6529616829451541,
          0.6549385993389666,
          0.6569519498628773,
          0.6589999165205778,
          0.6610806813157594,
          0.663192426252114,
          0.6653333333333334,
          0.6675015845631088,
          0.6696953619451325,
          0.6719128474830954,
          0.6741522231806897,
          0.6764116710416068,
          0.6786893730695384,
          0.6809835112681761,
          0.6832922676412116,
          0.6856138241923367,
          0.6879463629252427,
          0.6902880658436213,
          0.6926371149511646,
          0.6949916922515637,
          0.6973499797485105,
          0.6997101594456967,
          0.7020704133468137,
          0.7044289234555534,
          0.7067838717756073,
          0.7091334403106672,
          0.7114758110644245,
          0.713809166040571,
          0.7161316872427984,
          0.7184415566747981,
          0.7207369563402621,
          0.7230160682428819,
          0.7252770743863489,
          0.727518156774355,
          0.729737497410592,
          0.7319332782987511,
          0.7341036814425245,
          0.7362468888456033,
          0.7383610825116795,
          0.7404444444444445,
          0.7424951566475901,
          0.744511401124808,
          0.7464913598797897,
          0.7484332149162269,
          0.7503351482378113,
          0.7521953418482343,
          0.7540119777511881,
          0.7557832379503638,
          0.7575073044494531,
          0.759182359252148,
          0.76080658436214,
          0.7623781617831205,
          0.7638952735187813,
          0.7653561015728142,
          0.7667588279489105,
          0.7681016346507623,
          0.7693827036820609,
          0.7706002170464981,
          0.7717523567477653,
          0.7728373047895547,
          0.7738532431755573,
          0.774798353909465,
          0.7756708189949696,
          0.7764688204357627,
          0.7771905402355357,
          0.7778341603979804,
          0.7783978629267886,
          0.7788798298256516,
          0.7792782430982614,
          0.7795912847483095,
          0.7798171367794875,
          0.7799539811954872,
          0.78
         ],
         "theta": [
          0,
          0.6060606060606061,
          1.2121212121212122,
          1.8181818181818183,
          2.4242424242424243,
          3.0303030303030303,
          3.6363636363636367,
          4.242424242424242,
          4.848484848484849,
          5.454545454545455,
          6.0606060606060606,
          6.666666666666667,
          7.272727272727273,
          7.878787878787879,
          8.484848484848484,
          9.090909090909092,
          9.696969696969697,
          10.303030303030303,
          10.90909090909091,
          11.515151515151516,
          12.121212121212121,
          12.727272727272728,
          13.333333333333334,
          13.93939393939394,
          14.545454545454547,
          15.151515151515152,
          15.757575757575758,
          16.363636363636363,
          16.96969696969697,
          17.575757575757578,
          18.181818181818183,
          18.78787878787879,
          19.393939393939394,
          20,
          20.606060606060606,
          21.21212121212121,
          21.81818181818182,
          22.424242424242426,
          23.03030303030303,
          23.636363636363637,
          24.242424242424242,
          24.848484848484848,
          25.454545454545457,
          26.060606060606062,
          26.666666666666668,
          27.272727272727273,
          27.87878787878788,
          28.484848484848484,
          29.090909090909093,
          29.6969696969697,
          30.303030303030305,
          30.90909090909091,
          31.515151515151516,
          32.121212121212125,
          32.72727272727273,
          33.333333333333336,
          33.93939393939394,
          34.54545454545455,
          35.151515151515156,
          35.75757575757576,
          36.36363636363637,
          36.96969696969697,
          37.57575757575758,
          38.18181818181818,
          38.78787878787879,
          39.3939393939394,
          40,
          40.60606060606061,
          41.21212121212121,
          41.81818181818182,
          42.42424242424242,
          43.03030303030303,
          43.63636363636364,
          44.24242424242424,
          44.84848484848485,
          45.45454545454545,
          46.06060606060606,
          46.66666666666667,
          47.27272727272727,
          47.87878787878788,
          48.484848484848484,
          49.09090909090909,
          49.696969696969695,
          50.303030303030305,
          50.909090909090914,
          51.515151515151516,
          52.121212121212125,
          52.72727272727273,
          53.333333333333336,
          53.93939393939394,
          54.54545454545455,
          55.151515151515156,
          55.75757575757576,
          56.36363636363637,
          56.96969696969697,
          57.57575757575758,
          58.18181818181819,
          58.78787878787879,
          59.3939393939394,
          60,
          60,
          60.60606060606061,
          61.21212121212121,
          61.81818181818182,
          62.42424242424242,
          63.03030303030303,
          63.63636363636364,
          64.24242424242425,
          64.84848484848484,
          65.45454545454545,
          66.06060606060606,
          66.66666666666667,
          67.27272727272728,
          67.87878787878788,
          68.48484848484848,
          69.0909090909091,
          69.6969696969697,
          70.3030303030303,
          70.9090909090909,
          71.51515151515152,
          72.12121212121212,
          72.72727272727273,
          73.33333333333333,
          73.93939393939394,
          74.54545454545455,
          75.15151515151516,
          75.75757575757575,
          76.36363636363636,
          76.96969696969697,
          77.57575757575758,
          78.18181818181819,
          78.78787878787878,
          79.39393939393939,
          80,
          80.60606060606061,
          81.21212121212122,
          81.81818181818181,
          82.42424242424242,
          83.03030303030303,
          83.63636363636364,
          84.24242424242425,
          84.84848484848484,
          85.45454545454545,
          86.06060606060606,
          86.66666666666667,
          87.27272727272728,
          87.87878787878788,
          88.48484848484848,
          89.0909090909091,
          89.6969696969697,
          90.30303030303031,
          90.9090909090909,
          91.51515151515152,
          92.12121212121212,
          92.72727272727272,
          93.33333333333334,
          93.93939393939394,
          94.54545454545455,
          95.15151515151516,
          95.75757575757575,
          96.36363636363637,
          96.96969696969697,
          97.57575757575758,
          98.18181818181819,
          98.78787878787878,
          99.3939393939394,
          100,
          100.60606060606061,
          101.21212121212122,
          101.81818181818181,
          102.42424242424242,
          103.03030303030303,
          103.63636363636364,
          104.24242424242425,
          104.84848484848484,
          105.45454545454545,
          106.06060606060606,
          106.66666666666667,
          107.27272727272728,
          107.87878787878788,
          108.48484848484848,
          109.0909090909091,
          109.69696969696969,
          110.30303030303031,
          110.9090909090909,
          111.51515151515152,
          112.12121212121212,
          112.72727272727272,
          113.33333333333334,
          113.93939393939394,
          114.54545454545455,
          115.15151515151516,
          115.75757575757575,
          116.36363636363637,
          116.96969696969697,
          117.57575757575758,
          118.18181818181819,
          118.78787878787878,
          119.3939393939394,
          120,
          120,
          120.60606060606061,
          121.21212121212122,
          121.81818181818181,
          122.42424242424242,
          123.03030303030303,
          123.63636363636364,
          124.24242424242425,
          124.84848484848484,
          125.45454545454545,
          126.06060606060606,
          126.66666666666667,
          127.27272727272728,
          127.87878787878788,
          128.4848484848485,
          129.0909090909091,
          129.6969696969697,
          130.3030303030303,
          130.9090909090909,
          131.5151515151515,
          132.12121212121212,
          132.72727272727272,
          133.33333333333334,
          133.93939393939394,
          134.54545454545456,
          135.15151515151516,
          135.75757575757575,
          136.36363636363637,
          136.96969696969697,
          137.57575757575756,
          138.1818181818182,
          138.78787878787878,
          139.3939393939394,
          140,
          140.6060606060606,
          141.21212121212122,
          141.8181818181818,
          142.42424242424244,
          143.03030303030303,
          143.63636363636363,
          144.24242424242425,
          144.84848484848484,
          145.45454545454547,
          146.06060606060606,
          146.66666666666666,
          147.27272727272728,
          147.87878787878788,
          148.4848484848485,
          149.0909090909091,
          149.6969696969697,
          150.3030303030303,
          150.9090909090909,
          151.5151515151515,
          152.12121212121212,
          152.72727272727272,
          153.33333333333334,
          153.93939393939394,
          154.54545454545456,
          155.15151515151516,
          155.75757575757575,
          156.36363636363637,
          156.96969696969697,
          157.57575757575756,
          158.1818181818182,
          158.78787878787878,
          159.3939393939394,
          160,
          160.60606060606062,
          161.21212121212122,
          161.8181818181818,
          162.42424242424244,
          163.03030303030303,
          163.63636363636363,
          164.24242424242425,
          164.84848484848484,
          165.45454545454544,
          166.06060606060606,
          166.66666666666669,
          167.27272727272728,
          167.87878787878788,
          168.4848484848485,
          169.0909090909091,
          169.6969696969697,
          170.3030303030303,
          170.9090909090909,
          171.5151515151515,
          172.12121212121212,
          172.72727272727272,
          173.33333333333334,
          173.93939393939394,
          174.54545454545456,
          175.15151515151516,
          175.75757575757575,
          176.36363636363637,
          176.96969696969697,
          177.57575757575756,
          178.1818181818182,
          178.78787878787878,
          179.3939393939394,
          180
         ],
         "type": "scatterpolar"
        },
        {
         "marker": {
          "color": "#8e5ea1",
          "size": 4
         },
         "mode": "markers",
         "r": [
          0.75,
          0.78,
          0.62,
          0.78
         ],
         "theta": [
          0,
          60,
          120,
          180
         ],
         "type": "scatterpolar"
        },
        {
         "mode": "text",
         "r": [
          0.85,
          0.8300000000000001,
          0.67,
          0.88
         ],
         "text": [
          "75%",
          "78%",
          "62%",
          "78%"
         ],
         "textfont": {
          "color": "#8e5ea1"
         },
         "textposition": "middle left",
         "theta": [
          0,
          60,
          120,
          180
         ],
         "type": "scatterpolar"
        }
       ],
       "layout": {
        "height": 280,
        "margin": {
         "b": 20,
         "l": 50,
         "r": 32,
         "t": 20
        },
        "polar": {
         "angularaxis": {
          "direction": "counterclockwise",
          "gridcolor": "#ddd",
          "gridwidth": 2,
          "rotation": 90,
          "showline": false,
          "tickfont": {
           "size": 13
          },
          "ticktext": [
           "     <b>Precision</b>     ",
           "<b>Avg. Pr.</b>",
           "<b>IoU</b>",
           "     <b>Recall</b>     "
          ],
          "tickvals": [
           0,
           60,
           120,
           180
          ]
         },
         "radialaxis": {
          "angle": 90,
          "range": [
           0,
           1.15
          ],
          "showline": false,
          "showticklabels": false,
          "tickvals": [
           0,
           0.2,
           0.4,
           0.6,
           0.8,
           1
          ]
         },
         "sector": [
          90,
          270
         ]
        },
        "showlegend": false,
        "template": {
         "data": {
          "bar": [
           {
            "error_x": {
             "color": "#2a3f5f"
            },
            "error_y": {
             "color": "#2a3f5f"
            },
            "marker": {
             "line": {
              "color": "white",
              "width": 0.5
             },
             "pattern": {
              "fillmode": "overlay",
              "size": 10,
              "solidity": 0.2
             }
            },
            "type": "bar"
           }
          ],
          "barpolar": [
           {
            "marker": {
             "line": {
              "color": "white",
              "width": 0.5
             },
             "pattern": {
              "fillmode": "overlay",
              "size": 10,
              "solidity": 0.2
             }
            },
            "type": "barpolar"
           }
          ],
          "carpet": [
           {
            "aaxis": {
             "endlinecolor": "#2a3f5f",
             "gridcolor": "#C8D4E3",
             "linecolor": "#C8D4E3",
             "minorgridcolor": "#C8D4E3",
             "startlinecolor": "#2a3f5f"
            },
            "baxis": {
             "endlinecolor": "#2a3f5f",
             "gridcolor": "#C8D4E3",
             "linecolor": "#C8D4E3",
             "minorgridcolor": "#C8D4E3",
             "startlinecolor": "#2a3f5f"
            },
            "type": "carpet"
           }
          ],
          "choropleth": [
           {
            "colorbar": {
             "outlinewidth": 0,
             "ticks": ""
            },
            "type": "choropleth"
           }
          ],
          "contour": [
           {
            "colorbar": {
             "outlinewidth": 0,
             "ticks": ""
            },
            "colorscale": [
             [
              0,
              "#0d0887"
             ],
             [
              0.1111111111111111,
              "#46039f"
             ],
             [
              0.2222222222222222,
              "#7201a8"
             ],
             [
              0.3333333333333333,
              "#9c179e"
             ],
             [
              0.4444444444444444,
              "#bd3786"
             ],
             [
              0.5555555555555556,
              "#d8576b"
             ],
             [
              0.6666666666666666,
              "#ed7953"
             ],
             [
              0.7777777777777778,
              "#fb9f3a"
             ],
             [
              0.8888888888888888,
              "#fdca26"
             ],
             [
              1,
              "#f0f921"
             ]
            ],
            "type": "contour"
           }
          ],
          "contourcarpet": [
           {
            "colorbar": {
             "outlinewidth": 0,
             "ticks": ""
            },
            "type": "contourcarpet"
           }
          ],
          "heatmap": [
           {
            "colorbar": {
             "outlinewidth": 0,
             "ticks": ""
            },
            "colorscale": [
             [
              0,
              "#0d0887"
             ],
             [
              0.1111111111111111,
              "#46039f"
             ],
             [
              0.2222222222222222,
              "#7201a8"
             ],
             [
              0.3333333333333333,
              "#9c179e"
             ],
             [
              0.4444444444444444,
              "#bd3786"
             ],
             [
              0.5555555555555556,
              "#d8576b"
             ],
             [
              0.6666666666666666,
              "#ed7953"
             ],
             [
              0.7777777777777778,
              "#fb9f3a"
             ],
             [
              0.8888888888888888,
              "#fdca26"
             ],
             [
              1,
              "#f0f921"
             ]
            ],
            "type": "heatmap"
           }
          ],
          "heatmapgl": [
           {
            "colorbar": {
             "outlinewidth": 0,
             "ticks": ""
            },
            "colorscale": [
             [
              0,
              "#0d0887"
             ],
             [
              0.1111111111111111,
              "#46039f"
             ],
             [
              0.2222222222222222,
              "#7201a8"
             ],
             [
              0.3333333333333333,
              "#9c179e"
             ],
             [
              0.4444444444444444,
              "#bd3786"
             ],
             [
              0.5555555555555556,
              "#d8576b"
             ],
             [
              0.6666666666666666,
              "#ed7953"
             ],
             [
              0.7777777777777778,
              "#fb9f3a"
             ],
             [
              0.8888888888888888,
              "#fdca26"
             ],
             [
              1,
              "#f0f921"
             ]
            ],
            "type": "heatmapgl"
           }
          ],
          "histogram": [
           {
            "marker": {
             "pattern": {
              "fillmode": "overlay",
              "size": 10,
              "solidity": 0.2
             }
            },
            "type": "histogram"
           }
          ],
          "histogram2d": [
           {
            "colorbar": {
             "outlinewidth": 0,
             "ticks": ""
            },
            "colorscale": [
             [
              0,
              "#0d0887"
             ],
             [
              0.1111111111111111,
              "#46039f"
             ],
             [
              0.2222222222222222,
              "#7201a8"
             ],
             [
              0.3333333333333333,
              "#9c179e"
             ],
             [
              0.4444444444444444,
              "#bd3786"
             ],
             [
              0.5555555555555556,
              "#d8576b"
             ],
             [
              0.6666666666666666,
              "#ed7953"
             ],
             [
              0.7777777777777778,
              "#fb9f3a"
             ],
             [
              0.8888888888888888,
              "#fdca26"
             ],
             [
              1,
              "#f0f921"
             ]
            ],
            "type": "histogram2d"
           }
          ],
          "histogram2dcontour": [
           {
            "colorbar": {
             "outlinewidth": 0,
             "ticks": ""
            },
            "colorscale": [
             [
              0,
              "#0d0887"
             ],
             [
              0.1111111111111111,
              "#46039f"
             ],
             [
              0.2222222222222222,
              "#7201a8"
             ],
             [
              0.3333333333333333,
              "#9c179e"
             ],
             [
              0.4444444444444444,
              "#bd3786"
             ],
             [
              0.5555555555555556,
              "#d8576b"
             ],
             [
              0.6666666666666666,
              "#ed7953"
             ],
             [
              0.7777777777777778,
              "#fb9f3a"
             ],
             [
              0.8888888888888888,
              "#fdca26"
             ],
             [
              1,
              "#f0f921"
             ]
            ],
            "type": "histogram2dcontour"
           }
          ],
          "mesh3d": [
           {
            "colorbar": {
             "outlinewidth": 0,
             "ticks": ""
            },
            "type": "mesh3d"
           }
          ],
          "parcoords": [
           {
            "line": {
             "colorbar": {
              "outlinewidth": 0,
              "ticks": ""
             }
            },
            "type": "parcoords"
           }
          ],
          "pie": [
           {
            "automargin": true,
            "type": "pie"
           }
          ],
          "scatter": [
           {
            "fillpattern": {
             "fillmode": "overlay",
             "size": 10,
             "solidity": 0.2
            },
            "type": "scatter"
           }
          ],
          "scatter3d": [
           {
            "line": {
             "colorbar": {
              "outlinewidth": 0,
              "ticks": ""
             }
            },
            "marker": {
             "colorbar": {
              "outlinewidth": 0,
              "ticks": ""
             }
            },
            "type": "scatter3d"
           }
          ],
          "scattercarpet": [
           {
            "marker": {
             "colorbar": {
              "outlinewidth": 0,
              "ticks": ""
             }
            },
            "type": "scattercarpet"
           }
          ],
          "scattergeo": [
           {
            "marker": {
             "colorbar": {
              "outlinewidth": 0,
              "ticks": ""
             }
            },
            "type": "scattergeo"
           }
          ],
          "scattergl": [
           {
            "marker": {
             "colorbar": {
              "outlinewidth": 0,
              "ticks": ""
             }
            },
            "type": "scattergl"
           }
          ],
          "scattermapbox": [
           {
            "marker": {
             "colorbar": {
              "outlinewidth": 0,
              "ticks": ""
             }
            },
            "type": "scattermapbox"
           }
          ],
          "scatterpolar": [
           {
            "marker": {
             "colorbar": {
              "outlinewidth": 0,
              "ticks": ""
             }
            },
            "type": "scatterpolar"
           }
          ],
          "scatterpolargl": [
           {
            "marker": {
             "colorbar": {
              "outlinewidth": 0,
              "ticks": ""
             }
            },
            "type": "scatterpolargl"
           }
          ],
          "scatterternary": [
           {
            "marker": {
             "colorbar": {
              "outlinewidth": 0,
              "ticks": ""
             }
            },
            "type": "scatterternary"
           }
          ],
          "surface": [
           {
            "colorbar": {
             "outlinewidth": 0,
             "ticks": ""
            },
            "colorscale": [
             [
              0,
              "#0d0887"
             ],
             [
              0.1111111111111111,
              "#46039f"
             ],
             [
              0.2222222222222222,
              "#7201a8"
             ],
             [
              0.3333333333333333,
              "#9c179e"
             ],
             [
              0.4444444444444444,
              "#bd3786"
             ],
             [
              0.5555555555555556,
              "#d8576b"
             ],
             [
              0.6666666666666666,
              "#ed7953"
             ],
             [
              0.7777777777777778,
              "#fb9f3a"
             ],
             [
              0.8888888888888888,
              "#fdca26"
             ],
             [
              1,
              "#f0f921"
             ]
            ],
            "type": "surface"
           }
          ],
          "table": [
           {
            "cells": {
             "fill": {
              "color": "#EBF0F8"
             },
             "line": {
              "color": "white"
             }
            },
            "header": {
             "fill": {
              "color": "#C8D4E3"
             },
             "line": {
              "color": "white"
             }
            },
            "type": "table"
           }
          ]
         },
         "layout": {
          "annotationdefaults": {
           "arrowcolor": "#2a3f5f",
           "arrowhead": 0,
           "arrowwidth": 1
          },
          "autotypenumbers": "strict",
          "coloraxis": {
           "colorbar": {
            "outlinewidth": 0,
            "ticks": ""
           }
          },
          "colorscale": {
           "diverging": [
            [
             0,
             "#8e0152"
            ],
            [
             0.1,
             "#c51b7d"
            ],
            [
             0.2,
             "#de77ae"
            ],
            [
             0.3,
             "#f1b6da"
            ],
            [
             0.4,
             "#fde0ef"
            ],
            [
             0.5,
             "#f7f7f7"
            ],
            [
             0.6,
             "#e6f5d0"
            ],
            [
             0.7,
             "#b8e186"
            ],
            [
             0.8,
             "#7fbc41"
            ],
            [
             0.9,
             "#4d9221"
            ],
            [
             1,
             "#276419"
            ]
           ],
           "sequential": [
            [
             0,
             "#0d0887"
            ],
            [
             0.1111111111111111,
             "#46039f"
            ],
            [
             0.2222222222222222,
             "#7201a8"
            ],
            [
             0.3333333333333333,
             "#9c179e"
            ],
            [
             0.4444444444444444,
             "#bd3786"
            ],
            [
             0.5555555555555556,
             "#d8576b"
            ],
            [
             0.6666666666666666,
             "#ed7953"
            ],
            [
             0.7777777777777778,
             "#fb9f3a"
            ],
            [
             0.8888888888888888,
             "#fdca26"
            ],
            [
             1,
             "#f0f921"
            ]
           ],
           "sequentialminus": [
            [
             0,
             "#0d0887"
            ],
            [
             0.1111111111111111,
             "#46039f"
            ],
            [
             0.2222222222222222,
             "#7201a8"
            ],
            [
             0.3333333333333333,
             "#9c179e"
            ],
            [
             0.4444444444444444,
             "#bd3786"
            ],
            [
             0.5555555555555556,
             "#d8576b"
            ],
            [
             0.6666666666666666,
             "#ed7953"
            ],
            [
             0.7777777777777778,
             "#fb9f3a"
            ],
            [
             0.8888888888888888,
             "#fdca26"
            ],
            [
             1,
             "#f0f921"
            ]
           ]
          },
          "colorway": [
           "#636efa",
           "#EF553B",
           "#00cc96",
           "#ab63fa",
           "#FFA15A",
           "#19d3f3",
           "#FF6692",
           "#B6E880",
           "#FF97FF",
           "#FECB52"
          ],
          "font": {
           "color": "#2a3f5f"
          },
          "geo": {
           "bgcolor": "white",
           "lakecolor": "white",
           "landcolor": "white",
           "showlakes": true,
           "showland": true,
           "subunitcolor": "#C8D4E3"
          },
          "hoverlabel": {
           "align": "left"
          },
          "hovermode": "closest",
          "mapbox": {
           "style": "light"
          },
          "paper_bgcolor": "white",
          "plot_bgcolor": "white",
          "polar": {
           "angularaxis": {
            "gridcolor": "#EBF0F8",
            "linecolor": "#EBF0F8",
            "ticks": ""
           },
           "bgcolor": "white",
           "radialaxis": {
            "gridcolor": "#EBF0F8",
            "linecolor": "#EBF0F8",
            "ticks": ""
           }
          },
          "scene": {
           "xaxis": {
            "backgroundcolor": "white",
            "gridcolor": "#DFE8F3",
            "gridwidth": 2,
            "linecolor": "#EBF0F8",
            "showbackground": true,
            "ticks": "",
            "zerolinecolor": "#EBF0F8"
           },
           "yaxis": {
            "backgroundcolor": "white",
            "gridcolor": "#DFE8F3",
            "gridwidth": 2,
            "linecolor": "#EBF0F8",
            "showbackground": true,
            "ticks": "",
            "zerolinecolor": "#EBF0F8"
           },
           "zaxis": {
            "backgroundcolor": "white",
            "gridcolor": "#DFE8F3",
            "gridwidth": 2,
            "linecolor": "#EBF0F8",
            "showbackground": true,
            "ticks": "",
            "zerolinecolor": "#EBF0F8"
           }
          },
          "shapedefaults": {
           "line": {
            "color": "#2a3f5f"
           }
          },
          "ternary": {
           "aaxis": {
            "gridcolor": "#DFE8F3",
            "linecolor": "#A2B1C6",
            "ticks": ""
           },
           "baxis": {
            "gridcolor": "#DFE8F3",
            "linecolor": "#A2B1C6",
            "ticks": ""
           },
           "bgcolor": "white",
           "caxis": {
            "gridcolor": "#DFE8F3",
            "linecolor": "#A2B1C6",
            "ticks": ""
           }
          },
          "title": {
           "x": 0.05
          },
          "xaxis": {
           "automargin": true,
           "gridcolor": "#EBF0F8",
           "linecolor": "#EBF0F8",
           "ticks": "",
           "title": {
            "standoff": 15
           },
           "zerolinecolor": "#EBF0F8",
           "zerolinewidth": 2
          },
          "yaxis": {
           "automargin": true,
           "gridcolor": "#EBF0F8",
           "linecolor": "#EBF0F8",
           "ticks": "",
           "title": {
            "standoff": 15
           },
           "zerolinecolor": "#EBF0F8",
           "zerolinewidth": 2
          }
         }
        },
        "width": 200
       }
      }
     },
     "metadata": {},
     "output_type": "display_data"
    },
    {
     "data": {
      "application/vnd.plotly.v1+json": {
       "config": {
        "plotlyServerURL": "https://plot.ly"
       },
       "data": [
        {
         "fill": "toself",
         "line": {
          "color": "#14597e",
          "width": 0.5
         },
         "mode": "lines",
         "r": [
          0.87,
          0.8700084736766709,
          0.8700335071972659,
          0.8700745192976598,
          0.8701309287137263,
          0.87020215418134,
          0.8702876144363747,
          0.870386728214705,
          0.8704989142522047,
          0.8706235912847483,
          0.8707601780482098,
          0.8709080932784636,
          0.8710667557113837,
          0.8712355840828445,
          0.87141399712872,
          0.8716014135848847,
          0.8717972521872124,
          0.8720009316715774,
          0.8722118707738542,
          0.8724294882299167,
          0.8726532027756392,
          0.872882433146896,
          0.873116598079561,
          0.8733551163095087,
          0.8735974065726132,
          0.8738428876047486,
          0.8740909781417893,
          0.8743410969196094,
          0.8745926626740829,
          0.8748450941410844,
          0.8750978100564877,
          0.8753502291561673,
          0.8756017701759973,
          0.8758518518518518,
          0.8760998929196052,
          0.8763453121151316,
          0.876587528174305,
          0.8768259598329999,
          0.8770600258270904,
          0.8772891448924507,
          0.8775127357649549,
          0.8777302171804773,
          0.8779410078748922,
          0.8781445265840735,
          0.8783401920438958,
          0.8785274229902329,
          0.8787056381589593,
          0.878874256285949,
          0.8790326961070762,
          0.8791803763582153,
          0.8793167157752404,
          0.8794411330940256,
          0.8795530470504453,
          0.8796518763803735,
          0.8797370398196844,
          0.8798079561042523,
          0.8798640439699515,
          0.879904722152656,
          0.87992940938824,
          0.879937524412578,
          0.8799284859615437,
          0.8799017127710118,
          0.8798566235768562,
          0.8797926371149511,
          0.879709172121171,
          0.8796056473313896,
          0.8794814814814815,
          0.8793360933073208,
          0.8791689015447816,
          0.8789793249297381,
          0.8787667821980646,
          0.8785306920856354,
          0.8782704733283245,
          0.8779855446620062,
          0.8776753248225546,
          0.8773392325458441,
          0.8769766865677486,
          0.8765871056241425,
          0.8761699084509001,
          0.8757245137838954,
          0.8752503403590027,
          0.874746806912096,
          0.87421333217905,
          0.8736493348957383,
          0.8730542337980354,
          0.8724274476218155,
          0.8717683951029528,
          0.8710764949773213,
          0.8703511659807955,
          0.8695918268492495,
          0.8687978963185575,
          0.8679687931245935,
          0.8671039360032319,
          0.8662027436903469,
          0.8652646349218127,
          0.8642890284335034,
          0.8632753429612934,
          0.8622229972410566,
          0.8611314100086673,
          0.86,
          0.86,
          0.8588284497871275,
          0.8576174972869187,
          0.8563681442524418,
          0.8550813924367644,
          0.8537582435929544,
          0.8523996994740797,
          0.8510067618332081,
          0.8495804324234075,
          0.8481217129977461,
          0.8466316053092913,
          0.845111111111111,
          0.8435612321562735,
          0.8419829701978462,
          0.8403773269888972,
          0.8387453042824943,
          0.8370879038317055,
          0.8354061273895984,
          0.8337009767092413,
          0.8319734535437013,
          0.8302245596460471,
          0.8284552967693464,
          0.8266666666666667,
          0.8248596710910762,
          0.8230353117956423,
          0.8211945905334335,
          0.8193385090575173,
          0.8174680691209617,
          0.8155842724768344,
          0.8136881208782035,
          0.8117806160781367,
          0.809862759829702,
          0.807935553885967,
          0.8059999999999999,
          0.8040570999248685,
          0.8021078554136406,
          0.8001532682193838,
          0.7981943400951664,
          0.7962320727940563,
          0.794267468069121,
          0.7923015276734284,
          0.7903352533600467,
          0.7883696468820435,
          0.7864057099924868,
          0.7844444444444444,
          0.7824868519909842,
          0.780533934385174,
          0.7785866933800818,
          0.7766461307287753,
          0.7747132481843225,
          0.7727890474997913,
          0.7708745304282494,
          0.7689706987227648,
          0.7670785541364052,
          0.7651990984222389,
          0.7633333333333333,
          0.7614822606227565,
          0.7596468820435762,
          0.7578281993488605,
          0.7560272142916771,
          0.7542449286250938,
          0.7524823441021786,
          0.7507404624759996,
          0.7490202854996243,
          0.7473228149261206,
          0.7456490525085565,
          0.744,
          0.7423766591535186,
          0.7407800317221804,
          0.7392111194590534,
          0.737670924117205,
          0.7361604474497037,
          0.7346806912096168,
          0.7332326571500125,
          0.7318173470239586,
          0.7304357625845228,
          0.7290889055847734,
          0.7277777777777777,
          0.7265033809166039,
          0.7252667167543201,
          0.7240687870439937,
          0.7229105935386928,
          0.721793137991485,
          0.7207174221554387,
          0.7196844477836213,
          0.718695216629101,
          0.7177507304449452,
          0.7168519909842223,
          0.716,
          0.715195759245346,
          0.7144402704733284,
          0.7137345354370146,
          0.7130795558894732,
          0.7124763335837716,
          0.7119258702729777,
          0.7114291677101594,
          0.7109872276483846,
          0.7106010518407212,
          0.7102716420402371,
          0.71,
          0.71,
          0.7097867708819652,
          0.7096311734836375,
          0.7095320700114088,
          0.7094883226716714,
          0.7094987936708169,
          0.7095623452152376,
          0.7096778395113259,
          0.7098441387654733,
          0.7100601051840721,
          0.7103246009735142,
          0.710636488340192,
          0.7109946294904973,
          0.711397886630822,
          0.7118451219675584,
          0.7123351977070985,
          0.7128669760558344,
          0.7134393192201579,
          0.7140510894064612,
          0.7147011488211364,
          0.7153883596705757,
          0.7161115841611709,
          0.7168696844993141,
          0.7176615228913973,
          0.7184859615438127,
          0.7193418626629523,
          0.7202280884552081,
          0.7211435011269722,
          0.7220869628846366,
          0.7230573359345933,
          0.7240534824832345,
          0.7250742647369521,
          0.7261185449021385,
          0.7271851851851852,
          0.7282730477924845,
          0.7293809949304287,
          0.7305078888054095,
          0.731652591623819,
          0.7328139655920494,
          0.7339908729164928,
          0.7351821758035411,
          0.7363867364595861,
          0.7376034170910204,
          0.7388310799042356,
          0.7400685871056242,
          0.7413148009015779,
          0.7425685834984885,
          0.7438287971027487,
          0.7450943039207502,
          0.746363966158885,
          0.7476366460235453,
          0.748911205721123,
          0.7501865074580103,
          0.7514614134405994,
          0.7527347858752818,
          0.75400548696845,
          0.7552723789264958,
          0.7565343239558115,
          0.7577901842627891,
          0.7590388220538206,
          0.7602790995352979,
          0.7615098789136132,
          0.7627300223951586,
          0.7639383921863261,
          0.7651338504935077,
          0.7663152595230955,
          0.7674814814814815,
          0.7686313785750579,
          0.7697638130102165,
          0.7708776469933495,
          0.7719717427308489,
          0.7730449624291068,
          0.7740961682945154,
          0.7751242225334666,
          0.7761279873523522,
          0.7771063249575646,
          0.7780580975554958,
          0.7789821673525379,
          0.7798773965550825,
          0.7807426473695223,
          0.7815767820022488,
          0.7823786626596544,
          0.7831471515481311,
          0.7838811108740708,
          0.7845794028438656,
          0.7852408896639078,
          0.7858644335405891,
          0.7864488966803016,
          0.7869931412894376,
          0.7874960295743889,
          0.7879564237415478,
          0.788373185997306,
          0.7887451785480558,
          0.7890712636001892,
          0.7893503033600984,
          0.7895811600341751,
          0.7897626958288115,
          0.7898937729503998,
          0.789973253605332,
          0.79
         ],
         "theta": [
          0,
          0.6060606060606061,
          1.2121212121212122,
          1.8181818181818183,
          2.4242424242424243,
          3.0303030303030303,
          3.6363636363636367,
          4.242424242424242,
          4.848484848484849,
          5.454545454545455,
          6.0606060606060606,
          6.666666666666667,
          7.272727272727273,
          7.878787878787879,
          8.484848484848484,
          9.090909090909092,
          9.696969696969697,
          10.303030303030303,
          10.90909090909091,
          11.515151515151516,
          12.121212121212121,
          12.727272727272728,
          13.333333333333334,
          13.93939393939394,
          14.545454545454547,
          15.151515151515152,
          15.757575757575758,
          16.363636363636363,
          16.96969696969697,
          17.575757575757578,
          18.181818181818183,
          18.78787878787879,
          19.393939393939394,
          20,
          20.606060606060606,
          21.21212121212121,
          21.81818181818182,
          22.424242424242426,
          23.03030303030303,
          23.636363636363637,
          24.242424242424242,
          24.848484848484848,
          25.454545454545457,
          26.060606060606062,
          26.666666666666668,
          27.272727272727273,
          27.87878787878788,
          28.484848484848484,
          29.090909090909093,
          29.6969696969697,
          30.303030303030305,
          30.90909090909091,
          31.515151515151516,
          32.121212121212125,
          32.72727272727273,
          33.333333333333336,
          33.93939393939394,
          34.54545454545455,
          35.151515151515156,
          35.75757575757576,
          36.36363636363637,
          36.96969696969697,
          37.57575757575758,
          38.18181818181818,
          38.78787878787879,
          39.3939393939394,
          40,
          40.60606060606061,
          41.21212121212121,
          41.81818181818182,
          42.42424242424242,
          43.03030303030303,
          43.63636363636364,
          44.24242424242424,
          44.84848484848485,
          45.45454545454545,
          46.06060606060606,
          46.66666666666667,
          47.27272727272727,
          47.87878787878788,
          48.484848484848484,
          49.09090909090909,
          49.696969696969695,
          50.303030303030305,
          50.909090909090914,
          51.515151515151516,
          52.121212121212125,
          52.72727272727273,
          53.333333333333336,
          53.93939393939394,
          54.54545454545455,
          55.151515151515156,
          55.75757575757576,
          56.36363636363637,
          56.96969696969697,
          57.57575757575758,
          58.18181818181819,
          58.78787878787879,
          59.3939393939394,
          60,
          60,
          60.60606060606061,
          61.21212121212121,
          61.81818181818182,
          62.42424242424242,
          63.03030303030303,
          63.63636363636364,
          64.24242424242425,
          64.84848484848484,
          65.45454545454545,
          66.06060606060606,
          66.66666666666667,
          67.27272727272728,
          67.87878787878788,
          68.48484848484848,
          69.0909090909091,
          69.6969696969697,
          70.3030303030303,
          70.9090909090909,
          71.51515151515152,
          72.12121212121212,
          72.72727272727273,
          73.33333333333333,
          73.93939393939394,
          74.54545454545455,
          75.15151515151516,
          75.75757575757575,
          76.36363636363636,
          76.96969696969697,
          77.57575757575758,
          78.18181818181819,
          78.78787878787878,
          79.39393939393939,
          80,
          80.60606060606061,
          81.21212121212122,
          81.81818181818181,
          82.42424242424242,
          83.03030303030303,
          83.63636363636364,
          84.24242424242425,
          84.84848484848484,
          85.45454545454545,
          86.06060606060606,
          86.66666666666667,
          87.27272727272728,
          87.87878787878788,
          88.48484848484848,
          89.0909090909091,
          89.6969696969697,
          90.30303030303031,
          90.9090909090909,
          91.51515151515152,
          92.12121212121212,
          92.72727272727272,
          93.33333333333334,
          93.93939393939394,
          94.54545454545455,
          95.15151515151516,
          95.75757575757575,
          96.36363636363637,
          96.96969696969697,
          97.57575757575758,
          98.18181818181819,
          98.78787878787878,
          99.3939393939394,
          100,
          100.60606060606061,
          101.21212121212122,
          101.81818181818181,
          102.42424242424242,
          103.03030303030303,
          103.63636363636364,
          104.24242424242425,
          104.84848484848484,
          105.45454545454545,
          106.06060606060606,
          106.66666666666667,
          107.27272727272728,
          107.87878787878788,
          108.48484848484848,
          109.0909090909091,
          109.69696969696969,
          110.30303030303031,
          110.9090909090909,
          111.51515151515152,
          112.12121212121212,
          112.72727272727272,
          113.33333333333334,
          113.93939393939394,
          114.54545454545455,
          115.15151515151516,
          115.75757575757575,
          116.36363636363637,
          116.96969696969697,
          117.57575757575758,
          118.18181818181819,
          118.78787878787878,
          119.3939393939394,
          120,
          120,
          120.60606060606061,
          121.21212121212122,
          121.81818181818181,
          122.42424242424242,
          123.03030303030303,
          123.63636363636364,
          124.24242424242425,
          124.84848484848484,
          125.45454545454545,
          126.06060606060606,
          126.66666666666667,
          127.27272727272728,
          127.87878787878788,
          128.4848484848485,
          129.0909090909091,
          129.6969696969697,
          130.3030303030303,
          130.9090909090909,
          131.5151515151515,
          132.12121212121212,
          132.72727272727272,
          133.33333333333334,
          133.93939393939394,
          134.54545454545456,
          135.15151515151516,
          135.75757575757575,
          136.36363636363637,
          136.96969696969697,
          137.57575757575756,
          138.1818181818182,
          138.78787878787878,
          139.3939393939394,
          140,
          140.6060606060606,
          141.21212121212122,
          141.8181818181818,
          142.42424242424244,
          143.03030303030303,
          143.63636363636363,
          144.24242424242425,
          144.84848484848484,
          145.45454545454547,
          146.06060606060606,
          146.66666666666666,
          147.27272727272728,
          147.87878787878788,
          148.4848484848485,
          149.0909090909091,
          149.6969696969697,
          150.3030303030303,
          150.9090909090909,
          151.5151515151515,
          152.12121212121212,
          152.72727272727272,
          153.33333333333334,
          153.93939393939394,
          154.54545454545456,
          155.15151515151516,
          155.75757575757575,
          156.36363636363637,
          156.96969696969697,
          157.57575757575756,
          158.1818181818182,
          158.78787878787878,
          159.3939393939394,
          160,
          160.60606060606062,
          161.21212121212122,
          161.8181818181818,
          162.42424242424244,
          163.03030303030303,
          163.63636363636363,
          164.24242424242425,
          164.84848484848484,
          165.45454545454544,
          166.06060606060606,
          166.66666666666669,
          167.27272727272728,
          167.87878787878788,
          168.4848484848485,
          169.0909090909091,
          169.6969696969697,
          170.3030303030303,
          170.9090909090909,
          171.5151515151515,
          172.12121212121212,
          172.72727272727272,
          173.33333333333334,
          173.93939393939394,
          174.54545454545456,
          175.15151515151516,
          175.75757575757575,
          176.36363636363637,
          176.96969696969697,
          177.57575757575756,
          178.1818181818182,
          178.78787878787878,
          179.3939393939394,
          180
         ],
         "type": "scatterpolar"
        },
        {
         "marker": {
          "color": "#14597e",
          "size": 4
         },
         "mode": "markers",
         "r": [
          0.87,
          0.86,
          0.71,
          0.79
         ],
         "theta": [
          0,
          60,
          120,
          180
         ],
         "type": "scatterpolar"
        },
        {
         "mode": "text",
         "r": [
          0.97,
          0.91,
          0.76,
          0.89
         ],
         "text": [
          "87%",
          "86%",
          "71%",
          "79%"
         ],
         "textfont": {
          "color": "#14597e"
         },
         "textposition": "middle right",
         "theta": [
          0,
          60,
          120,
          180
         ],
         "type": "scatterpolar"
        }
       ],
       "layout": {
        "height": 280,
        "margin": {
         "b": 20,
         "l": 32,
         "r": 50,
         "t": 20
        },
        "polar": {
         "angularaxis": {
          "direction": "clockwise",
          "gridcolor": "#ddd",
          "gridwidth": 2,
          "rotation": 90,
          "showline": false,
          "tickfont": {
           "size": 13
          },
          "ticktext": [
           "     <b>Precision</b>     ",
           "<b>Avg. Pr.</b>",
           "<b>IoU</b>",
           "     <b>Recall</b>     "
          ],
          "tickvals": [
           0,
           60,
           120,
           180
          ]
         },
         "radialaxis": {
          "angle": -90,
          "range": [
           0,
           1.15
          ],
          "showline": false,
          "showticklabels": false,
          "tickvals": [
           0,
           0.2,
           0.4,
           0.6,
           0.8,
           1
          ]
         },
         "sector": [
          -90,
          90
         ]
        },
        "showlegend": false,
        "template": {
         "data": {
          "bar": [
           {
            "error_x": {
             "color": "#2a3f5f"
            },
            "error_y": {
             "color": "#2a3f5f"
            },
            "marker": {
             "line": {
              "color": "white",
              "width": 0.5
             },
             "pattern": {
              "fillmode": "overlay",
              "size": 10,
              "solidity": 0.2
             }
            },
            "type": "bar"
           }
          ],
          "barpolar": [
           {
            "marker": {
             "line": {
              "color": "white",
              "width": 0.5
             },
             "pattern": {
              "fillmode": "overlay",
              "size": 10,
              "solidity": 0.2
             }
            },
            "type": "barpolar"
           }
          ],
          "carpet": [
           {
            "aaxis": {
             "endlinecolor": "#2a3f5f",
             "gridcolor": "#C8D4E3",
             "linecolor": "#C8D4E3",
             "minorgridcolor": "#C8D4E3",
             "startlinecolor": "#2a3f5f"
            },
            "baxis": {
             "endlinecolor": "#2a3f5f",
             "gridcolor": "#C8D4E3",
             "linecolor": "#C8D4E3",
             "minorgridcolor": "#C8D4E3",
             "startlinecolor": "#2a3f5f"
            },
            "type": "carpet"
           }
          ],
          "choropleth": [
           {
            "colorbar": {
             "outlinewidth": 0,
             "ticks": ""
            },
            "type": "choropleth"
           }
          ],
          "contour": [
           {
            "colorbar": {
             "outlinewidth": 0,
             "ticks": ""
            },
            "colorscale": [
             [
              0,
              "#0d0887"
             ],
             [
              0.1111111111111111,
              "#46039f"
             ],
             [
              0.2222222222222222,
              "#7201a8"
             ],
             [
              0.3333333333333333,
              "#9c179e"
             ],
             [
              0.4444444444444444,
              "#bd3786"
             ],
             [
              0.5555555555555556,
              "#d8576b"
             ],
             [
              0.6666666666666666,
              "#ed7953"
             ],
             [
              0.7777777777777778,
              "#fb9f3a"
             ],
             [
              0.8888888888888888,
              "#fdca26"
             ],
             [
              1,
              "#f0f921"
             ]
            ],
            "type": "contour"
           }
          ],
          "contourcarpet": [
           {
            "colorbar": {
             "outlinewidth": 0,
             "ticks": ""
            },
            "type": "contourcarpet"
           }
          ],
          "heatmap": [
           {
            "colorbar": {
             "outlinewidth": 0,
             "ticks": ""
            },
            "colorscale": [
             [
              0,
              "#0d0887"
             ],
             [
              0.1111111111111111,
              "#46039f"
             ],
             [
              0.2222222222222222,
              "#7201a8"
             ],
             [
              0.3333333333333333,
              "#9c179e"
             ],
             [
              0.4444444444444444,
              "#bd3786"
             ],
             [
              0.5555555555555556,
              "#d8576b"
             ],
             [
              0.6666666666666666,
              "#ed7953"
             ],
             [
              0.7777777777777778,
              "#fb9f3a"
             ],
             [
              0.8888888888888888,
              "#fdca26"
             ],
             [
              1,
              "#f0f921"
             ]
            ],
            "type": "heatmap"
           }
          ],
          "heatmapgl": [
           {
            "colorbar": {
             "outlinewidth": 0,
             "ticks": ""
            },
            "colorscale": [
             [
              0,
              "#0d0887"
             ],
             [
              0.1111111111111111,
              "#46039f"
             ],
             [
              0.2222222222222222,
              "#7201a8"
             ],
             [
              0.3333333333333333,
              "#9c179e"
             ],
             [
              0.4444444444444444,
              "#bd3786"
             ],
             [
              0.5555555555555556,
              "#d8576b"
             ],
             [
              0.6666666666666666,
              "#ed7953"
             ],
             [
              0.7777777777777778,
              "#fb9f3a"
             ],
             [
              0.8888888888888888,
              "#fdca26"
             ],
             [
              1,
              "#f0f921"
             ]
            ],
            "type": "heatmapgl"
           }
          ],
          "histogram": [
           {
            "marker": {
             "pattern": {
              "fillmode": "overlay",
              "size": 10,
              "solidity": 0.2
             }
            },
            "type": "histogram"
           }
          ],
          "histogram2d": [
           {
            "colorbar": {
             "outlinewidth": 0,
             "ticks": ""
            },
            "colorscale": [
             [
              0,
              "#0d0887"
             ],
             [
              0.1111111111111111,
              "#46039f"
             ],
             [
              0.2222222222222222,
              "#7201a8"
             ],
             [
              0.3333333333333333,
              "#9c179e"
             ],
             [
              0.4444444444444444,
              "#bd3786"
             ],
             [
              0.5555555555555556,
              "#d8576b"
             ],
             [
              0.6666666666666666,
              "#ed7953"
             ],
             [
              0.7777777777777778,
              "#fb9f3a"
             ],
             [
              0.8888888888888888,
              "#fdca26"
             ],
             [
              1,
              "#f0f921"
             ]
            ],
            "type": "histogram2d"
           }
          ],
          "histogram2dcontour": [
           {
            "colorbar": {
             "outlinewidth": 0,
             "ticks": ""
            },
            "colorscale": [
             [
              0,
              "#0d0887"
             ],
             [
              0.1111111111111111,
              "#46039f"
             ],
             [
              0.2222222222222222,
              "#7201a8"
             ],
             [
              0.3333333333333333,
              "#9c179e"
             ],
             [
              0.4444444444444444,
              "#bd3786"
             ],
             [
              0.5555555555555556,
              "#d8576b"
             ],
             [
              0.6666666666666666,
              "#ed7953"
             ],
             [
              0.7777777777777778,
              "#fb9f3a"
             ],
             [
              0.8888888888888888,
              "#fdca26"
             ],
             [
              1,
              "#f0f921"
             ]
            ],
            "type": "histogram2dcontour"
           }
          ],
          "mesh3d": [
           {
            "colorbar": {
             "outlinewidth": 0,
             "ticks": ""
            },
            "type": "mesh3d"
           }
          ],
          "parcoords": [
           {
            "line": {
             "colorbar": {
              "outlinewidth": 0,
              "ticks": ""
             }
            },
            "type": "parcoords"
           }
          ],
          "pie": [
           {
            "automargin": true,
            "type": "pie"
           }
          ],
          "scatter": [
           {
            "fillpattern": {
             "fillmode": "overlay",
             "size": 10,
             "solidity": 0.2
            },
            "type": "scatter"
           }
          ],
          "scatter3d": [
           {
            "line": {
             "colorbar": {
              "outlinewidth": 0,
              "ticks": ""
             }
            },
            "marker": {
             "colorbar": {
              "outlinewidth": 0,
              "ticks": ""
             }
            },
            "type": "scatter3d"
           }
          ],
          "scattercarpet": [
           {
            "marker": {
             "colorbar": {
              "outlinewidth": 0,
              "ticks": ""
             }
            },
            "type": "scattercarpet"
           }
          ],
          "scattergeo": [
           {
            "marker": {
             "colorbar": {
              "outlinewidth": 0,
              "ticks": ""
             }
            },
            "type": "scattergeo"
           }
          ],
          "scattergl": [
           {
            "marker": {
             "colorbar": {
              "outlinewidth": 0,
              "ticks": ""
             }
            },
            "type": "scattergl"
           }
          ],
          "scattermapbox": [
           {
            "marker": {
             "colorbar": {
              "outlinewidth": 0,
              "ticks": ""
             }
            },
            "type": "scattermapbox"
           }
          ],
          "scatterpolar": [
           {
            "marker": {
             "colorbar": {
              "outlinewidth": 0,
              "ticks": ""
             }
            },
            "type": "scatterpolar"
           }
          ],
          "scatterpolargl": [
           {
            "marker": {
             "colorbar": {
              "outlinewidth": 0,
              "ticks": ""
             }
            },
            "type": "scatterpolargl"
           }
          ],
          "scatterternary": [
           {
            "marker": {
             "colorbar": {
              "outlinewidth": 0,
              "ticks": ""
             }
            },
            "type": "scatterternary"
           }
          ],
          "surface": [
           {
            "colorbar": {
             "outlinewidth": 0,
             "ticks": ""
            },
            "colorscale": [
             [
              0,
              "#0d0887"
             ],
             [
              0.1111111111111111,
              "#46039f"
             ],
             [
              0.2222222222222222,
              "#7201a8"
             ],
             [
              0.3333333333333333,
              "#9c179e"
             ],
             [
              0.4444444444444444,
              "#bd3786"
             ],
             [
              0.5555555555555556,
              "#d8576b"
             ],
             [
              0.6666666666666666,
              "#ed7953"
             ],
             [
              0.7777777777777778,
              "#fb9f3a"
             ],
             [
              0.8888888888888888,
              "#fdca26"
             ],
             [
              1,
              "#f0f921"
             ]
            ],
            "type": "surface"
           }
          ],
          "table": [
           {
            "cells": {
             "fill": {
              "color": "#EBF0F8"
             },
             "line": {
              "color": "white"
             }
            },
            "header": {
             "fill": {
              "color": "#C8D4E3"
             },
             "line": {
              "color": "white"
             }
            },
            "type": "table"
           }
          ]
         },
         "layout": {
          "annotationdefaults": {
           "arrowcolor": "#2a3f5f",
           "arrowhead": 0,
           "arrowwidth": 1
          },
          "autotypenumbers": "strict",
          "coloraxis": {
           "colorbar": {
            "outlinewidth": 0,
            "ticks": ""
           }
          },
          "colorscale": {
           "diverging": [
            [
             0,
             "#8e0152"
            ],
            [
             0.1,
             "#c51b7d"
            ],
            [
             0.2,
             "#de77ae"
            ],
            [
             0.3,
             "#f1b6da"
            ],
            [
             0.4,
             "#fde0ef"
            ],
            [
             0.5,
             "#f7f7f7"
            ],
            [
             0.6,
             "#e6f5d0"
            ],
            [
             0.7,
             "#b8e186"
            ],
            [
             0.8,
             "#7fbc41"
            ],
            [
             0.9,
             "#4d9221"
            ],
            [
             1,
             "#276419"
            ]
           ],
           "sequential": [
            [
             0,
             "#0d0887"
            ],
            [
             0.1111111111111111,
             "#46039f"
            ],
            [
             0.2222222222222222,
             "#7201a8"
            ],
            [
             0.3333333333333333,
             "#9c179e"
            ],
            [
             0.4444444444444444,
             "#bd3786"
            ],
            [
             0.5555555555555556,
             "#d8576b"
            ],
            [
             0.6666666666666666,
             "#ed7953"
            ],
            [
             0.7777777777777778,
             "#fb9f3a"
            ],
            [
             0.8888888888888888,
             "#fdca26"
            ],
            [
             1,
             "#f0f921"
            ]
           ],
           "sequentialminus": [
            [
             0,
             "#0d0887"
            ],
            [
             0.1111111111111111,
             "#46039f"
            ],
            [
             0.2222222222222222,
             "#7201a8"
            ],
            [
             0.3333333333333333,
             "#9c179e"
            ],
            [
             0.4444444444444444,
             "#bd3786"
            ],
            [
             0.5555555555555556,
             "#d8576b"
            ],
            [
             0.6666666666666666,
             "#ed7953"
            ],
            [
             0.7777777777777778,
             "#fb9f3a"
            ],
            [
             0.8888888888888888,
             "#fdca26"
            ],
            [
             1,
             "#f0f921"
            ]
           ]
          },
          "colorway": [
           "#636efa",
           "#EF553B",
           "#00cc96",
           "#ab63fa",
           "#FFA15A",
           "#19d3f3",
           "#FF6692",
           "#B6E880",
           "#FF97FF",
           "#FECB52"
          ],
          "font": {
           "color": "#2a3f5f"
          },
          "geo": {
           "bgcolor": "white",
           "lakecolor": "white",
           "landcolor": "white",
           "showlakes": true,
           "showland": true,
           "subunitcolor": "#C8D4E3"
          },
          "hoverlabel": {
           "align": "left"
          },
          "hovermode": "closest",
          "mapbox": {
           "style": "light"
          },
          "paper_bgcolor": "white",
          "plot_bgcolor": "white",
          "polar": {
           "angularaxis": {
            "gridcolor": "#EBF0F8",
            "linecolor": "#EBF0F8",
            "ticks": ""
           },
           "bgcolor": "white",
           "radialaxis": {
            "gridcolor": "#EBF0F8",
            "linecolor": "#EBF0F8",
            "ticks": ""
           }
          },
          "scene": {
           "xaxis": {
            "backgroundcolor": "white",
            "gridcolor": "#DFE8F3",
            "gridwidth": 2,
            "linecolor": "#EBF0F8",
            "showbackground": true,
            "ticks": "",
            "zerolinecolor": "#EBF0F8"
           },
           "yaxis": {
            "backgroundcolor": "white",
            "gridcolor": "#DFE8F3",
            "gridwidth": 2,
            "linecolor": "#EBF0F8",
            "showbackground": true,
            "ticks": "",
            "zerolinecolor": "#EBF0F8"
           },
           "zaxis": {
            "backgroundcolor": "white",
            "gridcolor": "#DFE8F3",
            "gridwidth": 2,
            "linecolor": "#EBF0F8",
            "showbackground": true,
            "ticks": "",
            "zerolinecolor": "#EBF0F8"
           }
          },
          "shapedefaults": {
           "line": {
            "color": "#2a3f5f"
           }
          },
          "ternary": {
           "aaxis": {
            "gridcolor": "#DFE8F3",
            "linecolor": "#A2B1C6",
            "ticks": ""
           },
           "baxis": {
            "gridcolor": "#DFE8F3",
            "linecolor": "#A2B1C6",
            "ticks": ""
           },
           "bgcolor": "white",
           "caxis": {
            "gridcolor": "#DFE8F3",
            "linecolor": "#A2B1C6",
            "ticks": ""
           }
          },
          "title": {
           "x": 0.05
          },
          "xaxis": {
           "automargin": true,
           "gridcolor": "#EBF0F8",
           "linecolor": "#EBF0F8",
           "ticks": "",
           "title": {
            "standoff": 15
           },
           "zerolinecolor": "#EBF0F8",
           "zerolinewidth": 2
          },
          "yaxis": {
           "automargin": true,
           "gridcolor": "#EBF0F8",
           "linecolor": "#EBF0F8",
           "ticks": "",
           "title": {
            "standoff": 15
           },
           "zerolinecolor": "#EBF0F8",
           "zerolinewidth": 2
          }
         }
        },
        "width": 200
       }
      }
     },
     "metadata": {},
     "output_type": "display_data"
    },
    {
     "data": {
      "application/vnd.plotly.v1+json": {
       "config": {
        "plotlyServerURL": "https://plot.ly"
       },
       "data": [
        {
         "fill": "toself",
         "line": {
          "color": "#75a8ba",
          "width": 0.5
         },
         "mode": "lines",
         "r": [
          0.67,
          0.6699999381633909,
          0.669999505307127,
          0.6699983304115535,
          0.6699960424570158,
          0.6699922704238591,
          0.6699866432924284,
          0.6699787900430693,
          0.6699683396561267,
          0.669954921111946,
          0.6699381633908723,
          0.6699176954732511,
          0.6698931463394274,
          0.6698641449697464,
          0.6698303203445536,
          0.6697913014441941,
          0.669746717249013,
          0.6696961967393557,
          0.6696393688955673,
          0.6695758626979932,
          0.6695053071269784,
          0.6694273311628683,
          0.6693415637860083,
          0.6692476339767433,
          0.6691451707154187,
          0.6690338029823797,
          0.6689131597579715,
          0.6687828700225394,
          0.6686425627564287,
          0.6684918669399845,
          0.6683304115535521,
          0.6681578255774767,
          0.6679737379921035,
          0.6677777777777778,
          0.6675695739148448,
          0.6673487553836498,
          0.667114951164538,
          0.6668677902378546,
          0.6666069015839448,
          0.6663319141831539,
          0.6660424570158271,
          0.6657381590623097,
          0.6654186493029469,
          0.6650835567180838,
          0.6647325102880659,
          0.6643651389932382,
          0.663981071813946,
          0.6635799377305347,
          0.6631613657233493,
          0.662724984772735,
          0.6622704238590373,
          0.6617973119626013,
          0.6613052780637722,
          0.6607939511428952,
          0.6602629601803156,
          0.6597119341563785,
          0.6591405020514295,
          0.6585482928458134,
          0.6579349355198758,
          0.6573000590539617,
          0.6566432924284163,
          0.655964264623585,
          0.655262604619813,
          0.6545379413974455,
          0.6537899039368277,
          0.6530181212183048,
          0.6522222222222221,
          0.651401835928925,
          0.6505565913187584,
          0.6496861173720677,
          0.6487900430691982,
          0.647867997390495,
          0.6469196093163034,
          0.6459445078269688,
          0.6449423219028361,
          0.6439126805242508,
          0.6428552126715579,
          0.6417695473251028,
          0.6406553134652307,
          0.639512140072287,
          0.6383396561266166,
          0.637137490608565,
          0.6359052724984773,
          0.6346426307766987,
          0.6333491944235745,
          0.6320245924194501,
          0.6306684537446704,
          0.6292804073795809,
          0.6278600823045267,
          0.6264071074998532,
          0.6249211119459053,
          0.6234017246230286,
          0.621848574511568,
          0.6202612905918691,
          0.6186395018442769,
          0.6169828372491365,
          0.6152909257867935,
          0.6135633964375928,
          0.6117998781818799,
          0.61,
          0.61,
          0.6081636382187346,
          0.6062916585506117,
          0.6043851740545956,
          0.6024452977896504,
          0.6004731428147405,
          0.5984698221888304,
          0.5964364489708842,
          0.5943741362198663,
          0.5922839969947408,
          0.5901671443544722,
          0.5880246913580246,
          0.5858577510643626,
          0.5836674365324502,
          0.581454860821252,
          0.579221136989732,
          0.5769673780968545,
          0.5746946972015843,
          0.572404207362885,
          0.5700970216397213,
          0.5677742530910574,
          0.5654370147758577,
          0.5630864197530864,
          0.5607235810817077,
          0.5583496118206862,
          0.5559656250289858,
          0.5535727337655713,
          0.5511720510894065,
          0.5487646900594559,
          0.5463517637346839,
          0.5439343851740546,
          0.5415136674365324,
          0.5390907235810817,
          0.5366666666666666,
          0.5342426097522516,
          0.5318196658968007,
          0.5293989481592788,
          0.5269815695986495,
          0.5245686432738774,
          0.5221612822439269,
          0.519760599567762,
          0.5173677083043474,
          0.514983721512647,
          0.5126097522516255,
          0.5102469135802469,
          0.5078963185574755,
          0.5055590802422759,
          0.5032363116936119,
          0.5009291259704483,
          0.4986386361317491,
          0.49636595523647864,
          0.49411219634360126,
          0.4918784725120813,
          0.48966589680088296,
          0.4874755822689706,
          0.48530864197530854,
          0.4831661889788611,
          0.48104933633859254,
          0.4789591971134671,
          0.4768968843624491,
          0.47486351114450287,
          0.4728601905185927,
          0.47088803554368286,
          0.46894815927873773,
          0.4670416747827216,
          0.4651696951145986,
          0.4633333333333333,
          0.4615337024978898,
          0.4597719156672324,
          0.45804908590032556,
          0.4563663262561334,
          0.4547247497936203,
          0.45312546957175054,
          0.4515695986494884,
          0.45005825008579825,
          0.44859253693964435,
          0.447173572269991,
          0.44580246913580246,
          0.444480340596043,
          0.44320829970967707,
          0.44198745953566887,
          0.4408189331329827,
          0.43970383356058285,
          0.4386432738774336,
          0.4376383671424994,
          0.43669022641474425,
          0.43579996475313265,
          0.4349686952166291,
          0.43419753086419743,
          0.4334875847548024,
          0.4328399699474079,
          0.4322557995009786,
          0.4317361864744785,
          0.4312822439268721,
          0.4308950849171234,
          0.4305758225041971,
          0.4303255697470573,
          0.43014543970466834,
          0.4300365454359944,
          0.43,
          0.43,
          0.43003648359938534,
          0.4301449450117953,
          0.4303239001586109,
          0.43057186496121297,
          0.4308873553409825,
          0.43126888721930046,
          0.43171497651754764,
          0.43222413915710517,
          0.43279489105935387,
          0.4334257481456747,
          0.4341152263374486,
          0.43486184155605645,
          0.4356641097228792,
          0.4365205467592979,
          0.4374296685866934,
          0.43838999112644655,
          0.43940003029993846,
          0.44045830202854996,
          0.44156332223366196,
          0.4427136068366555,
          0.44390767175891144,
          0.4451440329218107,
          0.44642120624673426,
          0.44773770765506304,
          0.44909205306817795,
          0.45048275840745994,
          0.45190833959429005,
          0.45336731255004903,
          0.45485819319611787,
          0.4563794974538777,
          0.4579297412447091,
          0.4595074404899933,
          0.4611111111111111,
          0.46273926902944346,
          0.46439043016637144,
          0.4660631104432757,
          0.4677558257815375,
          0.46946709210253745,
          0.4711954253276567,
          0.4729393413782762,
          0.4746973561757767,
          0.47646798564153936,
          0.47824974569694495,
          0.48004115226337446,
          0.48184072126220895,
          0.48364696861482914,
          0.48545841024261605,
          0.48727356206695055,
          0.48909094000921366,
          0.49090905999078643,
          0.49272643793304954,
          0.49454158975738416,
          0.49635303138517106,
          0.49815927873779114,
          0.4999588477366256,
          0.5017502543030551,
          0.5035320143584607,
          0.5053026438242233,
          0.5070606586217239,
          0.5088045746723434,
          0.5105329078974626,
          0.5122441742184626,
          0.5139368895567243,
          0.5156095698336286,
          0.5172607309705566,
          0.518888888888889,
          0.5204925595100068,
          0.522070258755291,
          0.5236205025461225,
          0.5251418068038821,
          0.526632687449951,
          0.52809166040571,
          0.5295172415925401,
          0.5309079469318221,
          0.5322622923449369,
          0.5335787937532658,
          0.5348559670781894,
          0.5360923282410887,
          0.5372863931633446,
          0.5384366777663381,
          0.53954169797145,
          0.5405999697000616,
          0.5416100088735535,
          0.5425703314133067,
          0.5434794532407021,
          0.5443358902771208,
          0.5451381584439436,
          0.5458847736625515,
          0.5465742518543253,
          0.5472051089406462,
          0.5477758608428949,
          0.5482850234824523,
          0.5487311127806996,
          0.5491126446590175,
          0.5494281350387871,
          0.5496760998413892,
          0.5498550549882046,
          0.5499635164006147,
          0.5499999999999999
         ],
         "theta": [
          0,
          0.6060606060606061,
          1.2121212121212122,
          1.8181818181818183,
          2.4242424242424243,
          3.0303030303030303,
          3.6363636363636367,
          4.242424242424242,
          4.848484848484849,
          5.454545454545455,
          6.0606060606060606,
          6.666666666666667,
          7.272727272727273,
          7.878787878787879,
          8.484848484848484,
          9.090909090909092,
          9.696969696969697,
          10.303030303030303,
          10.90909090909091,
          11.515151515151516,
          12.121212121212121,
          12.727272727272728,
          13.333333333333334,
          13.93939393939394,
          14.545454545454547,
          15.151515151515152,
          15.757575757575758,
          16.363636363636363,
          16.96969696969697,
          17.575757575757578,
          18.181818181818183,
          18.78787878787879,
          19.393939393939394,
          20,
          20.606060606060606,
          21.21212121212121,
          21.81818181818182,
          22.424242424242426,
          23.03030303030303,
          23.636363636363637,
          24.242424242424242,
          24.848484848484848,
          25.454545454545457,
          26.060606060606062,
          26.666666666666668,
          27.272727272727273,
          27.87878787878788,
          28.484848484848484,
          29.090909090909093,
          29.6969696969697,
          30.303030303030305,
          30.90909090909091,
          31.515151515151516,
          32.121212121212125,
          32.72727272727273,
          33.333333333333336,
          33.93939393939394,
          34.54545454545455,
          35.151515151515156,
          35.75757575757576,
          36.36363636363637,
          36.96969696969697,
          37.57575757575758,
          38.18181818181818,
          38.78787878787879,
          39.3939393939394,
          40,
          40.60606060606061,
          41.21212121212121,
          41.81818181818182,
          42.42424242424242,
          43.03030303030303,
          43.63636363636364,
          44.24242424242424,
          44.84848484848485,
          45.45454545454545,
          46.06060606060606,
          46.66666666666667,
          47.27272727272727,
          47.87878787878788,
          48.484848484848484,
          49.09090909090909,
          49.696969696969695,
          50.303030303030305,
          50.909090909090914,
          51.515151515151516,
          52.121212121212125,
          52.72727272727273,
          53.333333333333336,
          53.93939393939394,
          54.54545454545455,
          55.151515151515156,
          55.75757575757576,
          56.36363636363637,
          56.96969696969697,
          57.57575757575758,
          58.18181818181819,
          58.78787878787879,
          59.3939393939394,
          60,
          60,
          60.60606060606061,
          61.21212121212121,
          61.81818181818182,
          62.42424242424242,
          63.03030303030303,
          63.63636363636364,
          64.24242424242425,
          64.84848484848484,
          65.45454545454545,
          66.06060606060606,
          66.66666666666667,
          67.27272727272728,
          67.87878787878788,
          68.48484848484848,
          69.0909090909091,
          69.6969696969697,
          70.3030303030303,
          70.9090909090909,
          71.51515151515152,
          72.12121212121212,
          72.72727272727273,
          73.33333333333333,
          73.93939393939394,
          74.54545454545455,
          75.15151515151516,
          75.75757575757575,
          76.36363636363636,
          76.96969696969697,
          77.57575757575758,
          78.18181818181819,
          78.78787878787878,
          79.39393939393939,
          80,
          80.60606060606061,
          81.21212121212122,
          81.81818181818181,
          82.42424242424242,
          83.03030303030303,
          83.63636363636364,
          84.24242424242425,
          84.84848484848484,
          85.45454545454545,
          86.06060606060606,
          86.66666666666667,
          87.27272727272728,
          87.87878787878788,
          88.48484848484848,
          89.0909090909091,
          89.6969696969697,
          90.30303030303031,
          90.9090909090909,
          91.51515151515152,
          92.12121212121212,
          92.72727272727272,
          93.33333333333334,
          93.93939393939394,
          94.54545454545455,
          95.15151515151516,
          95.75757575757575,
          96.36363636363637,
          96.96969696969697,
          97.57575757575758,
          98.18181818181819,
          98.78787878787878,
          99.3939393939394,
          100,
          100.60606060606061,
          101.21212121212122,
          101.81818181818181,
          102.42424242424242,
          103.03030303030303,
          103.63636363636364,
          104.24242424242425,
          104.84848484848484,
          105.45454545454545,
          106.06060606060606,
          106.66666666666667,
          107.27272727272728,
          107.87878787878788,
          108.48484848484848,
          109.0909090909091,
          109.69696969696969,
          110.30303030303031,
          110.9090909090909,
          111.51515151515152,
          112.12121212121212,
          112.72727272727272,
          113.33333333333334,
          113.93939393939394,
          114.54545454545455,
          115.15151515151516,
          115.75757575757575,
          116.36363636363637,
          116.96969696969697,
          117.57575757575758,
          118.18181818181819,
          118.78787878787878,
          119.3939393939394,
          120,
          120,
          120.60606060606061,
          121.21212121212122,
          121.81818181818181,
          122.42424242424242,
          123.03030303030303,
          123.63636363636364,
          124.24242424242425,
          124.84848484848484,
          125.45454545454545,
          126.06060606060606,
          126.66666666666667,
          127.27272727272728,
          127.87878787878788,
          128.4848484848485,
          129.0909090909091,
          129.6969696969697,
          130.3030303030303,
          130.9090909090909,
          131.5151515151515,
          132.12121212121212,
          132.72727272727272,
          133.33333333333334,
          133.93939393939394,
          134.54545454545456,
          135.15151515151516,
          135.75757575757575,
          136.36363636363637,
          136.96969696969697,
          137.57575757575756,
          138.1818181818182,
          138.78787878787878,
          139.3939393939394,
          140,
          140.6060606060606,
          141.21212121212122,
          141.8181818181818,
          142.42424242424244,
          143.03030303030303,
          143.63636363636363,
          144.24242424242425,
          144.84848484848484,
          145.45454545454547,
          146.06060606060606,
          146.66666666666666,
          147.27272727272728,
          147.87878787878788,
          148.4848484848485,
          149.0909090909091,
          149.6969696969697,
          150.3030303030303,
          150.9090909090909,
          151.5151515151515,
          152.12121212121212,
          152.72727272727272,
          153.33333333333334,
          153.93939393939394,
          154.54545454545456,
          155.15151515151516,
          155.75757575757575,
          156.36363636363637,
          156.96969696969697,
          157.57575757575756,
          158.1818181818182,
          158.78787878787878,
          159.3939393939394,
          160,
          160.60606060606062,
          161.21212121212122,
          161.8181818181818,
          162.42424242424244,
          163.03030303030303,
          163.63636363636363,
          164.24242424242425,
          164.84848484848484,
          165.45454545454544,
          166.06060606060606,
          166.66666666666669,
          167.27272727272728,
          167.87878787878788,
          168.4848484848485,
          169.0909090909091,
          169.6969696969697,
          170.3030303030303,
          170.9090909090909,
          171.5151515151515,
          172.12121212121212,
          172.72727272727272,
          173.33333333333334,
          173.93939393939394,
          174.54545454545456,
          175.15151515151516,
          175.75757575757575,
          176.36363636363637,
          176.96969696969697,
          177.57575757575756,
          178.1818181818182,
          178.78787878787878,
          179.3939393939394,
          180
         ],
         "type": "scatterpolar"
        },
        {
         "marker": {
          "color": "#75a8ba",
          "size": 4
         },
         "mode": "markers",
         "r": [
          0.67,
          0.61,
          0.43,
          0.55
         ],
         "theta": [
          0,
          60,
          120,
          180
         ],
         "type": "scatterpolar"
        },
        {
         "mode": "text",
         "r": [
          0.77,
          0.66,
          0.48,
          0.65
         ],
         "text": [
          "67%",
          "61%",
          "43%",
          "55%"
         ],
         "textfont": {
          "color": "#75a8ba"
         },
         "textposition": "middle left",
         "theta": [
          0,
          60,
          120,
          180
         ],
         "type": "scatterpolar"
        }
       ],
       "layout": {
        "height": 280,
        "margin": {
         "b": 20,
         "l": 50,
         "r": 32,
         "t": 20
        },
        "polar": {
         "angularaxis": {
          "direction": "counterclockwise",
          "gridcolor": "#ddd",
          "gridwidth": 2,
          "rotation": 90,
          "showline": false,
          "tickfont": {
           "size": 13
          },
          "ticktext": [
           "     <b>Precision</b>     ",
           "<b>Avg. Pr.</b>",
           "<b>IoU</b>",
           "     <b>Recall</b>     "
          ],
          "tickvals": [
           0,
           60,
           120,
           180
          ]
         },
         "radialaxis": {
          "angle": 90,
          "range": [
           0,
           1.15
          ],
          "showline": false,
          "showticklabels": false,
          "tickvals": [
           0,
           0.2,
           0.4,
           0.6,
           0.8,
           1
          ]
         },
         "sector": [
          90,
          270
         ]
        },
        "showlegend": false,
        "template": {
         "data": {
          "bar": [
           {
            "error_x": {
             "color": "#2a3f5f"
            },
            "error_y": {
             "color": "#2a3f5f"
            },
            "marker": {
             "line": {
              "color": "white",
              "width": 0.5
             },
             "pattern": {
              "fillmode": "overlay",
              "size": 10,
              "solidity": 0.2
             }
            },
            "type": "bar"
           }
          ],
          "barpolar": [
           {
            "marker": {
             "line": {
              "color": "white",
              "width": 0.5
             },
             "pattern": {
              "fillmode": "overlay",
              "size": 10,
              "solidity": 0.2
             }
            },
            "type": "barpolar"
           }
          ],
          "carpet": [
           {
            "aaxis": {
             "endlinecolor": "#2a3f5f",
             "gridcolor": "#C8D4E3",
             "linecolor": "#C8D4E3",
             "minorgridcolor": "#C8D4E3",
             "startlinecolor": "#2a3f5f"
            },
            "baxis": {
             "endlinecolor": "#2a3f5f",
             "gridcolor": "#C8D4E3",
             "linecolor": "#C8D4E3",
             "minorgridcolor": "#C8D4E3",
             "startlinecolor": "#2a3f5f"
            },
            "type": "carpet"
           }
          ],
          "choropleth": [
           {
            "colorbar": {
             "outlinewidth": 0,
             "ticks": ""
            },
            "type": "choropleth"
           }
          ],
          "contour": [
           {
            "colorbar": {
             "outlinewidth": 0,
             "ticks": ""
            },
            "colorscale": [
             [
              0,
              "#0d0887"
             ],
             [
              0.1111111111111111,
              "#46039f"
             ],
             [
              0.2222222222222222,
              "#7201a8"
             ],
             [
              0.3333333333333333,
              "#9c179e"
             ],
             [
              0.4444444444444444,
              "#bd3786"
             ],
             [
              0.5555555555555556,
              "#d8576b"
             ],
             [
              0.6666666666666666,
              "#ed7953"
             ],
             [
              0.7777777777777778,
              "#fb9f3a"
             ],
             [
              0.8888888888888888,
              "#fdca26"
             ],
             [
              1,
              "#f0f921"
             ]
            ],
            "type": "contour"
           }
          ],
          "contourcarpet": [
           {
            "colorbar": {
             "outlinewidth": 0,
             "ticks": ""
            },
            "type": "contourcarpet"
           }
          ],
          "heatmap": [
           {
            "colorbar": {
             "outlinewidth": 0,
             "ticks": ""
            },
            "colorscale": [
             [
              0,
              "#0d0887"
             ],
             [
              0.1111111111111111,
              "#46039f"
             ],
             [
              0.2222222222222222,
              "#7201a8"
             ],
             [
              0.3333333333333333,
              "#9c179e"
             ],
             [
              0.4444444444444444,
              "#bd3786"
             ],
             [
              0.5555555555555556,
              "#d8576b"
             ],
             [
              0.6666666666666666,
              "#ed7953"
             ],
             [
              0.7777777777777778,
              "#fb9f3a"
             ],
             [
              0.8888888888888888,
              "#fdca26"
             ],
             [
              1,
              "#f0f921"
             ]
            ],
            "type": "heatmap"
           }
          ],
          "heatmapgl": [
           {
            "colorbar": {
             "outlinewidth": 0,
             "ticks": ""
            },
            "colorscale": [
             [
              0,
              "#0d0887"
             ],
             [
              0.1111111111111111,
              "#46039f"
             ],
             [
              0.2222222222222222,
              "#7201a8"
             ],
             [
              0.3333333333333333,
              "#9c179e"
             ],
             [
              0.4444444444444444,
              "#bd3786"
             ],
             [
              0.5555555555555556,
              "#d8576b"
             ],
             [
              0.6666666666666666,
              "#ed7953"
             ],
             [
              0.7777777777777778,
              "#fb9f3a"
             ],
             [
              0.8888888888888888,
              "#fdca26"
             ],
             [
              1,
              "#f0f921"
             ]
            ],
            "type": "heatmapgl"
           }
          ],
          "histogram": [
           {
            "marker": {
             "pattern": {
              "fillmode": "overlay",
              "size": 10,
              "solidity": 0.2
             }
            },
            "type": "histogram"
           }
          ],
          "histogram2d": [
           {
            "colorbar": {
             "outlinewidth": 0,
             "ticks": ""
            },
            "colorscale": [
             [
              0,
              "#0d0887"
             ],
             [
              0.1111111111111111,
              "#46039f"
             ],
             [
              0.2222222222222222,
              "#7201a8"
             ],
             [
              0.3333333333333333,
              "#9c179e"
             ],
             [
              0.4444444444444444,
              "#bd3786"
             ],
             [
              0.5555555555555556,
              "#d8576b"
             ],
             [
              0.6666666666666666,
              "#ed7953"
             ],
             [
              0.7777777777777778,
              "#fb9f3a"
             ],
             [
              0.8888888888888888,
              "#fdca26"
             ],
             [
              1,
              "#f0f921"
             ]
            ],
            "type": "histogram2d"
           }
          ],
          "histogram2dcontour": [
           {
            "colorbar": {
             "outlinewidth": 0,
             "ticks": ""
            },
            "colorscale": [
             [
              0,
              "#0d0887"
             ],
             [
              0.1111111111111111,
              "#46039f"
             ],
             [
              0.2222222222222222,
              "#7201a8"
             ],
             [
              0.3333333333333333,
              "#9c179e"
             ],
             [
              0.4444444444444444,
              "#bd3786"
             ],
             [
              0.5555555555555556,
              "#d8576b"
             ],
             [
              0.6666666666666666,
              "#ed7953"
             ],
             [
              0.7777777777777778,
              "#fb9f3a"
             ],
             [
              0.8888888888888888,
              "#fdca26"
             ],
             [
              1,
              "#f0f921"
             ]
            ],
            "type": "histogram2dcontour"
           }
          ],
          "mesh3d": [
           {
            "colorbar": {
             "outlinewidth": 0,
             "ticks": ""
            },
            "type": "mesh3d"
           }
          ],
          "parcoords": [
           {
            "line": {
             "colorbar": {
              "outlinewidth": 0,
              "ticks": ""
             }
            },
            "type": "parcoords"
           }
          ],
          "pie": [
           {
            "automargin": true,
            "type": "pie"
           }
          ],
          "scatter": [
           {
            "fillpattern": {
             "fillmode": "overlay",
             "size": 10,
             "solidity": 0.2
            },
            "type": "scatter"
           }
          ],
          "scatter3d": [
           {
            "line": {
             "colorbar": {
              "outlinewidth": 0,
              "ticks": ""
             }
            },
            "marker": {
             "colorbar": {
              "outlinewidth": 0,
              "ticks": ""
             }
            },
            "type": "scatter3d"
           }
          ],
          "scattercarpet": [
           {
            "marker": {
             "colorbar": {
              "outlinewidth": 0,
              "ticks": ""
             }
            },
            "type": "scattercarpet"
           }
          ],
          "scattergeo": [
           {
            "marker": {
             "colorbar": {
              "outlinewidth": 0,
              "ticks": ""
             }
            },
            "type": "scattergeo"
           }
          ],
          "scattergl": [
           {
            "marker": {
             "colorbar": {
              "outlinewidth": 0,
              "ticks": ""
             }
            },
            "type": "scattergl"
           }
          ],
          "scattermapbox": [
           {
            "marker": {
             "colorbar": {
              "outlinewidth": 0,
              "ticks": ""
             }
            },
            "type": "scattermapbox"
           }
          ],
          "scatterpolar": [
           {
            "marker": {
             "colorbar": {
              "outlinewidth": 0,
              "ticks": ""
             }
            },
            "type": "scatterpolar"
           }
          ],
          "scatterpolargl": [
           {
            "marker": {
             "colorbar": {
              "outlinewidth": 0,
              "ticks": ""
             }
            },
            "type": "scatterpolargl"
           }
          ],
          "scatterternary": [
           {
            "marker": {
             "colorbar": {
              "outlinewidth": 0,
              "ticks": ""
             }
            },
            "type": "scatterternary"
           }
          ],
          "surface": [
           {
            "colorbar": {
             "outlinewidth": 0,
             "ticks": ""
            },
            "colorscale": [
             [
              0,
              "#0d0887"
             ],
             [
              0.1111111111111111,
              "#46039f"
             ],
             [
              0.2222222222222222,
              "#7201a8"
             ],
             [
              0.3333333333333333,
              "#9c179e"
             ],
             [
              0.4444444444444444,
              "#bd3786"
             ],
             [
              0.5555555555555556,
              "#d8576b"
             ],
             [
              0.6666666666666666,
              "#ed7953"
             ],
             [
              0.7777777777777778,
              "#fb9f3a"
             ],
             [
              0.8888888888888888,
              "#fdca26"
             ],
             [
              1,
              "#f0f921"
             ]
            ],
            "type": "surface"
           }
          ],
          "table": [
           {
            "cells": {
             "fill": {
              "color": "#EBF0F8"
             },
             "line": {
              "color": "white"
             }
            },
            "header": {
             "fill": {
              "color": "#C8D4E3"
             },
             "line": {
              "color": "white"
             }
            },
            "type": "table"
           }
          ]
         },
         "layout": {
          "annotationdefaults": {
           "arrowcolor": "#2a3f5f",
           "arrowhead": 0,
           "arrowwidth": 1
          },
          "autotypenumbers": "strict",
          "coloraxis": {
           "colorbar": {
            "outlinewidth": 0,
            "ticks": ""
           }
          },
          "colorscale": {
           "diverging": [
            [
             0,
             "#8e0152"
            ],
            [
             0.1,
             "#c51b7d"
            ],
            [
             0.2,
             "#de77ae"
            ],
            [
             0.3,
             "#f1b6da"
            ],
            [
             0.4,
             "#fde0ef"
            ],
            [
             0.5,
             "#f7f7f7"
            ],
            [
             0.6,
             "#e6f5d0"
            ],
            [
             0.7,
             "#b8e186"
            ],
            [
             0.8,
             "#7fbc41"
            ],
            [
             0.9,
             "#4d9221"
            ],
            [
             1,
             "#276419"
            ]
           ],
           "sequential": [
            [
             0,
             "#0d0887"
            ],
            [
             0.1111111111111111,
             "#46039f"
            ],
            [
             0.2222222222222222,
             "#7201a8"
            ],
            [
             0.3333333333333333,
             "#9c179e"
            ],
            [
             0.4444444444444444,
             "#bd3786"
            ],
            [
             0.5555555555555556,
             "#d8576b"
            ],
            [
             0.6666666666666666,
             "#ed7953"
            ],
            [
             0.7777777777777778,
             "#fb9f3a"
            ],
            [
             0.8888888888888888,
             "#fdca26"
            ],
            [
             1,
             "#f0f921"
            ]
           ],
           "sequentialminus": [
            [
             0,
             "#0d0887"
            ],
            [
             0.1111111111111111,
             "#46039f"
            ],
            [
             0.2222222222222222,
             "#7201a8"
            ],
            [
             0.3333333333333333,
             "#9c179e"
            ],
            [
             0.4444444444444444,
             "#bd3786"
            ],
            [
             0.5555555555555556,
             "#d8576b"
            ],
            [
             0.6666666666666666,
             "#ed7953"
            ],
            [
             0.7777777777777778,
             "#fb9f3a"
            ],
            [
             0.8888888888888888,
             "#fdca26"
            ],
            [
             1,
             "#f0f921"
            ]
           ]
          },
          "colorway": [
           "#636efa",
           "#EF553B",
           "#00cc96",
           "#ab63fa",
           "#FFA15A",
           "#19d3f3",
           "#FF6692",
           "#B6E880",
           "#FF97FF",
           "#FECB52"
          ],
          "font": {
           "color": "#2a3f5f"
          },
          "geo": {
           "bgcolor": "white",
           "lakecolor": "white",
           "landcolor": "white",
           "showlakes": true,
           "showland": true,
           "subunitcolor": "#C8D4E3"
          },
          "hoverlabel": {
           "align": "left"
          },
          "hovermode": "closest",
          "mapbox": {
           "style": "light"
          },
          "paper_bgcolor": "white",
          "plot_bgcolor": "white",
          "polar": {
           "angularaxis": {
            "gridcolor": "#EBF0F8",
            "linecolor": "#EBF0F8",
            "ticks": ""
           },
           "bgcolor": "white",
           "radialaxis": {
            "gridcolor": "#EBF0F8",
            "linecolor": "#EBF0F8",
            "ticks": ""
           }
          },
          "scene": {
           "xaxis": {
            "backgroundcolor": "white",
            "gridcolor": "#DFE8F3",
            "gridwidth": 2,
            "linecolor": "#EBF0F8",
            "showbackground": true,
            "ticks": "",
            "zerolinecolor": "#EBF0F8"
           },
           "yaxis": {
            "backgroundcolor": "white",
            "gridcolor": "#DFE8F3",
            "gridwidth": 2,
            "linecolor": "#EBF0F8",
            "showbackground": true,
            "ticks": "",
            "zerolinecolor": "#EBF0F8"
           },
           "zaxis": {
            "backgroundcolor": "white",
            "gridcolor": "#DFE8F3",
            "gridwidth": 2,
            "linecolor": "#EBF0F8",
            "showbackground": true,
            "ticks": "",
            "zerolinecolor": "#EBF0F8"
           }
          },
          "shapedefaults": {
           "line": {
            "color": "#2a3f5f"
           }
          },
          "ternary": {
           "aaxis": {
            "gridcolor": "#DFE8F3",
            "linecolor": "#A2B1C6",
            "ticks": ""
           },
           "baxis": {
            "gridcolor": "#DFE8F3",
            "linecolor": "#A2B1C6",
            "ticks": ""
           },
           "bgcolor": "white",
           "caxis": {
            "gridcolor": "#DFE8F3",
            "linecolor": "#A2B1C6",
            "ticks": ""
           }
          },
          "title": {
           "x": 0.05
          },
          "xaxis": {
           "automargin": true,
           "gridcolor": "#EBF0F8",
           "linecolor": "#EBF0F8",
           "ticks": "",
           "title": {
            "standoff": 15
           },
           "zerolinecolor": "#EBF0F8",
           "zerolinewidth": 2
          },
          "yaxis": {
           "automargin": true,
           "gridcolor": "#EBF0F8",
           "linecolor": "#EBF0F8",
           "ticks": "",
           "title": {
            "standoff": 15
           },
           "zerolinecolor": "#EBF0F8",
           "zerolinewidth": 2
          }
         }
        },
        "width": 200
       }
      }
     },
     "metadata": {},
     "output_type": "display_data"
    },
    {
     "data": {
      "application/vnd.plotly.v1+json": {
       "config": {
        "plotlyServerURL": "https://plot.ly"
       },
       "data": [
        {
         "fill": "toself",
         "line": {
          "color": "#4b8a9f",
          "width": 0.5
         },
         "mode": "lines",
         "r": [
          0.7,
          0.7000301700815933,
          0.7001197404099149,
          0.7002673011102762,
          0.7004714423079895,
          0.7007307541283666,
          0.7010438266967193,
          0.7014092501383593,
          0.7018256145785989,
          0.7022915101427498,
          0.7028055269561237,
          0.7033662551440328,
          0.7039722848317889,
          0.7046222061447038,
          0.7053146092080894,
          0.7060480841472576,
          0.7068212210875204,
          0.7076326101541895,
          0.708480841472577,
          0.7093645051679945,
          0.7102821913657542,
          0.7112324901911679,
          0.7122139917695474,
          0.7132252862262045,
          0.7142649636864513,
          0.7153316142755995,
          0.7164238281189612,
          0.7175401953418482,
          0.7186793060695723,
          0.7198397504274455,
          0.7210201185407796,
          0.7222190005348866,
          0.7234349865350783,
          0.7246666666666666,
          0.7259126310549634,
          0.7271714698252806,
          0.7284417731029301,
          0.7297221310132237,
          0.7310111336814734,
          0.7323073712329911,
          0.7336094337930884,
          0.7349159114870776,
          0.7362253944402705,
          0.7375364727779787,
          0.7388477366255144,
          0.7401577761081893,
          0.7414651813513154,
          0.7427685424802045,
          0.7440664496201687,
          0.7453574928965194,
          0.746640262434569,
          0.7479133483596294,
          0.7491753407970121,
          0.7504248298720291,
          0.7516604057099924,
          0.752880658436214,
          0.7540841781760055,
          0.755269555054679,
          0.7564353791975463,
          0.7575802407299193,
          0.75870272977711,
          0.75980143646443,
          0.7608749509171915,
          0.7619218632607062,
          0.7629407636202861,
          0.763930242121243,
          0.7648888888888888,
          0.7658152940485355,
          0.766708047725495,
          0.7675657400450789,
          0.7683869611325993,
          0.7691703011133681,
          0.7699143501126972,
          0.7706176982558984,
          0.7712789356682836,
          0.7718966524751648,
          0.7724694388018539,
          0.7729958847736627,
          0.7734745805159028,
          0.7739041161538865,
          0.7742830818129257,
          0.7746100676183321,
          0.7748836636954177,
          0.775102460169494,
          0.7752650471658736,
          0.7753700148098679,
          0.7754159532267888,
          0.7754014525419484,
          0.7753251028806584,
          0.7751854943682308,
          0.7749812171299775,
          0.7747108612912103,
          0.774373016977241,
          0.7739662743133818,
          0.7734892234249443,
          0.7729404544372405,
          0.7723185574755822,
          0.7716221226652815,
          0.7708497401316501,
          0.77,
          0.77,
          0.7690720406802438,
          0.7680671937206985,
          0.7669873389542811,
          0.7658343562139094,
          0.7646101253325006,
          0.7633165261429725,
          0.7619554384782422,
          0.7605287421712277,
          0.759038317054846,
          0.7574860429620147,
          0.7558737997256516,
          0.7542034671786737,
          0.7524769251539989,
          0.7506960534845444,
          0.748862732003228,
          0.7469788405429666,
          0.7450462589366783,
          0.7430668670172802,
          0.7410425446176901,
          0.7389751715708252,
          0.7368666277096029,
          0.7347187928669411,
          0.7325335468757569,
          0.730312769568968,
          0.7280583407794917,
          0.7257721403402456,
          0.7234560480841473,
          0.7211119438441141,
          0.7187417074530634,
          0.7163472187439128,
          0.7139303575495801,
          0.7114930037029822,
          0.7090370370370371,
          0.7065643373846618,
          0.7040767845787742,
          0.7015762584522915,
          0.6990646388381314,
          0.6965438055692111,
          0.6940156384784484,
          0.6914820173987606,
          0.6889448221630653,
          0.6864059326042796,
          0.6838672285553216,
          0.6813305898491084,
          0.6787978963185575,
          0.6762710277965864,
          0.6737518641161127,
          0.6712422851100538,
          0.668744170611327,
          0.6662594004528499,
          0.6637898544675404,
          0.6613374124883155,
          0.6589039543480927,
          0.6564913598797896,
          0.6541015089163237,
          0.6517362812906125,
          0.6493975568355734,
          0.6470872153841238,
          0.6448071367691816,
          0.6425592008236636,
          0.640345287380488,
          0.6381672762725716,
          0.6360270473328323,
          0.6339264803941878,
          0.631867455289555,
          0.6298518518518519,
          0.6278815499139956,
          0.6259584293089038,
          0.6240843698694938,
          0.6222612514286834,
          0.6204909538193897,
          0.6187753568745303,
          0.617116340427023,
          0.6155157843097849,
          0.6139755683557336,
          0.6124975723977866,
          0.6110836762688614,
          0.6097357598018754,
          0.6084557028297464,
          0.6072453851853913,
          0.606106686701728,
          0.605041487211674,
          0.6040516665481465,
          0.6031391045440632,
          0.6023056810323415,
          0.601553275845899,
          0.600883768817653,
          0.6002990397805212,
          0.5998009685674209,
          0.5993914350112697,
          0.5990723189449849,
          0.5988455002014843,
          0.5987128586136851,
          0.5986762740145046,
          0.598737626236861,
          0.5988987951136711,
          0.5991616604778527,
          0.5995281021623231,
          0.6,
          0.6,
          0.6005785412537784,
          0.601262142906465,
          0.6020485293708434,
          0.602935425059698,
          0.603920554385813,
          0.6050016417619724,
          0.6061764116009601,
          0.6074425883155604,
          0.6087978963185574,
          0.6102400600227352,
          0.6117668038408779,
          0.6133758521857696,
          0.6150649294701942,
          0.6168317601069361,
          0.6186740685087794,
          0.6205895790885078,
          0.6225760162589057,
          0.6246311044327574,
          0.6267525680228465,
          0.6289381314419575,
          0.6311855191028745,
          0.6334924554183814,
          0.6358566648012624,
          0.6382758716643014,
          0.6407478004202828,
          0.6432701754819906,
          0.6458407212622089,
          0.6484571621737216,
          0.6511172226293133,
          0.6538186270417675,
          0.6565590998238686,
          0.659336365388401,
          0.6621481481481482,
          0.6649921725158946,
          0.6678661629044244,
          0.6707678437265213,
          0.6736949393949702,
          0.6766451743225542,
          0.679616272922058,
          0.6826059596062657,
          0.6856119587879612,
          0.688631994879929,
          0.6916637922949525,
          0.6947050754458162,
          0.6977535687453044,
          0.7008069966062007,
          0.7038630834412899,
          0.7069195536633555,
          0.7099741316851816,
          0.7130245419195528,
          0.7160685087792527,
          0.7191037566770654,
          0.7221280100257756,
          0.7251389932381668,
          0.7281344307270234,
          0.7311120469051293,
          0.7340695661852688,
          0.7370047129802259,
          0.7399152117027844,
          0.742798786765729,
          0.7456531625818433,
          0.7484760635639117,
          0.7512652141247183,
          0.754018338677047,
          0.7567331616336821,
          0.7594074074074075,
          0.7620388004110074,
          0.7646250650572659,
          0.7671639257589671,
          0.7696531069288952,
          0.7720903329798341,
          0.7744733283245681,
          0.7767998173758811,
          0.7790675245465573,
          0.781274174249381,
          0.783417490897136,
          0.7854951989026064,
          0.7875050226785765,
          0.7894446866378302,
          0.791311915193152,
          0.7931044327573255,
          0.794819963743135,
          0.7964562325633647,
          0.7980109636307984,
          0.7994818813582206,
          0.8008667101584153,
          0.8021631744441662,
          0.8033689986282582,
          0.8044819071234743,
          0.8054996243425998,
          0.8064198746984177,
          0.807240382603713,
          0.8079588724712694,
          0.8085730687138708,
          0.8090806957443015,
          0.8094794779753457,
          0.8097671398197874,
          0.8099414056904111,
          0.8100000000000003
         ],
         "theta": [
          0,
          0.6060606060606061,
          1.2121212121212122,
          1.8181818181818183,
          2.4242424242424243,
          3.0303030303030303,
          3.6363636363636367,
          4.242424242424242,
          4.848484848484849,
          5.454545454545455,
          6.0606060606060606,
          6.666666666666667,
          7.272727272727273,
          7.878787878787879,
          8.484848484848484,
          9.090909090909092,
          9.696969696969697,
          10.303030303030303,
          10.90909090909091,
          11.515151515151516,
          12.121212121212121,
          12.727272727272728,
          13.333333333333334,
          13.93939393939394,
          14.545454545454547,
          15.151515151515152,
          15.757575757575758,
          16.363636363636363,
          16.96969696969697,
          17.575757575757578,
          18.181818181818183,
          18.78787878787879,
          19.393939393939394,
          20,
          20.606060606060606,
          21.21212121212121,
          21.81818181818182,
          22.424242424242426,
          23.03030303030303,
          23.636363636363637,
          24.242424242424242,
          24.848484848484848,
          25.454545454545457,
          26.060606060606062,
          26.666666666666668,
          27.272727272727273,
          27.87878787878788,
          28.484848484848484,
          29.090909090909093,
          29.6969696969697,
          30.303030303030305,
          30.90909090909091,
          31.515151515151516,
          32.121212121212125,
          32.72727272727273,
          33.333333333333336,
          33.93939393939394,
          34.54545454545455,
          35.151515151515156,
          35.75757575757576,
          36.36363636363637,
          36.96969696969697,
          37.57575757575758,
          38.18181818181818,
          38.78787878787879,
          39.3939393939394,
          40,
          40.60606060606061,
          41.21212121212121,
          41.81818181818182,
          42.42424242424242,
          43.03030303030303,
          43.63636363636364,
          44.24242424242424,
          44.84848484848485,
          45.45454545454545,
          46.06060606060606,
          46.66666666666667,
          47.27272727272727,
          47.87878787878788,
          48.484848484848484,
          49.09090909090909,
          49.696969696969695,
          50.303030303030305,
          50.909090909090914,
          51.515151515151516,
          52.121212121212125,
          52.72727272727273,
          53.333333333333336,
          53.93939393939394,
          54.54545454545455,
          55.151515151515156,
          55.75757575757576,
          56.36363636363637,
          56.96969696969697,
          57.57575757575758,
          58.18181818181819,
          58.78787878787879,
          59.3939393939394,
          60,
          60,
          60.60606060606061,
          61.21212121212121,
          61.81818181818182,
          62.42424242424242,
          63.03030303030303,
          63.63636363636364,
          64.24242424242425,
          64.84848484848484,
          65.45454545454545,
          66.06060606060606,
          66.66666666666667,
          67.27272727272728,
          67.87878787878788,
          68.48484848484848,
          69.0909090909091,
          69.6969696969697,
          70.3030303030303,
          70.9090909090909,
          71.51515151515152,
          72.12121212121212,
          72.72727272727273,
          73.33333333333333,
          73.93939393939394,
          74.54545454545455,
          75.15151515151516,
          75.75757575757575,
          76.36363636363636,
          76.96969696969697,
          77.57575757575758,
          78.18181818181819,
          78.78787878787878,
          79.39393939393939,
          80,
          80.60606060606061,
          81.21212121212122,
          81.81818181818181,
          82.42424242424242,
          83.03030303030303,
          83.63636363636364,
          84.24242424242425,
          84.84848484848484,
          85.45454545454545,
          86.06060606060606,
          86.66666666666667,
          87.27272727272728,
          87.87878787878788,
          88.48484848484848,
          89.0909090909091,
          89.6969696969697,
          90.30303030303031,
          90.9090909090909,
          91.51515151515152,
          92.12121212121212,
          92.72727272727272,
          93.33333333333334,
          93.93939393939394,
          94.54545454545455,
          95.15151515151516,
          95.75757575757575,
          96.36363636363637,
          96.96969696969697,
          97.57575757575758,
          98.18181818181819,
          98.78787878787878,
          99.3939393939394,
          100,
          100.60606060606061,
          101.21212121212122,
          101.81818181818181,
          102.42424242424242,
          103.03030303030303,
          103.63636363636364,
          104.24242424242425,
          104.84848484848484,
          105.45454545454545,
          106.06060606060606,
          106.66666666666667,
          107.27272727272728,
          107.87878787878788,
          108.48484848484848,
          109.0909090909091,
          109.69696969696969,
          110.30303030303031,
          110.9090909090909,
          111.51515151515152,
          112.12121212121212,
          112.72727272727272,
          113.33333333333334,
          113.93939393939394,
          114.54545454545455,
          115.15151515151516,
          115.75757575757575,
          116.36363636363637,
          116.96969696969697,
          117.57575757575758,
          118.18181818181819,
          118.78787878787878,
          119.3939393939394,
          120,
          120,
          120.60606060606061,
          121.21212121212122,
          121.81818181818181,
          122.42424242424242,
          123.03030303030303,
          123.63636363636364,
          124.24242424242425,
          124.84848484848484,
          125.45454545454545,
          126.06060606060606,
          126.66666666666667,
          127.27272727272728,
          127.87878787878788,
          128.4848484848485,
          129.0909090909091,
          129.6969696969697,
          130.3030303030303,
          130.9090909090909,
          131.5151515151515,
          132.12121212121212,
          132.72727272727272,
          133.33333333333334,
          133.93939393939394,
          134.54545454545456,
          135.15151515151516,
          135.75757575757575,
          136.36363636363637,
          136.96969696969697,
          137.57575757575756,
          138.1818181818182,
          138.78787878787878,
          139.3939393939394,
          140,
          140.6060606060606,
          141.21212121212122,
          141.8181818181818,
          142.42424242424244,
          143.03030303030303,
          143.63636363636363,
          144.24242424242425,
          144.84848484848484,
          145.45454545454547,
          146.06060606060606,
          146.66666666666666,
          147.27272727272728,
          147.87878787878788,
          148.4848484848485,
          149.0909090909091,
          149.6969696969697,
          150.3030303030303,
          150.9090909090909,
          151.5151515151515,
          152.12121212121212,
          152.72727272727272,
          153.33333333333334,
          153.93939393939394,
          154.54545454545456,
          155.15151515151516,
          155.75757575757575,
          156.36363636363637,
          156.96969696969697,
          157.57575757575756,
          158.1818181818182,
          158.78787878787878,
          159.3939393939394,
          160,
          160.60606060606062,
          161.21212121212122,
          161.8181818181818,
          162.42424242424244,
          163.03030303030303,
          163.63636363636363,
          164.24242424242425,
          164.84848484848484,
          165.45454545454544,
          166.06060606060606,
          166.66666666666669,
          167.27272727272728,
          167.87878787878788,
          168.4848484848485,
          169.0909090909091,
          169.6969696969697,
          170.3030303030303,
          170.9090909090909,
          171.5151515151515,
          172.12121212121212,
          172.72727272727272,
          173.33333333333334,
          173.93939393939394,
          174.54545454545456,
          175.15151515151516,
          175.75757575757575,
          176.36363636363637,
          176.96969696969697,
          177.57575757575756,
          178.1818181818182,
          178.78787878787878,
          179.3939393939394,
          180
         ],
         "type": "scatterpolar"
        },
        {
         "marker": {
          "color": "#4b8a9f",
          "size": 4
         },
         "mode": "markers",
         "r": [
          0.7,
          0.77,
          0.6,
          0.81
         ],
         "theta": [
          0,
          60,
          120,
          180
         ],
         "type": "scatterpolar"
        },
        {
         "mode": "text",
         "r": [
          0.7999999999999999,
          0.8200000000000001,
          0.65,
          0.91
         ],
         "text": [
          "70%",
          "77%",
          "60%",
          "81%"
         ],
         "textfont": {
          "color": "#4b8a9f"
         },
         "textposition": "middle left",
         "theta": [
          0,
          60,
          120,
          180
         ],
         "type": "scatterpolar"
        }
       ],
       "layout": {
        "height": 280,
        "margin": {
         "b": 20,
         "l": 50,
         "r": 32,
         "t": 20
        },
        "polar": {
         "angularaxis": {
          "direction": "counterclockwise",
          "gridcolor": "#ddd",
          "gridwidth": 2,
          "rotation": 90,
          "showline": false,
          "tickfont": {
           "size": 13
          },
          "ticktext": [
           "     <b>Precision</b>     ",
           "<b>Avg. Pr.</b>",
           "<b>IoU</b>",
           "     <b>Recall</b>     "
          ],
          "tickvals": [
           0,
           60,
           120,
           180
          ]
         },
         "radialaxis": {
          "angle": 90,
          "range": [
           0,
           1.15
          ],
          "showline": false,
          "showticklabels": false,
          "tickvals": [
           0,
           0.2,
           0.4,
           0.6,
           0.8,
           1
          ]
         },
         "sector": [
          90,
          270
         ]
        },
        "showlegend": false,
        "template": {
         "data": {
          "bar": [
           {
            "error_x": {
             "color": "#2a3f5f"
            },
            "error_y": {
             "color": "#2a3f5f"
            },
            "marker": {
             "line": {
              "color": "white",
              "width": 0.5
             },
             "pattern": {
              "fillmode": "overlay",
              "size": 10,
              "solidity": 0.2
             }
            },
            "type": "bar"
           }
          ],
          "barpolar": [
           {
            "marker": {
             "line": {
              "color": "white",
              "width": 0.5
             },
             "pattern": {
              "fillmode": "overlay",
              "size": 10,
              "solidity": 0.2
             }
            },
            "type": "barpolar"
           }
          ],
          "carpet": [
           {
            "aaxis": {
             "endlinecolor": "#2a3f5f",
             "gridcolor": "#C8D4E3",
             "linecolor": "#C8D4E3",
             "minorgridcolor": "#C8D4E3",
             "startlinecolor": "#2a3f5f"
            },
            "baxis": {
             "endlinecolor": "#2a3f5f",
             "gridcolor": "#C8D4E3",
             "linecolor": "#C8D4E3",
             "minorgridcolor": "#C8D4E3",
             "startlinecolor": "#2a3f5f"
            },
            "type": "carpet"
           }
          ],
          "choropleth": [
           {
            "colorbar": {
             "outlinewidth": 0,
             "ticks": ""
            },
            "type": "choropleth"
           }
          ],
          "contour": [
           {
            "colorbar": {
             "outlinewidth": 0,
             "ticks": ""
            },
            "colorscale": [
             [
              0,
              "#0d0887"
             ],
             [
              0.1111111111111111,
              "#46039f"
             ],
             [
              0.2222222222222222,
              "#7201a8"
             ],
             [
              0.3333333333333333,
              "#9c179e"
             ],
             [
              0.4444444444444444,
              "#bd3786"
             ],
             [
              0.5555555555555556,
              "#d8576b"
             ],
             [
              0.6666666666666666,
              "#ed7953"
             ],
             [
              0.7777777777777778,
              "#fb9f3a"
             ],
             [
              0.8888888888888888,
              "#fdca26"
             ],
             [
              1,
              "#f0f921"
             ]
            ],
            "type": "contour"
           }
          ],
          "contourcarpet": [
           {
            "colorbar": {
             "outlinewidth": 0,
             "ticks": ""
            },
            "type": "contourcarpet"
           }
          ],
          "heatmap": [
           {
            "colorbar": {
             "outlinewidth": 0,
             "ticks": ""
            },
            "colorscale": [
             [
              0,
              "#0d0887"
             ],
             [
              0.1111111111111111,
              "#46039f"
             ],
             [
              0.2222222222222222,
              "#7201a8"
             ],
             [
              0.3333333333333333,
              "#9c179e"
             ],
             [
              0.4444444444444444,
              "#bd3786"
             ],
             [
              0.5555555555555556,
              "#d8576b"
             ],
             [
              0.6666666666666666,
              "#ed7953"
             ],
             [
              0.7777777777777778,
              "#fb9f3a"
             ],
             [
              0.8888888888888888,
              "#fdca26"
             ],
             [
              1,
              "#f0f921"
             ]
            ],
            "type": "heatmap"
           }
          ],
          "heatmapgl": [
           {
            "colorbar": {
             "outlinewidth": 0,
             "ticks": ""
            },
            "colorscale": [
             [
              0,
              "#0d0887"
             ],
             [
              0.1111111111111111,
              "#46039f"
             ],
             [
              0.2222222222222222,
              "#7201a8"
             ],
             [
              0.3333333333333333,
              "#9c179e"
             ],
             [
              0.4444444444444444,
              "#bd3786"
             ],
             [
              0.5555555555555556,
              "#d8576b"
             ],
             [
              0.6666666666666666,
              "#ed7953"
             ],
             [
              0.7777777777777778,
              "#fb9f3a"
             ],
             [
              0.8888888888888888,
              "#fdca26"
             ],
             [
              1,
              "#f0f921"
             ]
            ],
            "type": "heatmapgl"
           }
          ],
          "histogram": [
           {
            "marker": {
             "pattern": {
              "fillmode": "overlay",
              "size": 10,
              "solidity": 0.2
             }
            },
            "type": "histogram"
           }
          ],
          "histogram2d": [
           {
            "colorbar": {
             "outlinewidth": 0,
             "ticks": ""
            },
            "colorscale": [
             [
              0,
              "#0d0887"
             ],
             [
              0.1111111111111111,
              "#46039f"
             ],
             [
              0.2222222222222222,
              "#7201a8"
             ],
             [
              0.3333333333333333,
              "#9c179e"
             ],
             [
              0.4444444444444444,
              "#bd3786"
             ],
             [
              0.5555555555555556,
              "#d8576b"
             ],
             [
              0.6666666666666666,
              "#ed7953"
             ],
             [
              0.7777777777777778,
              "#fb9f3a"
             ],
             [
              0.8888888888888888,
              "#fdca26"
             ],
             [
              1,
              "#f0f921"
             ]
            ],
            "type": "histogram2d"
           }
          ],
          "histogram2dcontour": [
           {
            "colorbar": {
             "outlinewidth": 0,
             "ticks": ""
            },
            "colorscale": [
             [
              0,
              "#0d0887"
             ],
             [
              0.1111111111111111,
              "#46039f"
             ],
             [
              0.2222222222222222,
              "#7201a8"
             ],
             [
              0.3333333333333333,
              "#9c179e"
             ],
             [
              0.4444444444444444,
              "#bd3786"
             ],
             [
              0.5555555555555556,
              "#d8576b"
             ],
             [
              0.6666666666666666,
              "#ed7953"
             ],
             [
              0.7777777777777778,
              "#fb9f3a"
             ],
             [
              0.8888888888888888,
              "#fdca26"
             ],
             [
              1,
              "#f0f921"
             ]
            ],
            "type": "histogram2dcontour"
           }
          ],
          "mesh3d": [
           {
            "colorbar": {
             "outlinewidth": 0,
             "ticks": ""
            },
            "type": "mesh3d"
           }
          ],
          "parcoords": [
           {
            "line": {
             "colorbar": {
              "outlinewidth": 0,
              "ticks": ""
             }
            },
            "type": "parcoords"
           }
          ],
          "pie": [
           {
            "automargin": true,
            "type": "pie"
           }
          ],
          "scatter": [
           {
            "fillpattern": {
             "fillmode": "overlay",
             "size": 10,
             "solidity": 0.2
            },
            "type": "scatter"
           }
          ],
          "scatter3d": [
           {
            "line": {
             "colorbar": {
              "outlinewidth": 0,
              "ticks": ""
             }
            },
            "marker": {
             "colorbar": {
              "outlinewidth": 0,
              "ticks": ""
             }
            },
            "type": "scatter3d"
           }
          ],
          "scattercarpet": [
           {
            "marker": {
             "colorbar": {
              "outlinewidth": 0,
              "ticks": ""
             }
            },
            "type": "scattercarpet"
           }
          ],
          "scattergeo": [
           {
            "marker": {
             "colorbar": {
              "outlinewidth": 0,
              "ticks": ""
             }
            },
            "type": "scattergeo"
           }
          ],
          "scattergl": [
           {
            "marker": {
             "colorbar": {
              "outlinewidth": 0,
              "ticks": ""
             }
            },
            "type": "scattergl"
           }
          ],
          "scattermapbox": [
           {
            "marker": {
             "colorbar": {
              "outlinewidth": 0,
              "ticks": ""
             }
            },
            "type": "scattermapbox"
           }
          ],
          "scatterpolar": [
           {
            "marker": {
             "colorbar": {
              "outlinewidth": 0,
              "ticks": ""
             }
            },
            "type": "scatterpolar"
           }
          ],
          "scatterpolargl": [
           {
            "marker": {
             "colorbar": {
              "outlinewidth": 0,
              "ticks": ""
             }
            },
            "type": "scatterpolargl"
           }
          ],
          "scatterternary": [
           {
            "marker": {
             "colorbar": {
              "outlinewidth": 0,
              "ticks": ""
             }
            },
            "type": "scatterternary"
           }
          ],
          "surface": [
           {
            "colorbar": {
             "outlinewidth": 0,
             "ticks": ""
            },
            "colorscale": [
             [
              0,
              "#0d0887"
             ],
             [
              0.1111111111111111,
              "#46039f"
             ],
             [
              0.2222222222222222,
              "#7201a8"
             ],
             [
              0.3333333333333333,
              "#9c179e"
             ],
             [
              0.4444444444444444,
              "#bd3786"
             ],
             [
              0.5555555555555556,
              "#d8576b"
             ],
             [
              0.6666666666666666,
              "#ed7953"
             ],
             [
              0.7777777777777778,
              "#fb9f3a"
             ],
             [
              0.8888888888888888,
              "#fdca26"
             ],
             [
              1,
              "#f0f921"
             ]
            ],
            "type": "surface"
           }
          ],
          "table": [
           {
            "cells": {
             "fill": {
              "color": "#EBF0F8"
             },
             "line": {
              "color": "white"
             }
            },
            "header": {
             "fill": {
              "color": "#C8D4E3"
             },
             "line": {
              "color": "white"
             }
            },
            "type": "table"
           }
          ]
         },
         "layout": {
          "annotationdefaults": {
           "arrowcolor": "#2a3f5f",
           "arrowhead": 0,
           "arrowwidth": 1
          },
          "autotypenumbers": "strict",
          "coloraxis": {
           "colorbar": {
            "outlinewidth": 0,
            "ticks": ""
           }
          },
          "colorscale": {
           "diverging": [
            [
             0,
             "#8e0152"
            ],
            [
             0.1,
             "#c51b7d"
            ],
            [
             0.2,
             "#de77ae"
            ],
            [
             0.3,
             "#f1b6da"
            ],
            [
             0.4,
             "#fde0ef"
            ],
            [
             0.5,
             "#f7f7f7"
            ],
            [
             0.6,
             "#e6f5d0"
            ],
            [
             0.7,
             "#b8e186"
            ],
            [
             0.8,
             "#7fbc41"
            ],
            [
             0.9,
             "#4d9221"
            ],
            [
             1,
             "#276419"
            ]
           ],
           "sequential": [
            [
             0,
             "#0d0887"
            ],
            [
             0.1111111111111111,
             "#46039f"
            ],
            [
             0.2222222222222222,
             "#7201a8"
            ],
            [
             0.3333333333333333,
             "#9c179e"
            ],
            [
             0.4444444444444444,
             "#bd3786"
            ],
            [
             0.5555555555555556,
             "#d8576b"
            ],
            [
             0.6666666666666666,
             "#ed7953"
            ],
            [
             0.7777777777777778,
             "#fb9f3a"
            ],
            [
             0.8888888888888888,
             "#fdca26"
            ],
            [
             1,
             "#f0f921"
            ]
           ],
           "sequentialminus": [
            [
             0,
             "#0d0887"
            ],
            [
             0.1111111111111111,
             "#46039f"
            ],
            [
             0.2222222222222222,
             "#7201a8"
            ],
            [
             0.3333333333333333,
             "#9c179e"
            ],
            [
             0.4444444444444444,
             "#bd3786"
            ],
            [
             0.5555555555555556,
             "#d8576b"
            ],
            [
             0.6666666666666666,
             "#ed7953"
            ],
            [
             0.7777777777777778,
             "#fb9f3a"
            ],
            [
             0.8888888888888888,
             "#fdca26"
            ],
            [
             1,
             "#f0f921"
            ]
           ]
          },
          "colorway": [
           "#636efa",
           "#EF553B",
           "#00cc96",
           "#ab63fa",
           "#FFA15A",
           "#19d3f3",
           "#FF6692",
           "#B6E880",
           "#FF97FF",
           "#FECB52"
          ],
          "font": {
           "color": "#2a3f5f"
          },
          "geo": {
           "bgcolor": "white",
           "lakecolor": "white",
           "landcolor": "white",
           "showlakes": true,
           "showland": true,
           "subunitcolor": "#C8D4E3"
          },
          "hoverlabel": {
           "align": "left"
          },
          "hovermode": "closest",
          "mapbox": {
           "style": "light"
          },
          "paper_bgcolor": "white",
          "plot_bgcolor": "white",
          "polar": {
           "angularaxis": {
            "gridcolor": "#EBF0F8",
            "linecolor": "#EBF0F8",
            "ticks": ""
           },
           "bgcolor": "white",
           "radialaxis": {
            "gridcolor": "#EBF0F8",
            "linecolor": "#EBF0F8",
            "ticks": ""
           }
          },
          "scene": {
           "xaxis": {
            "backgroundcolor": "white",
            "gridcolor": "#DFE8F3",
            "gridwidth": 2,
            "linecolor": "#EBF0F8",
            "showbackground": true,
            "ticks": "",
            "zerolinecolor": "#EBF0F8"
           },
           "yaxis": {
            "backgroundcolor": "white",
            "gridcolor": "#DFE8F3",
            "gridwidth": 2,
            "linecolor": "#EBF0F8",
            "showbackground": true,
            "ticks": "",
            "zerolinecolor": "#EBF0F8"
           },
           "zaxis": {
            "backgroundcolor": "white",
            "gridcolor": "#DFE8F3",
            "gridwidth": 2,
            "linecolor": "#EBF0F8",
            "showbackground": true,
            "ticks": "",
            "zerolinecolor": "#EBF0F8"
           }
          },
          "shapedefaults": {
           "line": {
            "color": "#2a3f5f"
           }
          },
          "ternary": {
           "aaxis": {
            "gridcolor": "#DFE8F3",
            "linecolor": "#A2B1C6",
            "ticks": ""
           },
           "baxis": {
            "gridcolor": "#DFE8F3",
            "linecolor": "#A2B1C6",
            "ticks": ""
           },
           "bgcolor": "white",
           "caxis": {
            "gridcolor": "#DFE8F3",
            "linecolor": "#A2B1C6",
            "ticks": ""
           }
          },
          "title": {
           "x": 0.05
          },
          "xaxis": {
           "automargin": true,
           "gridcolor": "#EBF0F8",
           "linecolor": "#EBF0F8",
           "ticks": "",
           "title": {
            "standoff": 15
           },
           "zerolinecolor": "#EBF0F8",
           "zerolinewidth": 2
          },
          "yaxis": {
           "automargin": true,
           "gridcolor": "#EBF0F8",
           "linecolor": "#EBF0F8",
           "ticks": "",
           "title": {
            "standoff": 15
           },
           "zerolinecolor": "#EBF0F8",
           "zerolinewidth": 2
          }
         }
        },
        "width": 200
       }
      }
     },
     "metadata": {},
     "output_type": "display_data"
    },
    {
     "data": {
      "application/vnd.plotly.v1+json": {
       "config": {
        "plotlyServerURL": "https://plot.ly"
       },
       "data": [
        {
         "fill": "toself",
         "line": {
          "color": "#4b8a9f",
          "width": 0.5
         },
         "mode": "lines",
         "r": [
          0.42,
          0.4200847037871831,
          0.420336440622942,
          0.42075164871859083,
          0.42132676628544397,
          0.42205823153481553,
          0.4229424826780198,
          0.42397595792637116,
          0.42515509549118363,
          0.42647633358377157,
          0.42793611041544927,
          0.42953086419753084,
          0.4312570331413306,
          0.43311105545816286,
          0.4350893693593418,
          0.4371884130561816,
          0.4394046247599966,
          0.44173444268210105,
          0.4441743050338091,
          0.4467206500264351,
          0.4493699158712932,
          0.45211854077969776,
          0.4549629629629629,
          0.45789962063240297,
          0.46092495199933214,
          0.46403539527506465,
          0.4672273886709148,
          0.47049737039819683,
          0.4738417786682249,
          0.47725705169231336,
          0.4807396276817764,
          0.4842859448479283,
          0.48789244140208327,
          0.4915555555555555,
          0.49527172551965937,
          0.4990373895057091,
          0.5028489857250188,
          0.5067029523889028,
          0.5105957277086755,
          0.5145237498956508,
          0.5184834571611431,
          0.5224712877164669,
          0.5264836797729361,
          0.5305170715418649,
          0.5345679012345679,
          0.5386326070623592,
          0.5427076272365527,
          0.5467893999684633,
          0.5508743634694048,
          0.5549589559506914,
          0.5590396156236377,
          0.5631127806995576,
          0.5671748893897653,
          0.5712223799055755,
          0.575251690458302,
          0.5792592592592594,
          0.5832415245197614,
          0.5871949244511229,
          0.5911158972646577,
          0.59500088117168,
          0.5988463143835046,
          0.6026486351114451,
          0.606404281566816,
          0.6101096919609317,
          0.6137613045051061,
          0.6173555574106538,
          0.6208888888888889,
          0.6243577371511257,
          0.6277585404086782,
          0.6310877368728609,
          0.6343417647549879,
          0.6375170622663735,
          0.6406100676183322,
          0.6436172190221777,
          0.6465349546892247,
          0.6493597128307871,
          0.6520879316581797,
          0.6547160493827161,
          0.6572405042157108,
          0.6596577343684782,
          0.6619641780523322,
          0.6641562734785875,
          0.6662304588585581,
          0.6681831724035583,
          0.6700108523249019,
          0.6717099368339039,
          0.673276864141878,
          0.6747080724601385,
          0.676,
          0.6771490849727766,
          0.6781517655897822,
          0.6790044800623313,
          0.6797036666017383,
          0.6802457634193173,
          0.6806272087263825,
          0.6808444407342481,
          0.6808938976542284,
          0.6807720176976377,
          0.6804752390757901,
          0.68,
          0.68,
          0.6793440310667125,
          0.6785102324128954,
          0.6775027965606477,
          0.6763259160320685,
          0.6749837833492563,
          0.6734805910343101,
          0.6718205316093286,
          0.670007797596411,
          0.6680465815176561,
          0.6659410758951622,
          0.6636954732510288,
          0.6613139661073545,
          0.6588007469862383,
          0.656160008409779,
          0.6533959429000752,
          0.650512742979226,
          0.6475146011693302,
          0.6444057099924869,
          0.6411902619707947,
          0.6378724496263524,
          0.6344564654812589,
          0.6309465020576132,
          0.6273467518775141,
          0.6236614074630604,
          0.619894661336351,
          0.6160507060194849,
          0.6121337340345606,
          0.6081479379036772,
          0.6040975101489334,
          0.5999866432924285,
          0.595819529856261,
          0.5916003623625296,
          0.5873333333333334,
          0.5830226352907711,
          0.5786724607569419,
          0.5742870022539445,
          0.5698704523038776,
          0.56542700342884,
          0.5609608481509308,
          0.5564761789922487,
          0.5519771884748929,
          0.5474680691209617,
          0.5429530134525544,
          0.5384362139917696,
          0.5339218632607062,
          0.5294141537814633,
          0.5249172780761394,
          0.5204354286668337,
          0.5159727980756448,
          0.5115335788246715,
          0.5071219634360131,
          0.502742144431768,
          0.4983983143340351,
          0.4940946656649136,
          0.48983539094650197,
          0.4856246827008995,
          0.4814667334502046,
          0.4773657357165163,
          0.4733258820219335,
          0.4693513648885549,
          0.46544637683847967,
          0.4616151103938064,
          0.4578617580766341,
          0.4541905124090616,
          0.45060556591318746,
          0.447111111111111,
          0.4437113405249309,
          0.440410446676746,
          0.4372126220886552,
          0.43412205928275727,
          0.43114295078115095,
          0.42827948910593533,
          0.42553586677920924,
          0.42291627632307155,
          0.420424910259621,
          0.4180659611109565,
          0.41584362139917697,
          0.41376208364638106,
          0.41182554037466795,
          0.4100381841061364,
          0.4084042073628851,
          0.40692780266701295,
          0.40561316254061885,
          0.4044644795058018,
          0.4034859460846603,
          0.4026817547992938,
          0.40205609817180066,
          0.40161316872427977,
          0.4013571589788303,
          0.4012922614575507,
          0.40142266868254006,
          0.4017525731758972,
          0.4022861674597211,
          0.40302764405611047,
          0.40398119548716427,
          0.4051510142749811,
          0.4065412929416601,
          0.4081562240093003,
          0.41,
          0.41,
          0.4120752633981897,
          0.41437845653762395,
          0.41690447171438905,
          0.4196482012245709,
          0.42260453736425574,
          0.4257683724295294,
          0.42913459871647813,
          0.43269810852118773,
          0.4364537941397445,
          0.4403965478682344,
          0.4445212620027435,
          0.4488228288393578,
          0.45329614067416324,
          0.4579360898032463,
          0.46273756852269243,
          0.4676954691285881,
          0.47280468391701946,
          0.47806010518407205,
          0.48345662522583227,
          0.4889891363383864,
          0.49465253081781996,
          0.5004417009602196,
          0.5063515390616706,
          0.5123769374182598,
          0.5185127883260727,
          0.5247539840811956,
          0.5310954169797146,
          0.5375319793177153,
          0.5440585633912844,
          0.5506700614965078,
          0.5573613659294712,
          0.564127368986261,
          0.570962962962963,
          0.5778630401556631,
          0.5848224928604482,
          0.5918362133734034,
          0.5988990939906154,
          0.6060060270081697,
          0.6131519047221525,
          0.6203316194286504,
          0.6275400634237487,
          0.6347721290035342,
          0.6420227084640919,
          0.6492866941015087,
          0.6565589782118709,
          0.6638344530912635,
          0.6711080110357737,
          0.6783745443414865,
          0.6856289453044886,
          0.6928661062208661,
          0.7000809193867046,
          0.7072682770980901,
          0.7144230716511095,
          0.7215401953418481,
          0.7286145404663925,
          0.7356409993208278,
          0.7426144642012411,
          0.749529827403718,
          0.7563819812243442,
          0.7631658179592066,
          0.7698762299043903,
          0.7765081093559818,
          0.7830563486100677,
          0.7895158399627331,
          0.7958814757100648,
          0.8021481481481482,
          0.8083107495730699,
          0.8143641722809154,
          0.8203033085677714,
          0.8261230507297237,
          0.831818291062858,
          0.8373839218632608,
          0.842814835427018,
          0.8481059240502153,
          0.8532520800289394,
          0.8582481956592761,
          0.8630891632373114,
          0.8677698750591313,
          0.8722852234208219,
          0.8766301006184694,
          0.8807993989481593,
          0.8847880107059781,
          0.8885908281880122,
          0.8922027436903471,
          0.8956186495090688,
          0.8988334379402639,
          0.9018420012800178,
          0.9046392318244172,
          0.9072200218695473,
          0.9095792637114953,
          0.9117118496463462,
          0.9136126719701866,
          0.9152766229791024,
          0.9166985949691795,
          0.9178734802365043,
          0.9187961710771629,
          0.9194615597872409,
          0.9198645386628245,
          0.92
         ],
         "theta": [
          0,
          0.6060606060606061,
          1.2121212121212122,
          1.8181818181818183,
          2.4242424242424243,
          3.0303030303030303,
          3.6363636363636367,
          4.242424242424242,
          4.848484848484849,
          5.454545454545455,
          6.0606060606060606,
          6.666666666666667,
          7.272727272727273,
          7.878787878787879,
          8.484848484848484,
          9.090909090909092,
          9.696969696969697,
          10.303030303030303,
          10.90909090909091,
          11.515151515151516,
          12.121212121212121,
          12.727272727272728,
          13.333333333333334,
          13.93939393939394,
          14.545454545454547,
          15.151515151515152,
          15.757575757575758,
          16.363636363636363,
          16.96969696969697,
          17.575757575757578,
          18.181818181818183,
          18.78787878787879,
          19.393939393939394,
          20,
          20.606060606060606,
          21.21212121212121,
          21.81818181818182,
          22.424242424242426,
          23.03030303030303,
          23.636363636363637,
          24.242424242424242,
          24.848484848484848,
          25.454545454545457,
          26.060606060606062,
          26.666666666666668,
          27.272727272727273,
          27.87878787878788,
          28.484848484848484,
          29.090909090909093,
          29.6969696969697,
          30.303030303030305,
          30.90909090909091,
          31.515151515151516,
          32.121212121212125,
          32.72727272727273,
          33.333333333333336,
          33.93939393939394,
          34.54545454545455,
          35.151515151515156,
          35.75757575757576,
          36.36363636363637,
          36.96969696969697,
          37.57575757575758,
          38.18181818181818,
          38.78787878787879,
          39.3939393939394,
          40,
          40.60606060606061,
          41.21212121212121,
          41.81818181818182,
          42.42424242424242,
          43.03030303030303,
          43.63636363636364,
          44.24242424242424,
          44.84848484848485,
          45.45454545454545,
          46.06060606060606,
          46.66666666666667,
          47.27272727272727,
          47.87878787878788,
          48.484848484848484,
          49.09090909090909,
          49.696969696969695,
          50.303030303030305,
          50.909090909090914,
          51.515151515151516,
          52.121212121212125,
          52.72727272727273,
          53.333333333333336,
          53.93939393939394,
          54.54545454545455,
          55.151515151515156,
          55.75757575757576,
          56.36363636363637,
          56.96969696969697,
          57.57575757575758,
          58.18181818181819,
          58.78787878787879,
          59.3939393939394,
          60,
          60,
          60.60606060606061,
          61.21212121212121,
          61.81818181818182,
          62.42424242424242,
          63.03030303030303,
          63.63636363636364,
          64.24242424242425,
          64.84848484848484,
          65.45454545454545,
          66.06060606060606,
          66.66666666666667,
          67.27272727272728,
          67.87878787878788,
          68.48484848484848,
          69.0909090909091,
          69.6969696969697,
          70.3030303030303,
          70.9090909090909,
          71.51515151515152,
          72.12121212121212,
          72.72727272727273,
          73.33333333333333,
          73.93939393939394,
          74.54545454545455,
          75.15151515151516,
          75.75757575757575,
          76.36363636363636,
          76.96969696969697,
          77.57575757575758,
          78.18181818181819,
          78.78787878787878,
          79.39393939393939,
          80,
          80.60606060606061,
          81.21212121212122,
          81.81818181818181,
          82.42424242424242,
          83.03030303030303,
          83.63636363636364,
          84.24242424242425,
          84.84848484848484,
          85.45454545454545,
          86.06060606060606,
          86.66666666666667,
          87.27272727272728,
          87.87878787878788,
          88.48484848484848,
          89.0909090909091,
          89.6969696969697,
          90.30303030303031,
          90.9090909090909,
          91.51515151515152,
          92.12121212121212,
          92.72727272727272,
          93.33333333333334,
          93.93939393939394,
          94.54545454545455,
          95.15151515151516,
          95.75757575757575,
          96.36363636363637,
          96.96969696969697,
          97.57575757575758,
          98.18181818181819,
          98.78787878787878,
          99.3939393939394,
          100,
          100.60606060606061,
          101.21212121212122,
          101.81818181818181,
          102.42424242424242,
          103.03030303030303,
          103.63636363636364,
          104.24242424242425,
          104.84848484848484,
          105.45454545454545,
          106.06060606060606,
          106.66666666666667,
          107.27272727272728,
          107.87878787878788,
          108.48484848484848,
          109.0909090909091,
          109.69696969696969,
          110.30303030303031,
          110.9090909090909,
          111.51515151515152,
          112.12121212121212,
          112.72727272727272,
          113.33333333333334,
          113.93939393939394,
          114.54545454545455,
          115.15151515151516,
          115.75757575757575,
          116.36363636363637,
          116.96969696969697,
          117.57575757575758,
          118.18181818181819,
          118.78787878787878,
          119.3939393939394,
          120,
          120,
          120.60606060606061,
          121.21212121212122,
          121.81818181818181,
          122.42424242424242,
          123.03030303030303,
          123.63636363636364,
          124.24242424242425,
          124.84848484848484,
          125.45454545454545,
          126.06060606060606,
          126.66666666666667,
          127.27272727272728,
          127.87878787878788,
          128.4848484848485,
          129.0909090909091,
          129.6969696969697,
          130.3030303030303,
          130.9090909090909,
          131.5151515151515,
          132.12121212121212,
          132.72727272727272,
          133.33333333333334,
          133.93939393939394,
          134.54545454545456,
          135.15151515151516,
          135.75757575757575,
          136.36363636363637,
          136.96969696969697,
          137.57575757575756,
          138.1818181818182,
          138.78787878787878,
          139.3939393939394,
          140,
          140.6060606060606,
          141.21212121212122,
          141.8181818181818,
          142.42424242424244,
          143.03030303030303,
          143.63636363636363,
          144.24242424242425,
          144.84848484848484,
          145.45454545454547,
          146.06060606060606,
          146.66666666666666,
          147.27272727272728,
          147.87878787878788,
          148.4848484848485,
          149.0909090909091,
          149.6969696969697,
          150.3030303030303,
          150.9090909090909,
          151.5151515151515,
          152.12121212121212,
          152.72727272727272,
          153.33333333333334,
          153.93939393939394,
          154.54545454545456,
          155.15151515151516,
          155.75757575757575,
          156.36363636363637,
          156.96969696969697,
          157.57575757575756,
          158.1818181818182,
          158.78787878787878,
          159.3939393939394,
          160,
          160.60606060606062,
          161.21212121212122,
          161.8181818181818,
          162.42424242424244,
          163.03030303030303,
          163.63636363636363,
          164.24242424242425,
          164.84848484848484,
          165.45454545454544,
          166.06060606060606,
          166.66666666666669,
          167.27272727272728,
          167.87878787878788,
          168.4848484848485,
          169.0909090909091,
          169.6969696969697,
          170.3030303030303,
          170.9090909090909,
          171.5151515151515,
          172.12121212121212,
          172.72727272727272,
          173.33333333333334,
          173.93939393939394,
          174.54545454545456,
          175.15151515151516,
          175.75757575757575,
          176.36363636363637,
          176.96969696969697,
          177.57575757575756,
          178.1818181818182,
          178.78787878787878,
          179.3939393939394,
          180
         ],
         "type": "scatterpolar"
        },
        {
         "marker": {
          "color": "#4b8a9f",
          "size": 4
         },
         "mode": "markers",
         "r": [
          0.42,
          0.68,
          0.41,
          0.92
         ],
         "theta": [
          0,
          60,
          120,
          180
         ],
         "type": "scatterpolar"
        },
        {
         "mode": "text",
         "r": [
          0.52,
          0.7300000000000001,
          0.45999999999999996,
          1.02
         ],
         "text": [
          "42%",
          "68%",
          "41%",
          "92%"
         ],
         "textfont": {
          "color": "#4b8a9f"
         },
         "textposition": "middle right",
         "theta": [
          0,
          60,
          120,
          180
         ],
         "type": "scatterpolar"
        }
       ],
       "layout": {
        "height": 280,
        "margin": {
         "b": 20,
         "l": 32,
         "r": 50,
         "t": 20
        },
        "polar": {
         "angularaxis": {
          "direction": "clockwise",
          "gridcolor": "#ddd",
          "gridwidth": 2,
          "rotation": 90,
          "showline": false,
          "tickfont": {
           "size": 13
          },
          "ticktext": [
           "     <b>Precision</b>     ",
           "<b>Avg. Pr.</b>",
           "<b>IoU</b>",
           "     <b>Recall</b>     "
          ],
          "tickvals": [
           0,
           60,
           120,
           180
          ]
         },
         "radialaxis": {
          "angle": -90,
          "range": [
           0,
           1.15
          ],
          "showline": false,
          "showticklabels": false,
          "tickvals": [
           0,
           0.2,
           0.4,
           0.6,
           0.8,
           1
          ]
         },
         "sector": [
          -90,
          90
         ]
        },
        "showlegend": false,
        "template": {
         "data": {
          "bar": [
           {
            "error_x": {
             "color": "#2a3f5f"
            },
            "error_y": {
             "color": "#2a3f5f"
            },
            "marker": {
             "line": {
              "color": "white",
              "width": 0.5
             },
             "pattern": {
              "fillmode": "overlay",
              "size": 10,
              "solidity": 0.2
             }
            },
            "type": "bar"
           }
          ],
          "barpolar": [
           {
            "marker": {
             "line": {
              "color": "white",
              "width": 0.5
             },
             "pattern": {
              "fillmode": "overlay",
              "size": 10,
              "solidity": 0.2
             }
            },
            "type": "barpolar"
           }
          ],
          "carpet": [
           {
            "aaxis": {
             "endlinecolor": "#2a3f5f",
             "gridcolor": "#C8D4E3",
             "linecolor": "#C8D4E3",
             "minorgridcolor": "#C8D4E3",
             "startlinecolor": "#2a3f5f"
            },
            "baxis": {
             "endlinecolor": "#2a3f5f",
             "gridcolor": "#C8D4E3",
             "linecolor": "#C8D4E3",
             "minorgridcolor": "#C8D4E3",
             "startlinecolor": "#2a3f5f"
            },
            "type": "carpet"
           }
          ],
          "choropleth": [
           {
            "colorbar": {
             "outlinewidth": 0,
             "ticks": ""
            },
            "type": "choropleth"
           }
          ],
          "contour": [
           {
            "colorbar": {
             "outlinewidth": 0,
             "ticks": ""
            },
            "colorscale": [
             [
              0,
              "#0d0887"
             ],
             [
              0.1111111111111111,
              "#46039f"
             ],
             [
              0.2222222222222222,
              "#7201a8"
             ],
             [
              0.3333333333333333,
              "#9c179e"
             ],
             [
              0.4444444444444444,
              "#bd3786"
             ],
             [
              0.5555555555555556,
              "#d8576b"
             ],
             [
              0.6666666666666666,
              "#ed7953"
             ],
             [
              0.7777777777777778,
              "#fb9f3a"
             ],
             [
              0.8888888888888888,
              "#fdca26"
             ],
             [
              1,
              "#f0f921"
             ]
            ],
            "type": "contour"
           }
          ],
          "contourcarpet": [
           {
            "colorbar": {
             "outlinewidth": 0,
             "ticks": ""
            },
            "type": "contourcarpet"
           }
          ],
          "heatmap": [
           {
            "colorbar": {
             "outlinewidth": 0,
             "ticks": ""
            },
            "colorscale": [
             [
              0,
              "#0d0887"
             ],
             [
              0.1111111111111111,
              "#46039f"
             ],
             [
              0.2222222222222222,
              "#7201a8"
             ],
             [
              0.3333333333333333,
              "#9c179e"
             ],
             [
              0.4444444444444444,
              "#bd3786"
             ],
             [
              0.5555555555555556,
              "#d8576b"
             ],
             [
              0.6666666666666666,
              "#ed7953"
             ],
             [
              0.7777777777777778,
              "#fb9f3a"
             ],
             [
              0.8888888888888888,
              "#fdca26"
             ],
             [
              1,
              "#f0f921"
             ]
            ],
            "type": "heatmap"
           }
          ],
          "heatmapgl": [
           {
            "colorbar": {
             "outlinewidth": 0,
             "ticks": ""
            },
            "colorscale": [
             [
              0,
              "#0d0887"
             ],
             [
              0.1111111111111111,
              "#46039f"
             ],
             [
              0.2222222222222222,
              "#7201a8"
             ],
             [
              0.3333333333333333,
              "#9c179e"
             ],
             [
              0.4444444444444444,
              "#bd3786"
             ],
             [
              0.5555555555555556,
              "#d8576b"
             ],
             [
              0.6666666666666666,
              "#ed7953"
             ],
             [
              0.7777777777777778,
              "#fb9f3a"
             ],
             [
              0.8888888888888888,
              "#fdca26"
             ],
             [
              1,
              "#f0f921"
             ]
            ],
            "type": "heatmapgl"
           }
          ],
          "histogram": [
           {
            "marker": {
             "pattern": {
              "fillmode": "overlay",
              "size": 10,
              "solidity": 0.2
             }
            },
            "type": "histogram"
           }
          ],
          "histogram2d": [
           {
            "colorbar": {
             "outlinewidth": 0,
             "ticks": ""
            },
            "colorscale": [
             [
              0,
              "#0d0887"
             ],
             [
              0.1111111111111111,
              "#46039f"
             ],
             [
              0.2222222222222222,
              "#7201a8"
             ],
             [
              0.3333333333333333,
              "#9c179e"
             ],
             [
              0.4444444444444444,
              "#bd3786"
             ],
             [
              0.5555555555555556,
              "#d8576b"
             ],
             [
              0.6666666666666666,
              "#ed7953"
             ],
             [
              0.7777777777777778,
              "#fb9f3a"
             ],
             [
              0.8888888888888888,
              "#fdca26"
             ],
             [
              1,
              "#f0f921"
             ]
            ],
            "type": "histogram2d"
           }
          ],
          "histogram2dcontour": [
           {
            "colorbar": {
             "outlinewidth": 0,
             "ticks": ""
            },
            "colorscale": [
             [
              0,
              "#0d0887"
             ],
             [
              0.1111111111111111,
              "#46039f"
             ],
             [
              0.2222222222222222,
              "#7201a8"
             ],
             [
              0.3333333333333333,
              "#9c179e"
             ],
             [
              0.4444444444444444,
              "#bd3786"
             ],
             [
              0.5555555555555556,
              "#d8576b"
             ],
             [
              0.6666666666666666,
              "#ed7953"
             ],
             [
              0.7777777777777778,
              "#fb9f3a"
             ],
             [
              0.8888888888888888,
              "#fdca26"
             ],
             [
              1,
              "#f0f921"
             ]
            ],
            "type": "histogram2dcontour"
           }
          ],
          "mesh3d": [
           {
            "colorbar": {
             "outlinewidth": 0,
             "ticks": ""
            },
            "type": "mesh3d"
           }
          ],
          "parcoords": [
           {
            "line": {
             "colorbar": {
              "outlinewidth": 0,
              "ticks": ""
             }
            },
            "type": "parcoords"
           }
          ],
          "pie": [
           {
            "automargin": true,
            "type": "pie"
           }
          ],
          "scatter": [
           {
            "fillpattern": {
             "fillmode": "overlay",
             "size": 10,
             "solidity": 0.2
            },
            "type": "scatter"
           }
          ],
          "scatter3d": [
           {
            "line": {
             "colorbar": {
              "outlinewidth": 0,
              "ticks": ""
             }
            },
            "marker": {
             "colorbar": {
              "outlinewidth": 0,
              "ticks": ""
             }
            },
            "type": "scatter3d"
           }
          ],
          "scattercarpet": [
           {
            "marker": {
             "colorbar": {
              "outlinewidth": 0,
              "ticks": ""
             }
            },
            "type": "scattercarpet"
           }
          ],
          "scattergeo": [
           {
            "marker": {
             "colorbar": {
              "outlinewidth": 0,
              "ticks": ""
             }
            },
            "type": "scattergeo"
           }
          ],
          "scattergl": [
           {
            "marker": {
             "colorbar": {
              "outlinewidth": 0,
              "ticks": ""
             }
            },
            "type": "scattergl"
           }
          ],
          "scattermapbox": [
           {
            "marker": {
             "colorbar": {
              "outlinewidth": 0,
              "ticks": ""
             }
            },
            "type": "scattermapbox"
           }
          ],
          "scatterpolar": [
           {
            "marker": {
             "colorbar": {
              "outlinewidth": 0,
              "ticks": ""
             }
            },
            "type": "scatterpolar"
           }
          ],
          "scatterpolargl": [
           {
            "marker": {
             "colorbar": {
              "outlinewidth": 0,
              "ticks": ""
             }
            },
            "type": "scatterpolargl"
           }
          ],
          "scatterternary": [
           {
            "marker": {
             "colorbar": {
              "outlinewidth": 0,
              "ticks": ""
             }
            },
            "type": "scatterternary"
           }
          ],
          "surface": [
           {
            "colorbar": {
             "outlinewidth": 0,
             "ticks": ""
            },
            "colorscale": [
             [
              0,
              "#0d0887"
             ],
             [
              0.1111111111111111,
              "#46039f"
             ],
             [
              0.2222222222222222,
              "#7201a8"
             ],
             [
              0.3333333333333333,
              "#9c179e"
             ],
             [
              0.4444444444444444,
              "#bd3786"
             ],
             [
              0.5555555555555556,
              "#d8576b"
             ],
             [
              0.6666666666666666,
              "#ed7953"
             ],
             [
              0.7777777777777778,
              "#fb9f3a"
             ],
             [
              0.8888888888888888,
              "#fdca26"
             ],
             [
              1,
              "#f0f921"
             ]
            ],
            "type": "surface"
           }
          ],
          "table": [
           {
            "cells": {
             "fill": {
              "color": "#EBF0F8"
             },
             "line": {
              "color": "white"
             }
            },
            "header": {
             "fill": {
              "color": "#C8D4E3"
             },
             "line": {
              "color": "white"
             }
            },
            "type": "table"
           }
          ]
         },
         "layout": {
          "annotationdefaults": {
           "arrowcolor": "#2a3f5f",
           "arrowhead": 0,
           "arrowwidth": 1
          },
          "autotypenumbers": "strict",
          "coloraxis": {
           "colorbar": {
            "outlinewidth": 0,
            "ticks": ""
           }
          },
          "colorscale": {
           "diverging": [
            [
             0,
             "#8e0152"
            ],
            [
             0.1,
             "#c51b7d"
            ],
            [
             0.2,
             "#de77ae"
            ],
            [
             0.3,
             "#f1b6da"
            ],
            [
             0.4,
             "#fde0ef"
            ],
            [
             0.5,
             "#f7f7f7"
            ],
            [
             0.6,
             "#e6f5d0"
            ],
            [
             0.7,
             "#b8e186"
            ],
            [
             0.8,
             "#7fbc41"
            ],
            [
             0.9,
             "#4d9221"
            ],
            [
             1,
             "#276419"
            ]
           ],
           "sequential": [
            [
             0,
             "#0d0887"
            ],
            [
             0.1111111111111111,
             "#46039f"
            ],
            [
             0.2222222222222222,
             "#7201a8"
            ],
            [
             0.3333333333333333,
             "#9c179e"
            ],
            [
             0.4444444444444444,
             "#bd3786"
            ],
            [
             0.5555555555555556,
             "#d8576b"
            ],
            [
             0.6666666666666666,
             "#ed7953"
            ],
            [
             0.7777777777777778,
             "#fb9f3a"
            ],
            [
             0.8888888888888888,
             "#fdca26"
            ],
            [
             1,
             "#f0f921"
            ]
           ],
           "sequentialminus": [
            [
             0,
             "#0d0887"
            ],
            [
             0.1111111111111111,
             "#46039f"
            ],
            [
             0.2222222222222222,
             "#7201a8"
            ],
            [
             0.3333333333333333,
             "#9c179e"
            ],
            [
             0.4444444444444444,
             "#bd3786"
            ],
            [
             0.5555555555555556,
             "#d8576b"
            ],
            [
             0.6666666666666666,
             "#ed7953"
            ],
            [
             0.7777777777777778,
             "#fb9f3a"
            ],
            [
             0.8888888888888888,
             "#fdca26"
            ],
            [
             1,
             "#f0f921"
            ]
           ]
          },
          "colorway": [
           "#636efa",
           "#EF553B",
           "#00cc96",
           "#ab63fa",
           "#FFA15A",
           "#19d3f3",
           "#FF6692",
           "#B6E880",
           "#FF97FF",
           "#FECB52"
          ],
          "font": {
           "color": "#2a3f5f"
          },
          "geo": {
           "bgcolor": "white",
           "lakecolor": "white",
           "landcolor": "white",
           "showlakes": true,
           "showland": true,
           "subunitcolor": "#C8D4E3"
          },
          "hoverlabel": {
           "align": "left"
          },
          "hovermode": "closest",
          "mapbox": {
           "style": "light"
          },
          "paper_bgcolor": "white",
          "plot_bgcolor": "white",
          "polar": {
           "angularaxis": {
            "gridcolor": "#EBF0F8",
            "linecolor": "#EBF0F8",
            "ticks": ""
           },
           "bgcolor": "white",
           "radialaxis": {
            "gridcolor": "#EBF0F8",
            "linecolor": "#EBF0F8",
            "ticks": ""
           }
          },
          "scene": {
           "xaxis": {
            "backgroundcolor": "white",
            "gridcolor": "#DFE8F3",
            "gridwidth": 2,
            "linecolor": "#EBF0F8",
            "showbackground": true,
            "ticks": "",
            "zerolinecolor": "#EBF0F8"
           },
           "yaxis": {
            "backgroundcolor": "white",
            "gridcolor": "#DFE8F3",
            "gridwidth": 2,
            "linecolor": "#EBF0F8",
            "showbackground": true,
            "ticks": "",
            "zerolinecolor": "#EBF0F8"
           },
           "zaxis": {
            "backgroundcolor": "white",
            "gridcolor": "#DFE8F3",
            "gridwidth": 2,
            "linecolor": "#EBF0F8",
            "showbackground": true,
            "ticks": "",
            "zerolinecolor": "#EBF0F8"
           }
          },
          "shapedefaults": {
           "line": {
            "color": "#2a3f5f"
           }
          },
          "ternary": {
           "aaxis": {
            "gridcolor": "#DFE8F3",
            "linecolor": "#A2B1C6",
            "ticks": ""
           },
           "baxis": {
            "gridcolor": "#DFE8F3",
            "linecolor": "#A2B1C6",
            "ticks": ""
           },
           "bgcolor": "white",
           "caxis": {
            "gridcolor": "#DFE8F3",
            "linecolor": "#A2B1C6",
            "ticks": ""
           }
          },
          "title": {
           "x": 0.05
          },
          "xaxis": {
           "automargin": true,
           "gridcolor": "#EBF0F8",
           "linecolor": "#EBF0F8",
           "ticks": "",
           "title": {
            "standoff": 15
           },
           "zerolinecolor": "#EBF0F8",
           "zerolinewidth": 2
          },
          "yaxis": {
           "automargin": true,
           "gridcolor": "#EBF0F8",
           "linecolor": "#EBF0F8",
           "ticks": "",
           "title": {
            "standoff": 15
           },
           "zerolinecolor": "#EBF0F8",
           "zerolinewidth": 2
          }
         }
        },
        "width": 200
       }
      }
     },
     "metadata": {},
     "output_type": "display_data"
    }
   ],
   "source": [
    "colors = {\n",
    "    \"Microaneurysms\": PURPLE4,\n",
    "    \"Hemorrhages\": PURPLE4,\n",
    "    \"Exudates\": PURPLE2,\n",
    "    \"Vessels\": TEAL4,\n",
    "    \"Macula\": TEAL1,\n",
    "    \"Optic Disc\": TEAL2,\n",
    "    \"Optic Cup\": TEAL2,\n",
    "}\n",
    "left_biomarkers = [\"Microaneurysms\", \"Exudates\", \"Optic Disc\", \"Macula\"]\n",
    "\n",
    "metrics = {\"Avg. Pr.\": 0, \"Precision\": 90, \"IoU\": 180, \"Recall\": 270}\n",
    "metrics = {\"Precision\": 0, \"Avg. Pr.\": 60, \"IoU\": 120, \"Recall\": 180}\n",
    "\n",
    "\n",
    "def smooth_spline(thetas, radi, close=False, n=100):\n",
    "    t0 = thetas[0]\n",
    "    theta = []\n",
    "\n",
    "    if close:\n",
    "        thetas = thetas + [360]\n",
    "        radi = list(radi) + [radi[0]]\n",
    "\n",
    "    interpolation = scinterp.CubicSpline(\n",
    "        thetas, radi, bc_type=\"periodic\" if close else \"clamped\"\n",
    "    )\n",
    "\n",
    "    for t in thetas[1:]:\n",
    "        theta += [np.linspace(t0, t, n)]\n",
    "        t0 = t\n",
    "    theta = np.concatenate(theta)\n",
    "\n",
    "    return theta, interpolation(theta)\n",
    "\n",
    "\n",
    "metrics_thetas = list(metrics.values())\n",
    "metrics_name = list(metrics.keys())\n",
    "metrics_bold = list(f\"<b>{m}</b>\" for m in metrics)\n",
    "metrics_bold[0] = \" \" * 5 + metrics_bold[0] + \" \" * 5\n",
    "metrics_bold[3] = \" \" * 5 + metrics_bold[3] + \" \" * 5\n",
    "\n",
    "\n",
    "for i, (type, color) in enumerate(colors.items()):\n",
    "    fig = go.Figure()\n",
    "    data = perfs.loc[perfs[\"type\"] == type]\n",
    "    RIGHT = type not in left_biomarkers\n",
    "\n",
    "    if RIGHT:\n",
    "        thetas = metrics_thetas\n",
    "    else:\n",
    "        thetas = [_ + 90 for _ in metrics_thetas]\n",
    "    metrics_value = data[metrics_name].values[0]\n",
    "    smooth_theta, smooth_r = smooth_spline(metrics_thetas, metrics_value, close=False)\n",
    "    fig.add_trace(\n",
    "        go.Scatterpolar(\n",
    "            theta=smooth_theta,\n",
    "            r=smooth_r,\n",
    "            mode=\"lines\",\n",
    "            fill=\"toself\",\n",
    "            line=dict(width=0.5, color=color),\n",
    "        )\n",
    "    )\n",
    "    fig.add_trace(\n",
    "        go.Scatterpolar(\n",
    "            theta=metrics_thetas,\n",
    "            r=metrics_value,\n",
    "            mode=\"markers\",\n",
    "            marker=dict(\n",
    "                color=color,\n",
    "                size=4,\n",
    "            ),\n",
    "        )\n",
    "    )\n",
    "    fig.add_trace(\n",
    "        go.Scatterpolar(\n",
    "            theta=metrics_thetas,\n",
    "            r=[r + offset for r, offset in zip(metrics_value, [0.1, 0.05, 0.05, 0.1])],\n",
    "            text=[f\"{_:.0%}\" for _ in metrics_value],\n",
    "            textposition=\"middle right\" if RIGHT else \"middle left\",\n",
    "            mode=\"text\",\n",
    "            textfont=dict(\n",
    "                color=color,\n",
    "            ),\n",
    "        )\n",
    "    )\n",
    "\n",
    "    fig.update_layout(\n",
    "        polar=dict(\n",
    "            radialaxis=dict(\n",
    "                showline=False,\n",
    "                range=[0, 1.15],\n",
    "                angle=-90 if RIGHT else 90,\n",
    "                showticklabels=False,\n",
    "                # tickangle=-90 if RIGHT else 90,\n",
    "                # tickformat=\" .1\",\n",
    "                # tickfont=dict(size=11, color=\"#555\"),\n",
    "                tickvals=[0, 0.2, 0.4, 0.6, 0.8, 1],\n",
    "            ),\n",
    "            angularaxis=dict(\n",
    "                showline=False,\n",
    "                tickfont_size=13,\n",
    "                rotation=90,\n",
    "                direction=\"clockwise\" if RIGHT else \"counterclockwise\",\n",
    "                tickvals=metrics_thetas,\n",
    "                ticktext=metrics_bold,\n",
    "                gridcolor=\"#ddd\",\n",
    "                gridwidth=2,\n",
    "            ),\n",
    "            sector=[-90, +90] if RIGHT else [90, 270],\n",
    "        ),\n",
    "        showlegend=False,\n",
    "        height=280,\n",
    "        width=200,\n",
    "        template=\"plotly_white\",\n",
    "        margin={\"t\": 20, \"l\": 32 if RIGHT else 50, \"r\": 50 if RIGHT else 32, \"b\": 20},\n",
    "    )\n",
    "\n",
    "    if i == 0:\n",
    "        fig.update_layout(\n",
    "            polar_radialaxis=dict(\n",
    "                showticklabels=True,\n",
    "                tickangle=-90 if RIGHT else 90,\n",
    "                tickformat=\" .0%\",\n",
    "                tickfont=dict(size=11, color=\"#555\"),\n",
    "            ),\n",
    "        )\n",
    "    fig.show()\n",
    "    fig.write_image(f\"figures/autoseg/{type.replace(' ', '')}.pdf\")"
   ]
  }
 ],
 "metadata": {
  "kernelspec": {
   "display_name": "Python 3 (ipykernel)",
   "language": "python",
   "name": "python3"
  },
  "language_info": {
   "codemirror_mode": {
    "name": "ipython",
    "version": 3
   },
   "file_extension": ".py",
   "mimetype": "text/x-python",
   "name": "python",
   "nbconvert_exporter": "python",
   "pygments_lexer": "ipython3",
   "version": "3.10.11"
  }
 },
 "nbformat": 4,
 "nbformat_minor": 5
}
